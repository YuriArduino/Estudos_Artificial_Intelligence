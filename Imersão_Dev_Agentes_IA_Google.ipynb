{
  "nbformat": 4,
  "nbformat_minor": 0,
  "metadata": {
    "colab": {
      "provenance": [],
      "authorship_tag": "ABX9TyMd/zsO2PmRBnzKoOa2SsfN",
      "include_colab_link": true
    },
    "kernelspec": {
      "name": "python3",
      "display_name": "Python 3"
    },
    "language_info": {
      "name": "python"
    }
  },
  "cells": [
    {
      "cell_type": "markdown",
      "metadata": {
        "id": "view-in-github",
        "colab_type": "text"
      },
      "source": [
        "<a href=\"https://colab.research.google.com/github/YuriArduino/Estudos_Artificial_Intelligence/blob/Imers%C3%A3o-Agentes-de-IA---Alura/Imers%C3%A3o_Dev_Agentes_IA_Google.ipynb\" target=\"_parent\"><img src=\"https://colab.research.google.com/assets/colab-badge.svg\" alt=\"Open In Colab\"/></a>"
      ]
    },
    {
      "cell_type": "markdown",
      "source": [
        "#Aula 01: Classificação de intenções com IA"
      ],
      "metadata": {
        "id": "nZ9d4E5uF3qL"
      }
    },
    {
      "cell_type": "markdown",
      "source": [
        "#1 Prepararando o ambiente"
      ],
      "metadata": {
        "id": "YLGLpS9SiwDm"
      }
    },
    {
      "cell_type": "markdown",
      "source": [
        "##1.2 Dependências"
      ],
      "metadata": {
        "id": "Fzn5Ri6gio40"
      }
    },
    {
      "cell_type": "code",
      "execution_count": 1,
      "metadata": {
        "id": "NX0_N1ahdF1_",
        "colab": {
          "base_uri": "https://localhost:8080/"
        },
        "outputId": "3e03a83a-c5c7-4516-9403-0c730416d65d"
      },
      "outputs": [
        {
          "output_type": "stream",
          "name": "stdout",
          "text": [
            "\u001b[?25l   \u001b[90m━━━━━━━━━━━━━━━━━━━━━━━━━━━━━━━━━━━━━━━━\u001b[0m \u001b[32m0.0/42.0 kB\u001b[0m \u001b[31m?\u001b[0m eta \u001b[36m-:--:--\u001b[0m\r\u001b[2K   \u001b[90m━━━━━━━━━━━━━━━━━━━━━━━━━━━━━━━━━━━━━━━━\u001b[0m \u001b[32m42.0/42.0 kB\u001b[0m \u001b[31m1.4 MB/s\u001b[0m eta \u001b[36m0:00:00\u001b[0m\n",
            "\u001b[?25h"
          ]
        }
      ],
      "source": [
        "!pip install -q --upgrade langchain langchain-google-genai google-generativeai"
      ]
    },
    {
      "cell_type": "markdown",
      "source": [
        "##1.3 Imports"
      ],
      "metadata": {
        "id": "B3Wa9fsVigNC"
      }
    },
    {
      "cell_type": "code",
      "source": [
        "from google.colab import userdata\n",
        "from langchain_google_genai import ChatGoogleGenerativeAI\n",
        "from langchain_core.messages import SystemMessage, HumanMessage\n",
        "from pydantic import BaseModel, Field\n",
        "from typing import Literal, List, Dict\n",
        "import os\n",
        "os.environ['GOOGLE_API_KEY'] = userdata.get('GEMINI_API_KEY')\n",
        "import sys\n",
        "import textwrap\n",
        "import time"
      ],
      "metadata": {
        "id": "ZFsJh7ZFfRTl"
      },
      "execution_count": 2,
      "outputs": []
    },
    {
      "cell_type": "markdown",
      "source": [
        "##1.4 Conexão com o modelo"
      ],
      "metadata": {
        "id": "3iYwtIlBi4XI"
      }
    },
    {
      "cell_type": "code",
      "source": [
        "llm = ChatGoogleGenerativeAI(\n",
        "    model=\"gemini-2.5-flash\",\n",
        "    temperature=1.0, # Maior mais criativo, Menor mais objetivo\n",
        "    )"
      ],
      "metadata": {
        "id": "mUwH8RWxg9-f"
      },
      "execution_count": 3,
      "outputs": []
    },
    {
      "cell_type": "markdown",
      "source": [
        "###Para saber mais: Diferença **google-generativeai** X **langchain_google_genai**\n",
        "\n",
        "\n",
        "*   **`google-generativeai` (a biblioteca nativa do Google)**: É como o **motor de um carro**. É a peça de engenharia principal, super poderosa, que faz o trabalho fundamental (gerar texto, contar tokens, etc.). Ela te dá acesso direto e total a todas as funcionalidades específicas daquele motor (o Gemini).\n",
        "\n",
        "*   **LangChain (a biblioteca de orquestração)**: É como o **carro completo construído ao redor do motor**. Ele usa o motor (Gemini), mas adiciona o chassi, o volante, os pedais, o painel e os assentos. Ele torna o motor mais fácil de usar para um propósito maior (dirigir de um ponto A para um ponto B) e o conecta com outras partes (rodas, sistema de som, GPS).\n",
        "\n",
        "Vamos detalhar as diferenças práticas:\n",
        "\n",
        "---\n",
        "\n",
        "### Tabela Comparativa\n",
        "\n",
        "| Característica | `google-generativeai` (Nativa) | `langchain_google_genai` (Via LangChain) |\n",
        "| :--- | :--- | :--- |\n",
        "| **Propósito Principal** | Acesso direto e completo à API do Gemini. | Construir aplicações complexas com LLMs, orquestrando várias etapas. |\n",
        "| **Nível de Abstração** | **Baixo.** Você interage diretamente com os conceitos da API do Google. | **Alto.** LangChain cria uma \"camada de compatibilidade\" sobre vários modelos. |\n",
        "| **Funcionalidades** | Geração de conteúdo, contagem de tokens, embeddings, ajuste de segurança, etc. | **Tudo da nativa, e mais:** Chains, Agentes, Memória, RAG, etc. |\n",
        "| **Flexibilidade de Modelo** | Feito exclusivamente para os modelos da família Gemini. | **Multi-modelo.** O código que você escreve pode ser facilmente adaptado para usar o GPT-4, Claude, etc. |\n",
        "| **Facilidade (Tarefas Simples)** | Geralmente mais simples para uma única chamada de API. | Envolve um pouco mais de \"boilerplate\" (código de configuração) inicial. |\n",
        "| **Facilidade (Tarefas Complexas)**| Você precisa construir toda a lógica (ex: memória de chat) do zero. | **Muito mais fácil.** Já fornece componentes prontos para tarefas complexas. |\n",
        "\n",
        "---\n",
        "\n",
        "### O que isso significa na prática?\n",
        "\n",
        "#### 1. Abstração e Portabilidade\n",
        "\n",
        "Com LangChain, o objeto `llm` que você criou é padronizado. Se amanhã você quisesse testar o modelo da OpenAI, você mudaria poucas linhas:\n",
        "\n",
        "```python\n",
        "# Com Google\n",
        "from langchain_google_genai import ChatGoogleGenerativeAI\n",
        "llm = ChatGoogleGenerativeAI(model=\"gemini-1.5-pro-latest\")\n",
        "\n",
        "# Com OpenAI (exemplo)\n",
        "from langchain_openai import ChatOpenAI\n",
        "llm = ChatOpenAI(model=\"gpt-4o\")\n",
        "\n",
        "# O resto do seu código LangChain (chains, agentes) continuaria funcionando igual!\n",
        "llm.invoke(\"Me conte uma piada.\")\n",
        "```\n",
        "\n",
        "Se você usasse a biblioteca nativa, teria que reescrever todo o código de interação com o modelo.\n",
        "\n",
        "#### 2. O Poder do Ecossistema LangChain\n",
        "\n",
        "A verdadeira magia de usar LangChain, e o motivo pelo qual é ensinado na imersão, não é apenas para fazer uma pergunta ao modelo. É para construir sistemas mais complexos:\n",
        "\n",
        "*   **Chains (Correntes):** Você pode criar sequências de tarefas. Por exemplo: \"Passo 1: Pegue a pergunta do usuário. Passo 2: Traduza para o inglês. Passo 3: Envie ao Gemini. Passo 4: Pegue a resposta e traduza de volta para o português.\"\n",
        "*   **Agentes (Agents):** Você pode dar ferramentas ao LLM. Por exemplo, dar a ele uma ferramenta de busca no Google. Se você perguntar \"Qual a previsão do tempo para amanhã?\", o agente pode decidir usar a ferramenta de busca, pegar o resultado e só então usar o Gemini para te dar uma resposta em linguagem natural.\n",
        "*   **RAG (Retrieval-Augmented Generation):** É a técnica mais popular. Você pode fazer o Gemini \"conversar com seus documentos\". Você fornece uma base de dados (PDFs, sites, etc.), e o LangChain cuida de buscar a informação relevante nesses documentos para que o Gemini possa responder perguntas sobre eles.\n",
        "\n",
        "### Conclusão\n",
        "\n",
        "Para a imersão, ficar com **LangChain é a decisão certa**. Você não está apenas aprendendo a usar o Gemini, mas sim a **como construir aplicações robustas em torno de um LLM**, que é a habilidade mais valiosa no mercado hoje.\n",
        "\n",
        "A contagem de tokens ser `llm.get_num_tokens()` em vez de `model.count_tokens()` é um pequeno sintoma dessa camada de abstração que o LangChain adiciona para tornar tudo mais padronizado e poderoso."
      ],
      "metadata": {
        "id": "k9qT4aVUo8is"
      }
    },
    {
      "cell_type": "markdown",
      "source": [
        "#2 Content\n"
      ],
      "metadata": {
        "id": "hkmDX-uk-OQd"
      }
    },
    {
      "cell_type": "markdown",
      "source": [
        "\n",
        "\n",
        "\n",
        "O resultado de `llm.invoke()` não é um texto puro, mas sim um **objeto**. No LangChain, esse objeto é chamado de `AIMessage`.\n",
        "\n",
        "Este objeto `AIMessage` funciona como um \"envelope\" que contém várias informações sobre a resposta do modelo:\n",
        "\n",
        "1.  **.content**: O conteúdo principal, ou seja, o texto da resposta que você queria. É o que está *dentro* do envelope.\n",
        "2.  **.response_metadata**: Informações extras sobre a execução, como o motivo pelo qual o modelo parou de gerar texto (`finish_reason`) e as classificações de segurança (`safety_ratings`).\n",
        "3.  **.usage_metadata**: Dados sobre o consumo de tokens na chamada (quantos tokens na entrada, quantos na saída e o total).\n",
        "4.  **.id**: Um identificador único para aquela execução específica, útil para depuração.\n",
        "\n",
        "\n",
        "### Comparando com o `StrOutputParser`\n",
        "\n",
        "Agora você entende perfeitamente a diferença:\n",
        "\n",
        "*   **Usar `.content`**: É a forma manual e direta de extrair o texto de uma **única** chamada. É perfeito para testes rápidos e quando você não está construindo uma sequência complexa de passos.\n",
        "\n",
        "*   **Usar `| StrOutputParser()`**: É a forma automática de fazer a mesma coisa, mas de um jeito que se integra com o sistema de \"correntes\" (chains) do LangChain. Ele já \"desempacota\" o conteúdo para você e o entrega pronto para o próximo passo da sua chain.\n"
      ],
      "metadata": {
        "id": "pDtdiqoNlEX1"
      }
    },
    {
      "cell_type": "code",
      "source": [
        "resp_test = llm.invoke(\"Estamos Online?\")\n",
        "print(resp_test)"
      ],
      "metadata": {
        "colab": {
          "base_uri": "https://localhost:8080/"
        },
        "id": "i2GvY8H7lKqk",
        "outputId": "45995059-5365-445b-85ea-f7c4597fe6b6"
      },
      "execution_count": 4,
      "outputs": [
        {
          "output_type": "stream",
          "name": "stdout",
          "text": [
            "content='Olá! Sim, estou online e pronto para conversar.\\n\\nComo posso ajudar?' additional_kwargs={} response_metadata={'prompt_feedback': {'block_reason': 0, 'safety_ratings': []}, 'finish_reason': 'STOP', 'safety_ratings': []} id='run--075bdcf3-d860-4838-b4e3-6717b8ce848b-0' usage_metadata={'input_tokens': 4, 'output_tokens': 16, 'total_tokens': 289, 'input_token_details': {'cache_read': 0}}\n"
          ]
        }
      ]
    },
    {
      "cell_type": "code",
      "source": [
        "#.content organiza o texto\n",
        "resp_test = llm.invoke(\"Estamos Online?\")\n",
        "print(resp_test.content)"
      ],
      "metadata": {
        "colab": {
          "base_uri": "https://localhost:8080/"
        },
        "id": "h-17dGtnjAp1",
        "outputId": "d2bf189b-f194-414b-e1fd-717694975799"
      },
      "execution_count": 5,
      "outputs": [
        {
          "output_type": "stream",
          "name": "stdout",
          "text": [
            "¡Sí, estamos online! ¿En qué puedo ayudarte?\n"
          ]
        }
      ]
    },
    {
      "cell_type": "markdown",
      "source": [
        "#3 Tokens\n",
        "\n",
        "Para um modelo de linguagem como o Gemini, os **tokens são os blocos de construção do texto**.\n",
        "\n",
        "Um token não é exatamente uma palavra, uma letra ou uma sílaba. É a unidade fundamental que o modelo usa para processar e entender a linguagem.\n",
        "\n",
        "*   Uma palavra curta como `\"Eu\"` pode ser **1 token**.\n",
        "*   Uma palavra comum como `\"gato\"` pode ser **1 token**.\n",
        "*   Uma palavra mais longa ou incomum como `\"inteligência\"` pode ser dividida em **2 ou mais tokens** (ex: `inteli` + `gência`).\n",
        "*   Pontuação e espaços também contam e podem ser tokens.\n",
        "\n",
        "**Exemplo Rápido:**\n",
        "A frase `Olá, mundo!` é quebrada pelo modelo em algo como: `[\"Olá\", \",\", \" mundo\", \"!\"]` - resultando em **4 tokens**.\n",
        "\n",
        "Em resumo, para o modelo, toda a nossa conversa (tanto o que enviamos quanto o que ele responde) é uma sequência de tokens.\n",
        "\n",
        "### A Importância de um Contador de Tokens na nossa Imersão\n",
        "\n",
        "No desenvolvimento de software, todo recurso é finito. Contar tokens é uma prática de **gerenciamento de recursos computacionais**. Ignorar essa métrica é como escrever um código que consome memória sem controle. A ferramenta `count_querys` que construímos é crucial por três razões técnicas:\n",
        "\n",
        "**1. Gerenciamento de Custos e Carga de API:**\n",
        "   Cada token processado representa uma unidade de computação que tem um custo. Em um ambiente de produção, esse custo é financeiro. Na Imersão, ele se reflete no consumo da nossa cota gratuita. O contador funciona como um *profiler*, permitindo-nos:\n",
        "   *   Medir a \"carga\" exata que cada chamada impõe à API.\n",
        "   *   Otimizar a comunicação para ser mais eficiente e evitar exceder os limites de requisições por minuto (*rate limits*).\n",
        "\n",
        "**2. Respeitar a Janela de Contexto (Payload Capacity):**\n",
        "   Todo modelo de linguagem opera com uma \"janela de contexto\" finita – a quantidade máxima de tokens que ele pode considerar em uma única requisição. Essa janela é a memória de trabalho da operação.\n",
        "   *   Enviar um `payload` (dados de entrada) que exceda essa capacidade resultará em erro.\n",
        "   *   Nosso contador é uma ferramenta de validação prévia, garantindo que nossas requisições sejam sempre viáveis e estejam dentro das especificações do modelo.\n",
        "\n",
        "**3. Otimização de Prompts e Latência:**\n",
        "   A engenharia de prompts é uma disciplina de otimização. Um prompt eficiente transmite a instrução máxima com o mínimo de tokens.\n",
        "   *   **Sinal vs. Ruído:** Tokens irrelevantes são \"ruído\" que pode degradar a qualidade da resposta e aumentar a latência (tempo de resposta).\n",
        "   *   Ao monitorar a contagem, aprendemos a construir prompts mais concisos e potentes, melhorando tanto a performance da aplicação quanto a precisão dos resultados.\n",
        "\n",
        "---"
      ],
      "metadata": {
        "id": "LpaIjPfXsFMK"
      }
    },
    {
      "cell_type": "code",
      "source": [
        "# 1. Vamos primeiro gerar um objeto de resposta real\n",
        "resposta_obj = llm.invoke(\"Estamos online?\")\n",
        "print(\"--- Objeto Completo ---\")\n",
        "print(resposta_obj)\n",
        "print(\"\\n\" + \"=\"*40 + \"\\n\")\n",
        "\n",
        "\n",
        "# 2. Agora, vamos isolar cada parte.\n",
        "\n",
        "# --- Acessando o CONTEÚDO ---\n",
        "# O conteúdo principal é um atributo direto do objeto.\n",
        "conteudo_texto = resposta_obj.content\n",
        "print(\"--- Conteúdo Isolado (str) ---\")\n",
        "print(conteudo_texto)\n",
        "print(f\"Tipo: {type(conteudo_texto)}\\n\")\n",
        "\n",
        "\n",
        "# --- Acessando os METADADOS DE USO ---\n",
        "# O usage_metadata é um atributo que contém um dicionário.\n",
        "meta_uso = resposta_obj.usage_metadata\n",
        "print(\"--- Metadados de Uso Isolados (dict) ---\")\n",
        "print(meta_uso)\n",
        "print(f\"Tipo: {type(meta_uso)}\\n\")\n",
        "\n",
        "\n",
        "# --- Acessando os VALORES DENTRO DOS METADADOS DE USO ---\n",
        "# Agora que temos o dicionário 'meta_uso', podemos pegar cada valor pela sua chave.\n",
        "# Usar .get('chave', 0) é mais seguro, pois retorna 0 se a chave não existir.\n",
        "input_tokens = meta_uso.get('input_tokens', 0)\n",
        "output_tokens = meta_uso.get('output_tokens', 0)\n",
        "total_tokens = meta_uso.get('total_tokens', 0)\n",
        "\n",
        "print(\"--- Tokens Isolados (int) ---\")\n",
        "print(f\"Tokens de Entrada: {input_tokens}\")\n",
        "print(f\"Tokens de Saída: {output_tokens}\")\n",
        "print(f\"Tokens Totais: {total_tokens}\\n\")\n",
        "\n",
        "\n",
        "# --- Acessando OUTROS METADADOS ---\n",
        "# O mesmo princípio se aplica a outros atributos.\n",
        "id_da_execucao = resposta_obj.id\n",
        "motivo_finalizacao = resposta_obj.response_metadata.get('finish_reason', 'N/A')\n",
        "\n",
        "print(\"--- Outros Metadados Isolados ---\")\n",
        "print(f\"ID da Execução: {id_da_execucao}\")\n",
        "print(f\"Motivo da Finalização: {motivo_finalizacao}\\n\")"
      ],
      "metadata": {
        "colab": {
          "base_uri": "https://localhost:8080/"
        },
        "id": "SlL01h-8CNI0",
        "outputId": "0d7db0b8-03b1-4cc3-dfa7-99abf100ca10"
      },
      "execution_count": 6,
      "outputs": [
        {
          "output_type": "stream",
          "name": "stdout",
          "text": [
            "--- Objeto Completo ---\n",
            "content='¡Claro que sí! Estoy aquí y listo para ayudarte.\\n\\n¿En qué puedo asistirte hoy?' additional_kwargs={} response_metadata={'prompt_feedback': {'block_reason': 0, 'safety_ratings': []}, 'finish_reason': 'STOP', 'safety_ratings': []} id='run--a15dfa66-57a3-471b-8075-53344c5133ac-0' usage_metadata={'input_tokens': 4, 'output_tokens': 22, 'total_tokens': 740, 'input_token_details': {'cache_read': 0}}\n",
            "\n",
            "========================================\n",
            "\n",
            "--- Conteúdo Isolado (str) ---\n",
            "¡Claro que sí! Estoy aquí y listo para ayudarte.\n",
            "\n",
            "¿En qué puedo asistirte hoy?\n",
            "Tipo: <class 'str'>\n",
            "\n",
            "--- Metadados de Uso Isolados (dict) ---\n",
            "{'input_tokens': 4, 'output_tokens': 22, 'total_tokens': 740, 'input_token_details': {'cache_read': 0}}\n",
            "Tipo: <class 'dict'>\n",
            "\n",
            "--- Tokens Isolados (int) ---\n",
            "Tokens de Entrada: 4\n",
            "Tokens de Saída: 22\n",
            "Tokens Totais: 740\n",
            "\n",
            "--- Outros Metadados Isolados ---\n",
            "ID da Execução: run--a15dfa66-57a3-471b-8075-53344c5133ac-0\n",
            "Motivo da Finalização: STOP\n",
            "\n"
          ]
        }
      ]
    },
    {
      "cell_type": "markdown",
      "source": [
        "## 3.1 Utilitário de Desenvolvimento: Profiler de Custo para API Gemini"
      ],
      "metadata": {
        "id": "YyEVla-oe_5K"
      }
    },
    {
      "cell_type": "code",
      "source": [
        "class count_querys:\n",
        "    def __init__(self):\n",
        "        self.total_tokens = 0\n",
        "        print(\" Count de querys ativo!\")\n",
        "\n",
        "    def processar_query(self, llm):\n",
        "        \"\"\"Processa uma query com count automático e formatação de saída.\"\"\"\n",
        "        query = input(\"Digite seu texto: \")\n",
        "\n",
        "        if not query.strip():\n",
        "            print(\"Nenhum texto inserido.\")\n",
        "            return\n",
        "\n",
        "        # Envia para o LLM\n",
        "        resposta = llm.invoke(query)\n",
        "\n",
        "        # Conta os tokens desta query\n",
        "        tokens_desta_msg = resposta.usage_metadata.get('total_tokens', 0) if resposta.usage_metadata else 0\n",
        "        self.total_tokens += tokens_desta_msg\n",
        "\n",
        "        # Formata a resposta para ter no máximo 90 caracteres por linha\n",
        "        prefixo = \" Resposta: \"\n",
        "        largura_maxima = 90\n",
        "\n",
        "        # A função fill quebra o texto em linhas do tamanho desejado\n",
        "        # e adiciona um recuo nas linhas seguintes para manter o alinhamento.\n",
        "        texto_formatado = textwrap.fill(\n",
        "            resposta.content,\n",
        "            width=largura_maxima,\n",
        "            initial_indent=prefixo,\n",
        "            subsequent_indent=' ' * len(prefixo) # Recuo para alinhar com o início do texto\n",
        "        )\n",
        "\n",
        "        # Mostra a resposta da IA já formatada\n",
        "        print(f\"\\n{texto_formatado}\")\n",
        "\n",
        "        # Mostra o count no final\n",
        "        print(f\"\\n {tokens_desta_msg} tokens, total {self.total_tokens}\")\n",
        "# Crie o count uma vez\n",
        "count = count_querys()\n",
        "\n",
        "def query():\n",
        "    global count\n",
        "    if 'count' not in globals():\n",
        "        count = count_querys()\n",
        "    count.processar_query(llm)\n",
        "\n",
        "# Status do count\n",
        "def status():\n",
        "    \"\"\"Mostra o status atual dos tokens\"\"\"\n",
        "    global count\n",
        "    if 'count' not in globals():\n",
        "        print(\"❌ Nenhuma conversa iniciada ainda. Use query() primeiro!\")\n",
        "    else:\n",
        "        print(f\" Total de tokens usados: {count.total_tokens}\")\n",
        "\n",
        "def reset():\n",
        "    \"\"\"Reseta o count de tokens\"\"\"\n",
        "    global count\n",
        "    count = count_querys()\n",
        "    print(\" count resetado!\")\n",
        "\n",
        "def help_chat():\n",
        "  \"\"\"Mostra as utilidades do chat.\"\"\"\n",
        "  print(\"\"\"\n",
        "UTILIDADES:\n",
        "  query()     - Enviar mensagem\n",
        "  status()     - Ver total tokens\n",
        "  reset()      - Resetar count\n",
        "  help_chat()  - Esta ajuda\n",
        "\"\"\")"
      ],
      "metadata": {
        "colab": {
          "base_uri": "https://localhost:8080/"
        },
        "id": "4iFcthA8sSbM",
        "outputId": "b7ef5385-5d4f-476f-914d-989206d450a0"
      },
      "execution_count": 7,
      "outputs": [
        {
          "output_type": "stream",
          "name": "stdout",
          "text": [
            " Count de querys ativo!\n"
          ]
        }
      ]
    },
    {
      "cell_type": "code",
      "source": [
        "query()"
      ],
      "metadata": {
        "colab": {
          "base_uri": "https://localhost:8080/"
        },
        "id": "i0pcMzuSvI_e",
        "outputId": "63d6a215-8f6c-49f9-d451-27a34765f50e"
      },
      "execution_count": 8,
      "outputs": [
        {
          "output_type": "stream",
          "name": "stdout",
          "text": [
            "Digite seu texto: exit\n",
            "\n",
            " Resposta: Are you trying to end our conversation? If you have any more questions or need\n",
            "           help with anything else, feel free to ask. Otherwise, have a great day!\n",
            "\n",
            " 663 tokens, total 663\n"
          ]
        }
      ]
    },
    {
      "cell_type": "code",
      "source": [
        "status()"
      ],
      "metadata": {
        "colab": {
          "base_uri": "https://localhost:8080/"
        },
        "id": "cTSPccFi2P7h",
        "outputId": "412129e1-4ff6-45c3-b643-8bf5182f0279"
      },
      "execution_count": 9,
      "outputs": [
        {
          "output_type": "stream",
          "name": "stdout",
          "text": [
            " Total de tokens usados: 663\n"
          ]
        }
      ]
    },
    {
      "cell_type": "code",
      "source": [
        "reset()\n",
        "print(status())"
      ],
      "metadata": {
        "colab": {
          "base_uri": "https://localhost:8080/"
        },
        "id": "88TluarX2VLf",
        "outputId": "d679a7bb-e03b-43b2-f517-53a7c1f32cfd"
      },
      "execution_count": 10,
      "outputs": [
        {
          "output_type": "stream",
          "name": "stdout",
          "text": [
            " Count de querys ativo!\n",
            " count resetado!\n",
            " Total de tokens usados: 0\n",
            "None\n"
          ]
        }
      ]
    },
    {
      "cell_type": "code",
      "source": [
        "help_chat()"
      ],
      "metadata": {
        "colab": {
          "base_uri": "https://localhost:8080/"
        },
        "id": "KnGdvGJVfQuP",
        "outputId": "5748d8eb-4b8a-42ae-a806-440b522ce795"
      },
      "execution_count": 11,
      "outputs": [
        {
          "output_type": "stream",
          "name": "stdout",
          "text": [
            "\n",
            "UTILIDADES:\n",
            "  query()     - Enviar mensagem\n",
            "  status()     - Ver total tokens\n",
            "  reset()      - Resetar count\n",
            "  help_chat()  - Esta ajuda\n",
            "\n"
          ]
        }
      ]
    },
    {
      "cell_type": "markdown",
      "source": [
        "#4 Estruturando a Saída com Pydantic\n",
        "\n",
        "\n",
        "\n",
        "Para um programa de computador, processar variações  é propenso a erros. É importante uma estrutura de dados confiável, não um texto para interpretar.\n",
        "\n",
        "### **Pydantic como um \"Contrato\" de Dados**\n",
        "\n",
        "**Pydantic** é uma biblioteca Python para **validação de dados**. Ela nos permite definir \"esquemas\" ou \"modelos\" de dados usando classes Python. Em outras palavras, criamos um **contrato** que define a estrutura e os tipos de dados que esperamos receber.\n",
        "\n",
        "O LangChain se integra perfeitamente com o Pydantic através do **`PydanticOutputParser`**. Este \"parser\" (analisador) faz duas coisas mágicas:\n",
        "\n",
        "1.  **Instrui o LLM:** Ele analisa nosso modelo Pydantic e gera instruções claras de formatação que são enviadas ao LLM junto com nosso prompt.\n",
        "2.  **Valida a Resposta:** Ele pega a resposta em texto do LLM, verifica se ela segue o \"contrato\", e a converte em um objeto Python real e validado.\n"
      ],
      "metadata": {
        "id": "dBUQWVC9VXt1"
      }
    },
    {
      "cell_type": "markdown",
      "source": [
        "###4.1 Configuração Inicial e Imports"
      ],
      "metadata": {
        "id": "YDBLQCSjauX8"
      }
    },
    {
      "cell_type": "code",
      "source": [
        "# Imports de bibliotecas de tipagem e validação\n",
        "from pydantic import BaseModel, Field\n",
        "from typing import Literal, List, Dict\n",
        "\n",
        "# Imports principais do LangChain\n",
        "from langchain_google_genai import ChatGoogleGenerativeAI\n",
        "from langchain_core.messages import SystemMessage, HumanMessage\n",
        "\n",
        "# Configuração da API Key (maneira segura para o Colab)\n",
        "import os\n",
        "from google.colab import userdata\n",
        "\n",
        "# Garanta que a variável de ambiente está configurada\n",
        "os.environ['GOOGLE_API_KEY'] = userdata.get('GEMINI_API_KEY')"
      ],
      "metadata": {
        "id": "jkzugn8faleX"
      },
      "execution_count": 12,
      "outputs": []
    },
    {
      "cell_type": "markdown",
      "source": [
        ">Esta célula inicial é responsável por preparar nosso ambiente de trabalho.\n",
        ">\n",
        ">Importamos todas as bibliotecas necessárias, incluindo o Pydantic para definir nossa estrutura de dados e o LangChain para orquestrar a comunicação com o modelo Gemini.\n",
        ">\n",
        ">Também configuramos nossa chave de API do Google de forma segura usando os segredos do Colab."
      ],
      "metadata": {
        "id": "kgBVwcNia2vj"
      }
    },
    {
      "cell_type": "markdown",
      "source": [
        "##4.2 Definindo o \"Cérebro\" do Agente (O Prompt Principal)"
      ],
      "metadata": {
        "id": "xbu1psTzbcMW"
      }
    },
    {
      "cell_type": "code",
      "source": [
        "TRIAGEM_PROMPT = (\n",
        "    \"Você é um triador de Service Desk para políticas internas da empresa Carraro Desenvolvimento. \"\n",
        "    \"Dada a mensagem do usuário, retorne SOMENTE um JSON com:\\n\"\n",
        "    \"{\\n\"\n",
        "    '  \"decisao\": \"AUTO_RESOLVER\" | \"PEDIR_INFO\" | \"ABRIR_CHAMADO\",\\n'\n",
        "    '  \"urgencia\": \"BAIXA\" | \"MEDIA\" | \"ALTA\",\\n'\n",
        "    '  \"campos_faltantes\": [\"...\"]\\n'\n",
        "    \"}\\n\"\n",
        "    \"Regras:\\n\"\n",
        "    '- **AUTO_RESOLVER**: Perguntas claras sobre regras ou procedimentos descritos nas políticas (Ex: \"Posso reembolsar a internet do meu home office?\", \"Como funciona a política de alimentação em viagens?\").\\n'\n",
        "    '- **PEDIR_INFO**: Mensagens vagas ou que faltam informações para identificar o tema ou contexto (Ex: \"Preciso de ajuda com uma política\", \"Tenho uma dúvida geral\").\\n'\n",
        "    '- **ABRIR_CHAMADO**: Pedidos de exceção, liberação, aprovação ou acesso especial, ou quando o usuário explicitamente pede para abrir um chamado (Ex: \"Quero exceção para trabalhar 5 dias remoto.\", \"Solicito liberação para anexos externos.\", \"Por favor, abra um chamado para o RH.\").'\n",
        "    \"Analise a mensagem e decida a ação mais apropriada.\"\n",
        ")"
      ],
      "metadata": {
        "id": "jDfTiUi0bSv4"
      },
      "execution_count": 13,
      "outputs": []
    },
    {
      "cell_type": "markdown",
      "source": [
        ">Aqui definimos o SystemMessage, a personalidade e as diretrizes do nosso agente de IA.\n",
        ">\n",
        ">Este prompt é o \"cérebro\" da operação, explicando ao modelo seu papel, as regras de negócio para cada tipo de decisão e o que esperamos como resultado."
      ],
      "metadata": {
        "id": "FVXg7gLzahXb"
      }
    },
    {
      "cell_type": "markdown",
      "source": [
        "##4.3 Definindo o \"Contrato\" de Saída (O Esquema Pydantic)"
      ],
      "metadata": {
        "id": "4BOjY4SpZmw2"
      }
    },
    {
      "cell_type": "code",
      "source": [
        "class TriagemOut(BaseModel):\n",
        "    \"\"\"Define a estrutura de saída esperada para a triagem de chamados.\"\"\"\n",
        "\n",
        "    decisao: Literal[\"AUTO_RESOLVER\", \"PEDIR_INFO\", \"ABRIR_CHAMADO\"] = Field(\n",
        "        description=\"A decisão principal baseada na mensagem do usuário.\"\n",
        "    )\n",
        "    urgencia: Literal[\"BAIXA\", \"MEDIA\", \"ALTA\"] = Field(\n",
        "        description=\"A urgência estimada do chamado.\"\n",
        "    )\n",
        "    campos_faltantes: List[str] = Field(\n",
        "        default_factory=list,\n",
        "        description=\"Uma lista de informações que o usuário precisa fornecer se a decisão for 'PEDIR_INFO'.\"\n",
        "    )"
      ],
      "metadata": {
        "id": "NN8s9J-qZkcR"
      },
      "execution_count": 14,
      "outputs": []
    },
    {
      "cell_type": "markdown",
      "source": [
        ">Esta é a parte central da validação. Usando Pydantic, criamos a classe TriagemOut que funciona como um \"contrato\".\n",
        ">\n",
        ">Ela força o LLM a gerar uma resposta que contenha exatamente os campos decisao, urgencia e campos_faltantes, com os tipos e valores que definimos. Se a IA gerar algo fora deste padrão, o LangChain acusará um erro."
      ],
      "metadata": {
        "id": "2WYvQEewabzI"
      }
    },
    {
      "cell_type": "markdown",
      "source": [
        "##4.4 Célula Principal - Construindo e Executando a Lógica de Triagem"
      ],
      "metadata": {
        "id": "miGW3hh5Z7lT"
      }
    },
    {
      "cell_type": "code",
      "source": [
        "# 1. Inicializa o LLM com temperatura 0.0 para respostas mais determinísticas\n",
        "llm_triagem = ChatGoogleGenerativeAI(\n",
        "    model=\"gemini-2.5-flash\",  # Usando um modelo padrão e eficiente para essa tarefa\n",
        "    temperature=0.0\n",
        ")\n",
        "\n",
        "# 2. Cria a \"chain\" que conecta o LLM ao nosso esquema de saída Pydantic\n",
        "# O método .with_structured_output() é o que faz a mágica acontecer!\n",
        "triagem_chain = llm_triagem.with_structured_output(TriagemOut)\n",
        "\n",
        "# 3. Define a função que invoca a chain e formata a saída\n",
        "def triagem(mensagem: str) -> Dict:\n",
        "    \"\"\"\n",
        "    Invoca a chain de triagem com a mensagem do usuário e retorna um dicionário.\n",
        "    \"\"\"\n",
        "    # A chain recebe uma lista de mensagens (Sistema e Usuário)\n",
        "    saida_pydantic: TriagemOut = triagem_chain.invoke([\n",
        "        SystemMessage(content=TRIAGEM_PROMPT),\n",
        "        HumanMessage(content=mensagem)\n",
        "    ])\n",
        "\n",
        "    # .model_dump() converte o objeto Pydantic validado em um dicionário Python\n",
        "    return saida_pydantic.model_dump()"
      ],
      "metadata": {
        "id": "wOzrV99IZurN"
      },
      "execution_count": 15,
      "outputs": []
    },
    {
      "cell_type": "markdown",
      "source": [
        ">Esta é a célula principal onde a orquestração acontece. Nós:\n",
        "\n",
        "1)   Instanciamos o modelo Gemini, configurando a temperature para 0.0 para obter resultados mais consistentes e previsíveis.\n",
        "2)   Criamos a triagem_chain usando o poderoso método .with_structured_output(TriagemOut). É este comando que \"ensina\" o LLM a seguir nosso esquema Pydantic.\n",
        "3)   Definimos a função triagem(), que encapsula a lógica de chamada, enviando o prompt do sistema e a mensagem do usuário para a chain."
      ],
      "metadata": {
        "id": "AffYj2jhaPvw"
      }
    },
    {
      "cell_type": "markdown",
      "source": [
        "##4.5 Teste e Validação"
      ],
      "metadata": {
        "id": "K1rqrRCXaIWX"
      }
    },
    {
      "cell_type": "code",
      "source": [
        "testes = [\"Posso reembolsar a internet?\",\n",
        "          \"Quero mais 5 dias de trabalho remoto. Como faço?\",\n",
        "          \"Posso reembolsar cursos ou treinamentos da Alura?\",\n",
        "          \"Quantas capivaras tem no Rio Pinheiros?\",\n",
        "          \"Tenho uma dúvida sobre um benefício.\"]\n",
        "\n",
        "for msg_teste in testes:\n",
        "    print(f\"Pergunta: '{msg_teste}'\")\n",
        "    resultado = triagem(msg_teste)\n",
        "    print(f\" -> Resposta Estruturada: {resultado}\\n\")"
      ],
      "metadata": {
        "colab": {
          "base_uri": "https://localhost:8080/"
        },
        "id": "SdIrC1t8aGN6",
        "outputId": "6887385f-00ed-43ab-e300-6f8c79081daa"
      },
      "execution_count": 16,
      "outputs": [
        {
          "output_type": "stream",
          "name": "stdout",
          "text": [
            "Pergunta: 'Posso reembolsar a internet?'\n",
            " -> Resposta Estruturada: {'decisao': 'AUTO_RESOLVER', 'urgencia': 'BAIXA', 'campos_faltantes': []}\n",
            "\n",
            "Pergunta: 'Quero mais 5 dias de trabalho remoto. Como faço?'\n",
            " -> Resposta Estruturada: {'decisao': 'ABRIR_CHAMADO', 'urgencia': 'MEDIA', 'campos_faltantes': []}\n",
            "\n",
            "Pergunta: 'Posso reembolsar cursos ou treinamentos da Alura?'\n",
            " -> Resposta Estruturada: {'decisao': 'AUTO_RESOLVER', 'urgencia': 'BAIXA', 'campos_faltantes': []}\n",
            "\n",
            "Pergunta: 'Quantas capivaras tem no Rio Pinheiros?'\n",
            " -> Resposta Estruturada: {'decisao': 'PEDIR_INFO', 'urgencia': 'BAIXA', 'campos_faltantes': ['Sua pergunta não está relacionada às políticas internas da empresa Carraro Desenvolvimento.']}\n",
            "\n",
            "Pergunta: 'Tenho uma dúvida sobre um benefício.'\n",
            " -> Resposta Estruturada: {'decisao': 'PEDIR_INFO', 'urgencia': 'BAIXA', 'campos_faltantes': ['Qual benefício você se refere?']}\n",
            "\n"
          ]
        }
      ]
    },
    {
      "cell_type": "markdown",
      "source": [
        "##4.6 **Teste e Validação(Com Controle de Taxa)**\n",
        "\n",
        "> **Nota Importante sobre Limites de API (Rate Limiting)**\n",
        ">\n",
        "> Ao executar o loop `for` sem pausas, enviamos todas as nossas perguntas à API quase simultaneamente. Isso aciona um mecanismo de proteção da API do Google chamado **rate limiting**, resultando no erro `ResourceExhausted: 429`. Essencialmente, a API nos diz: \"Por favor, vá com mais calma!\".\n",
        ">\n",
        "> Para resolver isso, introduzimos o comando **`time.sleep(10)`** dentro do loop. Este comando pausa a execução por 10 segundos entre cada chamada, garantindo que respeitamos os limites da camada gratuita (ex: 2-5 requisições por minuto).\n",
        ">\n",
        "> Gerenciar a frequência das chamadas é uma **prática fundamental** no desenvolvimento com qualquer serviço externo, garantindo que nossa aplicação seja robusta e não seja bloqueada."
      ],
      "metadata": {
        "id": "5BfPDj8gdyzC"
      }
    },
    {
      "cell_type": "code",
      "source": [
        "# Importamos a biblioteca 'time' para adicionar pausas\n",
        "import time\n",
        "\n",
        "testes = [\"Posso reembolsar a internet?\",\n",
        "          \"Quero mais 5 dias de trabalho remoto. Como faço?\",\n",
        "          \"Posso reembolsar cursos ou treinamentos da Alura?\",\n",
        "          \"Quantas capivaras tem no Rio Pinheiros?\",\n",
        "          \"Tenho uma dúvida sobre um benefício.\"]\n",
        "\n",
        "for msg_teste in testes:\n",
        "    print(f\"Pergunta: '{msg_teste}'\")\n",
        "    resultado = triagem(msg_teste)\n",
        "    print(f\" -> Resposta Estruturada: {resultado}\\n\")\n",
        "\n",
        "    # --- AJUSTE IMPORTANTE AQUI ---\n",
        "    # Adiciona uma pausa de 10 segundos para não exceder o limite da API.\n",
        "    # Para o free tier, um valor entre 10 e 20 segundos é seguro.\n",
        "    print(\"...aguardando 12 segundos para a próxima requisição...\\n\")\n",
        "    time.sleep(12)\n",
        "\n",
        "print(\"✅ Todos os testes foram concluídos.\")"
      ],
      "metadata": {
        "colab": {
          "base_uri": "https://localhost:8080/"
        },
        "id": "R7n-VdWyc1KW",
        "outputId": "07d41581-5f0c-45d1-828d-847b86c61218"
      },
      "execution_count": 18,
      "outputs": [
        {
          "output_type": "stream",
          "name": "stdout",
          "text": [
            "Pergunta: 'Posso reembolsar a internet?'\n",
            " -> Resposta Estruturada: {'decisao': 'AUTO_RESOLVER', 'urgencia': 'BAIXA', 'campos_faltantes': []}\n",
            "\n",
            "...aguardando 10 segundos para a próxima requisição...\n",
            "\n",
            "Pergunta: 'Quero mais 5 dias de trabalho remoto. Como faço?'\n",
            " -> Resposta Estruturada: {'decisao': 'ABRIR_CHAMADO', 'urgencia': 'MEDIA', 'campos_faltantes': []}\n",
            "\n",
            "...aguardando 10 segundos para a próxima requisição...\n",
            "\n",
            "Pergunta: 'Posso reembolsar cursos ou treinamentos da Alura?'\n",
            " -> Resposta Estruturada: {'decisao': 'AUTO_RESOLVER', 'urgencia': 'BAIXA', 'campos_faltantes': []}\n",
            "\n",
            "...aguardando 10 segundos para a próxima requisição...\n",
            "\n",
            "Pergunta: 'Quantas capivaras tem no Rio Pinheiros?'\n",
            " -> Resposta Estruturada: {'decisao': 'PEDIR_INFO', 'urgencia': 'BAIXA', 'campos_faltantes': ['Por favor, especifique como sua pergunta se relaciona com as políticas internas da empresa Carraro Desenvolvimento.']}\n",
            "\n",
            "...aguardando 10 segundos para a próxima requisição...\n",
            "\n",
            "Pergunta: 'Tenho uma dúvida sobre um benefício.'\n",
            " -> Resposta Estruturada: {'decisao': 'PEDIR_INFO', 'urgencia': 'BAIXA', 'campos_faltantes': ['qual benefício', 'qual a dúvida']}\n",
            "\n",
            "...aguardando 10 segundos para a próxima requisição...\n",
            "\n",
            "✅ Todos os testes foram concluídos.\n"
          ]
        }
      ]
    },
    {
      "cell_type": "markdown",
      "source": [
        ">Com tudo configurado, esta célula executa um conjunto de testes para validar nosso sistema. Observamos como ele classifica diferentes tipos de perguntas, demonstrando a eficácia do prompt e da estruturação de saída com Pydantic."
      ],
      "metadata": {
        "id": "ygBixDwUaMTz"
      }
    },
    {
      "cell_type": "markdown",
      "source": [
        "# Aula 02: Construindo a base de conhecimento com RAG"
      ],
      "metadata": {
        "id": "9n-fmKhRTOIn"
      }
    },
    {
      "cell_type": "markdown",
      "source": [
        "##Install"
      ],
      "metadata": {
        "id": "yB8xrZodVCm1"
      }
    },
    {
      "cell_type": "code",
      "source": [
        "!pip install -q --upgrade langchain_community faiss-cpu langchain-text-splitters pymupdf"
      ],
      "metadata": {
        "id": "rRCQ9afhTNlT"
      },
      "execution_count": 21,
      "outputs": []
    },
    {
      "cell_type": "markdown",
      "source": [
        "## Lista de URLs"
      ],
      "metadata": {
        "id": "xifTgnraVJwC"
      }
    },
    {
      "cell_type": "code",
      "source": [
        "urls = [\n",
        "    \"https://github.com/YuriArduino/Estudos_Artificial_Intelligence/blob/Dados/Pol%C3%ADtica%20de%20Reembolsos%20(Viagens%20e%20Despesas).pdf\",\n",
        "    \"https://github.com/YuriArduino/Estudos_Artificial_Intelligence/blob/Dados/Pol%C3%ADtica%20de%20Uso%20de%20E-mail%20e%20Seguran%C3%A7a%20da%20Informa%C3%A7%C3%A3o.pdf\",\n",
        "    \"https://github.com/YuriArduino/Estudos_Artificial_Intelligence/blob/Dados/Pol%C3%ADticas%20de%20Home%20Office.pdf\"\n",
        "]"
      ],
      "metadata": {
        "id": "aJ_D9pbyVXWz"
      },
      "execution_count": 42,
      "outputs": []
    },
    {
      "cell_type": "markdown",
      "source": [
        "Imports"
      ],
      "metadata": {
        "id": "TgzTciDrWBb7"
      }
    },
    {
      "cell_type": "code",
      "source": [
        "import requests\n",
        "import os\n",
        "from pathlib import Path\n",
        "from urllib.parse import unquote\n",
        "import tempfile\n",
        "from langchain_community.document_loaders import PyMuPDFLoader\n",
        "from langchain_text_splitters import RecursiveCharacterTextSplitter"
      ],
      "metadata": {
        "id": "V-5duOZyV-ha"
      },
      "execution_count": 46,
      "outputs": []
    },
    {
      "cell_type": "markdown",
      "source": [
        "#Função para Carregar Documentos"
      ],
      "metadata": {
        "id": "SPRFcvwJahLP"
      }
    },
    {
      "cell_type": "code",
      "source": [
        "import requests\n",
        "import os\n",
        "from pathlib import Path\n",
        "from urllib.parse import unquote # Import unquote for decoding URLs\n",
        "import tempfile # Import tempfile for safer temporary file handling\n",
        "\n",
        "# Removed the global 'docs' initialization here as it's done outside the function now\n",
        "\n",
        "def carregar_documentos_de_urls(lista_de_urls: list) -> list:\n",
        "    \"\"\"\n",
        "    Baixa, decodifica e carrega documentos PDF de uma lista de URLs.\n",
        "    Retorna uma lista de documentos do LangChain.\n",
        "    \"\"\"\n",
        "    print(\"Iniciando o carregamento dos documentos...\")\n",
        "    documentos_carregados = []\n",
        "\n",
        "    for url in lista_de_urls:\n",
        "        nome_arquivo_decodificado = \"\" # Initialize here\n",
        "        try:\n",
        "            # Decodifica o nome do arquivo para uma exibição limpa\n",
        "            nome_arquivo_decodificado = unquote(url.split('/')[-1])\n",
        "            print(f\"🔄 Processando: '{nome_arquivo_decodificado}'...\")\n",
        "\n",
        "            # Constrói o URL para o download do arquivo raw\n",
        "            url_raw = url + '?raw=true'\n",
        "\n",
        "            # Usa um arquivo temporário que é deletado automaticamente\n",
        "            with tempfile.NamedTemporaryFile(suffix=\".pdf\", delete=False) as temp_file:\n",
        "                temp_file_path = temp_file.name # Store the actual temp file path\n",
        "                # Faz o download do conteúdo\n",
        "                response = requests.get(url_raw, timeout=20)\n",
        "                response.raise_for_status()  # Lança erro para status HTTP ruins\n",
        "\n",
        "                # Escreve o conteúdo no arquivo temporário\n",
        "                temp_file.write(response.content)\n",
        "                # temp_file.flush() # Garante que tudo foi escrito no disco (not strictly needed with 'with')\n",
        "\n",
        "\n",
        "            # Usa o PyMuPDFLoader para carregar do arquivo temporário\n",
        "            loader = PyMuPDFLoader(temp_file_path)\n",
        "            paginas = loader.load()\n",
        "\n",
        "            # Add the decoded filename to the metadata of each page\n",
        "            for pagina in paginas:\n",
        "                pagina.metadata['decoded_filename'] = nome_arquivo_decodificado\n",
        "                documentos_carregados.append(pagina)\n",
        "\n",
        "            print(f\"✅ Sucesso: '{nome_arquivo_decodificado}' carregado.\")\n",
        "\n",
        "        except requests.RequestException as e:\n",
        "            print(f\"❌ Erro de Rede ao carregar '{nome_arquivo_decodificado}': {e}\")\n",
        "        except Exception as e:\n",
        "            print(f\"❌ Erro inesperado ao processar '{nome_arquivo_decodificado}': {e}\")\n",
        "        finally:\n",
        "            # Ensure the temporary file is removed even if errors occur\n",
        "            if 'temp_file_path' in locals() and os.path.exists(temp_file_path):\n",
        "                os.remove(temp_file_path)\n",
        "\n",
        "\n",
        "    return documentos_carregados\n",
        "\n",
        "# --- 3. Execução ---\n",
        "# Ensure 'urls' variable exists, assuming it's defined elsewhere\n",
        "# If not, you might need to define it here or ensure the user runs the cell above\n",
        "# Example: urls = [\"...\", \"...\", \"...\"]\n",
        "docs = carregar_documentos_de_urls(urls) # Use the 'urls' variable defined previously\n",
        "\n",
        "print(\"\\n\" + \"=\"*50)\n",
        "print(\"Resumo do Carregamento:\")\n",
        "print(f\"  - Total de fontes (URLs) processadas: {len(urls)}\")\n",
        "print(f\"  - Total de páginas carregadas (documentos): {len(docs)}\")\n",
        "print(\"=\"*50)"
      ],
      "metadata": {
        "colab": {
          "base_uri": "https://localhost:8080/"
        },
        "id": "8isXCm8JWHCg",
        "outputId": "533c4a56-9090-4c61-c3a2-4fcb5e2fb3f3"
      },
      "execution_count": 80,
      "outputs": [
        {
          "output_type": "stream",
          "name": "stdout",
          "text": [
            "Iniciando o carregamento dos documentos...\n",
            "🔄 Processando: 'Política de Reembolsos (Viagens e Despesas).pdf'...\n",
            "✅ Sucesso: 'Política de Reembolsos (Viagens e Despesas).pdf' carregado.\n",
            "🔄 Processando: 'Política de Uso de E-mail e Segurança da Informação.pdf'...\n",
            "✅ Sucesso: 'Política de Uso de E-mail e Segurança da Informação.pdf' carregado.\n",
            "🔄 Processando: 'Políticas de Home Office.pdf'...\n",
            "✅ Sucesso: 'Políticas de Home Office.pdf' carregado.\n",
            "\n",
            "==================================================\n",
            "Resumo do Carregamento:\n",
            "  - Total de fontes (URLs) processadas: 3\n",
            "  - Total de páginas carregadas (documentos): 3\n",
            "==================================================\n"
          ]
        }
      ]
    },
    {
      "cell_type": "markdown",
      "source": [
        "### Verificando o conteúdo de uma página"
      ],
      "metadata": {
        "id": "o3LPVqkUaxws"
      }
    },
    {
      "cell_type": "code",
      "source": [
        "\n",
        "if docs:\n",
        "    print(\"\\nExemplo de conteúdo da primeira página carregada:\")\n",
        "    print(docs[0].page_content[:400] + \"...\")"
      ],
      "metadata": {
        "colab": {
          "base_uri": "https://localhost:8080/"
        },
        "id": "jG_sCzn5YIad",
        "outputId": "2d8639d0-c576-4136-ccaf-43a7c600e513"
      },
      "execution_count": 45,
      "outputs": [
        {
          "output_type": "stream",
          "name": "stdout",
          "text": [
            "\n",
            "Exemplo de conteúdo da primeira página carregada:\n",
            "Política de Reembolsos (Viagens e \n",
            "Despesas) \n",
            " \n",
            "1.​ Reembolso: requer nota fiscal e deve ser submetido em até 10 dias corridos após a \n",
            "despesa.​\n",
            " \n",
            "2.​ Alimentação em viagem: limite de R$ 70/dia por pessoa. Bebidas alcoólicas não \n",
            "são reembolsáveis.​\n",
            " \n",
            "3.​ Transporte: táxi/app são permitidos quando não houver alternativa viável. \n",
            "Comprovantes obrigatórios.​\n",
            " \n",
            "4.​ Internet para home office: reembols...\n"
          ]
        }
      ]
    },
    {
      "cell_type": "code",
      "source": [
        "#from langchain_text_splitters import RecursiveCharacterTextSplitter\n",
        "\n",
        "splitter = RecursiveCharacterTextSplitter(chunk_size=100, chunk_overlap=50)\n",
        "\n",
        "chunks = splitter.split_documents(docs)"
      ],
      "metadata": {
        "id": "QzYGaRYKbkaP"
      },
      "execution_count": 115,
      "outputs": []
    },
    {
      "cell_type": "code",
      "source": [
        "for chunk in chunks:\n",
        "    print(chunk)\n",
        "    print(\"------------------------------------\")\n",
        "\n",
        "total_chunk = len(chunks)\n",
        "print(f\"Total de Chunks: {total_chunk}\")"
      ],
      "metadata": {
        "colab": {
          "base_uri": "https://localhost:8080/"
        },
        "id": "usxEh1xDbwUy",
        "outputId": "12e3212c-204d-4e80-e83f-347c891f415c"
      },
      "execution_count": 116,
      "outputs": [
        {
          "output_type": "stream",
          "name": "stdout",
          "text": [
            "page_content='Política de Reembolsos (Viagens e \n",
            "Despesas)' metadata={'producer': 'Skia/PDF m140 Google Docs Renderer', 'creator': '', 'creationdate': '', 'source': '/tmp/tmpyyd6m4ul.pdf', 'file_path': '/tmp/tmpyyd6m4ul.pdf', 'total_pages': 1, 'format': 'PDF 1.4', 'title': 'Imersão: Política de Reembolsos (Viagens e Despesas)', 'author': '', 'subject': '', 'keywords': '', 'moddate': '', 'trapped': '', 'modDate': '', 'creationDate': '', 'page': 0, 'decoded_filename': 'Política de Reembolsos (Viagens e Despesas).pdf'}\n",
            "------------------------------------\n",
            "page_content='Despesas) \n",
            " \n",
            "1.​ Reembolso: requer nota fiscal e deve ser submetido em até 10 dias corridos após a' metadata={'producer': 'Skia/PDF m140 Google Docs Renderer', 'creator': '', 'creationdate': '', 'source': '/tmp/tmpyyd6m4ul.pdf', 'file_path': '/tmp/tmpyyd6m4ul.pdf', 'total_pages': 1, 'format': 'PDF 1.4', 'title': 'Imersão: Política de Reembolsos (Viagens e Despesas)', 'author': '', 'subject': '', 'keywords': '', 'moddate': '', 'trapped': '', 'modDate': '', 'creationDate': '', 'page': 0, 'decoded_filename': 'Política de Reembolsos (Viagens e Despesas).pdf'}\n",
            "------------------------------------\n",
            "page_content='despesa.​\n",
            " \n",
            "2.​ Alimentação em viagem: limite de R$ 70/dia por pessoa. Bebidas alcoólicas não' metadata={'producer': 'Skia/PDF m140 Google Docs Renderer', 'creator': '', 'creationdate': '', 'source': '/tmp/tmpyyd6m4ul.pdf', 'file_path': '/tmp/tmpyyd6m4ul.pdf', 'total_pages': 1, 'format': 'PDF 1.4', 'title': 'Imersão: Política de Reembolsos (Viagens e Despesas)', 'author': '', 'subject': '', 'keywords': '', 'moddate': '', 'trapped': '', 'modDate': '', 'creationDate': '', 'page': 0, 'decoded_filename': 'Política de Reembolsos (Viagens e Despesas).pdf'}\n",
            "------------------------------------\n",
            "page_content='são reembolsáveis.​' metadata={'producer': 'Skia/PDF m140 Google Docs Renderer', 'creator': '', 'creationdate': '', 'source': '/tmp/tmpyyd6m4ul.pdf', 'file_path': '/tmp/tmpyyd6m4ul.pdf', 'total_pages': 1, 'format': 'PDF 1.4', 'title': 'Imersão: Política de Reembolsos (Viagens e Despesas)', 'author': '', 'subject': '', 'keywords': '', 'moddate': '', 'trapped': '', 'modDate': '', 'creationDate': '', 'page': 0, 'decoded_filename': 'Política de Reembolsos (Viagens e Despesas).pdf'}\n",
            "------------------------------------\n",
            "page_content='3.​ Transporte: táxi/app são permitidos quando não houver alternativa viável.' metadata={'producer': 'Skia/PDF m140 Google Docs Renderer', 'creator': '', 'creationdate': '', 'source': '/tmp/tmpyyd6m4ul.pdf', 'file_path': '/tmp/tmpyyd6m4ul.pdf', 'total_pages': 1, 'format': 'PDF 1.4', 'title': 'Imersão: Política de Reembolsos (Viagens e Despesas)', 'author': '', 'subject': '', 'keywords': '', 'moddate': '', 'trapped': '', 'modDate': '', 'creationDate': '', 'page': 0, 'decoded_filename': 'Política de Reembolsos (Viagens e Despesas).pdf'}\n",
            "------------------------------------\n",
            "page_content='Comprovantes obrigatórios.​' metadata={'producer': 'Skia/PDF m140 Google Docs Renderer', 'creator': '', 'creationdate': '', 'source': '/tmp/tmpyyd6m4ul.pdf', 'file_path': '/tmp/tmpyyd6m4ul.pdf', 'total_pages': 1, 'format': 'PDF 1.4', 'title': 'Imersão: Política de Reembolsos (Viagens e Despesas)', 'author': '', 'subject': '', 'keywords': '', 'moddate': '', 'trapped': '', 'modDate': '', 'creationDate': '', 'page': 0, 'decoded_filename': 'Política de Reembolsos (Viagens e Despesas).pdf'}\n",
            "------------------------------------\n",
            "page_content='4.​ Internet para home office: reembolsável via subsídio mensal de até R$ 100,' metadata={'producer': 'Skia/PDF m140 Google Docs Renderer', 'creator': '', 'creationdate': '', 'source': '/tmp/tmpyyd6m4ul.pdf', 'file_path': '/tmp/tmpyyd6m4ul.pdf', 'total_pages': 1, 'format': 'PDF 1.4', 'title': 'Imersão: Política de Reembolsos (Viagens e Despesas)', 'author': '', 'subject': '', 'keywords': '', 'moddate': '', 'trapped': '', 'modDate': '', 'creationDate': '', 'page': 0, 'decoded_filename': 'Política de Reembolsos (Viagens e Despesas).pdf'}\n",
            "------------------------------------\n",
            "page_content='conforme política de Home Office.​' metadata={'producer': 'Skia/PDF m140 Google Docs Renderer', 'creator': '', 'creationdate': '', 'source': '/tmp/tmpyyd6m4ul.pdf', 'file_path': '/tmp/tmpyyd6m4ul.pdf', 'total_pages': 1, 'format': 'PDF 1.4', 'title': 'Imersão: Política de Reembolsos (Viagens e Despesas)', 'author': '', 'subject': '', 'keywords': '', 'moddate': '', 'trapped': '', 'modDate': '', 'creationDate': '', 'page': 0, 'decoded_filename': 'Política de Reembolsos (Viagens e Despesas).pdf'}\n",
            "------------------------------------\n",
            "page_content='5.​ Cursos e certificações: exigem aprovação prévia do gestor e orçamento do time.​' metadata={'producer': 'Skia/PDF m140 Google Docs Renderer', 'creator': '', 'creationdate': '', 'source': '/tmp/tmpyyd6m4ul.pdf', 'file_path': '/tmp/tmpyyd6m4ul.pdf', 'total_pages': 1, 'format': 'PDF 1.4', 'title': 'Imersão: Política de Reembolsos (Viagens e Despesas)', 'author': '', 'subject': '', 'keywords': '', 'moddate': '', 'trapped': '', 'modDate': '', 'creationDate': '', 'page': 0, 'decoded_filename': 'Política de Reembolsos (Viagens e Despesas).pdf'}\n",
            "------------------------------------\n",
            "page_content='6.​ Custos excepcionais (ex.: franquia de bagagem extra): devem ser justificados no' metadata={'producer': 'Skia/PDF m140 Google Docs Renderer', 'creator': '', 'creationdate': '', 'source': '/tmp/tmpyyd6m4ul.pdf', 'file_path': '/tmp/tmpyyd6m4ul.pdf', 'total_pages': 1, 'format': 'PDF 1.4', 'title': 'Imersão: Política de Reembolsos (Viagens e Despesas)', 'author': '', 'subject': '', 'keywords': '', 'moddate': '', 'trapped': '', 'modDate': '', 'creationDate': '', 'page': 0, 'decoded_filename': 'Política de Reembolsos (Viagens e Despesas).pdf'}\n",
            "------------------------------------\n",
            "page_content='chamado e aprovados antes da compra.' metadata={'producer': 'Skia/PDF m140 Google Docs Renderer', 'creator': '', 'creationdate': '', 'source': '/tmp/tmpyyd6m4ul.pdf', 'file_path': '/tmp/tmpyyd6m4ul.pdf', 'total_pages': 1, 'format': 'PDF 1.4', 'title': 'Imersão: Política de Reembolsos (Viagens e Despesas)', 'author': '', 'subject': '', 'keywords': '', 'moddate': '', 'trapped': '', 'modDate': '', 'creationDate': '', 'page': 0, 'decoded_filename': 'Política de Reembolsos (Viagens e Despesas).pdf'}\n",
            "------------------------------------\n",
            "page_content='Política de Uso de E-mail e Segurança \n",
            "da Informação' metadata={'producer': 'Skia/PDF m140 Google Docs Renderer', 'creator': '', 'creationdate': '', 'source': '/tmp/tmpj2ehgem9.pdf', 'file_path': '/tmp/tmpj2ehgem9.pdf', 'total_pages': 1, 'format': 'PDF 1.4', 'title': 'Imersão: Política de Uso de E-mail e Segurança da Informação', 'author': '', 'subject': '', 'keywords': '', 'moddate': '', 'trapped': '', 'modDate': '', 'creationDate': '', 'page': 0, 'decoded_filename': 'Política de Uso de E-mail e Segurança da Informação.pdf'}\n",
            "------------------------------------\n",
            "page_content='da Informação \n",
            " \n",
            "1.​ É proibido encaminhar a endereços pessoais documentos classificados como' metadata={'producer': 'Skia/PDF m140 Google Docs Renderer', 'creator': '', 'creationdate': '', 'source': '/tmp/tmpj2ehgem9.pdf', 'file_path': '/tmp/tmpj2ehgem9.pdf', 'total_pages': 1, 'format': 'PDF 1.4', 'title': 'Imersão: Política de Uso de E-mail e Segurança da Informação', 'author': '', 'subject': '', 'keywords': '', 'moddate': '', 'trapped': '', 'modDate': '', 'creationDate': '', 'page': 0, 'decoded_filename': 'Política de Uso de E-mail e Segurança da Informação.pdf'}\n",
            "------------------------------------\n",
            "page_content='confidenciais.​\n",
            " \n",
            "2.​ Anexos externos devem ser enviados somente se criptografados e com senha' metadata={'producer': 'Skia/PDF m140 Google Docs Renderer', 'creator': '', 'creationdate': '', 'source': '/tmp/tmpj2ehgem9.pdf', 'file_path': '/tmp/tmpj2ehgem9.pdf', 'total_pages': 1, 'format': 'PDF 1.4', 'title': 'Imersão: Política de Uso de E-mail e Segurança da Informação', 'author': '', 'subject': '', 'keywords': '', 'moddate': '', 'trapped': '', 'modDate': '', 'creationDate': '', 'page': 0, 'decoded_filename': 'Política de Uso de E-mail e Segurança da Informação.pdf'}\n",
            "------------------------------------\n",
            "page_content='compartilhada por canal separado.​' metadata={'producer': 'Skia/PDF m140 Google Docs Renderer', 'creator': '', 'creationdate': '', 'source': '/tmp/tmpj2ehgem9.pdf', 'file_path': '/tmp/tmpj2ehgem9.pdf', 'total_pages': 1, 'format': 'PDF 1.4', 'title': 'Imersão: Política de Uso de E-mail e Segurança da Informação', 'author': '', 'subject': '', 'keywords': '', 'moddate': '', 'trapped': '', 'modDate': '', 'creationDate': '', 'page': 0, 'decoded_filename': 'Política de Uso de E-mail e Segurança da Informação.pdf'}\n",
            "------------------------------------\n",
            "page_content='3.​ Phishing: verifique remetente e domínios suspeitos. Reporte mensagens suspeitas' metadata={'producer': 'Skia/PDF m140 Google Docs Renderer', 'creator': '', 'creationdate': '', 'source': '/tmp/tmpj2ehgem9.pdf', 'file_path': '/tmp/tmpj2ehgem9.pdf', 'total_pages': 1, 'format': 'PDF 1.4', 'title': 'Imersão: Política de Uso de E-mail e Segurança da Informação', 'author': '', 'subject': '', 'keywords': '', 'moddate': '', 'trapped': '', 'modDate': '', 'creationDate': '', 'page': 0, 'decoded_filename': 'Política de Uso de E-mail e Segurança da Informação.pdf'}\n",
            "------------------------------------\n",
            "page_content='ao time de Segurança imediatamente.​' metadata={'producer': 'Skia/PDF m140 Google Docs Renderer', 'creator': '', 'creationdate': '', 'source': '/tmp/tmpj2ehgem9.pdf', 'file_path': '/tmp/tmpj2ehgem9.pdf', 'total_pages': 1, 'format': 'PDF 1.4', 'title': 'Imersão: Política de Uso de E-mail e Segurança da Informação', 'author': '', 'subject': '', 'keywords': '', 'moddate': '', 'trapped': '', 'modDate': '', 'creationDate': '', 'page': 0, 'decoded_filename': 'Política de Uso de E-mail e Segurança da Informação.pdf'}\n",
            "------------------------------------\n",
            "page_content='4.​ Retenção: mensagens que contenham dados pessoais devem seguir as diretrizes' metadata={'producer': 'Skia/PDF m140 Google Docs Renderer', 'creator': '', 'creationdate': '', 'source': '/tmp/tmpj2ehgem9.pdf', 'file_path': '/tmp/tmpj2ehgem9.pdf', 'total_pages': 1, 'format': 'PDF 1.4', 'title': 'Imersão: Política de Uso de E-mail e Segurança da Informação', 'author': '', 'subject': '', 'keywords': '', 'moddate': '', 'trapped': '', 'modDate': '', 'creationDate': '', 'page': 0, 'decoded_filename': 'Política de Uso de E-mail e Segurança da Informação.pdf'}\n",
            "------------------------------------\n",
            "page_content='de retenção definidas pela equipe de Privacidade.​' metadata={'producer': 'Skia/PDF m140 Google Docs Renderer', 'creator': '', 'creationdate': '', 'source': '/tmp/tmpj2ehgem9.pdf', 'file_path': '/tmp/tmpj2ehgem9.pdf', 'total_pages': 1, 'format': 'PDF 1.4', 'title': 'Imersão: Política de Uso de E-mail e Segurança da Informação', 'author': '', 'subject': '', 'keywords': '', 'moddate': '', 'trapped': '', 'modDate': '', 'creationDate': '', 'page': 0, 'decoded_filename': 'Política de Uso de E-mail e Segurança da Informação.pdf'}\n",
            "------------------------------------\n",
            "page_content='5.​ Solicitações de liberação de anexos ou domínios devem ser abertas por chamado,' metadata={'producer': 'Skia/PDF m140 Google Docs Renderer', 'creator': '', 'creationdate': '', 'source': '/tmp/tmpj2ehgem9.pdf', 'file_path': '/tmp/tmpj2ehgem9.pdf', 'total_pages': 1, 'format': 'PDF 1.4', 'title': 'Imersão: Política de Uso de E-mail e Segurança da Informação', 'author': '', 'subject': '', 'keywords': '', 'moddate': '', 'trapped': '', 'modDate': '', 'creationDate': '', 'page': 0, 'decoded_filename': 'Política de Uso de E-mail e Segurança da Informação.pdf'}\n",
            "------------------------------------\n",
            "page_content='com justificativa do gestor.' metadata={'producer': 'Skia/PDF m140 Google Docs Renderer', 'creator': '', 'creationdate': '', 'source': '/tmp/tmpj2ehgem9.pdf', 'file_path': '/tmp/tmpj2ehgem9.pdf', 'total_pages': 1, 'format': 'PDF 1.4', 'title': 'Imersão: Política de Uso de E-mail e Segurança da Informação', 'author': '', 'subject': '', 'keywords': '', 'moddate': '', 'trapped': '', 'modDate': '', 'creationDate': '', 'page': 0, 'decoded_filename': 'Política de Uso de E-mail e Segurança da Informação.pdf'}\n",
            "------------------------------------\n",
            "page_content='Políticas de Home Office' metadata={'producer': 'Skia/PDF m140 Google Docs Renderer', 'creator': '', 'creationdate': '', 'source': '/tmp/tmps31mrujc.pdf', 'file_path': '/tmp/tmps31mrujc.pdf', 'total_pages': 1, 'format': 'PDF 1.4', 'title': 'Políticas de Home Office', 'author': '', 'subject': '', 'keywords': '', 'moddate': '', 'trapped': '', 'modDate': '', 'creationDate': '', 'page': 0, 'decoded_filename': 'Políticas de Home Office.pdf'}\n",
            "------------------------------------\n",
            "page_content='1.​ A empresa adota modelo híbrido: mínimo de 2 dias presenciais por semana, salvo' metadata={'producer': 'Skia/PDF m140 Google Docs Renderer', 'creator': '', 'creationdate': '', 'source': '/tmp/tmps31mrujc.pdf', 'file_path': '/tmp/tmps31mrujc.pdf', 'total_pages': 1, 'format': 'PDF 1.4', 'title': 'Políticas de Home Office', 'author': '', 'subject': '', 'keywords': '', 'moddate': '', 'trapped': '', 'modDate': '', 'creationDate': '', 'page': 0, 'decoded_filename': 'Políticas de Home Office.pdf'}\n",
            "------------------------------------\n",
            "page_content='exceções aprovadas pelo gestor e RH.​' metadata={'producer': 'Skia/PDF m140 Google Docs Renderer', 'creator': '', 'creationdate': '', 'source': '/tmp/tmps31mrujc.pdf', 'file_path': '/tmp/tmps31mrujc.pdf', 'total_pages': 1, 'format': 'PDF 1.4', 'title': 'Políticas de Home Office', 'author': '', 'subject': '', 'keywords': '', 'moddate': '', 'trapped': '', 'modDate': '', 'creationDate': '', 'page': 0, 'decoded_filename': 'Políticas de Home Office.pdf'}\n",
            "------------------------------------\n",
            "page_content='2.​ Equipamentos: a empresa fornece notebook e periféricos. O colaborador é' metadata={'producer': 'Skia/PDF m140 Google Docs Renderer', 'creator': '', 'creationdate': '', 'source': '/tmp/tmps31mrujc.pdf', 'file_path': '/tmp/tmps31mrujc.pdf', 'total_pages': 1, 'format': 'PDF 1.4', 'title': 'Políticas de Home Office', 'author': '', 'subject': '', 'keywords': '', 'moddate': '', 'trapped': '', 'modDate': '', 'creationDate': '', 'page': 0, 'decoded_filename': 'Políticas de Home Office.pdf'}\n",
            "------------------------------------\n",
            "page_content='responsável por zelar pela conservação.​' metadata={'producer': 'Skia/PDF m140 Google Docs Renderer', 'creator': '', 'creationdate': '', 'source': '/tmp/tmps31mrujc.pdf', 'file_path': '/tmp/tmps31mrujc.pdf', 'total_pages': 1, 'format': 'PDF 1.4', 'title': 'Políticas de Home Office', 'author': '', 'subject': '', 'keywords': '', 'moddate': '', 'trapped': '', 'modDate': '', 'creationDate': '', 'page': 0, 'decoded_filename': 'Políticas de Home Office.pdf'}\n",
            "------------------------------------\n",
            "page_content='3.​ Segurança: é obrigatório uso de VPN e bloqueio de tela. Documentos confidenciais' metadata={'producer': 'Skia/PDF m140 Google Docs Renderer', 'creator': '', 'creationdate': '', 'source': '/tmp/tmps31mrujc.pdf', 'file_path': '/tmp/tmps31mrujc.pdf', 'total_pages': 1, 'format': 'PDF 1.4', 'title': 'Políticas de Home Office', 'author': '', 'subject': '', 'keywords': '', 'moddate': '', 'trapped': '', 'modDate': '', 'creationDate': '', 'page': 0, 'decoded_filename': 'Políticas de Home Office.pdf'}\n",
            "------------------------------------\n",
            "page_content='não devem ser impressos fora do escritório.​' metadata={'producer': 'Skia/PDF m140 Google Docs Renderer', 'creator': '', 'creationdate': '', 'source': '/tmp/tmps31mrujc.pdf', 'file_path': '/tmp/tmps31mrujc.pdf', 'total_pages': 1, 'format': 'PDF 1.4', 'title': 'Políticas de Home Office', 'author': '', 'subject': '', 'keywords': '', 'moddate': '', 'trapped': '', 'modDate': '', 'creationDate': '', 'page': 0, 'decoded_filename': 'Políticas de Home Office.pdf'}\n",
            "------------------------------------\n",
            "page_content='4.​ Ergonomia: recomendamos cadeira adequada e suporte de monitor. O RH pode' metadata={'producer': 'Skia/PDF m140 Google Docs Renderer', 'creator': '', 'creationdate': '', 'source': '/tmp/tmps31mrujc.pdf', 'file_path': '/tmp/tmps31mrujc.pdf', 'total_pages': 1, 'format': 'PDF 1.4', 'title': 'Políticas de Home Office', 'author': '', 'subject': '', 'keywords': '', 'moddate': '', 'trapped': '', 'modDate': '', 'creationDate': '', 'page': 0, 'decoded_filename': 'Políticas de Home Office.pdf'}\n",
            "------------------------------------\n",
            "page_content='avaliar solicitação de apoio ergonômico.​' metadata={'producer': 'Skia/PDF m140 Google Docs Renderer', 'creator': '', 'creationdate': '', 'source': '/tmp/tmps31mrujc.pdf', 'file_path': '/tmp/tmps31mrujc.pdf', 'total_pages': 1, 'format': 'PDF 1.4', 'title': 'Políticas de Home Office', 'author': '', 'subject': '', 'keywords': '', 'moddate': '', 'trapped': '', 'modDate': '', 'creationDate': '', 'page': 0, 'decoded_filename': 'Políticas de Home Office.pdf'}\n",
            "------------------------------------\n",
            "page_content='5.​ Conectividade: há subsídio mensal de internet domiciliar para quem trabalha em' metadata={'producer': 'Skia/PDF m140 Google Docs Renderer', 'creator': '', 'creationdate': '', 'source': '/tmp/tmps31mrujc.pdf', 'file_path': '/tmp/tmps31mrujc.pdf', 'total_pages': 1, 'format': 'PDF 1.4', 'title': 'Políticas de Home Office', 'author': '', 'subject': '', 'keywords': '', 'moddate': '', 'trapped': '', 'modDate': '', 'creationDate': '', 'page': 0, 'decoded_filename': 'Políticas de Home Office.pdf'}\n",
            "------------------------------------\n",
            "page_content='home office: até R$ 100/mês, mediante nota fiscal nominal.​' metadata={'producer': 'Skia/PDF m140 Google Docs Renderer', 'creator': '', 'creationdate': '', 'source': '/tmp/tmps31mrujc.pdf', 'file_path': '/tmp/tmps31mrujc.pdf', 'total_pages': 1, 'format': 'PDF 1.4', 'title': 'Políticas de Home Office', 'author': '', 'subject': '', 'keywords': '', 'moddate': '', 'trapped': '', 'modDate': '', 'creationDate': '', 'page': 0, 'decoded_filename': 'Políticas de Home Office.pdf'}\n",
            "------------------------------------\n",
            "page_content='6.​ Solicitação de exceção (ex.: 4-5 dias remotos): deve ser formalizada via chamado' metadata={'producer': 'Skia/PDF m140 Google Docs Renderer', 'creator': '', 'creationdate': '', 'source': '/tmp/tmps31mrujc.pdf', 'file_path': '/tmp/tmps31mrujc.pdf', 'total_pages': 1, 'format': 'PDF 1.4', 'title': 'Políticas de Home Office', 'author': '', 'subject': '', 'keywords': '', 'moddate': '', 'trapped': '', 'modDate': '', 'creationDate': '', 'page': 0, 'decoded_filename': 'Políticas de Home Office.pdf'}\n",
            "------------------------------------\n",
            "page_content='ao RH com justificativa do gestor.' metadata={'producer': 'Skia/PDF m140 Google Docs Renderer', 'creator': '', 'creationdate': '', 'source': '/tmp/tmps31mrujc.pdf', 'file_path': '/tmp/tmps31mrujc.pdf', 'total_pages': 1, 'format': 'PDF 1.4', 'title': 'Políticas de Home Office', 'author': '', 'subject': '', 'keywords': '', 'moddate': '', 'trapped': '', 'modDate': '', 'creationDate': '', 'page': 0, 'decoded_filename': 'Políticas de Home Office.pdf'}\n",
            "------------------------------------\n",
            "Total de Chunks: 34\n"
          ]
        }
      ]
    },
    {
      "cell_type": "code",
      "source": [
        "from langchain_google_genai import GoogleGenerativeAIEmbeddings\n",
        "\n",
        "embeddings = GoogleGenerativeAIEmbeddings(\n",
        "    model=\"models/gemini-embedding-001\",\n",
        ")"
      ],
      "metadata": {
        "id": "IsndbLEZb00K"
      },
      "execution_count": 133,
      "outputs": []
    },
    {
      "cell_type": "code",
      "source": [
        "# Célula para definir nossa ferramenta de análise\n",
        "\n",
        "def analisar_qualidade_retriever(vectorstore, llm, query_de_teste: str, k_inicial: int = 5):\n",
        "    \"\"\"\n",
        "    Executa um pipeline completo de análise de retriever:\n",
        "    1. Faz uma busca vetorial inicial para obter N candidatos.\n",
        "    2. Usa um \"LLM Juiz\" para validar a relevância de cada candidato.\n",
        "    3. Usa um \"LLM Analista\" para analisar os resultados e sugerir os melhores\n",
        "       parâmetros `k` e `score_threshold`.\n",
        "    \"\"\"\n",
        "    print(\"\\n\" + \"=\"*80)\n",
        "    print(\"🚀 Iniciando pipeline de análise de qualidade do retriever...\")\n",
        "    print(f\"Pergunta de Teste: '{query_de_teste}'\")\n",
        "    print(\"=\"*80)\n",
        "\n",
        "    # --- ETAPA 1: Busca Vetorial Inicial (Generosa) ---\n",
        "    print(f\"\\n1. Buscando os {k_inicial} melhores candidatos no Vector Store...\")\n",
        "\n",
        "    documentos_com_score = vectorstore.similarity_search_with_score(query_de_teste, k=k_inicial)\n",
        "\n",
        "    if not documentos_com_score:\n",
        "        print(\"❌ Nenhum documento encontrado na busca vetorial. Fim da análise.\")\n",
        "        return\n",
        "\n",
        "    # --- ETAPA 2: Validação com \"LLM Juiz\" ---\n",
        "    print(\"\\n2. Usando 'LLM Juiz' para validar a relevância de cada candidato...\")\n",
        "\n",
        "    resultados_analise = []\n",
        "    for i, (doc, score) in enumerate(documentos_com_score):\n",
        "        conteudo_chunk = doc.page_content.replace('\\n', ' ')\n",
        "\n",
        "        prompt_juiz = f\"\"\"\n",
        "        Avalie a relevância do CONTEXTO para responder à PERGUNTA.\n",
        "        Responda APENAS com a palavra 'SIM' ou 'NÃO'.\n",
        "\n",
        "        PERGUNTA: \"{query_de_teste}\"\n",
        "        CONTEXTO: \"{conteudo_chunk}\"\n",
        "\n",
        "        AVALIAÇÃO (SIM/NÃO):\n",
        "        \"\"\"\n",
        "\n",
        "        print(f\"--- Avaliando Chunk {i+1} (Score: {score:.4f}) ---\")\n",
        "        resposta_juiz = llm.invoke(prompt_juiz)\n",
        "        decisao = \"SIM\" in resposta_juiz.content.strip().upper()\n",
        "\n",
        "        print(f\"Resultado do Juiz: {'✅ RELEVANTE' if decisao else '❌ IRRELEVANTE'}\")\n",
        "\n",
        "        resultados_analise.append({\n",
        "            \"id\": i + 1,\n",
        "            \"score\": score,\n",
        "            \"relevante\": decisao\n",
        "        })\n",
        "\n",
        "    # --- ETAPA 3: Análise Final com \"LLM Analista\" ---\n",
        "    print(\"\\n3. Usando 'LLM Analista' para sugerir os melhores parâmetros...\")\n",
        "\n",
        "    relatorio_str = \"\"\n",
        "    for res in resultados_analise:\n",
        "        relatorio_str += f\"- Candidato {res['id']}: Score de Distância = {res['score']:.4f}, Julgamento de Relevância = {'SIM' if res['relevante'] else 'NÃO'}\\n\"\n",
        "\n",
        "    prompt_analista = f\"\"\"\n",
        "    Você é um especialista em otimização de sistemas de RAG. Sua tarefa é analisar os resultados de uma busca vetorial e da validação de um LLM Juiz para sugerir os melhores parâmetros `k` e `score_threshold`.\n",
        "\n",
        "    REGRAS IMPORTANTES:\n",
        "    - O score é a Distância L2, onde **MENOR é MELHOR**.\n",
        "    - `k` é o número máximo de documentos a serem recuperados.\n",
        "    - `score_threshold` é o limite máximo de distância. Documentos com score MAIOR que o threshold serão descartados.\n",
        "\n",
        "    DADOS DA ANÁLISE:\n",
        "    {relatorio_str}\n",
        "\n",
        "    SUA SUGESTÃO:\n",
        "    Com base na análise, forneça uma sugestão clara para `k` e `score_threshold`. Justifique sua resposta brevemente.\n",
        "    \"\"\"\n",
        "\n",
        "    sugestao_final = llm.invoke(prompt_analista)\n",
        "\n",
        "    print(\"\\n\" + \"=\"*80)\n",
        "    print(\"🤖 SUGESTÃO FINAL DO ESPECIALISTA EM RAG 🤖\\n\")\n",
        "    print(sugestao_final.content)\n",
        "    print(\"=\"*80)"
      ],
      "metadata": {
        "id": "G7yaljTxVtbL"
      },
      "execution_count": 135,
      "outputs": []
    },
    {
      "cell_type": "code",
      "source": [
        "# --- Experimento 1: Chunks Pequenos (100/50) ---\n",
        "print(\"=\"*80)\n",
        "print(\"🧪 Iniciando Experimento com Estratégia 'Pequeno e Preciso' (100/50)\")\n",
        "print(\"=\"*80)\n",
        "\n",
        "# 1. Dividir os documentos\n",
        "splitter_pequeno = RecursiveCharacterTextSplitter(chunk_size=100, chunk_overlap=50)\n",
        "chunks_pequenos = splitter_pequeno.split_documents(docs)\n",
        "print(f\"Total de chunks gerados: {len(chunks_pequenos)}\")\n",
        "\n",
        "# 2. Gerar Embeddings e Criar o Vector Store (CUSTO DE API ACONTECE AQUI)\n",
        "print(\"🔄 Criando Vector Store e gerando embeddings...\")\n",
        "vectorstore_pequeno = FAISS.from_documents(chunks_pequenos, embeddings)\n",
        "print(\"✅ Vector Store 'pequeno' criado com sucesso.\")\n",
        "\n",
        "# 3. Analisar e Validar a Qualidade\n",
        "query_de_teste = \"Posso reembolsar cursos ou treinamentos da Alura?\"\n",
        "analisar_qualidade_retriever(vectorstore_pequeno, llm, query_de_teste)\n",
        "\n",
        "# --- Experimento 2: Chunks Médios (250/50) ---\n",
        "print(\"\\n\" + \"=\"*80)\n",
        "print(\"🧪 Iniciando Experimento com Estratégia 'Médio e Equilibrado' (250/50)\")\n",
        "print(\"=\"*80)\n",
        "\n",
        "# 1. Dividir os documentos\n",
        "splitter_medio = RecursiveCharacterTextSplitter(chunk_size=250, chunk_overlap=50)\n",
        "chunks_medios = splitter_medio.split_documents(docs)\n",
        "print(f\"Total de chunks gerados: {len(chunks_medios)}\")\n",
        "\n",
        "# 2. Gerar Embeddings e Criar o Vector Store\n",
        "print(\"🔄 Criando Vector Store e gerando embeddings...\")\n",
        "vectorstore_medio = FAISS.from_documents(chunks_medios, embeddings)\n",
        "print(\"✅ Vector Store 'medio' criado com sucesso.\")\n",
        "\n",
        "# 3. Analisar e Validar a Qualidade\n",
        "query_de_teste = \"Posso reembolsar cursos ou treinamentos da Alura?\"\n",
        "analisar_qualidade_retriever(vectorstore_medio, llm, query_de_teste)"
      ],
      "metadata": {
        "colab": {
          "base_uri": "https://localhost:8080/"
        },
        "id": "KmszOnmxU_Kc",
        "outputId": "6af8b399-99e4-4f0d-8d1b-580ad3e7b192"
      },
      "execution_count": 136,
      "outputs": [
        {
          "output_type": "stream",
          "name": "stdout",
          "text": [
            "================================================================================\n",
            "🧪 Iniciando Experimento com Estratégia 'Pequeno e Preciso' (100/50)\n",
            "================================================================================\n",
            "Total de chunks gerados: 34\n",
            "🔄 Criando Vector Store e gerando embeddings...\n",
            "✅ Vector Store 'pequeno' criado com sucesso.\n",
            "\n",
            "================================================================================\n",
            "🚀 Iniciando pipeline de análise de qualidade do retriever...\n",
            "Pergunta de Teste: 'Posso reembolsar cursos ou treinamentos da Alura?'\n",
            "================================================================================\n",
            "\n",
            "1. Buscando os 5 melhores candidatos no Vector Store...\n",
            "\n",
            "2. Usando 'LLM Juiz' para validar a relevância de cada candidato...\n",
            "--- Avaliando Chunk 1 (Score: 0.4932) ---\n",
            "Resultado do Juiz: ✅ RELEVANTE\n",
            "--- Avaliando Chunk 2 (Score: 0.6641) ---\n",
            "Resultado do Juiz: ❌ IRRELEVANTE\n",
            "--- Avaliando Chunk 3 (Score: 0.6947) ---\n",
            "Resultado do Juiz: ❌ IRRELEVANTE\n",
            "--- Avaliando Chunk 4 (Score: 0.6970) ---\n",
            "Resultado do Juiz: ❌ IRRELEVANTE\n",
            "--- Avaliando Chunk 5 (Score: 0.7105) ---\n",
            "Resultado do Juiz: ❌ IRRELEVANTE\n",
            "\n",
            "3. Usando 'LLM Analista' para sugerir os melhores parâmetros...\n",
            "\n",
            "================================================================================\n",
            "🤖 SUGESTÃO FINAL DO ESPECIALISTA EM RAG 🤖\n",
            "\n",
            "Com base na análise dos dados, sugiro os seguintes parâmetros:\n",
            "\n",
            "**SUA SUGESTÃO:**\n",
            "\n",
            "*   **`k` = 1**\n",
            "*   **`score_threshold` = 0.65**\n",
            "\n",
            "**JUSTIFICATIVA:**\n",
            "\n",
            "1.  **`score_threshold` (0.65):** O único documento julgado como relevante (`Candidato 1`) possui um score de 0.4932. O primeiro documento julgado como não relevante (`Candidato 2`) possui um score de 0.6641. Definir o `score_threshold` para 0.65 garante que o `Candidato 1` (0.4932 <= 0.65) seja incluído, enquanto todos os documentos irrelevantes com scores maiores que 0.65 (0.6641, 0.6947, 0.6970, 0.7105) sejam descartados.\n",
            "\n",
            "2.  **`k` (1):** Como apenas um documento relevante foi identificado na amostra, e ele é o de menor score (melhor), e o `score_threshold` já está configurado para filtrar eficientemente apenas esse documento, definir `k=1` é o mais preciso. Isso garante que, mesmo que por algum motivo um documento irrelevante conseguisse passar pelo threshold (o que não aconteceria com 0.65), o sistema limitaria a recuperação ao número de documentos esperados. Neste caso, limita-se a um, que é o que precisamos.\n",
            "================================================================================\n",
            "\n",
            "================================================================================\n",
            "🧪 Iniciando Experimento com Estratégia 'Médio e Equilibrado' (250/50)\n",
            "================================================================================\n",
            "Total de chunks gerados: 11\n",
            "🔄 Criando Vector Store e gerando embeddings...\n",
            "✅ Vector Store 'medio' criado com sucesso.\n",
            "\n",
            "================================================================================\n",
            "🚀 Iniciando pipeline de análise de qualidade do retriever...\n",
            "Pergunta de Teste: 'Posso reembolsar cursos ou treinamentos da Alura?'\n",
            "================================================================================\n",
            "\n",
            "1. Buscando os 5 melhores candidatos no Vector Store...\n",
            "\n",
            "2. Usando 'LLM Juiz' para validar a relevância de cada candidato...\n",
            "--- Avaliando Chunk 1 (Score: 0.6523) ---\n",
            "Resultado do Juiz: ❌ IRRELEVANTE\n",
            "--- Avaliando Chunk 2 (Score: 0.7308) ---\n",
            "Resultado do Juiz: ❌ IRRELEVANTE\n",
            "--- Avaliando Chunk 3 (Score: 0.7492) ---\n",
            "Resultado do Juiz: ❌ IRRELEVANTE\n",
            "--- Avaliando Chunk 4 (Score: 0.8049) ---\n",
            "Resultado do Juiz: ❌ IRRELEVANTE\n",
            "--- Avaliando Chunk 5 (Score: 0.8345) ---\n",
            "Resultado do Juiz: ❌ IRRELEVANTE\n",
            "\n",
            "3. Usando 'LLM Analista' para sugerir os melhores parâmetros...\n",
            "\n",
            "================================================================================\n",
            "🤖 SUGESTÃO FINAL DO ESPECIALISTA EM RAG 🤖\n",
            "\n",
            "Com base na análise, a sugestão é:\n",
            "\n",
            "*   **`k`**: `1`\n",
            "*   **`score_threshold`**: `0.60`\n",
            "\n",
            "**Justificativa:**\n",
            "\n",
            "Nenhum dos 5 candidatos recuperados foi julgado como relevante pelo LLM Juiz, mesmo o documento com o score de distância mais baixo (`0.6523`).\n",
            "\n",
            "Para garantir que **nenhum** documento irrelevante seja recuperado e passado para o LLM, o `score_threshold` precisa ser definido para um valor **menor** do que o score do melhor candidato irrelevante (`0.6523`). Um `score_threshold` de `0.60` assegurará que nenhum dos candidatos apresentados seja incluído.\n",
            "\n",
            "Um `k` de `1` é sugerido para indicar que, mesmo que houvesse um candidato relevante, seria exigido que ele tivesse um score excepcionalmente baixo para ser considerado, reforçando a necessidade de alta relevância e sinalizando que, com base nos dados atuais, o sistema de recuperação não está encontrando conteúdo útil.\n",
            "================================================================================\n"
          ]
        }
      ]
    },
    {
      "cell_type": "code",
      "source": [
        "from langchain_community.vectorstores import FAISS\n",
        "\n",
        "vectorstore = FAISS.from_documents(chunks, embeddings)\n",
        "\n",
        "retriever = vectorstore.as_retriever(search_type=\"similarity_score_threshold\",\n",
        "                                     search_kwargs={\"score_threshold\":0.62, \"k\": 5})"
      ],
      "metadata": {
        "id": "7GMAg1vJb6MN"
      },
      "execution_count": 126,
      "outputs": []
    },
    {
      "cell_type": "code",
      "source": [
        "from langchain_core.prompts import ChatPromptTemplate\n",
        "from langchain.chains.combine_documents import create_stuff_documents_chain\n",
        "\n",
        "prompt_rag = ChatPromptTemplate.from_messages([\n",
        "    (\"system\",\n",
        "     \"Você é um Assistente de Políticas Internas (RH/IT) da empresa Carraro Desenvolvimento. \"\n",
        "     \"Responda SOMENTE com base no contexto fornecido. \"\n",
        "     \"Se não houver base suficiente, responda apenas 'Não sei'.\"),\n",
        "\n",
        "    (\"human\", \"Pergunta: {input}\\n\\nContexto:\\n{context}\")\n",
        "])\n",
        "\n",
        "document_chain = create_stuff_documents_chain(llm_triagem, prompt_rag)"
      ],
      "metadata": {
        "id": "YGU9ECjib862"
      },
      "execution_count": 128,
      "outputs": []
    },
    {
      "cell_type": "code",
      "source": [
        "# Formatadores\n",
        "import re, pathlib\n",
        "\n",
        "def _clean_text(s: str) -> str:\n",
        "    return re.sub(r\"\\s+\", \" \", s or \"\").strip()\n",
        "\n",
        "def extrair_trecho(texto: str, query: str, janela: int = 240) -> str:\n",
        "    txt = _clean_text(texto)\n",
        "    termos = [t.lower() for t in re.findall(r\"\\w+\", query or \"\") if len(t) >= 4]\n",
        "    pos = -1\n",
        "    for t in termos:\n",
        "        pos = txt.lower().find(t)\n",
        "        if pos != -1: break\n",
        "    if pos == -1: pos = 0\n",
        "    ini, fim = max(0, pos - janela//2), min(len(txt), pos + janela//2)\n",
        "    return txt[ini:fim]\n",
        "\n",
        "def formatar_citacoes(docs_rel: List, query: str) -> List[Dict]:\n",
        "    cites, seen = [], set()\n",
        "    for d in docs_rel:\n",
        "        src = pathlib.Path(d.metadata.get(\"source\",\"\")).name\n",
        "        page = int(d.metadata.get(\"page\", 0)) + 1\n",
        "        key = (src, page)\n",
        "        if key in seen:\n",
        "            continue\n",
        "        seen.add(key)\n",
        "        cites.append({\"documento\": src, \"pagina\": page, \"trecho\": extrair_trecho(d.page_content, query)})\n",
        "    return cites[:3]"
      ],
      "metadata": {
        "id": "Nv-ou5N9b_Zz"
      },
      "execution_count": 129,
      "outputs": []
    },
    {
      "cell_type": "code",
      "source": [
        "def perguntar_politica_RAG(pergunta: str) -> Dict:\n",
        "    docs_relacionados = retriever.invoke(pergunta)\n",
        "\n",
        "    if not docs_relacionados:\n",
        "        return {\"answer\": \"Não sei.\",\n",
        "                \"citacoes\": [],\n",
        "                \"contexto_encontrado\": False}\n",
        "\n",
        "    answer = document_chain.invoke({\"input\": pergunta,\n",
        "                                    \"context\": docs_relacionados})\n",
        "\n",
        "    txt = (answer or \"\").strip()\n",
        "\n",
        "    if txt.rstrip(\".!?\") == \"Não sei\":\n",
        "        return {\"answer\": \"Não sei.\",\n",
        "                \"citacoes\": [],\n",
        "                \"contexto_encontrado\": False}\n",
        "\n",
        "    return {\"answer\": txt,\n",
        "            \"citacoes\": formatar_citacoes(docs_relacionados, pergunta),\n",
        "            \"contexto_encontrado\": True}"
      ],
      "metadata": {
        "id": "B2XrrdnBcBKm"
      },
      "execution_count": 85,
      "outputs": []
    },
    {
      "cell_type": "code",
      "source": [
        "testes = [\"Posso reembolsar a internet?\",\n",
        "          \"Quero mais 5 dias de trabalho remoto. Como faço?\",\n",
        "          \"Posso reembolsar cursos ou treinamentos da Alura?\",\n",
        "          \"Quantas capivaras tem no Rio Pinheiros?\"]"
      ],
      "metadata": {
        "id": "KJTWwvGncCiK"
      },
      "execution_count": 88,
      "outputs": []
    },
    {
      "cell_type": "code",
      "source": [
        "for msg_teste in testes:\n",
        "    resposta = perguntar_politica_RAG(msg_teste)\n",
        "    print(f\"PERGUNTA: {msg_teste}\")\n",
        "    print(f\"RESPOSTA: {resposta['answer']}\")\n",
        "    if resposta['contexto_encontrado']:\n",
        "        print(\"CITAÇÕES:\")\n",
        "        for c in resposta['citacoes']:\n",
        "            print(f\" - Documento: {c['documento']}, Página: {c['pagina']}\")\n",
        "            print(f\"   Trecho: {c['trecho']}\")\n",
        "        print(\"------------------------------------\")"
      ],
      "metadata": {
        "colab": {
          "base_uri": "https://localhost:8080/"
        },
        "id": "EnSeqCVQcEfS",
        "outputId": "dccad656-64f7-49aa-effc-5699e89913dc"
      },
      "execution_count": 131,
      "outputs": [
        {
          "output_type": "stream",
          "name": "stdout",
          "text": [
            "PERGUNTA: Posso reembolsar a internet?\n",
            "RESPOSTA: Sim, a internet para home office é reembolsável via subsídio mensal de até R$ 100.\n",
            "CITAÇÕES:\n",
            " - Documento: tmpyyd6m4ul.pdf, Página: 1\n",
            "   Trecho: são reembolsáveis.​\n",
            "------------------------------------\n",
            "PERGUNTA: Quero mais 5 dias de trabalho remoto. Como faço?\n",
            "RESPOSTA: Deve ser formalizada via chamado.\n",
            "CITAÇÕES:\n",
            " - Documento: tmps31mrujc.pdf, Página: 1\n",
            "   Trecho: 6.​ Solicitação de exceção (ex.: 4-5 dias remotos): deve ser formalizada via chamado\n",
            "------------------------------------\n"
          ]
        },
        {
          "output_type": "stream",
          "name": "stderr",
          "text": [
            "WARNING:langchain_core.vectorstores.base:No relevant docs were retrieved using the relevance score threshold 0.62\n"
          ]
        },
        {
          "output_type": "stream",
          "name": "stdout",
          "text": [
            "PERGUNTA: Posso reembolsar cursos ou treinamentos da Alura?\n",
            "RESPOSTA: Sim, são reembolsáveis.\n",
            "CITAÇÕES:\n",
            " - Documento: tmpyyd6m4ul.pdf, Página: 1\n",
            "   Trecho: são reembolsáveis.​\n",
            "------------------------------------\n",
            "PERGUNTA: Quantas capivaras tem no Rio Pinheiros?\n",
            "RESPOSTA: Não sei.\n"
          ]
        }
      ]
    },
    {
      "cell_type": "markdown",
      "source": [
        "````\n",
        "\n",
        "PERGUNTA: Posso reembolsar a internet?\n",
        "RESPOSTA: Sim, a internet para home office é reembolsável via subsídio mensal de até R$ 100, requerendo nota fiscal.\n",
        "CITAÇÕES:\n",
        " - Documento: tmpajz7rgts.pdf, Página: 1\n",
        "   Trecho: são reembolsáveis.​\n",
        "------------------------------------\n",
        "PERGUNTA: Quero mais 5 dias de trabalho remoto. Como faço?\n",
        "RESPOSTA: Você deve formalizar a solicitação via chamado. A exceção precisa ser aprovada pelo seu gestor e pelo RH.\n",
        "CITAÇÕES:\n",
        " - Documento: tmpjz9oxrgs.pdf, Página: 1\n",
        "   Trecho: (ex.: 4-5 dias remotos): deve ser formalizada via chamado\n",
        " - Documento: tmpajz7rgts.pdf, Página: 1\n",
        "   Trecho: conforme política de Home Office.​\n",
        "------------------------------------\n",
        "PERGUNTA: Posso reembolsar cursos ou treinamentos da Alura?\n",
        "RESPOSTA: Não sei.\n",
        "PERGUNTA: Quantas capivaras tem no Rio Pinheiros?\n",
        "RESPOSTA: Não sei.\n",
        "\n",
        "````"
      ],
      "metadata": {
        "id": "LfNOY2_YQc4D"
      }
    },
    {
      "cell_type": "code",
      "source": [
        "import plotly.express as px\n",
        "from sklearn.decomposition import PCA\n",
        "import numpy as np\n",
        "import textwrap\n",
        "import os\n",
        "\n",
        "# Get the text content and source filename from the chunks\n",
        "chunk_texts = []\n",
        "# Modify to get the decoded filename from metadata\n",
        "chunk_sources = []\n",
        "for chunk in chunks:\n",
        "    chunk_texts.append(chunk.page_content)\n",
        "    # Extract the decoded filename from the chunk metadata\n",
        "    decoded_name = chunk.metadata.get(\"decoded_filename\", \"Unknown Source\")\n",
        "    chunk_sources.append(decoded_name)\n",
        "\n",
        "\n",
        "# Create embeddings for the chunk texts\n",
        "# Note: This might take some time depending on the number of chunks\n",
        "chunk_embeddings = embeddings.embed_documents(chunk_texts)\n",
        "\n",
        "# Convert embeddings to a numpy array\n",
        "X = np.array(chunk_embeddings)\n",
        "\n",
        "# Apply PCA for dimensionality reduction to 3 components\n",
        "pca = PCA(n_components=3)\n",
        "components = pca.fit_transform(X)\n",
        "\n",
        "# Calculate the total explained variance\n",
        "total_var = pca.explained_variance_ratio_.sum() * 100\n",
        "\n",
        "# Create a DataFrame for Plotly\n",
        "import pandas as pd\n",
        "df_plot = pd.DataFrame(components, columns=['PC 1', 'PC 2', 'PC 3'])\n",
        "df_plot['Chunk Index'] = range(len(chunks)) # Add chunk index for identification\n",
        "df_plot['Chunk Text'] = chunk_texts # Add the actual chunk text for hover data\n",
        "df_plot['Source Document'] = chunk_sources # Add the source filename for coloring\n",
        "\n",
        "# --- Add text wrapping to the Chunk Text for better hover display ---\n",
        "wrapped_texts = []\n",
        "wrapper = textwrap.TextWrapper(width=80, break_long_words=False, replace_whitespace=False) # Adjust width as needed\n",
        "for text in df_plot['Chunk Text']:\n",
        "    lines = wrapper.wrap(text)\n",
        "    wrapped_texts.append(\"<br>\".join(lines)) # Join lines with HTML break tag\n",
        "\n",
        "df_plot['Wrapped Text'] = wrapped_texts\n",
        "# --- End of text wrapping ---\n",
        "\n",
        "# Create the 3D scatter plot, coloring by 'Source Document'\n",
        "fig = px.scatter_3d(\n",
        "    df_plot, x='PC 1', y='PC 2', z='PC 3',\n",
        "    color='Source Document', # Color points by source document\n",
        "    title=f'Embeddings of Document Chunks (Total Explained Variance: {total_var:.2f}%)',\n",
        "    labels={'PC 1': 'Principal Component 1', 'PC 2': 'Principal Component 2', 'PC 3': 'Principal Component 3'},\n",
        "    # Using hover_data to include data, then a custom hovertemplate to format it\n",
        "    hover_data={'Chunk Index': True, 'Wrapped Text': False, 'Source Document': True} # Use Wrapped Text for hover, but format in template\n",
        ")\n",
        "\n",
        "# Create a custom hover template\n",
        "# Use the 'Wrapped Text' column which already has <br> for line breaks\n",
        "hover_template = '<b>Source:</b> %{customdata[2]}<br><b>Chunk Index:</b> %{customdata[0]}<br><br><b>Chunk Text:</b> %{customdata[1]}<extra></extra>'\n",
        "\n",
        "# Update the traces to use the custom hovertemplate and include Wrapped Text and Source in customdata\n",
        "fig.update_traces(\n",
        "    hovertemplate=hover_template,\n",
        "    customdata=np.stack((df_plot['Chunk Index'], df_plot['Wrapped Text'], df_plot['Source Document']), axis=-1)\n",
        ")\n",
        "\n",
        "# Adjust hover label layout (optional, might not affect custom hovertemplate much)\n",
        "fig.update_layout(\n",
        "    hoverlabel=dict(\n",
        "        bgcolor=\"white\",\n",
        "        font_size=10,\n",
        "        # Setting a width here might still be useful in combination with text wrapping\n",
        "        # width=300,\n",
        "        # bordercolor=\"black\"\n",
        "    )\n",
        ")\n",
        "\n",
        "\n",
        "fig.show()"
      ],
      "metadata": {
        "colab": {
          "base_uri": "https://localhost:8080/",
          "height": 542
        },
        "id": "IwcoLlBechQ7",
        "outputId": "4992a9a2-10a6-4bab-98ff-00510d33447e"
      },
      "execution_count": 132,
      "outputs": [
        {
          "output_type": "display_data",
          "data": {
            "text/html": [
              "<html>\n",
              "<head><meta charset=\"utf-8\" /></head>\n",
              "<body>\n",
              "    <div>            <script src=\"https://cdnjs.cloudflare.com/ajax/libs/mathjax/2.7.5/MathJax.js?config=TeX-AMS-MML_SVG\"></script><script type=\"text/javascript\">if (window.MathJax && window.MathJax.Hub && window.MathJax.Hub.Config) {window.MathJax.Hub.Config({SVG: {font: \"STIX-Web\"}});}</script>                <script type=\"text/javascript\">window.PlotlyConfig = {MathJaxConfig: 'local'};</script>\n",
              "        <script charset=\"utf-8\" src=\"https://cdn.plot.ly/plotly-2.35.2.min.js\"></script>                <div id=\"47df4adf-751a-4da1-918b-232090f18b9c\" class=\"plotly-graph-div\" style=\"height:525px; width:100%;\"></div>            <script type=\"text/javascript\">                                    window.PLOTLYENV=window.PLOTLYENV || {};                                    if (document.getElementById(\"47df4adf-751a-4da1-918b-232090f18b9c\")) {                    Plotly.newPlot(                        \"47df4adf-751a-4da1-918b-232090f18b9c\",                        [{\"customdata\":[[0,\"Política de Reembolsos (Viagens e \\nDespesas)\",\"Política de Reembolsos (Viagens e Despesas).pdf\"],[1,\"Despesas) \\n \\n1.​ Reembolso: requer nota fiscal e deve ser submetido em até 10\\u003cbr\\u003edias corridos após a\",\"Política de Reembolsos (Viagens e Despesas).pdf\"],[2,\"despesa.​\\n \\n2.​ Alimentação em viagem: limite de R$ 70\\u002fdia por pessoa. Bebidas\\u003cbr\\u003ealcoólicas não\",\"Política de Reembolsos (Viagens e Despesas).pdf\"],[3,\"são reembolsáveis.​\",\"Política de Reembolsos (Viagens e Despesas).pdf\"],[4,\"3.​ Transporte: táxi\\u002fapp são permitidos quando não houver alternativa viável.\",\"Política de Reembolsos (Viagens e Despesas).pdf\"],[5,\"Comprovantes obrigatórios.​\",\"Política de Reembolsos (Viagens e Despesas).pdf\"],[6,\"4.​ Internet para home office: reembolsável via subsídio mensal de até R$ 100,\",\"Política de Reembolsos (Viagens e Despesas).pdf\"],[7,\"conforme política de Home Office.​\",\"Política de Reembolsos (Viagens e Despesas).pdf\"],[8,\"5.​ Cursos e certificações: exigem aprovação prévia do gestor e orçamento do\\u003cbr\\u003etime.​\",\"Política de Reembolsos (Viagens e Despesas).pdf\"],[9,\"6.​ Custos excepcionais (ex.: franquia de bagagem extra): devem ser justificados\\u003cbr\\u003eno\",\"Política de Reembolsos (Viagens e Despesas).pdf\"],[10,\"chamado e aprovados antes da compra.\",\"Política de Reembolsos (Viagens e Despesas).pdf\"],[11,\"Política de Uso de E-mail e Segurança \\nda Informação\",\"Política de Uso de E-mail e Segurança da Informação.pdf\"],[12,\"da Informação \\n \\n1.​ É proibido encaminhar a endereços pessoais documentos\\u003cbr\\u003eclassificados como\",\"Política de Uso de E-mail e Segurança da Informação.pdf\"],[13,\"confidenciais.​\\n \\n2.​ Anexos externos devem ser enviados somente se\\u003cbr\\u003ecriptografados e com senha\",\"Política de Uso de E-mail e Segurança da Informação.pdf\"],[14,\"compartilhada por canal separado.​\",\"Política de Uso de E-mail e Segurança da Informação.pdf\"],[15,\"3.​ Phishing: verifique remetente e domínios suspeitos. Reporte mensagens\\u003cbr\\u003esuspeitas\",\"Política de Uso de E-mail e Segurança da Informação.pdf\"],[16,\"ao time de Segurança imediatamente.​\",\"Política de Uso de E-mail e Segurança da Informação.pdf\"],[17,\"4.​ Retenção: mensagens que contenham dados pessoais devem seguir as diretrizes\",\"Política de Uso de E-mail e Segurança da Informação.pdf\"],[18,\"de retenção definidas pela equipe de Privacidade.​\",\"Política de Uso de E-mail e Segurança da Informação.pdf\"],[19,\"5.​ Solicitações de liberação de anexos ou domínios devem ser abertas por\\u003cbr\\u003echamado,\",\"Política de Uso de E-mail e Segurança da Informação.pdf\"],[20,\"com justificativa do gestor.\",\"Política de Uso de E-mail e Segurança da Informação.pdf\"],[21,\"Políticas de Home Office\",\"Políticas de Home Office.pdf\"],[22,\"1.​ A empresa adota modelo híbrido: mínimo de 2 dias presenciais por semana,\\u003cbr\\u003esalvo\",\"Políticas de Home Office.pdf\"],[23,\"exceções aprovadas pelo gestor e RH.​\",\"Políticas de Home Office.pdf\"],[24,\"2.​ Equipamentos: a empresa fornece notebook e periféricos. O colaborador é\",\"Políticas de Home Office.pdf\"],[25,\"responsável por zelar pela conservação.​\",\"Políticas de Home Office.pdf\"],[26,\"3.​ Segurança: é obrigatório uso de VPN e bloqueio de tela. Documentos\\u003cbr\\u003econfidenciais\",\"Políticas de Home Office.pdf\"],[27,\"não devem ser impressos fora do escritório.​\",\"Políticas de Home Office.pdf\"],[28,\"4.​ Ergonomia: recomendamos cadeira adequada e suporte de monitor. O RH pode\",\"Políticas de Home Office.pdf\"],[29,\"avaliar solicitação de apoio ergonômico.​\",\"Políticas de Home Office.pdf\"],[30,\"5.​ Conectividade: há subsídio mensal de internet domiciliar para quem trabalha\\u003cbr\\u003eem\",\"Políticas de Home Office.pdf\"],[31,\"home office: até R$ 100\\u002fmês, mediante nota fiscal nominal.​\",\"Políticas de Home Office.pdf\"],[32,\"6.​ Solicitação de exceção (ex.: 4-5 dias remotos): deve ser formalizada via\\u003cbr\\u003echamado\",\"Políticas de Home Office.pdf\"],[33,\"ao RH com justificativa do gestor.\",\"Políticas de Home Office.pdf\"]],\"hovertemplate\":\"\\u003cb\\u003eSource:\\u003c\\u002fb\\u003e %{customdata[2]}\\u003cbr\\u003e\\u003cb\\u003eChunk Index:\\u003c\\u002fb\\u003e %{customdata[0]}\\u003cbr\\u003e\\u003cbr\\u003e\\u003cb\\u003eChunk Text:\\u003c\\u002fb\\u003e %{customdata[1]}\\u003cextra\\u003e\\u003c\\u002fextra\\u003e\",\"legendgroup\":\"Política de Reembolsos (Viagens e Despesas).pdf\",\"marker\":{\"color\":\"#636efa\",\"symbol\":\"circle\"},\"mode\":\"markers\",\"name\":\"Política de Reembolsos (Viagens e Despesas).pdf\",\"scene\":\"scene\",\"showlegend\":true,\"x\":[0.07182569798447547,0.1055899448620014,0.15456603818788145,0.050767736234045235,0.05157217263469932,-0.014085390644865518,0.24677355724174083,0.0855154298135157,0.10640285852190366,0.16346475453900913,-0.0034870176637593836],\"y\":[0.07800044272237563,0.024039115320355856,0.04225324401990482,-0.16023638611839494,0.056193063417894644,-0.10334017543834158,0.1263515979575694,0.07207953381817646,-0.005365158671495782,-0.05548646672713259,-0.21982791902760823],\"z\":[-0.19147336403616033,-0.24647909159760653,-0.23561608725293087,-0.19291322985697623,-0.15539159477837827,-0.07954150231291447,0.039545136633860625,0.14667404231681969,-0.04397917053716945,-0.18286344340952035,0.019370526676864022],\"type\":\"scatter3d\"},{\"customdata\":[[0,\"Política de Reembolsos (Viagens e \\nDespesas)\",\"Política de Reembolsos (Viagens e Despesas).pdf\"],[1,\"Despesas) \\n \\n1.​ Reembolso: requer nota fiscal e deve ser submetido em até 10\\u003cbr\\u003edias corridos após a\",\"Política de Reembolsos (Viagens e Despesas).pdf\"],[2,\"despesa.​\\n \\n2.​ Alimentação em viagem: limite de R$ 70\\u002fdia por pessoa. Bebidas\\u003cbr\\u003ealcoólicas não\",\"Política de Reembolsos (Viagens e Despesas).pdf\"],[3,\"são reembolsáveis.​\",\"Política de Reembolsos (Viagens e Despesas).pdf\"],[4,\"3.​ Transporte: táxi\\u002fapp são permitidos quando não houver alternativa viável.\",\"Política de Reembolsos (Viagens e Despesas).pdf\"],[5,\"Comprovantes obrigatórios.​\",\"Política de Reembolsos (Viagens e Despesas).pdf\"],[6,\"4.​ Internet para home office: reembolsável via subsídio mensal de até R$ 100,\",\"Política de Reembolsos (Viagens e Despesas).pdf\"],[7,\"conforme política de Home Office.​\",\"Política de Reembolsos (Viagens e Despesas).pdf\"],[8,\"5.​ Cursos e certificações: exigem aprovação prévia do gestor e orçamento do\\u003cbr\\u003etime.​\",\"Política de Reembolsos (Viagens e Despesas).pdf\"],[9,\"6.​ Custos excepcionais (ex.: franquia de bagagem extra): devem ser justificados\\u003cbr\\u003eno\",\"Política de Reembolsos (Viagens e Despesas).pdf\"],[10,\"chamado e aprovados antes da compra.\",\"Política de Reembolsos (Viagens e Despesas).pdf\"],[11,\"Política de Uso de E-mail e Segurança \\nda Informação\",\"Política de Uso de E-mail e Segurança da Informação.pdf\"],[12,\"da Informação \\n \\n1.​ É proibido encaminhar a endereços pessoais documentos\\u003cbr\\u003eclassificados como\",\"Política de Uso de E-mail e Segurança da Informação.pdf\"],[13,\"confidenciais.​\\n \\n2.​ Anexos externos devem ser enviados somente se\\u003cbr\\u003ecriptografados e com senha\",\"Política de Uso de E-mail e Segurança da Informação.pdf\"],[14,\"compartilhada por canal separado.​\",\"Política de Uso de E-mail e Segurança da Informação.pdf\"],[15,\"3.​ Phishing: verifique remetente e domínios suspeitos. Reporte mensagens\\u003cbr\\u003esuspeitas\",\"Política de Uso de E-mail e Segurança da Informação.pdf\"],[16,\"ao time de Segurança imediatamente.​\",\"Política de Uso de E-mail e Segurança da Informação.pdf\"],[17,\"4.​ Retenção: mensagens que contenham dados pessoais devem seguir as diretrizes\",\"Política de Uso de E-mail e Segurança da Informação.pdf\"],[18,\"de retenção definidas pela equipe de Privacidade.​\",\"Política de Uso de E-mail e Segurança da Informação.pdf\"],[19,\"5.​ Solicitações de liberação de anexos ou domínios devem ser abertas por\\u003cbr\\u003echamado,\",\"Política de Uso de E-mail e Segurança da Informação.pdf\"],[20,\"com justificativa do gestor.\",\"Política de Uso de E-mail e Segurança da Informação.pdf\"],[21,\"Políticas de Home Office\",\"Políticas de Home Office.pdf\"],[22,\"1.​ A empresa adota modelo híbrido: mínimo de 2 dias presenciais por semana,\\u003cbr\\u003esalvo\",\"Políticas de Home Office.pdf\"],[23,\"exceções aprovadas pelo gestor e RH.​\",\"Políticas de Home Office.pdf\"],[24,\"2.​ Equipamentos: a empresa fornece notebook e periféricos. O colaborador é\",\"Políticas de Home Office.pdf\"],[25,\"responsável por zelar pela conservação.​\",\"Políticas de Home Office.pdf\"],[26,\"3.​ Segurança: é obrigatório uso de VPN e bloqueio de tela. Documentos\\u003cbr\\u003econfidenciais\",\"Políticas de Home Office.pdf\"],[27,\"não devem ser impressos fora do escritório.​\",\"Políticas de Home Office.pdf\"],[28,\"4.​ Ergonomia: recomendamos cadeira adequada e suporte de monitor. O RH pode\",\"Políticas de Home Office.pdf\"],[29,\"avaliar solicitação de apoio ergonômico.​\",\"Políticas de Home Office.pdf\"],[30,\"5.​ Conectividade: há subsídio mensal de internet domiciliar para quem trabalha\\u003cbr\\u003eem\",\"Políticas de Home Office.pdf\"],[31,\"home office: até R$ 100\\u002fmês, mediante nota fiscal nominal.​\",\"Políticas de Home Office.pdf\"],[32,\"6.​ Solicitação de exceção (ex.: 4-5 dias remotos): deve ser formalizada via\\u003cbr\\u003echamado\",\"Políticas de Home Office.pdf\"],[33,\"ao RH com justificativa do gestor.\",\"Políticas de Home Office.pdf\"]],\"hovertemplate\":\"\\u003cb\\u003eSource:\\u003c\\u002fb\\u003e %{customdata[2]}\\u003cbr\\u003e\\u003cb\\u003eChunk Index:\\u003c\\u002fb\\u003e %{customdata[0]}\\u003cbr\\u003e\\u003cbr\\u003e\\u003cb\\u003eChunk Text:\\u003c\\u002fb\\u003e %{customdata[1]}\\u003cextra\\u003e\\u003c\\u002fextra\\u003e\",\"legendgroup\":\"Política de Uso de E-mail e Segurança da Informação.pdf\",\"marker\":{\"color\":\"#EF553B\",\"symbol\":\"circle\"},\"mode\":\"markers\",\"name\":\"Política de Uso de E-mail e Segurança da Informação.pdf\",\"scene\":\"scene\",\"showlegend\":true,\"x\":[-0.24229770152403948,-0.21662986755769162,-0.27277417889899475,-0.1149766225048351,-0.2720199145504641,-0.18635580387566267,-0.2837493069166983,-0.22771061801982412,-0.11230925647242268,0.041126937377534006],\"y\":[0.17013469259769778,0.10208968173343884,0.1515510351656604,-0.1552697340273678,0.154456670442398,-0.1298968890306191,0.10556574305820533,-0.07601352039889682,-0.025725366699240387,-0.2764124884072315],\"z\":[0.013305253121402794,-0.08883426592057445,-0.04722889422090196,0.008318090260872827,0.027840597586147837,0.06650876565045803,0.016608230173620335,-0.007520450446529158,0.013900772190640905,0.00822290494699997],\"type\":\"scatter3d\"},{\"customdata\":[[0,\"Política de Reembolsos (Viagens e \\nDespesas)\",\"Política de Reembolsos (Viagens e Despesas).pdf\"],[1,\"Despesas) \\n \\n1.​ Reembolso: requer nota fiscal e deve ser submetido em até 10\\u003cbr\\u003edias corridos após a\",\"Política de Reembolsos (Viagens e Despesas).pdf\"],[2,\"despesa.​\\n \\n2.​ Alimentação em viagem: limite de R$ 70\\u002fdia por pessoa. Bebidas\\u003cbr\\u003ealcoólicas não\",\"Política de Reembolsos (Viagens e Despesas).pdf\"],[3,\"são reembolsáveis.​\",\"Política de Reembolsos (Viagens e Despesas).pdf\"],[4,\"3.​ Transporte: táxi\\u002fapp são permitidos quando não houver alternativa viável.\",\"Política de Reembolsos (Viagens e Despesas).pdf\"],[5,\"Comprovantes obrigatórios.​\",\"Política de Reembolsos (Viagens e Despesas).pdf\"],[6,\"4.​ Internet para home office: reembolsável via subsídio mensal de até R$ 100,\",\"Política de Reembolsos (Viagens e Despesas).pdf\"],[7,\"conforme política de Home Office.​\",\"Política de Reembolsos (Viagens e Despesas).pdf\"],[8,\"5.​ Cursos e certificações: exigem aprovação prévia do gestor e orçamento do\\u003cbr\\u003etime.​\",\"Política de Reembolsos (Viagens e Despesas).pdf\"],[9,\"6.​ Custos excepcionais (ex.: franquia de bagagem extra): devem ser justificados\\u003cbr\\u003eno\",\"Política de Reembolsos (Viagens e Despesas).pdf\"],[10,\"chamado e aprovados antes da compra.\",\"Política de Reembolsos (Viagens e Despesas).pdf\"],[11,\"Política de Uso de E-mail e Segurança \\nda Informação\",\"Política de Uso de E-mail e Segurança da Informação.pdf\"],[12,\"da Informação \\n \\n1.​ É proibido encaminhar a endereços pessoais documentos\\u003cbr\\u003eclassificados como\",\"Política de Uso de E-mail e Segurança da Informação.pdf\"],[13,\"confidenciais.​\\n \\n2.​ Anexos externos devem ser enviados somente se\\u003cbr\\u003ecriptografados e com senha\",\"Política de Uso de E-mail e Segurança da Informação.pdf\"],[14,\"compartilhada por canal separado.​\",\"Política de Uso de E-mail e Segurança da Informação.pdf\"],[15,\"3.​ Phishing: verifique remetente e domínios suspeitos. Reporte mensagens\\u003cbr\\u003esuspeitas\",\"Política de Uso de E-mail e Segurança da Informação.pdf\"],[16,\"ao time de Segurança imediatamente.​\",\"Política de Uso de E-mail e Segurança da Informação.pdf\"],[17,\"4.​ Retenção: mensagens que contenham dados pessoais devem seguir as diretrizes\",\"Política de Uso de E-mail e Segurança da Informação.pdf\"],[18,\"de retenção definidas pela equipe de Privacidade.​\",\"Política de Uso de E-mail e Segurança da Informação.pdf\"],[19,\"5.​ Solicitações de liberação de anexos ou domínios devem ser abertas por\\u003cbr\\u003echamado,\",\"Política de Uso de E-mail e Segurança da Informação.pdf\"],[20,\"com justificativa do gestor.\",\"Política de Uso de E-mail e Segurança da Informação.pdf\"],[21,\"Políticas de Home Office\",\"Políticas de Home Office.pdf\"],[22,\"1.​ A empresa adota modelo híbrido: mínimo de 2 dias presenciais por semana,\\u003cbr\\u003esalvo\",\"Políticas de Home Office.pdf\"],[23,\"exceções aprovadas pelo gestor e RH.​\",\"Políticas de Home Office.pdf\"],[24,\"2.​ Equipamentos: a empresa fornece notebook e periféricos. O colaborador é\",\"Políticas de Home Office.pdf\"],[25,\"responsável por zelar pela conservação.​\",\"Políticas de Home Office.pdf\"],[26,\"3.​ Segurança: é obrigatório uso de VPN e bloqueio de tela. Documentos\\u003cbr\\u003econfidenciais\",\"Políticas de Home Office.pdf\"],[27,\"não devem ser impressos fora do escritório.​\",\"Políticas de Home Office.pdf\"],[28,\"4.​ Ergonomia: recomendamos cadeira adequada e suporte de monitor. O RH pode\",\"Políticas de Home Office.pdf\"],[29,\"avaliar solicitação de apoio ergonômico.​\",\"Políticas de Home Office.pdf\"],[30,\"5.​ Conectividade: há subsídio mensal de internet domiciliar para quem trabalha\\u003cbr\\u003eem\",\"Políticas de Home Office.pdf\"],[31,\"home office: até R$ 100\\u002fmês, mediante nota fiscal nominal.​\",\"Políticas de Home Office.pdf\"],[32,\"6.​ Solicitação de exceção (ex.: 4-5 dias remotos): deve ser formalizada via\\u003cbr\\u003echamado\",\"Políticas de Home Office.pdf\"],[33,\"ao RH com justificativa do gestor.\",\"Políticas de Home Office.pdf\"]],\"hovertemplate\":\"\\u003cb\\u003eSource:\\u003c\\u002fb\\u003e %{customdata[2]}\\u003cbr\\u003e\\u003cb\\u003eChunk Index:\\u003c\\u002fb\\u003e %{customdata[0]}\\u003cbr\\u003e\\u003cbr\\u003e\\u003cb\\u003eChunk Text:\\u003c\\u002fb\\u003e %{customdata[1]}\\u003cextra\\u003e\\u003c\\u002fextra\\u003e\",\"legendgroup\":\"Políticas de Home Office.pdf\",\"marker\":{\"color\":\"#00cc96\",\"symbol\":\"circle\"},\"mode\":\"markers\",\"name\":\"Políticas de Home Office.pdf\",\"scene\":\"scene\",\"showlegend\":true,\"x\":[0.08837097900002683,0.10800077511333687,0.08661403345318554,0.15993101904361873,-0.12393167464010027,-0.09645788165743738,-0.12040940494162074,0.0922931336052704,0.0691914294356832,0.21224136235018595,0.20882575905358397,0.12269030446488781,0.06143071695183078],\"y\":[0.1805523656092612,0.09375636910325896,-0.08396495647813071,0.1302484883383094,-0.2361742305106698,0.1758018361974291,-0.04209640531595398,0.00802297703450046,-0.13985788879170097,0.15649955162163343,0.05682325500923566,0.06476074784187678,-0.23951282536639798],\"z\":[0.15503386837938016,0.0814873894357399,0.020109666222147982,0.05773561442830163,0.057217539440164056,0.03198613638792323,-0.039113961131894706,0.21192658230544892,0.29816409868112204,0.10681033701574506,-0.011394086753449198,0.06982447029074976,0.07175912011059613],\"type\":\"scatter3d\"}],                        {\"template\":{\"data\":{\"histogram2dcontour\":[{\"type\":\"histogram2dcontour\",\"colorbar\":{\"outlinewidth\":0,\"ticks\":\"\"},\"colorscale\":[[0.0,\"#0d0887\"],[0.1111111111111111,\"#46039f\"],[0.2222222222222222,\"#7201a8\"],[0.3333333333333333,\"#9c179e\"],[0.4444444444444444,\"#bd3786\"],[0.5555555555555556,\"#d8576b\"],[0.6666666666666666,\"#ed7953\"],[0.7777777777777778,\"#fb9f3a\"],[0.8888888888888888,\"#fdca26\"],[1.0,\"#f0f921\"]]}],\"choropleth\":[{\"type\":\"choropleth\",\"colorbar\":{\"outlinewidth\":0,\"ticks\":\"\"}}],\"histogram2d\":[{\"type\":\"histogram2d\",\"colorbar\":{\"outlinewidth\":0,\"ticks\":\"\"},\"colorscale\":[[0.0,\"#0d0887\"],[0.1111111111111111,\"#46039f\"],[0.2222222222222222,\"#7201a8\"],[0.3333333333333333,\"#9c179e\"],[0.4444444444444444,\"#bd3786\"],[0.5555555555555556,\"#d8576b\"],[0.6666666666666666,\"#ed7953\"],[0.7777777777777778,\"#fb9f3a\"],[0.8888888888888888,\"#fdca26\"],[1.0,\"#f0f921\"]]}],\"heatmap\":[{\"type\":\"heatmap\",\"colorbar\":{\"outlinewidth\":0,\"ticks\":\"\"},\"colorscale\":[[0.0,\"#0d0887\"],[0.1111111111111111,\"#46039f\"],[0.2222222222222222,\"#7201a8\"],[0.3333333333333333,\"#9c179e\"],[0.4444444444444444,\"#bd3786\"],[0.5555555555555556,\"#d8576b\"],[0.6666666666666666,\"#ed7953\"],[0.7777777777777778,\"#fb9f3a\"],[0.8888888888888888,\"#fdca26\"],[1.0,\"#f0f921\"]]}],\"heatmapgl\":[{\"type\":\"heatmapgl\",\"colorbar\":{\"outlinewidth\":0,\"ticks\":\"\"},\"colorscale\":[[0.0,\"#0d0887\"],[0.1111111111111111,\"#46039f\"],[0.2222222222222222,\"#7201a8\"],[0.3333333333333333,\"#9c179e\"],[0.4444444444444444,\"#bd3786\"],[0.5555555555555556,\"#d8576b\"],[0.6666666666666666,\"#ed7953\"],[0.7777777777777778,\"#fb9f3a\"],[0.8888888888888888,\"#fdca26\"],[1.0,\"#f0f921\"]]}],\"contourcarpet\":[{\"type\":\"contourcarpet\",\"colorbar\":{\"outlinewidth\":0,\"ticks\":\"\"}}],\"contour\":[{\"type\":\"contour\",\"colorbar\":{\"outlinewidth\":0,\"ticks\":\"\"},\"colorscale\":[[0.0,\"#0d0887\"],[0.1111111111111111,\"#46039f\"],[0.2222222222222222,\"#7201a8\"],[0.3333333333333333,\"#9c179e\"],[0.4444444444444444,\"#bd3786\"],[0.5555555555555556,\"#d8576b\"],[0.6666666666666666,\"#ed7953\"],[0.7777777777777778,\"#fb9f3a\"],[0.8888888888888888,\"#fdca26\"],[1.0,\"#f0f921\"]]}],\"surface\":[{\"type\":\"surface\",\"colorbar\":{\"outlinewidth\":0,\"ticks\":\"\"},\"colorscale\":[[0.0,\"#0d0887\"],[0.1111111111111111,\"#46039f\"],[0.2222222222222222,\"#7201a8\"],[0.3333333333333333,\"#9c179e\"],[0.4444444444444444,\"#bd3786\"],[0.5555555555555556,\"#d8576b\"],[0.6666666666666666,\"#ed7953\"],[0.7777777777777778,\"#fb9f3a\"],[0.8888888888888888,\"#fdca26\"],[1.0,\"#f0f921\"]]}],\"mesh3d\":[{\"type\":\"mesh3d\",\"colorbar\":{\"outlinewidth\":0,\"ticks\":\"\"}}],\"scatter\":[{\"fillpattern\":{\"fillmode\":\"overlay\",\"size\":10,\"solidity\":0.2},\"type\":\"scatter\"}],\"parcoords\":[{\"type\":\"parcoords\",\"line\":{\"colorbar\":{\"outlinewidth\":0,\"ticks\":\"\"}}}],\"scatterpolargl\":[{\"type\":\"scatterpolargl\",\"marker\":{\"colorbar\":{\"outlinewidth\":0,\"ticks\":\"\"}}}],\"bar\":[{\"error_x\":{\"color\":\"#2a3f5f\"},\"error_y\":{\"color\":\"#2a3f5f\"},\"marker\":{\"line\":{\"color\":\"#E5ECF6\",\"width\":0.5},\"pattern\":{\"fillmode\":\"overlay\",\"size\":10,\"solidity\":0.2}},\"type\":\"bar\"}],\"scattergeo\":[{\"type\":\"scattergeo\",\"marker\":{\"colorbar\":{\"outlinewidth\":0,\"ticks\":\"\"}}}],\"scatterpolar\":[{\"type\":\"scatterpolar\",\"marker\":{\"colorbar\":{\"outlinewidth\":0,\"ticks\":\"\"}}}],\"histogram\":[{\"marker\":{\"pattern\":{\"fillmode\":\"overlay\",\"size\":10,\"solidity\":0.2}},\"type\":\"histogram\"}],\"scattergl\":[{\"type\":\"scattergl\",\"marker\":{\"colorbar\":{\"outlinewidth\":0,\"ticks\":\"\"}}}],\"scatter3d\":[{\"type\":\"scatter3d\",\"line\":{\"colorbar\":{\"outlinewidth\":0,\"ticks\":\"\"}},\"marker\":{\"colorbar\":{\"outlinewidth\":0,\"ticks\":\"\"}}}],\"scattermapbox\":[{\"type\":\"scattermapbox\",\"marker\":{\"colorbar\":{\"outlinewidth\":0,\"ticks\":\"\"}}}],\"scatterternary\":[{\"type\":\"scatterternary\",\"marker\":{\"colorbar\":{\"outlinewidth\":0,\"ticks\":\"\"}}}],\"scattercarpet\":[{\"type\":\"scattercarpet\",\"marker\":{\"colorbar\":{\"outlinewidth\":0,\"ticks\":\"\"}}}],\"carpet\":[{\"aaxis\":{\"endlinecolor\":\"#2a3f5f\",\"gridcolor\":\"white\",\"linecolor\":\"white\",\"minorgridcolor\":\"white\",\"startlinecolor\":\"#2a3f5f\"},\"baxis\":{\"endlinecolor\":\"#2a3f5f\",\"gridcolor\":\"white\",\"linecolor\":\"white\",\"minorgridcolor\":\"white\",\"startlinecolor\":\"#2a3f5f\"},\"type\":\"carpet\"}],\"table\":[{\"cells\":{\"fill\":{\"color\":\"#EBF0F8\"},\"line\":{\"color\":\"white\"}},\"header\":{\"fill\":{\"color\":\"#C8D4E3\"},\"line\":{\"color\":\"white\"}},\"type\":\"table\"}],\"barpolar\":[{\"marker\":{\"line\":{\"color\":\"#E5ECF6\",\"width\":0.5},\"pattern\":{\"fillmode\":\"overlay\",\"size\":10,\"solidity\":0.2}},\"type\":\"barpolar\"}],\"pie\":[{\"automargin\":true,\"type\":\"pie\"}]},\"layout\":{\"autotypenumbers\":\"strict\",\"colorway\":[\"#636efa\",\"#EF553B\",\"#00cc96\",\"#ab63fa\",\"#FFA15A\",\"#19d3f3\",\"#FF6692\",\"#B6E880\",\"#FF97FF\",\"#FECB52\"],\"font\":{\"color\":\"#2a3f5f\"},\"hovermode\":\"closest\",\"hoverlabel\":{\"align\":\"left\"},\"paper_bgcolor\":\"white\",\"plot_bgcolor\":\"#E5ECF6\",\"polar\":{\"bgcolor\":\"#E5ECF6\",\"angularaxis\":{\"gridcolor\":\"white\",\"linecolor\":\"white\",\"ticks\":\"\"},\"radialaxis\":{\"gridcolor\":\"white\",\"linecolor\":\"white\",\"ticks\":\"\"}},\"ternary\":{\"bgcolor\":\"#E5ECF6\",\"aaxis\":{\"gridcolor\":\"white\",\"linecolor\":\"white\",\"ticks\":\"\"},\"baxis\":{\"gridcolor\":\"white\",\"linecolor\":\"white\",\"ticks\":\"\"},\"caxis\":{\"gridcolor\":\"white\",\"linecolor\":\"white\",\"ticks\":\"\"}},\"coloraxis\":{\"colorbar\":{\"outlinewidth\":0,\"ticks\":\"\"}},\"colorscale\":{\"sequential\":[[0.0,\"#0d0887\"],[0.1111111111111111,\"#46039f\"],[0.2222222222222222,\"#7201a8\"],[0.3333333333333333,\"#9c179e\"],[0.4444444444444444,\"#bd3786\"],[0.5555555555555556,\"#d8576b\"],[0.6666666666666666,\"#ed7953\"],[0.7777777777777778,\"#fb9f3a\"],[0.8888888888888888,\"#fdca26\"],[1.0,\"#f0f921\"]],\"sequentialminus\":[[0.0,\"#0d0887\"],[0.1111111111111111,\"#46039f\"],[0.2222222222222222,\"#7201a8\"],[0.3333333333333333,\"#9c179e\"],[0.4444444444444444,\"#bd3786\"],[0.5555555555555556,\"#d8576b\"],[0.6666666666666666,\"#ed7953\"],[0.7777777777777778,\"#fb9f3a\"],[0.8888888888888888,\"#fdca26\"],[1.0,\"#f0f921\"]],\"diverging\":[[0,\"#8e0152\"],[0.1,\"#c51b7d\"],[0.2,\"#de77ae\"],[0.3,\"#f1b6da\"],[0.4,\"#fde0ef\"],[0.5,\"#f7f7f7\"],[0.6,\"#e6f5d0\"],[0.7,\"#b8e186\"],[0.8,\"#7fbc41\"],[0.9,\"#4d9221\"],[1,\"#276419\"]]},\"xaxis\":{\"gridcolor\":\"white\",\"linecolor\":\"white\",\"ticks\":\"\",\"title\":{\"standoff\":15},\"zerolinecolor\":\"white\",\"automargin\":true,\"zerolinewidth\":2},\"yaxis\":{\"gridcolor\":\"white\",\"linecolor\":\"white\",\"ticks\":\"\",\"title\":{\"standoff\":15},\"zerolinecolor\":\"white\",\"automargin\":true,\"zerolinewidth\":2},\"scene\":{\"xaxis\":{\"backgroundcolor\":\"#E5ECF6\",\"gridcolor\":\"white\",\"linecolor\":\"white\",\"showbackground\":true,\"ticks\":\"\",\"zerolinecolor\":\"white\",\"gridwidth\":2},\"yaxis\":{\"backgroundcolor\":\"#E5ECF6\",\"gridcolor\":\"white\",\"linecolor\":\"white\",\"showbackground\":true,\"ticks\":\"\",\"zerolinecolor\":\"white\",\"gridwidth\":2},\"zaxis\":{\"backgroundcolor\":\"#E5ECF6\",\"gridcolor\":\"white\",\"linecolor\":\"white\",\"showbackground\":true,\"ticks\":\"\",\"zerolinecolor\":\"white\",\"gridwidth\":2}},\"shapedefaults\":{\"line\":{\"color\":\"#2a3f5f\"}},\"annotationdefaults\":{\"arrowcolor\":\"#2a3f5f\",\"arrowhead\":0,\"arrowwidth\":1},\"geo\":{\"bgcolor\":\"white\",\"landcolor\":\"#E5ECF6\",\"subunitcolor\":\"white\",\"showland\":true,\"showlakes\":true,\"lakecolor\":\"white\"},\"title\":{\"x\":0.05},\"mapbox\":{\"style\":\"light\"}}},\"scene\":{\"domain\":{\"x\":[0.0,1.0],\"y\":[0.0,1.0]},\"xaxis\":{\"title\":{\"text\":\"Principal Component 1\"}},\"yaxis\":{\"title\":{\"text\":\"Principal Component 2\"}},\"zaxis\":{\"title\":{\"text\":\"Principal Component 3\"}}},\"legend\":{\"title\":{\"text\":\"Source Document\"},\"tracegroupgap\":0},\"title\":{\"text\":\"Embeddings of Document Chunks (Total Explained Variance: 26.54%)\"},\"hoverlabel\":{\"font\":{\"size\":10},\"bgcolor\":\"white\"}},                        {\"responsive\": true}                    ).then(function(){\n",
              "                            \n",
              "var gd = document.getElementById('47df4adf-751a-4da1-918b-232090f18b9c');\n",
              "var x = new MutationObserver(function (mutations, observer) {{\n",
              "        var display = window.getComputedStyle(gd).display;\n",
              "        if (!display || display === 'none') {{\n",
              "            console.log([gd, 'removed!']);\n",
              "            Plotly.purge(gd);\n",
              "            observer.disconnect();\n",
              "        }}\n",
              "}});\n",
              "\n",
              "// Listen for the removal of the full notebook cells\n",
              "var notebookContainer = gd.closest('#notebook-container');\n",
              "if (notebookContainer) {{\n",
              "    x.observe(notebookContainer, {childList: true});\n",
              "}}\n",
              "\n",
              "// Listen for the clearing of the current output cell\n",
              "var outputEl = gd.closest('.output');\n",
              "if (outputEl) {{\n",
              "    x.observe(outputEl, {childList: true});\n",
              "}}\n",
              "\n",
              "                        })                };                            </script>        </div>\n",
              "</body>\n",
              "</html>"
            ]
          },
          "metadata": {}
        }
      ]
    },
    {
      "cell_type": "markdown",
      "metadata": {
        "id": "483a67b8"
      },
      "source": [
        "# 5. Configurando o Retrieval Chain"
      ]
    },
    {
      "cell_type": "markdown",
      "metadata": {
        "id": "eb818f85"
      },
      "source": [
        "Agora que temos nossos documentos carregados, divididos em chunks, embaralhados (embeddings) e armazenados em um vetor store (`vectorstore`), podemos construir a **retrieval chain**.\n",
        "\n",
        "Esta chain é o que conecta a pergunta do usuário com os documentos relevantes e, finalmente, com o modelo de linguagem para gerar a resposta.\n",
        "\n",
        "Utilizaremos o `create_retrieval_chain` do LangChain, que combina um retriever (nosso `retriever`) com uma chain de documentos (`document_chain`) que já configuramos."
      ]
    },
    {
      "cell_type": "code",
      "metadata": {
        "id": "0c578674"
      },
      "source": [
        "from langchain.chains.retrieval import create_retrieval_chain\n",
        "\n",
        "# Crie a retrieval chain combinando o retriever e a document_chain\n",
        "retrieval_chain = create_retrieval_chain(retriever, document_chain)"
      ],
      "execution_count": 91,
      "outputs": []
    },
    {
      "cell_type": "markdown",
      "metadata": {
        "id": "fed587aa"
      },
      "source": [
        "A `retrieval_chain` agora pode receber uma pergunta e fará o seguinte internamente:\n",
        "\n",
        "1.  Usa o `retriever` para buscar os documentos mais relevantes para a pergunta no `vectorstore`.\n",
        "2.  Passa a pergunta original e os documentos recuperados para a `document_chain`.\n",
        "3.  A `document_chain` usa o `llm_triagem` e o `prompt_rag` para gerar uma resposta baseada no contexto fornecido pelos documentos.\n",
        "\n",
        "Vamos testar a chain!"
      ]
    },
    {
      "cell_type": "code",
      "metadata": {
        "colab": {
          "base_uri": "https://localhost:8080/"
        },
        "id": "e764bfe8",
        "outputId": "e89cebb6-a331-4c94-b09f-ca6444a54adc"
      },
      "source": [
        "# Ask a question using the retrieval chain\n",
        "question = \"Posso reembolsar a internet do meu home office?\"\n",
        "response = retrieval_chain.invoke({\"input\": question})\n",
        "\n",
        "# Print the response\n",
        "print(\"Question:\", question)\n",
        "print(\"Answer:\", response[\"answer\"])\n",
        "\n",
        "# You can also inspect the retrieved documents\n",
        "# print(\"\\nRetrieved documents:\")\n",
        "# for doc in response[\"context\"]:\n",
        "#     print(doc)"
      ],
      "execution_count": 93,
      "outputs": [
        {
          "output_type": "stream",
          "name": "stdout",
          "text": [
            "Question: Posso reembolsar a internet do meu home office?\n",
            "Answer: Sim, a internet para home office é reembolsável via subsídio, no valor de até R$ 100/mês, mediante nota fiscal nominal.\n"
          ]
        }
      ]
    },
    {
      "cell_type": "markdown",
      "metadata": {
        "id": "28355a78"
      },
      "source": [
        "# Task\n",
        "Integrate the `triagem` function and the `retrieval_chain` to create a system that first triages a user's message and then, if appropriate, uses the retrieval chain to answer the question."
      ]
    },
    {
      "cell_type": "markdown",
      "metadata": {
        "id": "f43748d0"
      },
      "source": [
        "## Review existing components\n",
        "\n",
        "### Subtask:\n",
        "Briefly review the `triagem` function and the `retrieval_chain` to understand their inputs and outputs.\n"
      ]
    },
    {
      "cell_type": "markdown",
      "metadata": {
        "id": "a87ab916"
      },
      "source": [
        "**Reasoning**:\n",
        "I need to examine the `triagem` function and the `retrieval_chain` to understand their inputs and outputs. I will print the function definitions and a sample output for each to understand their structure.\n",
        "\n"
      ]
    },
    {
      "cell_type": "code",
      "metadata": {
        "colab": {
          "base_uri": "https://localhost:8080/"
        },
        "id": "56dafb50",
        "outputId": "6106e289-30d6-407c-d21d-c9ce0938aa2a"
      },
      "source": [
        "import inspect\n",
        "\n",
        "# Examine the triagem function\n",
        "print(\"--- triagem function signature ---\")\n",
        "print(inspect.signature(triagem))\n",
        "print(\"\\n--- Sample triagem output ---\")\n",
        "sample_triagem_output = triagem(\"Tenho uma dúvida sobre um benefício.\")\n",
        "print(sample_triagem_output)\n",
        "\n",
        "print(\"\\n--- retrieval_chain input expectation ---\")\n",
        "# The retrieval_chain is created using create_retrieval_chain, which expects a dictionary with 'input'\n",
        "print(\"Expected input for retrieval_chain: {'input': 'user question'}\")\n",
        "\n",
        "print(\"\\n--- Sample retrieval_chain output ---\")\n",
        "sample_retrieval_output = retrieval_chain.invoke({\"input\": \"Posso reembolsar a internet do meu home office?\"})\n",
        "print(sample_retrieval_output)"
      ],
      "execution_count": 94,
      "outputs": [
        {
          "output_type": "stream",
          "name": "stdout",
          "text": [
            "--- triagem function signature ---\n",
            "(mensagem: str) -> Dict\n",
            "\n",
            "--- Sample triagem output ---\n",
            "{'decisao': 'PEDIR_INFO', 'urgencia': 'BAIXA', 'campos_faltantes': ['Qual benefício você se refere?']}\n",
            "\n",
            "--- retrieval_chain input expectation ---\n",
            "Expected input for retrieval_chain: {'input': 'user question'}\n",
            "\n",
            "--- Sample retrieval_chain output ---\n",
            "{'input': 'Posso reembolsar a internet do meu home office?', 'context': [Document(id='fc24183c-9ce9-46b1-932f-9d2a12a25e15', metadata={'producer': 'Skia/PDF m140 Google Docs Renderer', 'creator': '', 'creationdate': '', 'source': '/tmp/tmpajz7rgts.pdf', 'file_path': '/tmp/tmpajz7rgts.pdf', 'total_pages': 1, 'format': 'PDF 1.4', 'title': 'Imersão: Política de Reembolsos (Viagens e Despesas)', 'author': '', 'subject': '', 'keywords': '', 'moddate': '', 'trapped': '', 'modDate': '', 'creationDate': '', 'page': 0}, page_content='4.\\u200b Internet para home office: reembolsável via subsídio'), Document(id='e1c6bff3-c9c0-45cd-9779-b1b500cc5d3c', metadata={'producer': 'Skia/PDF m140 Google Docs Renderer', 'creator': '', 'creationdate': '', 'source': '/tmp/tmpjz9oxrgs.pdf', 'file_path': '/tmp/tmpjz9oxrgs.pdf', 'total_pages': 1, 'format': 'PDF 1.4', 'title': 'Políticas de Home Office', 'author': '', 'subject': '', 'keywords': '', 'moddate': '', 'trapped': '', 'modDate': '', 'creationDate': '', 'page': 0}, page_content='home office: até R$ 100/mês, mediante nota fiscal nominal.\\u200b'), Document(id='b2c4e0b0-8522-49ad-a60b-392984880d62', metadata={'producer': 'Skia/PDF m140 Google Docs Renderer', 'creator': '', 'creationdate': '', 'source': '/tmp/tmpjz9oxrgs.pdf', 'file_path': '/tmp/tmpjz9oxrgs.pdf', 'total_pages': 1, 'format': 'PDF 1.4', 'title': 'Políticas de Home Office', 'author': '', 'subject': '', 'keywords': '', 'moddate': '', 'trapped': '', 'modDate': '', 'creationDate': '', 'page': 0}, page_content='subsídio mensal de internet domiciliar para quem trabalha'), Document(id='d1d7b207-af15-4deb-b034-0fa173efed1a', metadata={'producer': 'Skia/PDF m140 Google Docs Renderer', 'creator': '', 'creationdate': '', 'source': '/tmp/tmpajz7rgts.pdf', 'file_path': '/tmp/tmpajz7rgts.pdf', 'total_pages': 1, 'format': 'PDF 1.4', 'title': 'Imersão: Política de Reembolsos (Viagens e Despesas)', 'author': '', 'subject': '', 'keywords': '', 'moddate': '', 'trapped': '', 'modDate': '', 'creationDate': '', 'page': 0}, page_content='conforme política de Home Office.\\u200b')], 'answer': 'Sim, a internet para home office é reembolsável via subsídio, no valor de até R$ 100/mês, mediante nota fiscal nominal.'}\n"
          ]
        }
      ]
    },
    {
      "cell_type": "markdown",
      "metadata": {
        "id": "b31990cc"
      },
      "source": [
        "## Create a combined function\n",
        "\n",
        "### Subtask:\n",
        "Develop a new function that takes a user message as input and integrates the triaging and RAG functionalities.\n"
      ]
    },
    {
      "cell_type": "markdown",
      "metadata": {
        "id": "4c8b479f"
      },
      "source": [
        "**Reasoning**:\n",
        "Define the new function `handle_user_message` that calls `triagem` and returns its result as a first step towards integrating the functionalities.\n",
        "\n"
      ]
    },
    {
      "cell_type": "code",
      "metadata": {
        "id": "24c5e0b5"
      },
      "source": [
        "def handle_user_message(user_message: str) -> Dict:\n",
        "    \"\"\"\n",
        "    Handles a user message by first triaging it.\n",
        "\n",
        "    Args:\n",
        "        user_message: The input message from the user.\n",
        "\n",
        "    Returns:\n",
        "        A dictionary containing the triaging result.\n",
        "    \"\"\"\n",
        "    triagem_result = triagem(user_message)\n",
        "    return triagem_result"
      ],
      "execution_count": 95,
      "outputs": []
    },
    {
      "cell_type": "markdown",
      "metadata": {
        "id": "8aded724"
      },
      "source": [
        "## Conditional rag execution\n",
        "\n",
        "### Subtask:\n",
        "Based on the `decisao` from the triaging step, conditionally execute the retrieval chain or return the triaging result.\n"
      ]
    },
    {
      "cell_type": "markdown",
      "metadata": {
        "id": "835dcfa6"
      },
      "source": [
        "**Reasoning**:\n",
        "Modify the `handle_user_message` function to conditionally execute the retrieval chain based on the triaging result.\n",
        "\n"
      ]
    },
    {
      "cell_type": "code",
      "metadata": {
        "id": "7dcc17de"
      },
      "source": [
        "def handle_user_message(user_message: str) -> Dict:\n",
        "    \"\"\"\n",
        "    Handles a user message by first triaging it and then, if appropriate,\n",
        "    using the retrieval chain to answer the question.\n",
        "\n",
        "    Args:\n",
        "        user_message: The input message from the user.\n",
        "\n",
        "    Returns:\n",
        "        A dictionary containing the triaging result and potentially the RAG answer.\n",
        "    \"\"\"\n",
        "    triagem_result = triagem(user_message)\n",
        "\n",
        "    if triagem_result['decisao'] == 'AUTO_RESOLVER':\n",
        "        # If the decision is AUTO_RESOLVER, invoke the retrieval chain\n",
        "        rag_response = retrieval_chain.invoke({\"input\": user_message})\n",
        "        # Return the triaging result and the RAG answer\n",
        "        return {'triagem': triagem_result, 'rag_answer': rag_response['answer']}\n",
        "    else:\n",
        "        # If the decision is PEDIR_INFO or ABRIR_CHAMADO, just return the triaging result\n",
        "        return {'triagem': triagem_result}\n"
      ],
      "execution_count": 96,
      "outputs": []
    },
    {
      "cell_type": "markdown",
      "metadata": {
        "id": "d2f8dc06"
      },
      "source": [
        "**Reasoning**:\n",
        "Test the updated `handle_user_message` function with different inputs to ensure the conditional logic works correctly.\n",
        "\n"
      ]
    },
    {
      "cell_type": "code",
      "metadata": {
        "colab": {
          "base_uri": "https://localhost:8080/"
        },
        "id": "0acfaeb8",
        "outputId": "ec98b25f-ff5a-48cc-d3b5-63ec6252b659"
      },
      "source": [
        "# Test with an AUTO_RESOLVER case\n",
        "print(\"--- Testing AUTO_RESOLVER ---\")\n",
        "response_auto = handle_user_message(\"Posso reembolsar a internet do meu home office?\")\n",
        "print(response_auto)\n",
        "\n",
        "print(\"\\n--- Testing PEDIR_INFO ---\")\n",
        "# Test with a PEDIR_INFO case\n",
        "response_info = handle_user_message(\"Tenho uma dúvida sobre um benefício.\")\n",
        "print(response_info)\n",
        "\n",
        "print(\"\\n--- Testing ABRIR_CHAMADO ---\")\n",
        "# Test with an ABRIR_CHAMADO case\n",
        "response_chamado = handle_user_message(\"Quero mais 5 dias de trabalho remoto. Como faço?\")\n",
        "print(response_chamado)"
      ],
      "execution_count": 97,
      "outputs": [
        {
          "output_type": "stream",
          "name": "stdout",
          "text": [
            "--- Testing AUTO_RESOLVER ---\n",
            "{'triagem': {'decisao': 'AUTO_RESOLVER', 'urgencia': 'BAIXA', 'campos_faltantes': []}, 'rag_answer': 'Sim, a internet para home office é reembolsável via subsídio, até R$ 100/mês, mediante nota fiscal nominal.'}\n",
            "\n",
            "--- Testing PEDIR_INFO ---\n",
            "{'triagem': {'decisao': 'PEDIR_INFO', 'urgencia': 'BAIXA', 'campos_faltantes': ['Qual benefício você se refere?']}}\n",
            "\n",
            "--- Testing ABRIR_CHAMADO ---\n",
            "{'triagem': {'decisao': 'ABRIR_CHAMADO', 'urgencia': 'MEDIA', 'campos_faltantes': []}}\n"
          ]
        }
      ]
    },
    {
      "cell_type": "markdown",
      "metadata": {
        "id": "cb0ff956"
      },
      "source": [
        "## Format the final output\n",
        "\n",
        "### Subtask:\n",
        "Structure the output of the combined function to clearly indicate the triaging decision and, if applicable, the answer from the RAG system.\n"
      ]
    },
    {
      "cell_type": "markdown",
      "metadata": {
        "id": "cc87f2ac"
      },
      "source": [
        "**Reasoning**:\n",
        "Update the `handle_user_message` function to ensure a consistent output structure for all triaging decisions and test the function with examples.\n",
        "\n"
      ]
    },
    {
      "cell_type": "code",
      "metadata": {
        "colab": {
          "base_uri": "https://localhost:8080/"
        },
        "id": "36e1b308",
        "outputId": "b0f4a8d2-df86-4dd2-d290-f31056fcc998"
      },
      "source": [
        "def handle_user_message(user_message: str) -> Dict:\n",
        "    \"\"\"\n",
        "    Handles a user message by first triaging it and then, if appropriate,\n",
        "    using the retrieval chain to answer the question.\n",
        "\n",
        "    Args:\n",
        "        user_message: The input message from the user.\n",
        "\n",
        "    Returns:\n",
        "        A dictionary containing the triaging result and potentially the RAG answer.\n",
        "    \"\"\"\n",
        "    triagem_result = triagem(user_message)\n",
        "\n",
        "    output = {'triagem': triagem_result} # Always include the triagem result\n",
        "\n",
        "    if triagem_result['decisao'] == 'AUTO_RESOLVER':\n",
        "        # If the decision is AUTO_RESOLVER, invoke the retrieval chain\n",
        "        rag_response = retrieval_chain.invoke({\"input\": user_message})\n",
        "        # Include the RAG answer under the 'rag_answer' key\n",
        "        output['rag_answer'] = rag_response['answer']\n",
        "    # For 'PEDIR_INFO' and 'ABRIR_CHAMADO', the output already contains only the triaging info\n",
        "\n",
        "    return output\n",
        "\n",
        "# Test the updated function with examples covering all three triaging decisions\n",
        "print(\"--- Testing AUTO_RESOLVER ---\")\n",
        "response_auto = handle_user_message(\"Posso reembolsar a internet do meu home office?\")\n",
        "print(response_auto)\n",
        "\n",
        "print(\"\\n--- Testing PEDIR_INFO ---\")\n",
        "response_info = handle_user_message(\"Tenho uma dúvida sobre um benefício.\")\n",
        "print(response_info)\n",
        "\n",
        "print(\"\\n--- Testing ABRIR_CHAMADO ---\")\n",
        "response_chamado = handle_user_message(\"Quero mais 5 dias de trabalho remoto. Como faço?\")\n",
        "print(response_chamado)"
      ],
      "execution_count": 98,
      "outputs": [
        {
          "output_type": "stream",
          "name": "stdout",
          "text": [
            "--- Testing AUTO_RESOLVER ---\n",
            "{'triagem': {'decisao': 'AUTO_RESOLVER', 'urgencia': 'BAIXA', 'campos_faltantes': []}, 'rag_answer': 'Sim, a internet para home office é reembolsável via subsídio, até R$ 100/mês, mediante nota fiscal nominal.'}\n",
            "\n",
            "--- Testing PEDIR_INFO ---\n",
            "{'triagem': {'decisao': 'PEDIR_INFO', 'urgencia': 'BAIXA', 'campos_faltantes': ['Qual benefício você se refere?']}}\n",
            "\n",
            "--- Testing ABRIR_CHAMADO ---\n",
            "{'triagem': {'decisao': 'ABRIR_CHAMADO', 'urgencia': 'MEDIA', 'campos_faltantes': []}}\n"
          ]
        }
      ]
    },
    {
      "cell_type": "markdown",
      "metadata": {
        "id": "25cc4a08"
      },
      "source": [
        "## Test the combined system\n",
        "\n",
        "### Subtask:\n",
        "Run test cases with different types of questions to ensure the combined logic works as expected.\n"
      ]
    },
    {
      "cell_type": "markdown",
      "metadata": {
        "id": "02a51438"
      },
      "source": [
        "**Reasoning**:\n",
        "Define test questions and iterate through them, calling the handle_user_message function and printing the results to verify the combined logic.\n",
        "\n"
      ]
    },
    {
      "cell_type": "code",
      "metadata": {
        "colab": {
          "base_uri": "https://localhost:8080/"
        },
        "id": "fdec1c3f",
        "outputId": "6505e068-0e39-47a8-a860-7d685cb29262"
      },
      "source": [
        "test_questions = [\n",
        "    \"Posso reembolsar a internet do meu home office?\", # AUTO_RESOLVER\n",
        "    \"Quero mais 5 dias de trabalho remoto. Como faço?\", # ABRIR_CHAMADO\n",
        "    \"Tenho uma dúvida sobre um benefício.\", # PEDIR_INFO\n",
        "    \"Posso reembolsar cursos ou treinamentos da Alura?\", # AUTO_RESOLVER (should get RAG answer if in documents)\n",
        "    \"Quantas capivaras tem no Rio Pinheiros?\" # Should be PEDIR_INFO as it's out of scope\n",
        "]\n",
        "\n",
        "for question in test_questions:\n",
        "    print(f\"--- Testing Question: '{question}' ---\")\n",
        "    result = handle_user_message(question)\n",
        "    print(result)\n",
        "    print(\"-\" * 30)\n",
        "\n",
        "    # Verification steps (basic checks)\n",
        "    assert 'triagem' in result, \"Output missing 'triagem' key\"\n",
        "    assert 'decisao' in result['triagem'], \"Triagem result missing 'decisao' key\"\n",
        "\n",
        "    if result['triagem']['decisao'] == 'AUTO_RESOLVER':\n",
        "        assert 'rag_answer' in result, \"AUTO_RESOLVER missing 'rag_answer'\"\n",
        "        # You could add more specific checks here, e.g., if the answer contains expected keywords\n",
        "    else:\n",
        "        assert 'rag_answer' not in result, f\"{result['triagem']['decisao']} should not have 'rag_answer'\"\n",
        "        if result['triagem']['decisao'] == 'PEDIR_INFO':\n",
        "            assert 'campos_faltantes' in result['triagem'], \"PEDIR_INFO missing 'campos_faltantes'\"\n",
        "        elif result['triagem']['decisao'] == 'ABRIR_CHAMADO':\n",
        "             # Check for specific urgency or other expected fields if needed\n",
        "             pass # No specific checks for ABRIR_CHAMADO needed for this subtask\n",
        "\n",
        "print(\"\\n✅ All test cases completed and basic assertions passed.\")"
      ],
      "execution_count": 99,
      "outputs": [
        {
          "output_type": "stream",
          "name": "stdout",
          "text": [
            "--- Testing Question: 'Posso reembolsar a internet do meu home office?' ---\n",
            "{'triagem': {'decisao': 'AUTO_RESOLVER', 'urgencia': 'BAIXA', 'campos_faltantes': []}, 'rag_answer': 'Sim, a internet para home office é reembolsável via subsídio, até R$ 100/mês, mediante nota fiscal nominal.'}\n",
            "------------------------------\n",
            "--- Testing Question: 'Quero mais 5 dias de trabalho remoto. Como faço?' ---\n",
            "{'triagem': {'decisao': 'ABRIR_CHAMADO', 'urgencia': 'MEDIA', 'campos_faltantes': []}}\n",
            "------------------------------\n",
            "--- Testing Question: 'Tenho uma dúvida sobre um benefício.' ---\n",
            "{'triagem': {'decisao': 'PEDIR_INFO', 'urgencia': 'BAIXA', 'campos_faltantes': ['qual benefício', 'qual a dúvida']}}\n",
            "------------------------------\n",
            "--- Testing Question: 'Posso reembolsar cursos ou treinamentos da Alura?' ---\n",
            "{'triagem': {'decisao': 'AUTO_RESOLVER', 'urgencia': 'BAIXA', 'campos_faltantes': []}, 'rag_answer': 'Não sei.'}\n",
            "------------------------------\n",
            "--- Testing Question: 'Quantas capivaras tem no Rio Pinheiros?' ---\n",
            "{'triagem': {'decisao': 'PEDIR_INFO', 'urgencia': 'BAIXA', 'campos_faltantes': ['Por favor, especifique como sua pergunta se relaciona com as políticas internas da empresa Carraro Desenvolvimento.']}}\n",
            "------------------------------\n",
            "\n",
            "✅ All test cases completed and basic assertions passed.\n"
          ]
        }
      ]
    },
    {
      "cell_type": "markdown",
      "metadata": {
        "id": "edbed182"
      },
      "source": [
        "## Summary:\n",
        "\n",
        "### Data Analysis Key Findings\n",
        "\n",
        "*   The `triagem` function takes a user message as input and returns a dictionary containing a `decisao` (decision) which can be 'AUTO\\_RESOLVER', 'PEDIR\\_INFO', or 'ABRIR\\_CHAMADO', along with other potential keys like `urgencia` and `campos_faltantes`.\n",
        "*   The `retrieval_chain` is designed to answer questions based on provided documents and expects a dictionary input with the key 'input' containing the user's query. It outputs a dictionary including the `answer`.\n",
        "*   A combined function `handle_user_message` was created to first call `triagem` with the user's message.\n",
        "*   Based on the `decisao` from the triaging step:\n",
        "    *   If the decision is 'AUTO\\_RESOLVER', the `retrieval_chain` is invoked with the user's message, and the output includes both the triaging result and the RAG answer under the key 'rag\\_answer'.\n",
        "    *   If the decision is 'PEDIR\\_INFO' or 'ABRIR\\_CHAMADO', the `retrieval_chain` is not invoked, and the output only contains the triaging result.\n",
        "*   The final output structure of `handle_user_message` is a dictionary that always contains the triaging result under the key 'triagem' and conditionally includes the RAG answer under the key 'rag\\_answer' for 'AUTO\\_RESOLVER' cases.\n",
        "*   Testing with various questions confirmed that the system correctly routes messages based on the triaging decision and provides a RAG answer only when appropriate.\n",
        "\n",
        "### Insights or Next Steps\n",
        "\n",
        "*   The current system effectively routes user queries based on a triaging step, preventing unnecessary RAG calls for questions requiring more information or ticket creation.\n",
        "*   Further refinement of the `triagem` function's logic and the RAG system's document set could improve the accuracy of the triaging decisions and the quality of the answers for 'AUTO\\_RESOLVER' cases.\n"
      ]
    }
  ]
}