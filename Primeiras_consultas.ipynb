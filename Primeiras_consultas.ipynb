{
  "nbformat": 4,
  "nbformat_minor": 0,
  "metadata": {
    "colab": {
      "provenance": [],
      "authorship_tag": "ABX9TyNudLq49wf/1eJw8uww5jbX"
    },
    "kernelspec": {
      "name": "python3",
      "display_name": "Python 3"
    },
    "language_info": {
      "name": "python"
    }
  },
  "cells": [
    {
      "cell_type": "markdown",
      "source": [
        "#Instalar requirements:"
      ],
      "metadata": {
        "id": "J9MhOZoW-tgh"
      }
    },
    {
      "cell_type": "code",
      "execution_count": 1,
      "metadata": {
        "colab": {
          "base_uri": "https://localhost:8080/"
        },
        "id": "25wBDmGp6rQ5",
        "outputId": "bdc38e33-4786-4edb-98aa-5a4e3055d201"
      },
      "outputs": [
        {
          "output_type": "stream",
          "name": "stdout",
          "text": [
            "Requirement already satisfied: llama-index in /usr/local/lib/python3.12/dist-packages (0.13.5)\n",
            "Requirement already satisfied: llama-index-cli<0.6,>=0.5.0 in /usr/local/lib/python3.12/dist-packages (from llama-index) (0.5.0)\n",
            "Requirement already satisfied: llama-index-core<0.14,>=0.13.5 in /usr/local/lib/python3.12/dist-packages (from llama-index) (0.13.5)\n",
            "Requirement already satisfied: llama-index-embeddings-openai<0.6,>=0.5.0 in /usr/local/lib/python3.12/dist-packages (from llama-index) (0.5.0)\n",
            "Requirement already satisfied: llama-index-indices-managed-llama-cloud>=0.4.0 in /usr/local/lib/python3.12/dist-packages (from llama-index) (0.9.3)\n",
            "Requirement already satisfied: llama-index-llms-openai<0.6,>=0.5.0 in /usr/local/lib/python3.12/dist-packages (from llama-index) (0.5.4)\n",
            "Requirement already satisfied: llama-index-readers-file<0.6,>=0.5.0 in /usr/local/lib/python3.12/dist-packages (from llama-index) (0.5.3)\n",
            "Requirement already satisfied: llama-index-readers-llama-parse>=0.4.0 in /usr/local/lib/python3.12/dist-packages (from llama-index) (0.5.0)\n",
            "Requirement already satisfied: nltk>3.8.1 in /usr/local/lib/python3.12/dist-packages (from llama-index) (3.9.1)\n",
            "Requirement already satisfied: aiohttp<4,>=3.8.6 in /usr/local/lib/python3.12/dist-packages (from llama-index-core<0.14,>=0.13.5->llama-index) (3.12.15)\n",
            "Requirement already satisfied: aiosqlite in /usr/local/lib/python3.12/dist-packages (from llama-index-core<0.14,>=0.13.5->llama-index) (0.21.0)\n",
            "Requirement already satisfied: banks<3,>=2.2.0 in /usr/local/lib/python3.12/dist-packages (from llama-index-core<0.14,>=0.13.5->llama-index) (2.2.0)\n",
            "Requirement already satisfied: dataclasses-json in /usr/local/lib/python3.12/dist-packages (from llama-index-core<0.14,>=0.13.5->llama-index) (0.6.7)\n",
            "Requirement already satisfied: deprecated>=1.2.9.3 in /usr/local/lib/python3.12/dist-packages (from llama-index-core<0.14,>=0.13.5->llama-index) (1.2.18)\n",
            "Requirement already satisfied: dirtyjson<2,>=1.0.8 in /usr/local/lib/python3.12/dist-packages (from llama-index-core<0.14,>=0.13.5->llama-index) (1.0.8)\n",
            "Requirement already satisfied: filetype<2,>=1.2.0 in /usr/local/lib/python3.12/dist-packages (from llama-index-core<0.14,>=0.13.5->llama-index) (1.2.0)\n",
            "Requirement already satisfied: fsspec>=2023.5.0 in /usr/local/lib/python3.12/dist-packages (from llama-index-core<0.14,>=0.13.5->llama-index) (2025.3.0)\n",
            "Requirement already satisfied: httpx in /usr/local/lib/python3.12/dist-packages (from llama-index-core<0.14,>=0.13.5->llama-index) (0.28.1)\n",
            "Requirement already satisfied: llama-index-workflows<2,>=1.0.1 in /usr/local/lib/python3.12/dist-packages (from llama-index-core<0.14,>=0.13.5->llama-index) (1.3.0)\n",
            "Requirement already satisfied: nest-asyncio<2,>=1.5.8 in /usr/local/lib/python3.12/dist-packages (from llama-index-core<0.14,>=0.13.5->llama-index) (1.6.0)\n",
            "Requirement already satisfied: networkx>=3.0 in /usr/local/lib/python3.12/dist-packages (from llama-index-core<0.14,>=0.13.5->llama-index) (3.5)\n",
            "Requirement already satisfied: numpy in /usr/local/lib/python3.12/dist-packages (from llama-index-core<0.14,>=0.13.5->llama-index) (2.0.2)\n",
            "Requirement already satisfied: pillow>=9.0.0 in /usr/local/lib/python3.12/dist-packages (from llama-index-core<0.14,>=0.13.5->llama-index) (11.3.0)\n",
            "Requirement already satisfied: platformdirs in /usr/local/lib/python3.12/dist-packages (from llama-index-core<0.14,>=0.13.5->llama-index) (4.4.0)\n",
            "Requirement already satisfied: pydantic>=2.8.0 in /usr/local/lib/python3.12/dist-packages (from llama-index-core<0.14,>=0.13.5->llama-index) (2.11.7)\n",
            "Requirement already satisfied: pyyaml>=6.0.1 in /usr/local/lib/python3.12/dist-packages (from llama-index-core<0.14,>=0.13.5->llama-index) (6.0.2)\n",
            "Requirement already satisfied: requests>=2.31.0 in /usr/local/lib/python3.12/dist-packages (from llama-index-core<0.14,>=0.13.5->llama-index) (2.32.4)\n",
            "Requirement already satisfied: setuptools>=80.9.0 in /usr/local/lib/python3.12/dist-packages (from llama-index-core<0.14,>=0.13.5->llama-index) (80.9.0)\n",
            "Requirement already satisfied: sqlalchemy>=1.4.49 in /usr/local/lib/python3.12/dist-packages (from sqlalchemy[asyncio]>=1.4.49->llama-index-core<0.14,>=0.13.5->llama-index) (2.0.43)\n",
            "Requirement already satisfied: tenacity!=8.4.0,<10.0.0,>=8.2.0 in /usr/local/lib/python3.12/dist-packages (from llama-index-core<0.14,>=0.13.5->llama-index) (8.5.0)\n",
            "Requirement already satisfied: tiktoken>=0.7.0 in /usr/local/lib/python3.12/dist-packages (from llama-index-core<0.14,>=0.13.5->llama-index) (0.11.0)\n",
            "Requirement already satisfied: tqdm<5,>=4.66.1 in /usr/local/lib/python3.12/dist-packages (from llama-index-core<0.14,>=0.13.5->llama-index) (4.67.1)\n",
            "Requirement already satisfied: typing-extensions>=4.5.0 in /usr/local/lib/python3.12/dist-packages (from llama-index-core<0.14,>=0.13.5->llama-index) (4.15.0)\n",
            "Requirement already satisfied: typing-inspect>=0.8.0 in /usr/local/lib/python3.12/dist-packages (from llama-index-core<0.14,>=0.13.5->llama-index) (0.9.0)\n",
            "Requirement already satisfied: wrapt in /usr/local/lib/python3.12/dist-packages (from llama-index-core<0.14,>=0.13.5->llama-index) (1.17.3)\n",
            "Requirement already satisfied: openai>=1.1.0 in /usr/local/lib/python3.12/dist-packages (from llama-index-embeddings-openai<0.6,>=0.5.0->llama-index) (1.104.2)\n",
            "Requirement already satisfied: llama-cloud==0.1.35 in /usr/local/lib/python3.12/dist-packages (from llama-index-indices-managed-llama-cloud>=0.4.0->llama-index) (0.1.35)\n",
            "Requirement already satisfied: certifi>=2024.7.4 in /usr/local/lib/python3.12/dist-packages (from llama-cloud==0.1.35->llama-index-indices-managed-llama-cloud>=0.4.0->llama-index) (2025.8.3)\n",
            "Requirement already satisfied: beautifulsoup4<5,>=4.12.3 in /usr/local/lib/python3.12/dist-packages (from llama-index-readers-file<0.6,>=0.5.0->llama-index) (4.13.5)\n",
            "Requirement already satisfied: defusedxml>=0.7.1 in /usr/local/lib/python3.12/dist-packages (from llama-index-readers-file<0.6,>=0.5.0->llama-index) (0.7.1)\n",
            "Requirement already satisfied: pandas<2.3.0 in /usr/local/lib/python3.12/dist-packages (from llama-index-readers-file<0.6,>=0.5.0->llama-index) (2.2.2)\n",
            "Requirement already satisfied: pypdf<7,>=5.1.0 in /usr/local/lib/python3.12/dist-packages (from llama-index-readers-file<0.6,>=0.5.0->llama-index) (6.0.0)\n",
            "Requirement already satisfied: striprtf<0.0.27,>=0.0.26 in /usr/local/lib/python3.12/dist-packages (from llama-index-readers-file<0.6,>=0.5.0->llama-index) (0.0.26)\n",
            "Requirement already satisfied: llama-parse>=0.5.0 in /usr/local/lib/python3.12/dist-packages (from llama-index-readers-llama-parse>=0.4.0->llama-index) (0.6.54)\n",
            "Requirement already satisfied: click in /usr/local/lib/python3.12/dist-packages (from nltk>3.8.1->llama-index) (8.2.1)\n",
            "Requirement already satisfied: joblib in /usr/local/lib/python3.12/dist-packages (from nltk>3.8.1->llama-index) (1.5.2)\n",
            "Requirement already satisfied: regex>=2021.8.3 in /usr/local/lib/python3.12/dist-packages (from nltk>3.8.1->llama-index) (2024.11.6)\n",
            "Requirement already satisfied: aiohappyeyeballs>=2.5.0 in /usr/local/lib/python3.12/dist-packages (from aiohttp<4,>=3.8.6->llama-index-core<0.14,>=0.13.5->llama-index) (2.6.1)\n",
            "Requirement already satisfied: aiosignal>=1.4.0 in /usr/local/lib/python3.12/dist-packages (from aiohttp<4,>=3.8.6->llama-index-core<0.14,>=0.13.5->llama-index) (1.4.0)\n",
            "Requirement already satisfied: attrs>=17.3.0 in /usr/local/lib/python3.12/dist-packages (from aiohttp<4,>=3.8.6->llama-index-core<0.14,>=0.13.5->llama-index) (25.3.0)\n",
            "Requirement already satisfied: frozenlist>=1.1.1 in /usr/local/lib/python3.12/dist-packages (from aiohttp<4,>=3.8.6->llama-index-core<0.14,>=0.13.5->llama-index) (1.7.0)\n",
            "Requirement already satisfied: multidict<7.0,>=4.5 in /usr/local/lib/python3.12/dist-packages (from aiohttp<4,>=3.8.6->llama-index-core<0.14,>=0.13.5->llama-index) (6.6.4)\n",
            "Requirement already satisfied: propcache>=0.2.0 in /usr/local/lib/python3.12/dist-packages (from aiohttp<4,>=3.8.6->llama-index-core<0.14,>=0.13.5->llama-index) (0.3.2)\n",
            "Requirement already satisfied: yarl<2.0,>=1.17.0 in /usr/local/lib/python3.12/dist-packages (from aiohttp<4,>=3.8.6->llama-index-core<0.14,>=0.13.5->llama-index) (1.20.1)\n",
            "Requirement already satisfied: griffe in /usr/local/lib/python3.12/dist-packages (from banks<3,>=2.2.0->llama-index-core<0.14,>=0.13.5->llama-index) (1.13.0)\n",
            "Requirement already satisfied: jinja2 in /usr/local/lib/python3.12/dist-packages (from banks<3,>=2.2.0->llama-index-core<0.14,>=0.13.5->llama-index) (3.1.6)\n",
            "Requirement already satisfied: soupsieve>1.2 in /usr/local/lib/python3.12/dist-packages (from beautifulsoup4<5,>=4.12.3->llama-index-readers-file<0.6,>=0.5.0->llama-index) (2.8)\n",
            "Requirement already satisfied: anyio in /usr/local/lib/python3.12/dist-packages (from httpx->llama-index-core<0.14,>=0.13.5->llama-index) (4.10.0)\n",
            "Requirement already satisfied: httpcore==1.* in /usr/local/lib/python3.12/dist-packages (from httpx->llama-index-core<0.14,>=0.13.5->llama-index) (1.0.9)\n",
            "Requirement already satisfied: idna in /usr/local/lib/python3.12/dist-packages (from httpx->llama-index-core<0.14,>=0.13.5->llama-index) (3.10)\n",
            "Requirement already satisfied: h11>=0.16 in /usr/local/lib/python3.12/dist-packages (from httpcore==1.*->httpx->llama-index-core<0.14,>=0.13.5->llama-index) (0.16.0)\n",
            "Requirement already satisfied: llama-index-instrumentation>=0.1.0 in /usr/local/lib/python3.12/dist-packages (from llama-index-workflows<2,>=1.0.1->llama-index-core<0.14,>=0.13.5->llama-index) (0.4.0)\n",
            "Requirement already satisfied: llama-cloud-services>=0.6.54 in /usr/local/lib/python3.12/dist-packages (from llama-parse>=0.5.0->llama-index-readers-llama-parse>=0.4.0->llama-index) (0.6.54)\n",
            "Requirement already satisfied: distro<2,>=1.7.0 in /usr/local/lib/python3.12/dist-packages (from openai>=1.1.0->llama-index-embeddings-openai<0.6,>=0.5.0->llama-index) (1.9.0)\n",
            "Requirement already satisfied: jiter<1,>=0.4.0 in /usr/local/lib/python3.12/dist-packages (from openai>=1.1.0->llama-index-embeddings-openai<0.6,>=0.5.0->llama-index) (0.10.0)\n",
            "Requirement already satisfied: sniffio in /usr/local/lib/python3.12/dist-packages (from openai>=1.1.0->llama-index-embeddings-openai<0.6,>=0.5.0->llama-index) (1.3.1)\n",
            "Requirement already satisfied: python-dateutil>=2.8.2 in /usr/local/lib/python3.12/dist-packages (from pandas<2.3.0->llama-index-readers-file<0.6,>=0.5.0->llama-index) (2.9.0.post0)\n",
            "Requirement already satisfied: pytz>=2020.1 in /usr/local/lib/python3.12/dist-packages (from pandas<2.3.0->llama-index-readers-file<0.6,>=0.5.0->llama-index) (2025.2)\n",
            "Requirement already satisfied: tzdata>=2022.7 in /usr/local/lib/python3.12/dist-packages (from pandas<2.3.0->llama-index-readers-file<0.6,>=0.5.0->llama-index) (2025.2)\n",
            "Requirement already satisfied: annotated-types>=0.6.0 in /usr/local/lib/python3.12/dist-packages (from pydantic>=2.8.0->llama-index-core<0.14,>=0.13.5->llama-index) (0.7.0)\n",
            "Requirement already satisfied: pydantic-core==2.33.2 in /usr/local/lib/python3.12/dist-packages (from pydantic>=2.8.0->llama-index-core<0.14,>=0.13.5->llama-index) (2.33.2)\n",
            "Requirement already satisfied: typing-inspection>=0.4.0 in /usr/local/lib/python3.12/dist-packages (from pydantic>=2.8.0->llama-index-core<0.14,>=0.13.5->llama-index) (0.4.1)\n",
            "Requirement already satisfied: charset_normalizer<4,>=2 in /usr/local/lib/python3.12/dist-packages (from requests>=2.31.0->llama-index-core<0.14,>=0.13.5->llama-index) (3.4.3)\n",
            "Requirement already satisfied: urllib3<3,>=1.21.1 in /usr/local/lib/python3.12/dist-packages (from requests>=2.31.0->llama-index-core<0.14,>=0.13.5->llama-index) (2.5.0)\n",
            "Requirement already satisfied: greenlet>=1 in /usr/local/lib/python3.12/dist-packages (from sqlalchemy>=1.4.49->sqlalchemy[asyncio]>=1.4.49->llama-index-core<0.14,>=0.13.5->llama-index) (3.2.4)\n",
            "Requirement already satisfied: mypy-extensions>=0.3.0 in /usr/local/lib/python3.12/dist-packages (from typing-inspect>=0.8.0->llama-index-core<0.14,>=0.13.5->llama-index) (1.1.0)\n",
            "Requirement already satisfied: marshmallow<4.0.0,>=3.18.0 in /usr/local/lib/python3.12/dist-packages (from dataclasses-json->llama-index-core<0.14,>=0.13.5->llama-index) (3.26.1)\n",
            "Requirement already satisfied: python-dotenv<2,>=1.0.1 in /usr/local/lib/python3.12/dist-packages (from llama-cloud-services>=0.6.54->llama-parse>=0.5.0->llama-index-readers-llama-parse>=0.4.0->llama-index) (1.1.1)\n",
            "Requirement already satisfied: packaging>=17.0 in /usr/local/lib/python3.12/dist-packages (from marshmallow<4.0.0,>=3.18.0->dataclasses-json->llama-index-core<0.14,>=0.13.5->llama-index) (25.0)\n",
            "Requirement already satisfied: six>=1.5 in /usr/local/lib/python3.12/dist-packages (from python-dateutil>=2.8.2->pandas<2.3.0->llama-index-readers-file<0.6,>=0.5.0->llama-index) (1.17.0)\n",
            "Requirement already satisfied: colorama>=0.4 in /usr/local/lib/python3.12/dist-packages (from griffe->banks<3,>=2.2.0->llama-index-core<0.14,>=0.13.5->llama-index) (0.4.6)\n",
            "Requirement already satisfied: MarkupSafe>=2.0 in /usr/local/lib/python3.12/dist-packages (from jinja2->banks<3,>=2.2.0->llama-index-core<0.14,>=0.13.5->llama-index) (3.0.2)\n",
            "Requirement already satisfied: llama-index-llms-groq in /usr/local/lib/python3.12/dist-packages (0.4.0)\n",
            "Requirement already satisfied: llama-index-core<0.14,>=0.13.0 in /usr/local/lib/python3.12/dist-packages (from llama-index-llms-groq) (0.13.5)\n",
            "Requirement already satisfied: llama-index-llms-openai-like<0.6,>=0.5.0 in /usr/local/lib/python3.12/dist-packages (from llama-index-llms-groq) (0.5.0)\n",
            "Requirement already satisfied: aiohttp<4,>=3.8.6 in /usr/local/lib/python3.12/dist-packages (from llama-index-core<0.14,>=0.13.0->llama-index-llms-groq) (3.12.15)\n",
            "Requirement already satisfied: aiosqlite in /usr/local/lib/python3.12/dist-packages (from llama-index-core<0.14,>=0.13.0->llama-index-llms-groq) (0.21.0)\n",
            "Requirement already satisfied: banks<3,>=2.2.0 in /usr/local/lib/python3.12/dist-packages (from llama-index-core<0.14,>=0.13.0->llama-index-llms-groq) (2.2.0)\n",
            "Requirement already satisfied: dataclasses-json in /usr/local/lib/python3.12/dist-packages (from llama-index-core<0.14,>=0.13.0->llama-index-llms-groq) (0.6.7)\n",
            "Requirement already satisfied: deprecated>=1.2.9.3 in /usr/local/lib/python3.12/dist-packages (from llama-index-core<0.14,>=0.13.0->llama-index-llms-groq) (1.2.18)\n",
            "Requirement already satisfied: dirtyjson<2,>=1.0.8 in /usr/local/lib/python3.12/dist-packages (from llama-index-core<0.14,>=0.13.0->llama-index-llms-groq) (1.0.8)\n",
            "Requirement already satisfied: filetype<2,>=1.2.0 in /usr/local/lib/python3.12/dist-packages (from llama-index-core<0.14,>=0.13.0->llama-index-llms-groq) (1.2.0)\n",
            "Requirement already satisfied: fsspec>=2023.5.0 in /usr/local/lib/python3.12/dist-packages (from llama-index-core<0.14,>=0.13.0->llama-index-llms-groq) (2025.3.0)\n",
            "Requirement already satisfied: httpx in /usr/local/lib/python3.12/dist-packages (from llama-index-core<0.14,>=0.13.0->llama-index-llms-groq) (0.28.1)\n",
            "Requirement already satisfied: llama-index-workflows<2,>=1.0.1 in /usr/local/lib/python3.12/dist-packages (from llama-index-core<0.14,>=0.13.0->llama-index-llms-groq) (1.3.0)\n",
            "Requirement already satisfied: nest-asyncio<2,>=1.5.8 in /usr/local/lib/python3.12/dist-packages (from llama-index-core<0.14,>=0.13.0->llama-index-llms-groq) (1.6.0)\n",
            "Requirement already satisfied: networkx>=3.0 in /usr/local/lib/python3.12/dist-packages (from llama-index-core<0.14,>=0.13.0->llama-index-llms-groq) (3.5)\n",
            "Requirement already satisfied: nltk>3.8.1 in /usr/local/lib/python3.12/dist-packages (from llama-index-core<0.14,>=0.13.0->llama-index-llms-groq) (3.9.1)\n",
            "Requirement already satisfied: numpy in /usr/local/lib/python3.12/dist-packages (from llama-index-core<0.14,>=0.13.0->llama-index-llms-groq) (2.0.2)\n",
            "Requirement already satisfied: pillow>=9.0.0 in /usr/local/lib/python3.12/dist-packages (from llama-index-core<0.14,>=0.13.0->llama-index-llms-groq) (11.3.0)\n",
            "Requirement already satisfied: platformdirs in /usr/local/lib/python3.12/dist-packages (from llama-index-core<0.14,>=0.13.0->llama-index-llms-groq) (4.4.0)\n",
            "Requirement already satisfied: pydantic>=2.8.0 in /usr/local/lib/python3.12/dist-packages (from llama-index-core<0.14,>=0.13.0->llama-index-llms-groq) (2.11.7)\n",
            "Requirement already satisfied: pyyaml>=6.0.1 in /usr/local/lib/python3.12/dist-packages (from llama-index-core<0.14,>=0.13.0->llama-index-llms-groq) (6.0.2)\n",
            "Requirement already satisfied: requests>=2.31.0 in /usr/local/lib/python3.12/dist-packages (from llama-index-core<0.14,>=0.13.0->llama-index-llms-groq) (2.32.4)\n",
            "Requirement already satisfied: setuptools>=80.9.0 in /usr/local/lib/python3.12/dist-packages (from llama-index-core<0.14,>=0.13.0->llama-index-llms-groq) (80.9.0)\n",
            "Requirement already satisfied: sqlalchemy>=1.4.49 in /usr/local/lib/python3.12/dist-packages (from sqlalchemy[asyncio]>=1.4.49->llama-index-core<0.14,>=0.13.0->llama-index-llms-groq) (2.0.43)\n",
            "Requirement already satisfied: tenacity!=8.4.0,<10.0.0,>=8.2.0 in /usr/local/lib/python3.12/dist-packages (from llama-index-core<0.14,>=0.13.0->llama-index-llms-groq) (8.5.0)\n",
            "Requirement already satisfied: tiktoken>=0.7.0 in /usr/local/lib/python3.12/dist-packages (from llama-index-core<0.14,>=0.13.0->llama-index-llms-groq) (0.11.0)\n",
            "Requirement already satisfied: tqdm<5,>=4.66.1 in /usr/local/lib/python3.12/dist-packages (from llama-index-core<0.14,>=0.13.0->llama-index-llms-groq) (4.67.1)\n",
            "Requirement already satisfied: typing-extensions>=4.5.0 in /usr/local/lib/python3.12/dist-packages (from llama-index-core<0.14,>=0.13.0->llama-index-llms-groq) (4.15.0)\n",
            "Requirement already satisfied: typing-inspect>=0.8.0 in /usr/local/lib/python3.12/dist-packages (from llama-index-core<0.14,>=0.13.0->llama-index-llms-groq) (0.9.0)\n",
            "Requirement already satisfied: wrapt in /usr/local/lib/python3.12/dist-packages (from llama-index-core<0.14,>=0.13.0->llama-index-llms-groq) (1.17.3)\n",
            "Requirement already satisfied: llama-index-llms-openai<0.6,>=0.5.0 in /usr/local/lib/python3.12/dist-packages (from llama-index-llms-openai-like<0.6,>=0.5.0->llama-index-llms-groq) (0.5.4)\n",
            "Requirement already satisfied: transformers<5,>=4.37.0 in /usr/local/lib/python3.12/dist-packages (from llama-index-llms-openai-like<0.6,>=0.5.0->llama-index-llms-groq) (4.56.0)\n",
            "Requirement already satisfied: aiohappyeyeballs>=2.5.0 in /usr/local/lib/python3.12/dist-packages (from aiohttp<4,>=3.8.6->llama-index-core<0.14,>=0.13.0->llama-index-llms-groq) (2.6.1)\n",
            "Requirement already satisfied: aiosignal>=1.4.0 in /usr/local/lib/python3.12/dist-packages (from aiohttp<4,>=3.8.6->llama-index-core<0.14,>=0.13.0->llama-index-llms-groq) (1.4.0)\n",
            "Requirement already satisfied: attrs>=17.3.0 in /usr/local/lib/python3.12/dist-packages (from aiohttp<4,>=3.8.6->llama-index-core<0.14,>=0.13.0->llama-index-llms-groq) (25.3.0)\n",
            "Requirement already satisfied: frozenlist>=1.1.1 in /usr/local/lib/python3.12/dist-packages (from aiohttp<4,>=3.8.6->llama-index-core<0.14,>=0.13.0->llama-index-llms-groq) (1.7.0)\n",
            "Requirement already satisfied: multidict<7.0,>=4.5 in /usr/local/lib/python3.12/dist-packages (from aiohttp<4,>=3.8.6->llama-index-core<0.14,>=0.13.0->llama-index-llms-groq) (6.6.4)\n",
            "Requirement already satisfied: propcache>=0.2.0 in /usr/local/lib/python3.12/dist-packages (from aiohttp<4,>=3.8.6->llama-index-core<0.14,>=0.13.0->llama-index-llms-groq) (0.3.2)\n",
            "Requirement already satisfied: yarl<2.0,>=1.17.0 in /usr/local/lib/python3.12/dist-packages (from aiohttp<4,>=3.8.6->llama-index-core<0.14,>=0.13.0->llama-index-llms-groq) (1.20.1)\n",
            "Requirement already satisfied: griffe in /usr/local/lib/python3.12/dist-packages (from banks<3,>=2.2.0->llama-index-core<0.14,>=0.13.0->llama-index-llms-groq) (1.13.0)\n",
            "Requirement already satisfied: jinja2 in /usr/local/lib/python3.12/dist-packages (from banks<3,>=2.2.0->llama-index-core<0.14,>=0.13.0->llama-index-llms-groq) (3.1.6)\n",
            "Requirement already satisfied: openai<2,>=1.81.0 in /usr/local/lib/python3.12/dist-packages (from llama-index-llms-openai<0.6,>=0.5.0->llama-index-llms-openai-like<0.6,>=0.5.0->llama-index-llms-groq) (1.104.2)\n",
            "Requirement already satisfied: llama-index-instrumentation>=0.1.0 in /usr/local/lib/python3.12/dist-packages (from llama-index-workflows<2,>=1.0.1->llama-index-core<0.14,>=0.13.0->llama-index-llms-groq) (0.4.0)\n",
            "Requirement already satisfied: click in /usr/local/lib/python3.12/dist-packages (from nltk>3.8.1->llama-index-core<0.14,>=0.13.0->llama-index-llms-groq) (8.2.1)\n",
            "Requirement already satisfied: joblib in /usr/local/lib/python3.12/dist-packages (from nltk>3.8.1->llama-index-core<0.14,>=0.13.0->llama-index-llms-groq) (1.5.2)\n",
            "Requirement already satisfied: regex>=2021.8.3 in /usr/local/lib/python3.12/dist-packages (from nltk>3.8.1->llama-index-core<0.14,>=0.13.0->llama-index-llms-groq) (2024.11.6)\n",
            "Requirement already satisfied: annotated-types>=0.6.0 in /usr/local/lib/python3.12/dist-packages (from pydantic>=2.8.0->llama-index-core<0.14,>=0.13.0->llama-index-llms-groq) (0.7.0)\n",
            "Requirement already satisfied: pydantic-core==2.33.2 in /usr/local/lib/python3.12/dist-packages (from pydantic>=2.8.0->llama-index-core<0.14,>=0.13.0->llama-index-llms-groq) (2.33.2)\n",
            "Requirement already satisfied: typing-inspection>=0.4.0 in /usr/local/lib/python3.12/dist-packages (from pydantic>=2.8.0->llama-index-core<0.14,>=0.13.0->llama-index-llms-groq) (0.4.1)\n",
            "Requirement already satisfied: charset_normalizer<4,>=2 in /usr/local/lib/python3.12/dist-packages (from requests>=2.31.0->llama-index-core<0.14,>=0.13.0->llama-index-llms-groq) (3.4.3)\n",
            "Requirement already satisfied: idna<4,>=2.5 in /usr/local/lib/python3.12/dist-packages (from requests>=2.31.0->llama-index-core<0.14,>=0.13.0->llama-index-llms-groq) (3.10)\n",
            "Requirement already satisfied: urllib3<3,>=1.21.1 in /usr/local/lib/python3.12/dist-packages (from requests>=2.31.0->llama-index-core<0.14,>=0.13.0->llama-index-llms-groq) (2.5.0)\n",
            "Requirement already satisfied: certifi>=2017.4.17 in /usr/local/lib/python3.12/dist-packages (from requests>=2.31.0->llama-index-core<0.14,>=0.13.0->llama-index-llms-groq) (2025.8.3)\n",
            "Requirement already satisfied: greenlet>=1 in /usr/local/lib/python3.12/dist-packages (from sqlalchemy>=1.4.49->sqlalchemy[asyncio]>=1.4.49->llama-index-core<0.14,>=0.13.0->llama-index-llms-groq) (3.2.4)\n",
            "Requirement already satisfied: filelock in /usr/local/lib/python3.12/dist-packages (from transformers<5,>=4.37.0->llama-index-llms-openai-like<0.6,>=0.5.0->llama-index-llms-groq) (3.19.1)\n",
            "Requirement already satisfied: huggingface-hub<1.0,>=0.34.0 in /usr/local/lib/python3.12/dist-packages (from transformers<5,>=4.37.0->llama-index-llms-openai-like<0.6,>=0.5.0->llama-index-llms-groq) (0.34.4)\n",
            "Requirement already satisfied: packaging>=20.0 in /usr/local/lib/python3.12/dist-packages (from transformers<5,>=4.37.0->llama-index-llms-openai-like<0.6,>=0.5.0->llama-index-llms-groq) (25.0)\n",
            "Requirement already satisfied: tokenizers<=0.23.0,>=0.22.0 in /usr/local/lib/python3.12/dist-packages (from transformers<5,>=4.37.0->llama-index-llms-openai-like<0.6,>=0.5.0->llama-index-llms-groq) (0.22.0)\n",
            "Requirement already satisfied: safetensors>=0.4.3 in /usr/local/lib/python3.12/dist-packages (from transformers<5,>=4.37.0->llama-index-llms-openai-like<0.6,>=0.5.0->llama-index-llms-groq) (0.6.2)\n",
            "Requirement already satisfied: mypy-extensions>=0.3.0 in /usr/local/lib/python3.12/dist-packages (from typing-inspect>=0.8.0->llama-index-core<0.14,>=0.13.0->llama-index-llms-groq) (1.1.0)\n",
            "Requirement already satisfied: marshmallow<4.0.0,>=3.18.0 in /usr/local/lib/python3.12/dist-packages (from dataclasses-json->llama-index-core<0.14,>=0.13.0->llama-index-llms-groq) (3.26.1)\n",
            "Requirement already satisfied: anyio in /usr/local/lib/python3.12/dist-packages (from httpx->llama-index-core<0.14,>=0.13.0->llama-index-llms-groq) (4.10.0)\n",
            "Requirement already satisfied: httpcore==1.* in /usr/local/lib/python3.12/dist-packages (from httpx->llama-index-core<0.14,>=0.13.0->llama-index-llms-groq) (1.0.9)\n",
            "Requirement already satisfied: h11>=0.16 in /usr/local/lib/python3.12/dist-packages (from httpcore==1.*->httpx->llama-index-core<0.14,>=0.13.0->llama-index-llms-groq) (0.16.0)\n",
            "Requirement already satisfied: hf-xet<2.0.0,>=1.1.3 in /usr/local/lib/python3.12/dist-packages (from huggingface-hub<1.0,>=0.34.0->transformers<5,>=4.37.0->llama-index-llms-openai-like<0.6,>=0.5.0->llama-index-llms-groq) (1.1.9)\n",
            "Requirement already satisfied: distro<2,>=1.7.0 in /usr/local/lib/python3.12/dist-packages (from openai<2,>=1.81.0->llama-index-llms-openai<0.6,>=0.5.0->llama-index-llms-openai-like<0.6,>=0.5.0->llama-index-llms-groq) (1.9.0)\n",
            "Requirement already satisfied: jiter<1,>=0.4.0 in /usr/local/lib/python3.12/dist-packages (from openai<2,>=1.81.0->llama-index-llms-openai<0.6,>=0.5.0->llama-index-llms-openai-like<0.6,>=0.5.0->llama-index-llms-groq) (0.10.0)\n",
            "Requirement already satisfied: sniffio in /usr/local/lib/python3.12/dist-packages (from openai<2,>=1.81.0->llama-index-llms-openai<0.6,>=0.5.0->llama-index-llms-openai-like<0.6,>=0.5.0->llama-index-llms-groq) (1.3.1)\n",
            "Requirement already satisfied: colorama>=0.4 in /usr/local/lib/python3.12/dist-packages (from griffe->banks<3,>=2.2.0->llama-index-core<0.14,>=0.13.0->llama-index-llms-groq) (0.4.6)\n",
            "Requirement already satisfied: MarkupSafe>=2.0 in /usr/local/lib/python3.12/dist-packages (from jinja2->banks<3,>=2.2.0->llama-index-core<0.14,>=0.13.0->llama-index-llms-groq) (3.0.2)\n",
            "Collecting llama-index-experimental\n",
            "  Using cached llama_index_experimental-0.6.1-py3-none-any.whl.metadata (684 bytes)\n",
            "Requirement already satisfied: duckdb<2,>=1.0.0 in /usr/local/lib/python3.12/dist-packages (from llama-index-experimental) (1.3.2)\n",
            "Requirement already satisfied: llama-index-core<0.14,>=0.13.0 in /usr/local/lib/python3.12/dist-packages (from llama-index-experimental) (0.13.5)\n",
            "Collecting llama-index-finetuning<0.5,>=0.4 (from llama-index-experimental)\n",
            "  Using cached llama_index_finetuning-0.4.0-py3-none-any.whl.metadata (770 bytes)\n",
            "Requirement already satisfied: pandas<2.3.0 in /usr/local/lib/python3.12/dist-packages (from llama-index-experimental) (2.2.2)\n",
            "Requirement already satisfied: aiohttp<4,>=3.8.6 in /usr/local/lib/python3.12/dist-packages (from llama-index-core<0.14,>=0.13.0->llama-index-experimental) (3.12.15)\n",
            "Requirement already satisfied: aiosqlite in /usr/local/lib/python3.12/dist-packages (from llama-index-core<0.14,>=0.13.0->llama-index-experimental) (0.21.0)\n",
            "Requirement already satisfied: banks<3,>=2.2.0 in /usr/local/lib/python3.12/dist-packages (from llama-index-core<0.14,>=0.13.0->llama-index-experimental) (2.2.0)\n",
            "Requirement already satisfied: dataclasses-json in /usr/local/lib/python3.12/dist-packages (from llama-index-core<0.14,>=0.13.0->llama-index-experimental) (0.6.7)\n",
            "Requirement already satisfied: deprecated>=1.2.9.3 in /usr/local/lib/python3.12/dist-packages (from llama-index-core<0.14,>=0.13.0->llama-index-experimental) (1.2.18)\n",
            "Requirement already satisfied: dirtyjson<2,>=1.0.8 in /usr/local/lib/python3.12/dist-packages (from llama-index-core<0.14,>=0.13.0->llama-index-experimental) (1.0.8)\n",
            "Requirement already satisfied: filetype<2,>=1.2.0 in /usr/local/lib/python3.12/dist-packages (from llama-index-core<0.14,>=0.13.0->llama-index-experimental) (1.2.0)\n",
            "Requirement already satisfied: fsspec>=2023.5.0 in /usr/local/lib/python3.12/dist-packages (from llama-index-core<0.14,>=0.13.0->llama-index-experimental) (2025.3.0)\n",
            "Requirement already satisfied: httpx in /usr/local/lib/python3.12/dist-packages (from llama-index-core<0.14,>=0.13.0->llama-index-experimental) (0.28.1)\n",
            "Requirement already satisfied: llama-index-workflows<2,>=1.0.1 in /usr/local/lib/python3.12/dist-packages (from llama-index-core<0.14,>=0.13.0->llama-index-experimental) (1.3.0)\n",
            "Requirement already satisfied: nest-asyncio<2,>=1.5.8 in /usr/local/lib/python3.12/dist-packages (from llama-index-core<0.14,>=0.13.0->llama-index-experimental) (1.6.0)\n",
            "Requirement already satisfied: networkx>=3.0 in /usr/local/lib/python3.12/dist-packages (from llama-index-core<0.14,>=0.13.0->llama-index-experimental) (3.5)\n",
            "Requirement already satisfied: nltk>3.8.1 in /usr/local/lib/python3.12/dist-packages (from llama-index-core<0.14,>=0.13.0->llama-index-experimental) (3.9.1)\n",
            "Requirement already satisfied: numpy in /usr/local/lib/python3.12/dist-packages (from llama-index-core<0.14,>=0.13.0->llama-index-experimental) (2.0.2)\n",
            "Requirement already satisfied: pillow>=9.0.0 in /usr/local/lib/python3.12/dist-packages (from llama-index-core<0.14,>=0.13.0->llama-index-experimental) (11.3.0)\n",
            "Requirement already satisfied: platformdirs in /usr/local/lib/python3.12/dist-packages (from llama-index-core<0.14,>=0.13.0->llama-index-experimental) (4.4.0)\n",
            "Requirement already satisfied: pydantic>=2.8.0 in /usr/local/lib/python3.12/dist-packages (from llama-index-core<0.14,>=0.13.0->llama-index-experimental) (2.11.7)\n",
            "Requirement already satisfied: pyyaml>=6.0.1 in /usr/local/lib/python3.12/dist-packages (from llama-index-core<0.14,>=0.13.0->llama-index-experimental) (6.0.2)\n",
            "Requirement already satisfied: requests>=2.31.0 in /usr/local/lib/python3.12/dist-packages (from llama-index-core<0.14,>=0.13.0->llama-index-experimental) (2.32.4)\n",
            "Requirement already satisfied: setuptools>=80.9.0 in /usr/local/lib/python3.12/dist-packages (from llama-index-core<0.14,>=0.13.0->llama-index-experimental) (80.9.0)\n",
            "Requirement already satisfied: sqlalchemy>=1.4.49 in /usr/local/lib/python3.12/dist-packages (from sqlalchemy[asyncio]>=1.4.49->llama-index-core<0.14,>=0.13.0->llama-index-experimental) (2.0.43)\n",
            "Requirement already satisfied: tenacity!=8.4.0,<10.0.0,>=8.2.0 in /usr/local/lib/python3.12/dist-packages (from llama-index-core<0.14,>=0.13.0->llama-index-experimental) (8.5.0)\n",
            "Requirement already satisfied: tiktoken>=0.7.0 in /usr/local/lib/python3.12/dist-packages (from llama-index-core<0.14,>=0.13.0->llama-index-experimental) (0.11.0)\n",
            "Requirement already satisfied: tqdm<5,>=4.66.1 in /usr/local/lib/python3.12/dist-packages (from llama-index-core<0.14,>=0.13.0->llama-index-experimental) (4.67.1)\n",
            "Requirement already satisfied: typing-extensions>=4.5.0 in /usr/local/lib/python3.12/dist-packages (from llama-index-core<0.14,>=0.13.0->llama-index-experimental) (4.15.0)\n",
            "Requirement already satisfied: typing-inspect>=0.8.0 in /usr/local/lib/python3.12/dist-packages (from llama-index-core<0.14,>=0.13.0->llama-index-experimental) (0.9.0)\n",
            "Requirement already satisfied: wrapt in /usr/local/lib/python3.12/dist-packages (from llama-index-core<0.14,>=0.13.0->llama-index-experimental) (1.17.3)\n",
            "Collecting llama-index-embeddings-adapter<0.5,>=0.4.0 (from llama-index-finetuning<0.5,>=0.4->llama-index-experimental)\n",
            "  Using cached llama_index_embeddings_adapter-0.4.0-py3-none-any.whl.metadata (402 bytes)\n",
            "Collecting llama-index-llms-azure-openai<0.5,>=0.4.0 (from llama-index-finetuning<0.5,>=0.4->llama-index-experimental)\n",
            "  Using cached llama_index_llms_azure_openai-0.4.0-py3-none-any.whl.metadata (3.7 kB)\n",
            "Collecting llama-index-llms-mistralai<0.8,>=0.7.0 (from llama-index-finetuning<0.5,>=0.4->llama-index-experimental)\n",
            "  Using cached llama_index_llms_mistralai-0.7.0-py3-none-any.whl.metadata (3.2 kB)\n",
            "Collecting llama-index-postprocessor-cohere-rerank<0.6,>=0.5.0 (from llama-index-finetuning<0.5,>=0.4->llama-index-experimental)\n",
            "  Using cached llama_index_postprocessor_cohere_rerank-0.5.0-py3-none-any.whl.metadata (433 bytes)\n",
            "Collecting mistralai>=1.7.0 (from llama-index-finetuning<0.5,>=0.4->llama-index-experimental)\n",
            "  Downloading mistralai-1.9.10-py3-none-any.whl.metadata (37 kB)\n",
            "Requirement already satisfied: sentence-transformers>=2.3.0 in /usr/local/lib/python3.12/dist-packages (from llama-index-finetuning<0.5,>=0.4->llama-index-experimental) (5.1.0)\n",
            "Requirement already satisfied: python-dateutil>=2.8.2 in /usr/local/lib/python3.12/dist-packages (from pandas<2.3.0->llama-index-experimental) (2.9.0.post0)\n",
            "Requirement already satisfied: pytz>=2020.1 in /usr/local/lib/python3.12/dist-packages (from pandas<2.3.0->llama-index-experimental) (2025.2)\n",
            "Requirement already satisfied: tzdata>=2022.7 in /usr/local/lib/python3.12/dist-packages (from pandas<2.3.0->llama-index-experimental) (2025.2)\n",
            "Requirement already satisfied: aiohappyeyeballs>=2.5.0 in /usr/local/lib/python3.12/dist-packages (from aiohttp<4,>=3.8.6->llama-index-core<0.14,>=0.13.0->llama-index-experimental) (2.6.1)\n",
            "Requirement already satisfied: aiosignal>=1.4.0 in /usr/local/lib/python3.12/dist-packages (from aiohttp<4,>=3.8.6->llama-index-core<0.14,>=0.13.0->llama-index-experimental) (1.4.0)\n",
            "Requirement already satisfied: attrs>=17.3.0 in /usr/local/lib/python3.12/dist-packages (from aiohttp<4,>=3.8.6->llama-index-core<0.14,>=0.13.0->llama-index-experimental) (25.3.0)\n",
            "Requirement already satisfied: frozenlist>=1.1.1 in /usr/local/lib/python3.12/dist-packages (from aiohttp<4,>=3.8.6->llama-index-core<0.14,>=0.13.0->llama-index-experimental) (1.7.0)\n",
            "Requirement already satisfied: multidict<7.0,>=4.5 in /usr/local/lib/python3.12/dist-packages (from aiohttp<4,>=3.8.6->llama-index-core<0.14,>=0.13.0->llama-index-experimental) (6.6.4)\n",
            "Requirement already satisfied: propcache>=0.2.0 in /usr/local/lib/python3.12/dist-packages (from aiohttp<4,>=3.8.6->llama-index-core<0.14,>=0.13.0->llama-index-experimental) (0.3.2)\n",
            "Requirement already satisfied: yarl<2.0,>=1.17.0 in /usr/local/lib/python3.12/dist-packages (from aiohttp<4,>=3.8.6->llama-index-core<0.14,>=0.13.0->llama-index-experimental) (1.20.1)\n",
            "Requirement already satisfied: griffe in /usr/local/lib/python3.12/dist-packages (from banks<3,>=2.2.0->llama-index-core<0.14,>=0.13.0->llama-index-experimental) (1.13.0)\n",
            "Requirement already satisfied: jinja2 in /usr/local/lib/python3.12/dist-packages (from banks<3,>=2.2.0->llama-index-core<0.14,>=0.13.0->llama-index-experimental) (3.1.6)\n",
            "Requirement already satisfied: torch>=2.0.0 in /usr/local/lib/python3.12/dist-packages (from llama-index-embeddings-adapter<0.5,>=0.4.0->llama-index-finetuning<0.5,>=0.4->llama-index-experimental) (2.8.0+cu126)\n",
            "Collecting azure-identity<2,>=1.15.0 (from llama-index-llms-azure-openai<0.5,>=0.4.0->llama-index-finetuning<0.5,>=0.4->llama-index-experimental)\n",
            "  Downloading azure_identity-1.24.0-py3-none-any.whl.metadata (86 kB)\n",
            "\u001b[2K     \u001b[90m━━━━━━━━━━━━━━━━━━━━━━━━━━━━━━━━━━━━━━━━\u001b[0m \u001b[32m86.0/86.0 kB\u001b[0m \u001b[31m5.9 MB/s\u001b[0m eta \u001b[36m0:00:00\u001b[0m\n",
            "\u001b[?25hRequirement already satisfied: llama-index-llms-openai<0.6,>=0.5.0 in /usr/local/lib/python3.12/dist-packages (from llama-index-llms-azure-openai<0.5,>=0.4.0->llama-index-finetuning<0.5,>=0.4->llama-index-experimental) (0.5.4)\n",
            "Collecting cohere<6,>=5.1.1 (from llama-index-postprocessor-cohere-rerank<0.6,>=0.5.0->llama-index-finetuning<0.5,>=0.4->llama-index-experimental)\n",
            "  Downloading cohere-5.17.0-py3-none-any.whl.metadata (3.4 kB)\n",
            "Requirement already satisfied: llama-index-instrumentation>=0.1.0 in /usr/local/lib/python3.12/dist-packages (from llama-index-workflows<2,>=1.0.1->llama-index-core<0.14,>=0.13.0->llama-index-experimental) (0.4.0)\n",
            "Collecting eval-type-backport>=0.2.0 (from mistralai>=1.7.0->llama-index-finetuning<0.5,>=0.4->llama-index-experimental)\n",
            "  Downloading eval_type_backport-0.2.2-py3-none-any.whl.metadata (2.2 kB)\n",
            "Collecting invoke<3.0.0,>=2.2.0 (from mistralai>=1.7.0->llama-index-finetuning<0.5,>=0.4->llama-index-experimental)\n",
            "  Downloading invoke-2.2.0-py3-none-any.whl.metadata (3.3 kB)\n",
            "Requirement already satisfied: typing-inspection>=0.4.0 in /usr/local/lib/python3.12/dist-packages (from mistralai>=1.7.0->llama-index-finetuning<0.5,>=0.4->llama-index-experimental) (0.4.1)\n",
            "Requirement already satisfied: anyio in /usr/local/lib/python3.12/dist-packages (from httpx->llama-index-core<0.14,>=0.13.0->llama-index-experimental) (4.10.0)\n",
            "Requirement already satisfied: certifi in /usr/local/lib/python3.12/dist-packages (from httpx->llama-index-core<0.14,>=0.13.0->llama-index-experimental) (2025.8.3)\n",
            "Requirement already satisfied: httpcore==1.* in /usr/local/lib/python3.12/dist-packages (from httpx->llama-index-core<0.14,>=0.13.0->llama-index-experimental) (1.0.9)\n",
            "Requirement already satisfied: idna in /usr/local/lib/python3.12/dist-packages (from httpx->llama-index-core<0.14,>=0.13.0->llama-index-experimental) (3.10)\n",
            "Requirement already satisfied: h11>=0.16 in /usr/local/lib/python3.12/dist-packages (from httpcore==1.*->httpx->llama-index-core<0.14,>=0.13.0->llama-index-experimental) (0.16.0)\n",
            "Requirement already satisfied: click in /usr/local/lib/python3.12/dist-packages (from nltk>3.8.1->llama-index-core<0.14,>=0.13.0->llama-index-experimental) (8.2.1)\n",
            "Requirement already satisfied: joblib in /usr/local/lib/python3.12/dist-packages (from nltk>3.8.1->llama-index-core<0.14,>=0.13.0->llama-index-experimental) (1.5.2)\n",
            "Requirement already satisfied: regex>=2021.8.3 in /usr/local/lib/python3.12/dist-packages (from nltk>3.8.1->llama-index-core<0.14,>=0.13.0->llama-index-experimental) (2024.11.6)\n",
            "Requirement already satisfied: annotated-types>=0.6.0 in /usr/local/lib/python3.12/dist-packages (from pydantic>=2.8.0->llama-index-core<0.14,>=0.13.0->llama-index-experimental) (0.7.0)\n",
            "Requirement already satisfied: pydantic-core==2.33.2 in /usr/local/lib/python3.12/dist-packages (from pydantic>=2.8.0->llama-index-core<0.14,>=0.13.0->llama-index-experimental) (2.33.2)\n",
            "Requirement already satisfied: six>=1.5 in /usr/local/lib/python3.12/dist-packages (from python-dateutil>=2.8.2->pandas<2.3.0->llama-index-experimental) (1.17.0)\n",
            "Requirement already satisfied: charset_normalizer<4,>=2 in /usr/local/lib/python3.12/dist-packages (from requests>=2.31.0->llama-index-core<0.14,>=0.13.0->llama-index-experimental) (3.4.3)\n",
            "Requirement already satisfied: urllib3<3,>=1.21.1 in /usr/local/lib/python3.12/dist-packages (from requests>=2.31.0->llama-index-core<0.14,>=0.13.0->llama-index-experimental) (2.5.0)\n",
            "Requirement already satisfied: transformers<5.0.0,>=4.41.0 in /usr/local/lib/python3.12/dist-packages (from sentence-transformers>=2.3.0->llama-index-finetuning<0.5,>=0.4->llama-index-experimental) (4.56.0)\n",
            "Requirement already satisfied: scikit-learn in /usr/local/lib/python3.12/dist-packages (from sentence-transformers>=2.3.0->llama-index-finetuning<0.5,>=0.4->llama-index-experimental) (1.6.1)\n",
            "Requirement already satisfied: scipy in /usr/local/lib/python3.12/dist-packages (from sentence-transformers>=2.3.0->llama-index-finetuning<0.5,>=0.4->llama-index-experimental) (1.16.1)\n",
            "Requirement already satisfied: huggingface-hub>=0.20.0 in /usr/local/lib/python3.12/dist-packages (from sentence-transformers>=2.3.0->llama-index-finetuning<0.5,>=0.4->llama-index-experimental) (0.34.4)\n",
            "Requirement already satisfied: greenlet>=1 in /usr/local/lib/python3.12/dist-packages (from sqlalchemy>=1.4.49->sqlalchemy[asyncio]>=1.4.49->llama-index-core<0.14,>=0.13.0->llama-index-experimental) (3.2.4)\n",
            "Requirement already satisfied: mypy-extensions>=0.3.0 in /usr/local/lib/python3.12/dist-packages (from typing-inspect>=0.8.0->llama-index-core<0.14,>=0.13.0->llama-index-experimental) (1.1.0)\n",
            "Requirement already satisfied: marshmallow<4.0.0,>=3.18.0 in /usr/local/lib/python3.12/dist-packages (from dataclasses-json->llama-index-core<0.14,>=0.13.0->llama-index-experimental) (3.26.1)\n",
            "Collecting azure-core>=1.31.0 (from azure-identity<2,>=1.15.0->llama-index-llms-azure-openai<0.5,>=0.4.0->llama-index-finetuning<0.5,>=0.4->llama-index-experimental)\n",
            "  Downloading azure_core-1.35.0-py3-none-any.whl.metadata (44 kB)\n",
            "\u001b[2K     \u001b[90m━━━━━━━━━━━━━━━━━━━━━━━━━━━━━━━━━━━━━━━━\u001b[0m \u001b[32m44.4/44.4 kB\u001b[0m \u001b[31m3.4 MB/s\u001b[0m eta \u001b[36m0:00:00\u001b[0m\n",
            "\u001b[?25hRequirement already satisfied: cryptography>=2.5 in /usr/local/lib/python3.12/dist-packages (from azure-identity<2,>=1.15.0->llama-index-llms-azure-openai<0.5,>=0.4.0->llama-index-finetuning<0.5,>=0.4->llama-index-experimental) (43.0.3)\n",
            "Collecting msal>=1.30.0 (from azure-identity<2,>=1.15.0->llama-index-llms-azure-openai<0.5,>=0.4.0->llama-index-finetuning<0.5,>=0.4->llama-index-experimental)\n",
            "  Downloading msal-1.33.0-py3-none-any.whl.metadata (11 kB)\n",
            "Collecting msal-extensions>=1.2.0 (from azure-identity<2,>=1.15.0->llama-index-llms-azure-openai<0.5,>=0.4.0->llama-index-finetuning<0.5,>=0.4->llama-index-experimental)\n",
            "  Downloading msal_extensions-1.3.1-py3-none-any.whl.metadata (7.8 kB)\n",
            "Collecting fastavro<2.0.0,>=1.9.4 (from cohere<6,>=5.1.1->llama-index-postprocessor-cohere-rerank<0.6,>=0.5.0->llama-index-finetuning<0.5,>=0.4->llama-index-experimental)\n",
            "  Downloading fastavro-1.12.0-cp312-cp312-manylinux2014_x86_64.manylinux_2_17_x86_64.manylinux_2_28_x86_64.whl.metadata (5.7 kB)\n",
            "Collecting httpx-sse==0.4.0 (from cohere<6,>=5.1.1->llama-index-postprocessor-cohere-rerank<0.6,>=0.5.0->llama-index-finetuning<0.5,>=0.4->llama-index-experimental)\n",
            "  Downloading httpx_sse-0.4.0-py3-none-any.whl.metadata (9.0 kB)\n",
            "Requirement already satisfied: tokenizers<1,>=0.15 in /usr/local/lib/python3.12/dist-packages (from cohere<6,>=5.1.1->llama-index-postprocessor-cohere-rerank<0.6,>=0.5.0->llama-index-finetuning<0.5,>=0.4->llama-index-experimental) (0.22.0)\n",
            "Collecting types-requests<3.0.0,>=2.0.0 (from cohere<6,>=5.1.1->llama-index-postprocessor-cohere-rerank<0.6,>=0.5.0->llama-index-finetuning<0.5,>=0.4->llama-index-experimental)\n",
            "  Downloading types_requests-2.32.4.20250809-py3-none-any.whl.metadata (2.0 kB)\n",
            "Requirement already satisfied: filelock in /usr/local/lib/python3.12/dist-packages (from huggingface-hub>=0.20.0->sentence-transformers>=2.3.0->llama-index-finetuning<0.5,>=0.4->llama-index-experimental) (3.19.1)\n",
            "Requirement already satisfied: packaging>=20.9 in /usr/local/lib/python3.12/dist-packages (from huggingface-hub>=0.20.0->sentence-transformers>=2.3.0->llama-index-finetuning<0.5,>=0.4->llama-index-experimental) (25.0)\n",
            "Requirement already satisfied: hf-xet<2.0.0,>=1.1.3 in /usr/local/lib/python3.12/dist-packages (from huggingface-hub>=0.20.0->sentence-transformers>=2.3.0->llama-index-finetuning<0.5,>=0.4->llama-index-experimental) (1.1.9)\n",
            "Requirement already satisfied: openai<2,>=1.81.0 in /usr/local/lib/python3.12/dist-packages (from llama-index-llms-openai<0.6,>=0.5.0->llama-index-llms-azure-openai<0.5,>=0.4.0->llama-index-finetuning<0.5,>=0.4->llama-index-experimental) (1.104.2)\n",
            "Requirement already satisfied: sympy>=1.13.3 in /usr/local/lib/python3.12/dist-packages (from torch>=2.0.0->llama-index-embeddings-adapter<0.5,>=0.4.0->llama-index-finetuning<0.5,>=0.4->llama-index-experimental) (1.13.3)\n",
            "Requirement already satisfied: nvidia-cuda-nvrtc-cu12==12.6.77 in /usr/local/lib/python3.12/dist-packages (from torch>=2.0.0->llama-index-embeddings-adapter<0.5,>=0.4.0->llama-index-finetuning<0.5,>=0.4->llama-index-experimental) (12.6.77)\n",
            "Requirement already satisfied: nvidia-cuda-runtime-cu12==12.6.77 in /usr/local/lib/python3.12/dist-packages (from torch>=2.0.0->llama-index-embeddings-adapter<0.5,>=0.4.0->llama-index-finetuning<0.5,>=0.4->llama-index-experimental) (12.6.77)\n",
            "Requirement already satisfied: nvidia-cuda-cupti-cu12==12.6.80 in /usr/local/lib/python3.12/dist-packages (from torch>=2.0.0->llama-index-embeddings-adapter<0.5,>=0.4.0->llama-index-finetuning<0.5,>=0.4->llama-index-experimental) (12.6.80)\n",
            "Requirement already satisfied: nvidia-cudnn-cu12==9.10.2.21 in /usr/local/lib/python3.12/dist-packages (from torch>=2.0.0->llama-index-embeddings-adapter<0.5,>=0.4.0->llama-index-finetuning<0.5,>=0.4->llama-index-experimental) (9.10.2.21)\n",
            "Requirement already satisfied: nvidia-cublas-cu12==12.6.4.1 in /usr/local/lib/python3.12/dist-packages (from torch>=2.0.0->llama-index-embeddings-adapter<0.5,>=0.4.0->llama-index-finetuning<0.5,>=0.4->llama-index-experimental) (12.6.4.1)\n",
            "Requirement already satisfied: nvidia-cufft-cu12==11.3.0.4 in /usr/local/lib/python3.12/dist-packages (from torch>=2.0.0->llama-index-embeddings-adapter<0.5,>=0.4.0->llama-index-finetuning<0.5,>=0.4->llama-index-experimental) (11.3.0.4)\n",
            "Requirement already satisfied: nvidia-curand-cu12==10.3.7.77 in /usr/local/lib/python3.12/dist-packages (from torch>=2.0.0->llama-index-embeddings-adapter<0.5,>=0.4.0->llama-index-finetuning<0.5,>=0.4->llama-index-experimental) (10.3.7.77)\n",
            "Requirement already satisfied: nvidia-cusolver-cu12==11.7.1.2 in /usr/local/lib/python3.12/dist-packages (from torch>=2.0.0->llama-index-embeddings-adapter<0.5,>=0.4.0->llama-index-finetuning<0.5,>=0.4->llama-index-experimental) (11.7.1.2)\n",
            "Requirement already satisfied: nvidia-cusparse-cu12==12.5.4.2 in /usr/local/lib/python3.12/dist-packages (from torch>=2.0.0->llama-index-embeddings-adapter<0.5,>=0.4.0->llama-index-finetuning<0.5,>=0.4->llama-index-experimental) (12.5.4.2)\n",
            "Requirement already satisfied: nvidia-cusparselt-cu12==0.7.1 in /usr/local/lib/python3.12/dist-packages (from torch>=2.0.0->llama-index-embeddings-adapter<0.5,>=0.4.0->llama-index-finetuning<0.5,>=0.4->llama-index-experimental) (0.7.1)\n",
            "Requirement already satisfied: nvidia-nccl-cu12==2.27.3 in /usr/local/lib/python3.12/dist-packages (from torch>=2.0.0->llama-index-embeddings-adapter<0.5,>=0.4.0->llama-index-finetuning<0.5,>=0.4->llama-index-experimental) (2.27.3)\n",
            "Requirement already satisfied: nvidia-nvtx-cu12==12.6.77 in /usr/local/lib/python3.12/dist-packages (from torch>=2.0.0->llama-index-embeddings-adapter<0.5,>=0.4.0->llama-index-finetuning<0.5,>=0.4->llama-index-experimental) (12.6.77)\n",
            "Requirement already satisfied: nvidia-nvjitlink-cu12==12.6.85 in /usr/local/lib/python3.12/dist-packages (from torch>=2.0.0->llama-index-embeddings-adapter<0.5,>=0.4.0->llama-index-finetuning<0.5,>=0.4->llama-index-experimental) (12.6.85)\n",
            "Requirement already satisfied: nvidia-cufile-cu12==1.11.1.6 in /usr/local/lib/python3.12/dist-packages (from torch>=2.0.0->llama-index-embeddings-adapter<0.5,>=0.4.0->llama-index-finetuning<0.5,>=0.4->llama-index-experimental) (1.11.1.6)\n",
            "Requirement already satisfied: triton==3.4.0 in /usr/local/lib/python3.12/dist-packages (from torch>=2.0.0->llama-index-embeddings-adapter<0.5,>=0.4.0->llama-index-finetuning<0.5,>=0.4->llama-index-experimental) (3.4.0)\n",
            "Requirement already satisfied: safetensors>=0.4.3 in /usr/local/lib/python3.12/dist-packages (from transformers<5.0.0,>=4.41.0->sentence-transformers>=2.3.0->llama-index-finetuning<0.5,>=0.4->llama-index-experimental) (0.6.2)\n",
            "Requirement already satisfied: sniffio>=1.1 in /usr/local/lib/python3.12/dist-packages (from anyio->httpx->llama-index-core<0.14,>=0.13.0->llama-index-experimental) (1.3.1)\n",
            "Requirement already satisfied: colorama>=0.4 in /usr/local/lib/python3.12/dist-packages (from griffe->banks<3,>=2.2.0->llama-index-core<0.14,>=0.13.0->llama-index-experimental) (0.4.6)\n",
            "Requirement already satisfied: MarkupSafe>=2.0 in /usr/local/lib/python3.12/dist-packages (from jinja2->banks<3,>=2.2.0->llama-index-core<0.14,>=0.13.0->llama-index-experimental) (3.0.2)\n",
            "Requirement already satisfied: threadpoolctl>=3.1.0 in /usr/local/lib/python3.12/dist-packages (from scikit-learn->sentence-transformers>=2.3.0->llama-index-finetuning<0.5,>=0.4->llama-index-experimental) (3.6.0)\n",
            "Requirement already satisfied: cffi>=1.12 in /usr/local/lib/python3.12/dist-packages (from cryptography>=2.5->azure-identity<2,>=1.15.0->llama-index-llms-azure-openai<0.5,>=0.4.0->llama-index-finetuning<0.5,>=0.4->llama-index-experimental) (1.17.1)\n",
            "Requirement already satisfied: PyJWT<3,>=1.0.0 in /usr/local/lib/python3.12/dist-packages (from PyJWT[crypto]<3,>=1.0.0->msal>=1.30.0->azure-identity<2,>=1.15.0->llama-index-llms-azure-openai<0.5,>=0.4.0->llama-index-finetuning<0.5,>=0.4->llama-index-experimental) (2.10.1)\n",
            "Requirement already satisfied: distro<2,>=1.7.0 in /usr/local/lib/python3.12/dist-packages (from openai<2,>=1.81.0->llama-index-llms-openai<0.6,>=0.5.0->llama-index-llms-azure-openai<0.5,>=0.4.0->llama-index-finetuning<0.5,>=0.4->llama-index-experimental) (1.9.0)\n",
            "Requirement already satisfied: jiter<1,>=0.4.0 in /usr/local/lib/python3.12/dist-packages (from openai<2,>=1.81.0->llama-index-llms-openai<0.6,>=0.5.0->llama-index-llms-azure-openai<0.5,>=0.4.0->llama-index-finetuning<0.5,>=0.4->llama-index-experimental) (0.10.0)\n",
            "Requirement already satisfied: mpmath<1.4,>=1.1.0 in /usr/local/lib/python3.12/dist-packages (from sympy>=1.13.3->torch>=2.0.0->llama-index-embeddings-adapter<0.5,>=0.4.0->llama-index-finetuning<0.5,>=0.4->llama-index-experimental) (1.3.0)\n",
            "Requirement already satisfied: pycparser in /usr/local/lib/python3.12/dist-packages (from cffi>=1.12->cryptography>=2.5->azure-identity<2,>=1.15.0->llama-index-llms-azure-openai<0.5,>=0.4.0->llama-index-finetuning<0.5,>=0.4->llama-index-experimental) (2.22)\n",
            "Downloading llama_index_experimental-0.6.1-py3-none-any.whl (22 kB)\n",
            "Downloading llama_index_finetuning-0.4.0-py3-none-any.whl (32 kB)\n",
            "Downloading llama_index_embeddings_adapter-0.4.0-py3-none-any.whl (5.4 kB)\n",
            "Downloading llama_index_llms_azure_openai-0.4.0-py3-none-any.whl (7.3 kB)\n",
            "Downloading llama_index_llms_mistralai-0.7.0-py3-none-any.whl (8.6 kB)\n",
            "Downloading llama_index_postprocessor_cohere_rerank-0.5.0-py3-none-any.whl (3.7 kB)\n",
            "Downloading mistralai-1.9.10-py3-none-any.whl (440 kB)\n",
            "\u001b[2K   \u001b[90m━━━━━━━━━━━━━━━━━━━━━━━━━━━━━━━━━━━━━━━━\u001b[0m \u001b[32m440.5/440.5 kB\u001b[0m \u001b[31m22.9 MB/s\u001b[0m eta \u001b[36m0:00:00\u001b[0m\n",
            "\u001b[?25hDownloading azure_identity-1.24.0-py3-none-any.whl (187 kB)\n",
            "\u001b[2K   \u001b[90m━━━━━━━━━━━━━━━━━━━━━━━━━━━━━━━━━━━━━━━━\u001b[0m \u001b[32m187.9/187.9 kB\u001b[0m \u001b[31m15.6 MB/s\u001b[0m eta \u001b[36m0:00:00\u001b[0m\n",
            "\u001b[?25hDownloading cohere-5.17.0-py3-none-any.whl (295 kB)\n",
            "\u001b[2K   \u001b[90m━━━━━━━━━━━━━━━━━━━━━━━━━━━━━━━━━━━━━━━━\u001b[0m \u001b[32m295.3/295.3 kB\u001b[0m \u001b[31m21.9 MB/s\u001b[0m eta \u001b[36m0:00:00\u001b[0m\n",
            "\u001b[?25hDownloading httpx_sse-0.4.0-py3-none-any.whl (7.8 kB)\n",
            "Downloading eval_type_backport-0.2.2-py3-none-any.whl (5.8 kB)\n",
            "Downloading invoke-2.2.0-py3-none-any.whl (160 kB)\n",
            "\u001b[2K   \u001b[90m━━━━━━━━━━━━━━━━━━━━━━━━━━━━━━━━━━━━━━━━\u001b[0m \u001b[32m160.3/160.3 kB\u001b[0m \u001b[31m13.1 MB/s\u001b[0m eta \u001b[36m0:00:00\u001b[0m\n",
            "\u001b[?25hDownloading azure_core-1.35.0-py3-none-any.whl (210 kB)\n",
            "\u001b[2K   \u001b[90m━━━━━━━━━━━━━━━━━━━━━━━━━━━━━━━━━━━━━━━━\u001b[0m \u001b[32m210.7/210.7 kB\u001b[0m \u001b[31m15.6 MB/s\u001b[0m eta \u001b[36m0:00:00\u001b[0m\n",
            "\u001b[?25hDownloading fastavro-1.12.0-cp312-cp312-manylinux2014_x86_64.manylinux_2_17_x86_64.manylinux_2_28_x86_64.whl (3.5 MB)\n",
            "\u001b[2K   \u001b[90m━━━━━━━━━━━━━━━━━━━━━━━━━━━━━━━━━━━━━━━━\u001b[0m \u001b[32m3.5/3.5 MB\u001b[0m \u001b[31m76.8 MB/s\u001b[0m eta \u001b[36m0:00:00\u001b[0m\n",
            "\u001b[?25hDownloading msal-1.33.0-py3-none-any.whl (116 kB)\n",
            "\u001b[2K   \u001b[90m━━━━━━━━━━━━━━━━━━━━━━━━━━━━━━━━━━━━━━━━\u001b[0m \u001b[32m116.9/116.9 kB\u001b[0m \u001b[31m10.1 MB/s\u001b[0m eta \u001b[36m0:00:00\u001b[0m\n",
            "\u001b[?25hDownloading msal_extensions-1.3.1-py3-none-any.whl (20 kB)\n",
            "Downloading types_requests-2.32.4.20250809-py3-none-any.whl (20 kB)\n",
            "Installing collected packages: types-requests, invoke, httpx-sse, fastavro, eval-type-backport, azure-core, mistralai, msal, cohere, msal-extensions, llama-index-postprocessor-cohere-rerank, llama-index-llms-mistralai, llama-index-embeddings-adapter, azure-identity, llama-index-llms-azure-openai, llama-index-finetuning, llama-index-experimental\n",
            "  Attempting uninstall: httpx-sse\n",
            "    Found existing installation: httpx-sse 0.4.1\n",
            "    Uninstalling httpx-sse-0.4.1:\n",
            "      Successfully uninstalled httpx-sse-0.4.1\n",
            "Successfully installed azure-core-1.35.0 azure-identity-1.24.0 cohere-5.17.0 eval-type-backport-0.2.2 fastavro-1.12.0 httpx-sse-0.4.0 invoke-2.2.0 llama-index-embeddings-adapter-0.4.0 llama-index-experimental-0.6.1 llama-index-finetuning-0.4.0 llama-index-llms-azure-openai-0.4.0 llama-index-llms-mistralai-0.7.0 llama-index-postprocessor-cohere-rerank-0.5.0 mistralai-1.9.10 msal-1.33.0 msal-extensions-1.3.1 types-requests-2.32.4.20250809\n",
            "Requirement already satisfied: gradio in /usr/local/lib/python3.12/dist-packages (5.44.1)\n",
            "Requirement already satisfied: aiofiles<25.0,>=22.0 in /usr/local/lib/python3.12/dist-packages (from gradio) (24.1.0)\n",
            "Requirement already satisfied: anyio<5.0,>=3.0 in /usr/local/lib/python3.12/dist-packages (from gradio) (4.10.0)\n",
            "Requirement already satisfied: brotli>=1.1.0 in /usr/local/lib/python3.12/dist-packages (from gradio) (1.1.0)\n",
            "Requirement already satisfied: fastapi<1.0,>=0.115.2 in /usr/local/lib/python3.12/dist-packages (from gradio) (0.116.1)\n",
            "Requirement already satisfied: ffmpy in /usr/local/lib/python3.12/dist-packages (from gradio) (0.6.1)\n",
            "Requirement already satisfied: gradio-client==1.12.1 in /usr/local/lib/python3.12/dist-packages (from gradio) (1.12.1)\n",
            "Requirement already satisfied: groovy~=0.1 in /usr/local/lib/python3.12/dist-packages (from gradio) (0.1.2)\n",
            "Requirement already satisfied: httpx<1.0,>=0.24.1 in /usr/local/lib/python3.12/dist-packages (from gradio) (0.28.1)\n",
            "Requirement already satisfied: huggingface-hub<1.0,>=0.33.5 in /usr/local/lib/python3.12/dist-packages (from gradio) (0.34.4)\n",
            "Requirement already satisfied: jinja2<4.0 in /usr/local/lib/python3.12/dist-packages (from gradio) (3.1.6)\n",
            "Requirement already satisfied: markupsafe<4.0,>=2.0 in /usr/local/lib/python3.12/dist-packages (from gradio) (3.0.2)\n",
            "Requirement already satisfied: numpy<3.0,>=1.0 in /usr/local/lib/python3.12/dist-packages (from gradio) (2.0.2)\n",
            "Requirement already satisfied: orjson~=3.0 in /usr/local/lib/python3.12/dist-packages (from gradio) (3.11.3)\n",
            "Requirement already satisfied: packaging in /usr/local/lib/python3.12/dist-packages (from gradio) (25.0)\n",
            "Requirement already satisfied: pandas<3.0,>=1.0 in /usr/local/lib/python3.12/dist-packages (from gradio) (2.2.2)\n",
            "Requirement already satisfied: pillow<12.0,>=8.0 in /usr/local/lib/python3.12/dist-packages (from gradio) (11.3.0)\n",
            "Requirement already satisfied: pydantic<2.12,>=2.0 in /usr/local/lib/python3.12/dist-packages (from gradio) (2.11.7)\n",
            "Requirement already satisfied: pydub in /usr/local/lib/python3.12/dist-packages (from gradio) (0.25.1)\n",
            "Requirement already satisfied: python-multipart>=0.0.18 in /usr/local/lib/python3.12/dist-packages (from gradio) (0.0.20)\n",
            "Requirement already satisfied: pyyaml<7.0,>=5.0 in /usr/local/lib/python3.12/dist-packages (from gradio) (6.0.2)\n",
            "Requirement already satisfied: ruff>=0.9.3 in /usr/local/lib/python3.12/dist-packages (from gradio) (0.12.11)\n",
            "Requirement already satisfied: safehttpx<0.2.0,>=0.1.6 in /usr/local/lib/python3.12/dist-packages (from gradio) (0.1.6)\n",
            "Requirement already satisfied: semantic-version~=2.0 in /usr/local/lib/python3.12/dist-packages (from gradio) (2.10.0)\n",
            "Requirement already satisfied: starlette<1.0,>=0.40.0 in /usr/local/lib/python3.12/dist-packages (from gradio) (0.47.3)\n",
            "Requirement already satisfied: tomlkit<0.14.0,>=0.12.0 in /usr/local/lib/python3.12/dist-packages (from gradio) (0.13.3)\n",
            "Requirement already satisfied: typer<1.0,>=0.12 in /usr/local/lib/python3.12/dist-packages (from gradio) (0.17.3)\n",
            "Requirement already satisfied: typing-extensions~=4.0 in /usr/local/lib/python3.12/dist-packages (from gradio) (4.15.0)\n",
            "Requirement already satisfied: uvicorn>=0.14.0 in /usr/local/lib/python3.12/dist-packages (from gradio) (0.35.0)\n",
            "Requirement already satisfied: fsspec in /usr/local/lib/python3.12/dist-packages (from gradio-client==1.12.1->gradio) (2025.3.0)\n",
            "Requirement already satisfied: websockets<16.0,>=10.0 in /usr/local/lib/python3.12/dist-packages (from gradio-client==1.12.1->gradio) (15.0.1)\n",
            "Requirement already satisfied: idna>=2.8 in /usr/local/lib/python3.12/dist-packages (from anyio<5.0,>=3.0->gradio) (3.10)\n",
            "Requirement already satisfied: sniffio>=1.1 in /usr/local/lib/python3.12/dist-packages (from anyio<5.0,>=3.0->gradio) (1.3.1)\n",
            "Requirement already satisfied: certifi in /usr/local/lib/python3.12/dist-packages (from httpx<1.0,>=0.24.1->gradio) (2025.8.3)\n",
            "Requirement already satisfied: httpcore==1.* in /usr/local/lib/python3.12/dist-packages (from httpx<1.0,>=0.24.1->gradio) (1.0.9)\n",
            "Requirement already satisfied: h11>=0.16 in /usr/local/lib/python3.12/dist-packages (from httpcore==1.*->httpx<1.0,>=0.24.1->gradio) (0.16.0)\n",
            "Requirement already satisfied: filelock in /usr/local/lib/python3.12/dist-packages (from huggingface-hub<1.0,>=0.33.5->gradio) (3.19.1)\n",
            "Requirement already satisfied: requests in /usr/local/lib/python3.12/dist-packages (from huggingface-hub<1.0,>=0.33.5->gradio) (2.32.4)\n",
            "Requirement already satisfied: tqdm>=4.42.1 in /usr/local/lib/python3.12/dist-packages (from huggingface-hub<1.0,>=0.33.5->gradio) (4.67.1)\n",
            "Requirement already satisfied: hf-xet<2.0.0,>=1.1.3 in /usr/local/lib/python3.12/dist-packages (from huggingface-hub<1.0,>=0.33.5->gradio) (1.1.9)\n",
            "Requirement already satisfied: python-dateutil>=2.8.2 in /usr/local/lib/python3.12/dist-packages (from pandas<3.0,>=1.0->gradio) (2.9.0.post0)\n",
            "Requirement already satisfied: pytz>=2020.1 in /usr/local/lib/python3.12/dist-packages (from pandas<3.0,>=1.0->gradio) (2025.2)\n",
            "Requirement already satisfied: tzdata>=2022.7 in /usr/local/lib/python3.12/dist-packages (from pandas<3.0,>=1.0->gradio) (2025.2)\n",
            "Requirement already satisfied: annotated-types>=0.6.0 in /usr/local/lib/python3.12/dist-packages (from pydantic<2.12,>=2.0->gradio) (0.7.0)\n",
            "Requirement already satisfied: pydantic-core==2.33.2 in /usr/local/lib/python3.12/dist-packages (from pydantic<2.12,>=2.0->gradio) (2.33.2)\n",
            "Requirement already satisfied: typing-inspection>=0.4.0 in /usr/local/lib/python3.12/dist-packages (from pydantic<2.12,>=2.0->gradio) (0.4.1)\n",
            "Requirement already satisfied: click>=8.0.0 in /usr/local/lib/python3.12/dist-packages (from typer<1.0,>=0.12->gradio) (8.2.1)\n",
            "Requirement already satisfied: shellingham>=1.3.0 in /usr/local/lib/python3.12/dist-packages (from typer<1.0,>=0.12->gradio) (1.5.4)\n",
            "Requirement already satisfied: rich>=10.11.0 in /usr/local/lib/python3.12/dist-packages (from typer<1.0,>=0.12->gradio) (13.9.4)\n",
            "Requirement already satisfied: six>=1.5 in /usr/local/lib/python3.12/dist-packages (from python-dateutil>=2.8.2->pandas<3.0,>=1.0->gradio) (1.17.0)\n",
            "Requirement already satisfied: markdown-it-py>=2.2.0 in /usr/local/lib/python3.12/dist-packages (from rich>=10.11.0->typer<1.0,>=0.12->gradio) (4.0.0)\n",
            "Requirement already satisfied: pygments<3.0.0,>=2.13.0 in /usr/local/lib/python3.12/dist-packages (from rich>=10.11.0->typer<1.0,>=0.12->gradio) (2.19.2)\n",
            "Requirement already satisfied: charset_normalizer<4,>=2 in /usr/local/lib/python3.12/dist-packages (from requests->huggingface-hub<1.0,>=0.33.5->gradio) (3.4.3)\n",
            "Requirement already satisfied: urllib3<3,>=1.21.1 in /usr/local/lib/python3.12/dist-packages (from requests->huggingface-hub<1.0,>=0.33.5->gradio) (2.5.0)\n",
            "Requirement already satisfied: mdurl~=0.1 in /usr/local/lib/python3.12/dist-packages (from markdown-it-py>=2.2.0->rich>=10.11.0->typer<1.0,>=0.12->gradio) (0.1.2)\n",
            "Collecting fpdf\n",
            "  Downloading fpdf-1.7.2.tar.gz (39 kB)\n",
            "  Preparing metadata (setup.py) ... \u001b[?25l\u001b[?25hdone\n",
            "Building wheels for collected packages: fpdf\n",
            "  Building wheel for fpdf (setup.py) ... \u001b[?25l\u001b[?25hdone\n",
            "  Created wheel for fpdf: filename=fpdf-1.7.2-py2.py3-none-any.whl size=40758 sha256=cfb9f19ef118c5d9b84565370446cb354105e919af0463adc73a1cafb567353c\n",
            "  Stored in directory: /root/.cache/pip/wheels/6e/62/11/dc73d78e40a218ad52e7451f30166e94491be013a7850b5d75\n",
            "Successfully built fpdf\n",
            "Installing collected packages: fpdf\n",
            "Successfully installed fpdf-1.7.2\n"
          ]
        }
      ],
      "source": [
        "!pip install llama-index\n",
        "!pip install llama-index-llms-groq\n",
        "!pip install llama-index-experimental\n",
        "!pip install gradio\n",
        "!pip install fpdf"
      ]
    },
    {
      "cell_type": "markdown",
      "source": [
        "#Carregar e analisar dados"
      ],
      "metadata": {
        "id": "D6n_QbC6-zmy"
      }
    },
    {
      "cell_type": "code",
      "source": [
        "import pandas as pd"
      ],
      "metadata": {
        "id": "DcObDtfQ9QTV"
      },
      "execution_count": 2,
      "outputs": []
    },
    {
      "cell_type": "code",
      "source": [
        "#Carregar dados\n",
        "url = 'https://raw.githubusercontent.com/YuriArduino/Estudos_Artificial_Intelligence/refs/heads/Dados/vendas.csv'\n",
        "df = pd.read_csv(url)\n",
        "df.head()"
      ],
      "metadata": {
        "colab": {
          "base_uri": "https://localhost:8080/",
          "height": 313
        },
        "id": "s-n3I82A8_K7",
        "outputId": "ecdbd401-e36d-4fd8-aad5-511d337f29fe"
      },
      "execution_count": 3,
      "outputs": [
        {
          "output_type": "execute_result",
          "data": {
            "text/plain": [
              "     ID_compra filial       cidade tipo_cliente     genero       tipo_produto  \\\n",
              "0  750-67-8428      A  Santo André       Membro   Feminino     Saúde e Beleza   \n",
              "1  226-31-3081      C  São Caetano       Normal   Feminino        Eletrônicos   \n",
              "2  631-41-3108      A  Santo André       Normal  Masculino               Casa   \n",
              "3  123-19-1176      A  Santo André       Membro  Masculino     Saúde e Beleza   \n",
              "4  373-73-7910      A  Santo André       Normal  Masculino  Esportes e Viagem   \n",
              "\n",
              "   preco_unitario  quantidade  imposto_5%     total        data      hora  \\\n",
              "0           74.69           7     26.1415  548.9715  2024-01-05  13:08:00   \n",
              "1           15.28           5      3.8200   80.2200  2024-03-08  10:29:00   \n",
              "2           46.33           7     16.2155  340.5255  2024-03-03  13:23:00   \n",
              "3           58.22           8     23.2880  489.0480  2024-01-27  20:33:00   \n",
              "4           86.31           7     30.2085  634.3785  2024-02-08  10:37:00   \n",
              "\n",
              "     forma_pagamento  avaliacao  \n",
              "0   Carteira Digital        9.1  \n",
              "1           Dinheiro        9.6  \n",
              "2  Cartão de Crédito        7.4  \n",
              "3   Carteira Digital        8.4  \n",
              "4   Carteira Digital        5.3  "
            ],
            "text/html": [
              "\n",
              "  <div id=\"df-5e3fd57b-baae-48e3-8336-2e37dd0ec327\" class=\"colab-df-container\">\n",
              "    <div>\n",
              "<style scoped>\n",
              "    .dataframe tbody tr th:only-of-type {\n",
              "        vertical-align: middle;\n",
              "    }\n",
              "\n",
              "    .dataframe tbody tr th {\n",
              "        vertical-align: top;\n",
              "    }\n",
              "\n",
              "    .dataframe thead th {\n",
              "        text-align: right;\n",
              "    }\n",
              "</style>\n",
              "<table border=\"1\" class=\"dataframe\">\n",
              "  <thead>\n",
              "    <tr style=\"text-align: right;\">\n",
              "      <th></th>\n",
              "      <th>ID_compra</th>\n",
              "      <th>filial</th>\n",
              "      <th>cidade</th>\n",
              "      <th>tipo_cliente</th>\n",
              "      <th>genero</th>\n",
              "      <th>tipo_produto</th>\n",
              "      <th>preco_unitario</th>\n",
              "      <th>quantidade</th>\n",
              "      <th>imposto_5%</th>\n",
              "      <th>total</th>\n",
              "      <th>data</th>\n",
              "      <th>hora</th>\n",
              "      <th>forma_pagamento</th>\n",
              "      <th>avaliacao</th>\n",
              "    </tr>\n",
              "  </thead>\n",
              "  <tbody>\n",
              "    <tr>\n",
              "      <th>0</th>\n",
              "      <td>750-67-8428</td>\n",
              "      <td>A</td>\n",
              "      <td>Santo André</td>\n",
              "      <td>Membro</td>\n",
              "      <td>Feminino</td>\n",
              "      <td>Saúde e Beleza</td>\n",
              "      <td>74.69</td>\n",
              "      <td>7</td>\n",
              "      <td>26.1415</td>\n",
              "      <td>548.9715</td>\n",
              "      <td>2024-01-05</td>\n",
              "      <td>13:08:00</td>\n",
              "      <td>Carteira Digital</td>\n",
              "      <td>9.1</td>\n",
              "    </tr>\n",
              "    <tr>\n",
              "      <th>1</th>\n",
              "      <td>226-31-3081</td>\n",
              "      <td>C</td>\n",
              "      <td>São Caetano</td>\n",
              "      <td>Normal</td>\n",
              "      <td>Feminino</td>\n",
              "      <td>Eletrônicos</td>\n",
              "      <td>15.28</td>\n",
              "      <td>5</td>\n",
              "      <td>3.8200</td>\n",
              "      <td>80.2200</td>\n",
              "      <td>2024-03-08</td>\n",
              "      <td>10:29:00</td>\n",
              "      <td>Dinheiro</td>\n",
              "      <td>9.6</td>\n",
              "    </tr>\n",
              "    <tr>\n",
              "      <th>2</th>\n",
              "      <td>631-41-3108</td>\n",
              "      <td>A</td>\n",
              "      <td>Santo André</td>\n",
              "      <td>Normal</td>\n",
              "      <td>Masculino</td>\n",
              "      <td>Casa</td>\n",
              "      <td>46.33</td>\n",
              "      <td>7</td>\n",
              "      <td>16.2155</td>\n",
              "      <td>340.5255</td>\n",
              "      <td>2024-03-03</td>\n",
              "      <td>13:23:00</td>\n",
              "      <td>Cartão de Crédito</td>\n",
              "      <td>7.4</td>\n",
              "    </tr>\n",
              "    <tr>\n",
              "      <th>3</th>\n",
              "      <td>123-19-1176</td>\n",
              "      <td>A</td>\n",
              "      <td>Santo André</td>\n",
              "      <td>Membro</td>\n",
              "      <td>Masculino</td>\n",
              "      <td>Saúde e Beleza</td>\n",
              "      <td>58.22</td>\n",
              "      <td>8</td>\n",
              "      <td>23.2880</td>\n",
              "      <td>489.0480</td>\n",
              "      <td>2024-01-27</td>\n",
              "      <td>20:33:00</td>\n",
              "      <td>Carteira Digital</td>\n",
              "      <td>8.4</td>\n",
              "    </tr>\n",
              "    <tr>\n",
              "      <th>4</th>\n",
              "      <td>373-73-7910</td>\n",
              "      <td>A</td>\n",
              "      <td>Santo André</td>\n",
              "      <td>Normal</td>\n",
              "      <td>Masculino</td>\n",
              "      <td>Esportes e Viagem</td>\n",
              "      <td>86.31</td>\n",
              "      <td>7</td>\n",
              "      <td>30.2085</td>\n",
              "      <td>634.3785</td>\n",
              "      <td>2024-02-08</td>\n",
              "      <td>10:37:00</td>\n",
              "      <td>Carteira Digital</td>\n",
              "      <td>5.3</td>\n",
              "    </tr>\n",
              "  </tbody>\n",
              "</table>\n",
              "</div>\n",
              "    <div class=\"colab-df-buttons\">\n",
              "\n",
              "  <div class=\"colab-df-container\">\n",
              "    <button class=\"colab-df-convert\" onclick=\"convertToInteractive('df-5e3fd57b-baae-48e3-8336-2e37dd0ec327')\"\n",
              "            title=\"Convert this dataframe to an interactive table.\"\n",
              "            style=\"display:none;\">\n",
              "\n",
              "  <svg xmlns=\"http://www.w3.org/2000/svg\" height=\"24px\" viewBox=\"0 -960 960 960\">\n",
              "    <path d=\"M120-120v-720h720v720H120Zm60-500h600v-160H180v160Zm220 220h160v-160H400v160Zm0 220h160v-160H400v160ZM180-400h160v-160H180v160Zm440 0h160v-160H620v160ZM180-180h160v-160H180v160Zm440 0h160v-160H620v160Z\"/>\n",
              "  </svg>\n",
              "    </button>\n",
              "\n",
              "  <style>\n",
              "    .colab-df-container {\n",
              "      display:flex;\n",
              "      gap: 12px;\n",
              "    }\n",
              "\n",
              "    .colab-df-convert {\n",
              "      background-color: #E8F0FE;\n",
              "      border: none;\n",
              "      border-radius: 50%;\n",
              "      cursor: pointer;\n",
              "      display: none;\n",
              "      fill: #1967D2;\n",
              "      height: 32px;\n",
              "      padding: 0 0 0 0;\n",
              "      width: 32px;\n",
              "    }\n",
              "\n",
              "    .colab-df-convert:hover {\n",
              "      background-color: #E2EBFA;\n",
              "      box-shadow: 0px 1px 2px rgba(60, 64, 67, 0.3), 0px 1px 3px 1px rgba(60, 64, 67, 0.15);\n",
              "      fill: #174EA6;\n",
              "    }\n",
              "\n",
              "    .colab-df-buttons div {\n",
              "      margin-bottom: 4px;\n",
              "    }\n",
              "\n",
              "    [theme=dark] .colab-df-convert {\n",
              "      background-color: #3B4455;\n",
              "      fill: #D2E3FC;\n",
              "    }\n",
              "\n",
              "    [theme=dark] .colab-df-convert:hover {\n",
              "      background-color: #434B5C;\n",
              "      box-shadow: 0px 1px 3px 1px rgba(0, 0, 0, 0.15);\n",
              "      filter: drop-shadow(0px 1px 2px rgba(0, 0, 0, 0.3));\n",
              "      fill: #FFFFFF;\n",
              "    }\n",
              "  </style>\n",
              "\n",
              "    <script>\n",
              "      const buttonEl =\n",
              "        document.querySelector('#df-5e3fd57b-baae-48e3-8336-2e37dd0ec327 button.colab-df-convert');\n",
              "      buttonEl.style.display =\n",
              "        google.colab.kernel.accessAllowed ? 'block' : 'none';\n",
              "\n",
              "      async function convertToInteractive(key) {\n",
              "        const element = document.querySelector('#df-5e3fd57b-baae-48e3-8336-2e37dd0ec327');\n",
              "        const dataTable =\n",
              "          await google.colab.kernel.invokeFunction('convertToInteractive',\n",
              "                                                    [key], {});\n",
              "        if (!dataTable) return;\n",
              "\n",
              "        const docLinkHtml = 'Like what you see? Visit the ' +\n",
              "          '<a target=\"_blank\" href=https://colab.research.google.com/notebooks/data_table.ipynb>data table notebook</a>'\n",
              "          + ' to learn more about interactive tables.';\n",
              "        element.innerHTML = '';\n",
              "        dataTable['output_type'] = 'display_data';\n",
              "        await google.colab.output.renderOutput(dataTable, element);\n",
              "        const docLink = document.createElement('div');\n",
              "        docLink.innerHTML = docLinkHtml;\n",
              "        element.appendChild(docLink);\n",
              "      }\n",
              "    </script>\n",
              "  </div>\n",
              "\n",
              "\n",
              "    <div id=\"df-3b1d85b0-d84e-41b9-a42e-dc7591aec061\">\n",
              "      <button class=\"colab-df-quickchart\" onclick=\"quickchart('df-3b1d85b0-d84e-41b9-a42e-dc7591aec061')\"\n",
              "                title=\"Suggest charts\"\n",
              "                style=\"display:none;\">\n",
              "\n",
              "<svg xmlns=\"http://www.w3.org/2000/svg\" height=\"24px\"viewBox=\"0 0 24 24\"\n",
              "     width=\"24px\">\n",
              "    <g>\n",
              "        <path d=\"M19 3H5c-1.1 0-2 .9-2 2v14c0 1.1.9 2 2 2h14c1.1 0 2-.9 2-2V5c0-1.1-.9-2-2-2zM9 17H7v-7h2v7zm4 0h-2V7h2v10zm4 0h-2v-4h2v4z\"/>\n",
              "    </g>\n",
              "</svg>\n",
              "      </button>\n",
              "\n",
              "<style>\n",
              "  .colab-df-quickchart {\n",
              "      --bg-color: #E8F0FE;\n",
              "      --fill-color: #1967D2;\n",
              "      --hover-bg-color: #E2EBFA;\n",
              "      --hover-fill-color: #174EA6;\n",
              "      --disabled-fill-color: #AAA;\n",
              "      --disabled-bg-color: #DDD;\n",
              "  }\n",
              "\n",
              "  [theme=dark] .colab-df-quickchart {\n",
              "      --bg-color: #3B4455;\n",
              "      --fill-color: #D2E3FC;\n",
              "      --hover-bg-color: #434B5C;\n",
              "      --hover-fill-color: #FFFFFF;\n",
              "      --disabled-bg-color: #3B4455;\n",
              "      --disabled-fill-color: #666;\n",
              "  }\n",
              "\n",
              "  .colab-df-quickchart {\n",
              "    background-color: var(--bg-color);\n",
              "    border: none;\n",
              "    border-radius: 50%;\n",
              "    cursor: pointer;\n",
              "    display: none;\n",
              "    fill: var(--fill-color);\n",
              "    height: 32px;\n",
              "    padding: 0;\n",
              "    width: 32px;\n",
              "  }\n",
              "\n",
              "  .colab-df-quickchart:hover {\n",
              "    background-color: var(--hover-bg-color);\n",
              "    box-shadow: 0 1px 2px rgba(60, 64, 67, 0.3), 0 1px 3px 1px rgba(60, 64, 67, 0.15);\n",
              "    fill: var(--button-hover-fill-color);\n",
              "  }\n",
              "\n",
              "  .colab-df-quickchart-complete:disabled,\n",
              "  .colab-df-quickchart-complete:disabled:hover {\n",
              "    background-color: var(--disabled-bg-color);\n",
              "    fill: var(--disabled-fill-color);\n",
              "    box-shadow: none;\n",
              "  }\n",
              "\n",
              "  .colab-df-spinner {\n",
              "    border: 2px solid var(--fill-color);\n",
              "    border-color: transparent;\n",
              "    border-bottom-color: var(--fill-color);\n",
              "    animation:\n",
              "      spin 1s steps(1) infinite;\n",
              "  }\n",
              "\n",
              "  @keyframes spin {\n",
              "    0% {\n",
              "      border-color: transparent;\n",
              "      border-bottom-color: var(--fill-color);\n",
              "      border-left-color: var(--fill-color);\n",
              "    }\n",
              "    20% {\n",
              "      border-color: transparent;\n",
              "      border-left-color: var(--fill-color);\n",
              "      border-top-color: var(--fill-color);\n",
              "    }\n",
              "    30% {\n",
              "      border-color: transparent;\n",
              "      border-left-color: var(--fill-color);\n",
              "      border-top-color: var(--fill-color);\n",
              "      border-right-color: var(--fill-color);\n",
              "    }\n",
              "    40% {\n",
              "      border-color: transparent;\n",
              "      border-right-color: var(--fill-color);\n",
              "      border-top-color: var(--fill-color);\n",
              "    }\n",
              "    60% {\n",
              "      border-color: transparent;\n",
              "      border-right-color: var(--fill-color);\n",
              "    }\n",
              "    80% {\n",
              "      border-color: transparent;\n",
              "      border-right-color: var(--fill-color);\n",
              "      border-bottom-color: var(--fill-color);\n",
              "    }\n",
              "    90% {\n",
              "      border-color: transparent;\n",
              "      border-bottom-color: var(--fill-color);\n",
              "    }\n",
              "  }\n",
              "</style>\n",
              "\n",
              "      <script>\n",
              "        async function quickchart(key) {\n",
              "          const quickchartButtonEl =\n",
              "            document.querySelector('#' + key + ' button');\n",
              "          quickchartButtonEl.disabled = true;  // To prevent multiple clicks.\n",
              "          quickchartButtonEl.classList.add('colab-df-spinner');\n",
              "          try {\n",
              "            const charts = await google.colab.kernel.invokeFunction(\n",
              "                'suggestCharts', [key], {});\n",
              "          } catch (error) {\n",
              "            console.error('Error during call to suggestCharts:', error);\n",
              "          }\n",
              "          quickchartButtonEl.classList.remove('colab-df-spinner');\n",
              "          quickchartButtonEl.classList.add('colab-df-quickchart-complete');\n",
              "        }\n",
              "        (() => {\n",
              "          let quickchartButtonEl =\n",
              "            document.querySelector('#df-3b1d85b0-d84e-41b9-a42e-dc7591aec061 button');\n",
              "          quickchartButtonEl.style.display =\n",
              "            google.colab.kernel.accessAllowed ? 'block' : 'none';\n",
              "        })();\n",
              "      </script>\n",
              "    </div>\n",
              "\n",
              "    </div>\n",
              "  </div>\n"
            ],
            "application/vnd.google.colaboratory.intrinsic+json": {
              "type": "dataframe",
              "variable_name": "df",
              "summary": "{\n  \"name\": \"df\",\n  \"rows\": 1000,\n  \"fields\": [\n    {\n      \"column\": \"ID_compra\",\n      \"properties\": {\n        \"dtype\": \"string\",\n        \"num_unique_values\": 1000,\n        \"samples\": [\n          \"451-28-5717\",\n          \"137-63-5492\",\n          \"733-29-1227\"\n        ],\n        \"semantic_type\": \"\",\n        \"description\": \"\"\n      }\n    },\n    {\n      \"column\": \"filial\",\n      \"properties\": {\n        \"dtype\": \"category\",\n        \"num_unique_values\": 3,\n        \"samples\": [\n          \"A\",\n          \"C\",\n          \"B\"\n        ],\n        \"semantic_type\": \"\",\n        \"description\": \"\"\n      }\n    },\n    {\n      \"column\": \"cidade\",\n      \"properties\": {\n        \"dtype\": \"category\",\n        \"num_unique_values\": 3,\n        \"samples\": [\n          \"Santo Andr\\u00e9\",\n          \"S\\u00e3o Caetano\",\n          \"S\\u00e3o Bernardo do Campo\"\n        ],\n        \"semantic_type\": \"\",\n        \"description\": \"\"\n      }\n    },\n    {\n      \"column\": \"tipo_cliente\",\n      \"properties\": {\n        \"dtype\": \"category\",\n        \"num_unique_values\": 2,\n        \"samples\": [\n          \"Normal\",\n          \"Membro\"\n        ],\n        \"semantic_type\": \"\",\n        \"description\": \"\"\n      }\n    },\n    {\n      \"column\": \"genero\",\n      \"properties\": {\n        \"dtype\": \"category\",\n        \"num_unique_values\": 2,\n        \"samples\": [\n          \"Masculino\",\n          \"Feminino\"\n        ],\n        \"semantic_type\": \"\",\n        \"description\": \"\"\n      }\n    },\n    {\n      \"column\": \"tipo_produto\",\n      \"properties\": {\n        \"dtype\": \"category\",\n        \"num_unique_values\": 6,\n        \"samples\": [\n          \"Sa\\u00fade e Beleza\",\n          \"Eletr\\u00f4nicos\"\n        ],\n        \"semantic_type\": \"\",\n        \"description\": \"\"\n      }\n    },\n    {\n      \"column\": \"preco_unitario\",\n      \"properties\": {\n        \"dtype\": \"number\",\n        \"std\": 26.494628347919768,\n        \"min\": 10.08,\n        \"max\": 99.96,\n        \"num_unique_values\": 943,\n        \"samples\": [\n          12.45,\n          70.74\n        ],\n        \"semantic_type\": \"\",\n        \"description\": \"\"\n      }\n    },\n    {\n      \"column\": \"quantidade\",\n      \"properties\": {\n        \"dtype\": \"number\",\n        \"std\": 2,\n        \"min\": 1,\n        \"max\": 10,\n        \"num_unique_values\": 10,\n        \"samples\": [\n          1,\n          5\n        ],\n        \"semantic_type\": \"\",\n        \"description\": \"\"\n      }\n    },\n    {\n      \"column\": \"imposto_5%\",\n      \"properties\": {\n        \"dtype\": \"number\",\n        \"std\": 11.708825480998659,\n        \"min\": 0.5085,\n        \"max\": 49.65,\n        \"num_unique_values\": 990,\n        \"samples\": [\n          0.914,\n          2.348\n        ],\n        \"semantic_type\": \"\",\n        \"description\": \"\"\n      }\n    },\n    {\n      \"column\": \"total\",\n      \"properties\": {\n        \"dtype\": \"number\",\n        \"std\": 245.88533510097207,\n        \"min\": 10.6785,\n        \"max\": 1042.65,\n        \"num_unique_values\": 990,\n        \"samples\": [\n          19.194,\n          49.308\n        ],\n        \"semantic_type\": \"\",\n        \"description\": \"\"\n      }\n    },\n    {\n      \"column\": \"data\",\n      \"properties\": {\n        \"dtype\": \"object\",\n        \"num_unique_values\": 89,\n        \"samples\": [\n          \"2024-02-14\",\n          \"2024-01-26\"\n        ],\n        \"semantic_type\": \"\",\n        \"description\": \"\"\n      }\n    },\n    {\n      \"column\": \"hora\",\n      \"properties\": {\n        \"dtype\": \"object\",\n        \"num_unique_values\": 506,\n        \"samples\": [\n          \"10:13:00\",\n          \"11:21:00\"\n        ],\n        \"semantic_type\": \"\",\n        \"description\": \"\"\n      }\n    },\n    {\n      \"column\": \"forma_pagamento\",\n      \"properties\": {\n        \"dtype\": \"category\",\n        \"num_unique_values\": 3,\n        \"samples\": [\n          \"Carteira Digital\",\n          \"Dinheiro\"\n        ],\n        \"semantic_type\": \"\",\n        \"description\": \"\"\n      }\n    },\n    {\n      \"column\": \"avaliacao\",\n      \"properties\": {\n        \"dtype\": \"number\",\n        \"std\": 1.718580294379123,\n        \"min\": 4.0,\n        \"max\": 10.0,\n        \"num_unique_values\": 61,\n        \"samples\": [\n          9.1,\n          4.1\n        ],\n        \"semantic_type\": \"\",\n        \"description\": \"\"\n      }\n    }\n  ]\n}"
            }
          },
          "metadata": {},
          "execution_count": 3
        }
      ]
    },
    {
      "cell_type": "code",
      "source": [
        "#Verificar Nulos\n",
        "df.info()"
      ],
      "metadata": {
        "colab": {
          "base_uri": "https://localhost:8080/"
        },
        "id": "WqMNvPE-9X4F",
        "outputId": "629d486d-dd28-44fd-fa01-9d0c6c98f95f"
      },
      "execution_count": 4,
      "outputs": [
        {
          "output_type": "stream",
          "name": "stdout",
          "text": [
            "<class 'pandas.core.frame.DataFrame'>\n",
            "RangeIndex: 1000 entries, 0 to 999\n",
            "Data columns (total 14 columns):\n",
            " #   Column           Non-Null Count  Dtype  \n",
            "---  ------           --------------  -----  \n",
            " 0   ID_compra        1000 non-null   object \n",
            " 1   filial           1000 non-null   object \n",
            " 2   cidade           1000 non-null   object \n",
            " 3   tipo_cliente     1000 non-null   object \n",
            " 4   genero           1000 non-null   object \n",
            " 5   tipo_produto     1000 non-null   object \n",
            " 6   preco_unitario   1000 non-null   float64\n",
            " 7   quantidade       1000 non-null   int64  \n",
            " 8   imposto_5%       1000 non-null   float64\n",
            " 9   total            1000 non-null   float64\n",
            " 10  data             1000 non-null   object \n",
            " 11  hora             1000 non-null   object \n",
            " 12  forma_pagamento  1000 non-null   object \n",
            " 13  avaliacao        1000 non-null   float64\n",
            "dtypes: float64(4), int64(1), object(9)\n",
            "memory usage: 109.5+ KB\n"
          ]
        }
      ]
    },
    {
      "cell_type": "code",
      "source": [
        "#Verificar Duplicados\n",
        "df.duplicated().sum()"
      ],
      "metadata": {
        "colab": {
          "base_uri": "https://localhost:8080/"
        },
        "id": "Sp-suMg_9Z5d",
        "outputId": "e85abd57-8e6a-4aaf-8859-409dd194343e"
      },
      "execution_count": 5,
      "outputs": [
        {
          "output_type": "execute_result",
          "data": {
            "text/plain": [
              "np.int64(0)"
            ]
          },
          "metadata": {},
          "execution_count": 5
        }
      ]
    },
    {
      "cell_type": "markdown",
      "source": [
        "---\n",
        "\n",
        "## 📌 Para saber mais: LlamaIndex\n",
        "\n",
        "A **LlamaIndex** é uma biblioteca que funciona como uma ponte entre nossos dados e a inteligência artificial, facilitando consultas e respostas automáticas. Em vez de lidar diretamente com planilhas, documentos, áudios ou bancos de dados, ela organiza essas fontes em um formato estruturado que permite buscas rápidas e inteligentes.\n",
        "\n",
        "🔎 **Como funciona?**\n",
        "\n",
        "* Os dados são **indexados** — como se fosse um catálogo de biblioteca, facilitando a localização de cada informação.\n",
        "* Essa indexação utiliza **embeddings**, vetores numéricos que representam o significado dos conteúdos, permitindo entender relações semânticas além de simples palavras-chave.\n",
        "* Após a indexação, os dados podem ser aplicados em soluções como **mecanismos de busca, chatbots e automações**.\n",
        "\n",
        "📊 **Exemplos práticos com os dados da Zoop**\n",
        "\n",
        "* Quais produtos venderam mais em cada filial?\n",
        "* Qual a média de avaliação por tipo de cliente e filial?\n",
        "* Qual a forma de pagamento preferida em cada local?\n",
        "\n",
        "⚙️ **Por que é importante?**\n",
        "Com a LlamaIndex, grandes modelos de linguagem (LLMs) conseguem acessar e interpretar **dados privados em grande escala**, sem necessidade de retreinar o modelo. Isso abre espaço para respostas inteligentes e fluxos de trabalho automatizados, diretamente conectados à realidade dos dados.\n",
        "\n",
        "👉 No próximo passo, veremos como **definir o LLM** e configurar a **chave de API** para realizar consultas de forma eficiente.\n",
        "\n",
        "---\n"
      ],
      "metadata": {
        "id": "C_7byHx_-7z7"
      }
    },
    {
      "cell_type": "markdown",
      "source": [
        "##Definindo a LLM e configurando a chave de API"
      ],
      "metadata": {
        "id": "JM3TBq3F_DYw"
      }
    },
    {
      "cell_type": "code",
      "source": [
        "from google.colab import userdata\n",
        "key = userdata.get('Groq_API')"
      ],
      "metadata": {
        "id": "acf6klMSBO1n"
      },
      "execution_count": 15,
      "outputs": []
    },
    {
      "cell_type": "code",
      "source": [
        "from llama_index.core import Settings\n",
        "from llama_index.llms.groq import Groq\n",
        "\n",
        "Settings.llm = Groq (model='meta-llama/llama-4-scout-17b-16e-instruct', api_key = key)"
      ],
      "metadata": {
        "id": "cJ_-n2k39clR"
      },
      "execution_count": 16,
      "outputs": []
    },
    {
      "cell_type": "markdown",
      "source": [
        "---\n",
        "\n",
        "## 📌 Para saber mais: entendendo como obter respostas a partir de consultas\n",
        "\n",
        "Ao explorar a documentação da **LlamaIndex**, encontramos o conceito de **RAG (Retrieval Augmented Generation)** — ou **Geração Aumentada por Recuperação**. Essa técnica combina a **recuperação de informações relevantes** com a **geração de respostas baseadas nesses dados**, sendo a base do *Question-Answering (QA)* com LLMs.\n",
        "\n",
        "A forma como o RAG é aplicado varia conforme o tipo de dado: **não estruturado** (como textos ou PDFs) e **estruturado** (como tabelas).\n",
        "\n",
        "---\n",
        "\n",
        "### 🔹 Dados não estruturados\n",
        "\n",
        "São aqueles que não seguem um formato fixo, como **PDFs, Notion, Slack, documentos de texto ou áudios**.\n",
        "\n",
        "O processo segue estas etapas:\n",
        "\n",
        "1. **Usuário faz a consulta** → ponto de partida.\n",
        "2. **Consulta enviada ao Recuperador** → localiza informações relevantes.\n",
        "3. **Busca na fonte de dados** → vasculha documentos e registros disponíveis.\n",
        "4. **Retorno do texto relevante** → seleciona os trechos mais úteis.\n",
        "5. **Processamento conjunto** (consulta + texto) por um modelo de linguagem.\n",
        "6. **Geração da resposta** → saída contextualizada e precisa.\n",
        "7. **Entrega ao usuário** → finalização do ciclo.\n",
        "\n",
        "💡 Isso garante que as respostas sejam **baseadas nos dados reais**, mesmo em grandes volumes de informações não organizadas.\n",
        "\n",
        "---\n",
        "\n",
        "### 🔹 Dados estruturados\n",
        "\n",
        "No nosso projeto, usamos dados da **Zoop** em formato tabular (produtos, vendas, avaliações etc.). Aqui, a lógica é diferente:\n",
        "\n",
        "1. **Conversão da consulta** → a pergunta do usuário é traduzida em operações do **Pandas**.\n",
        "2. **Aplicação no DataFrame** → execução da consulta usando métodos como `df.query()`.\n",
        "3. **Geração da resposta** → apresentação dos resultados (subconjuntos, estatísticas ou até gráficos).\n",
        "\n",
        "👉 Para esse tipo de dado, usamos o **PandasQueryEngine**, treinado com a documentação do Pandas, garantindo consultas diretas e eficientes.\n",
        "\n",
        "---\n",
        "\n",
        "⚙️ **Resumo:**\n",
        "\n",
        "* **Não estruturados** → RAG encontra trechos relevantes e gera respostas contextuais.\n",
        "* **Estruturados** → consultas são traduzidas em operações do Pandas e aplicadas diretamente no DataFrame.\n",
        "\n",
        "No próximo passo, vamos aprofundar como configurar e rodar essas consultas na prática. 🚀\n",
        "\n",
        "---"
      ],
      "metadata": {
        "id": "ueA-gH4WEy5q"
      }
    },
    {
      "cell_type": "code",
      "source": [
        "from llama_index.experimental.query_engine import PandasQueryEngine"
      ],
      "metadata": {
        "id": "HnV1JklJIaG0"
      },
      "execution_count": 17,
      "outputs": []
    },
    {
      "cell_type": "code",
      "source": [
        "query_engine = PandasQueryEngine(df=df, verbose=True)"
      ],
      "metadata": {
        "id": "FncXP4CfKFAF"
      },
      "execution_count": 18,
      "outputs": []
    },
    {
      "cell_type": "markdown",
      "source": [
        "##Gerando perguntas e respostas"
      ],
      "metadata": {
        "id": "4FnulB5DKJPa"
      }
    },
    {
      "cell_type": "code",
      "source": [
        "response = query_engine.query(\n",
        "    \"What is the city with the highest population?\",\n",
        ")"
      ],
      "metadata": {
        "colab": {
          "base_uri": "https://localhost:8080/"
        },
        "id": "E0SEH_uvKMbD",
        "outputId": "75063de3-18cc-4be8-d790-dbbb8f76ba6a"
      },
      "execution_count": 19,
      "outputs": [
        {
          "output_type": "stream",
          "name": "stdout",
          "text": [
            "> Pandas Instructions:\n",
            "```\n",
            "```python\n",
            "df['cidade'].value_counts().idxmax()\n",
            "```\n",
            "```\n",
            "> Pandas Output: Santo André\n"
          ]
        }
      ]
    },
    {
      "cell_type": "code",
      "source": [
        "response = query_engine.query('Qual é a forma de pagamento mais utilizada pelos clientes?')"
      ],
      "metadata": {
        "colab": {
          "base_uri": "https://localhost:8080/"
        },
        "id": "JtP1ygMLK45E",
        "outputId": "ecfc27d7-caa4-46d9-dddd-acf30aacfb12"
      },
      "execution_count": 20,
      "outputs": [
        {
          "output_type": "stream",
          "name": "stdout",
          "text": [
            "> Pandas Instructions:\n",
            "```\n",
            "df['forma_pagamento'].value_counts().idxmax()\n",
            "```\n",
            "> Pandas Output: Carteira Digital\n"
          ]
        }
      ]
    },
    {
      "cell_type": "markdown",
      "source": [
        "Executando, obtemos uma resposta. Ele trouxe algumas saídas com informações, incluindo instruções do Pandas, o código usado para chegar à resposta. Ele chamou o DataFrame (df), acessou a coluna forma_pagamento, fez uma contagem das formas de pagamento com value_counts(), e usou index[0] para pegar o valor com a contagem mais alta. O resultado foi que o método de pagamento mais usado é a carteira digital.\n",
        "\n",
        "Podemos confirmar isso executando o código que ele nos forneceu sem a parte do index:"
      ],
      "metadata": {
        "id": "GNzMEKw5LKEK"
      }
    },
    {
      "cell_type": "code",
      "source": [
        "df.forma_pagamento.value_counts()"
      ],
      "metadata": {
        "colab": {
          "base_uri": "https://localhost:8080/",
          "height": 210
        },
        "id": "8G4kpd_YLLXA",
        "outputId": "41d1b878-d33e-44fb-b560-2974e1f5a190"
      },
      "execution_count": 21,
      "outputs": [
        {
          "output_type": "execute_result",
          "data": {
            "text/plain": [
              "forma_pagamento\n",
              "Carteira Digital     345\n",
              "Dinheiro             344\n",
              "Cartão de Crédito    311\n",
              "Name: count, dtype: int64"
            ],
            "text/html": [
              "<div>\n",
              "<style scoped>\n",
              "    .dataframe tbody tr th:only-of-type {\n",
              "        vertical-align: middle;\n",
              "    }\n",
              "\n",
              "    .dataframe tbody tr th {\n",
              "        vertical-align: top;\n",
              "    }\n",
              "\n",
              "    .dataframe thead th {\n",
              "        text-align: right;\n",
              "    }\n",
              "</style>\n",
              "<table border=\"1\" class=\"dataframe\">\n",
              "  <thead>\n",
              "    <tr style=\"text-align: right;\">\n",
              "      <th></th>\n",
              "      <th>count</th>\n",
              "    </tr>\n",
              "    <tr>\n",
              "      <th>forma_pagamento</th>\n",
              "      <th></th>\n",
              "    </tr>\n",
              "  </thead>\n",
              "  <tbody>\n",
              "    <tr>\n",
              "      <th>Carteira Digital</th>\n",
              "      <td>345</td>\n",
              "    </tr>\n",
              "    <tr>\n",
              "      <th>Dinheiro</th>\n",
              "      <td>344</td>\n",
              "    </tr>\n",
              "    <tr>\n",
              "      <th>Cartão de Crédito</th>\n",
              "      <td>311</td>\n",
              "    </tr>\n",
              "  </tbody>\n",
              "</table>\n",
              "</div><br><label><b>dtype:</b> int64</label>"
            ]
          },
          "metadata": {},
          "execution_count": 21
        }
      ]
    },
    {
      "cell_type": "markdown",
      "source": [
        "A execução mostra que \"carteira digital\" tem 345 contagens, \"dinheiro\" tem 344, e \"cartão de crédito\" tem 311. O index[0] pegou o primeiro valor, \"carteira digital\". A resposta está correta.\n",
        "\n",
        "Agora, vamos tentar uma pergunta mais complexa. Criamos uma nova variável response, chamamos query_engine.query(''), abrimos parênteses e aspas. Por exemplo, desejamos saber qual foi o tipo de produto com maior quantidade vendida por filial. Parece complexo para esse modelo, mas vamos testar:"
      ],
      "metadata": {
        "id": "wEv0iopILT47"
      }
    },
    {
      "cell_type": "code",
      "source": [
        "response = query_engine.query('Qual é o tipo de produto com maior quantidade por filial?')"
      ],
      "metadata": {
        "colab": {
          "base_uri": "https://localhost:8080/"
        },
        "id": "oeISTlYzLSj9",
        "outputId": "10d57833-2d06-40e1-9b41-6900823d3e83"
      },
      "execution_count": 22,
      "outputs": [
        {
          "output_type": "stream",
          "name": "stdout",
          "text": [
            "> Pandas Instructions:\n",
            "```\n",
            "```python\n",
            "df.groupby(['filial', 'tipo_produto']).agg({'quantidade': 'sum'}).reset_index().groupby('filial').idxmax()['quantidade'].to_dict()\n",
            "```\n",
            "```\n",
            "> Pandas Output: {'A': 1, 'B': 9, 'C': 12}\n"
          ]
        }
      ]
    },
    {
      "cell_type": "code",
      "source": [
        "response = query_engine.query('Explain the meaning of the output from the previous query about the product with the highest quantity per branch.')"
      ],
      "metadata": {
        "colab": {
          "base_uri": "https://localhost:8080/"
        },
        "id": "iYi2cJKQL-eg",
        "outputId": "768285f0-0c26-4a45-ac6f-c58cf905b487"
      },
      "execution_count": 29,
      "outputs": [
        {
          "output_type": "stream",
          "name": "stdout",
          "text": [
            "> Pandas Instructions:\n",
            "```\n",
            "```python\n",
            "df.loc[df.groupby('filial')['quantidade'].idxmax()]\n",
            "```\n",
            "```\n",
            "> Pandas Output:       ID_compra filial                 cidade tipo_cliente     genero  \\\n",
            "13  252-56-2699      A            Santo André       Normal  Masculino   \n",
            "96  766-85-7061      B  São Bernardo do Campo       Normal  Masculino   \n",
            "7   315-22-5665      C            São Caetano       Normal   Feminino   \n",
            "\n",
            "           tipo_produto  preco_unitario  quantidade  imposto_5%    total  \\\n",
            "13  Alimentos e Bebidas           43.19          10      21.595  453.495   \n",
            "96       Saúde e Beleza           87.87          10      43.935  922.635   \n",
            "7                  Casa           73.56          10      36.780  772.380   \n",
            "\n",
            "          data      hora   forma_pagamento  avaliacao  \n",
            "13  2024-02-07  16:48:00  Carteira Digital        8.2  \n",
            "96  2024-03-29  10:25:00  Carteira Digital        5.1  \n",
            "7   2024-02-24  11:38:00  Carteira Digital        8.0  \n"
          ]
        }
      ]
    },
    {
      "cell_type": "code",
      "source": [
        "df.groupby(['filial', 'tipo_produto'])['quantidade'].sum()"
      ],
      "metadata": {
        "colab": {
          "base_uri": "https://localhost:8080/",
          "height": 680
        },
        "id": "WiViFY6lLYtP",
        "outputId": "08e65dc8-2c50-4110-ce74-c786b005bc56"
      },
      "execution_count": 23,
      "outputs": [
        {
          "output_type": "execute_result",
          "data": {
            "text/plain": [
              "filial  tipo_produto       \n",
              "A       Alimentos e Bebidas    313\n",
              "        Casa                   371\n",
              "        Eletrônicos            322\n",
              "        Esportes e Viagem      333\n",
              "        Moda                   263\n",
              "        Saúde e Beleza         257\n",
              "B       Alimentos e Bebidas    270\n",
              "        Casa                   295\n",
              "        Eletrônicos            316\n",
              "        Esportes e Viagem      322\n",
              "        Moda                   297\n",
              "        Saúde e Beleza         320\n",
              "C       Alimentos e Bebidas    369\n",
              "        Casa                   245\n",
              "        Eletrônicos            333\n",
              "        Esportes e Viagem      265\n",
              "        Moda                   342\n",
              "        Saúde e Beleza         277\n",
              "Name: quantidade, dtype: int64"
            ],
            "text/html": [
              "<div>\n",
              "<style scoped>\n",
              "    .dataframe tbody tr th:only-of-type {\n",
              "        vertical-align: middle;\n",
              "    }\n",
              "\n",
              "    .dataframe tbody tr th {\n",
              "        vertical-align: top;\n",
              "    }\n",
              "\n",
              "    .dataframe thead th {\n",
              "        text-align: right;\n",
              "    }\n",
              "</style>\n",
              "<table border=\"1\" class=\"dataframe\">\n",
              "  <thead>\n",
              "    <tr style=\"text-align: right;\">\n",
              "      <th></th>\n",
              "      <th></th>\n",
              "      <th>quantidade</th>\n",
              "    </tr>\n",
              "    <tr>\n",
              "      <th>filial</th>\n",
              "      <th>tipo_produto</th>\n",
              "      <th></th>\n",
              "    </tr>\n",
              "  </thead>\n",
              "  <tbody>\n",
              "    <tr>\n",
              "      <th rowspan=\"6\" valign=\"top\">A</th>\n",
              "      <th>Alimentos e Bebidas</th>\n",
              "      <td>313</td>\n",
              "    </tr>\n",
              "    <tr>\n",
              "      <th>Casa</th>\n",
              "      <td>371</td>\n",
              "    </tr>\n",
              "    <tr>\n",
              "      <th>Eletrônicos</th>\n",
              "      <td>322</td>\n",
              "    </tr>\n",
              "    <tr>\n",
              "      <th>Esportes e Viagem</th>\n",
              "      <td>333</td>\n",
              "    </tr>\n",
              "    <tr>\n",
              "      <th>Moda</th>\n",
              "      <td>263</td>\n",
              "    </tr>\n",
              "    <tr>\n",
              "      <th>Saúde e Beleza</th>\n",
              "      <td>257</td>\n",
              "    </tr>\n",
              "    <tr>\n",
              "      <th rowspan=\"6\" valign=\"top\">B</th>\n",
              "      <th>Alimentos e Bebidas</th>\n",
              "      <td>270</td>\n",
              "    </tr>\n",
              "    <tr>\n",
              "      <th>Casa</th>\n",
              "      <td>295</td>\n",
              "    </tr>\n",
              "    <tr>\n",
              "      <th>Eletrônicos</th>\n",
              "      <td>316</td>\n",
              "    </tr>\n",
              "    <tr>\n",
              "      <th>Esportes e Viagem</th>\n",
              "      <td>322</td>\n",
              "    </tr>\n",
              "    <tr>\n",
              "      <th>Moda</th>\n",
              "      <td>297</td>\n",
              "    </tr>\n",
              "    <tr>\n",
              "      <th>Saúde e Beleza</th>\n",
              "      <td>320</td>\n",
              "    </tr>\n",
              "    <tr>\n",
              "      <th rowspan=\"6\" valign=\"top\">C</th>\n",
              "      <th>Alimentos e Bebidas</th>\n",
              "      <td>369</td>\n",
              "    </tr>\n",
              "    <tr>\n",
              "      <th>Casa</th>\n",
              "      <td>245</td>\n",
              "    </tr>\n",
              "    <tr>\n",
              "      <th>Eletrônicos</th>\n",
              "      <td>333</td>\n",
              "    </tr>\n",
              "    <tr>\n",
              "      <th>Esportes e Viagem</th>\n",
              "      <td>265</td>\n",
              "    </tr>\n",
              "    <tr>\n",
              "      <th>Moda</th>\n",
              "      <td>342</td>\n",
              "    </tr>\n",
              "    <tr>\n",
              "      <th>Saúde e Beleza</th>\n",
              "      <td>277</td>\n",
              "    </tr>\n",
              "  </tbody>\n",
              "</table>\n",
              "</div><br><label><b>dtype:</b> int64</label>"
            ]
          },
          "metadata": {},
          "execution_count": 23
        }
      ]
    },
    {
      "cell_type": "markdown",
      "source": [
        "A execução mostra que, na filial A, \"casa\" tem 371; na filial B, \"esportes e viagem\" tem 322; e na filial C, \"alimentos e bebidas\" tem 369. A resposta está correta quando comparamos com a anterior.\n",
        "\n",
        "É possível compreender como essa resposta é formulada e como ocorre esse processo de geração da saída. Ao inserirmos o response neste contexto e executarmos a célula:"
      ],
      "metadata": {
        "id": "qQqtwXOnLdWY"
      }
    },
    {
      "cell_type": "code",
      "source": [
        "response"
      ],
      "metadata": {
        "colab": {
          "base_uri": "https://localhost:8080/"
        },
        "id": "Gd8jFEp-LcZv",
        "outputId": "d2f16224-9a74-401f-c304-cba59d9f03b0"
      },
      "execution_count": 30,
      "outputs": [
        {
          "output_type": "execute_result",
          "data": {
            "text/plain": [
              "Response(response='      ID_compra filial                 cidade tipo_cliente     genero  \\\\\\n13  252-56-2699      A            Santo André       Normal  Masculino   \\n96  766-85-7061      B  São Bernardo do Campo       Normal  Masculino   \\n7   315-22-5665      C            São Caetano       Normal   Feminino   \\n\\n           tipo_produto  preco_unitario  quantidade  imposto_5%    total  \\\\\\n13  Alimentos e Bebidas           43.19          10      21.595  453.495   \\n96       Saúde e Beleza           87.87          10      43.935  922.635   \\n7                  Casa           73.56          10      36.780  772.380   \\n\\n          data      hora   forma_pagamento  avaliacao  \\n13  2024-02-07  16:48:00  Carteira Digital        8.2  \\n96  2024-03-29  10:25:00  Carteira Digital        5.1  \\n7   2024-02-24  11:38:00  Carteira Digital        8.0  ', source_nodes=[], metadata={'pandas_instruction_str': \"```python\\ndf.loc[df.groupby('filial')['quantidade'].idxmax()]\\n```\", 'raw_pandas_output': '      ID_compra filial                 cidade tipo_cliente     genero  \\\\\\n13  252-56-2699      A            Santo André       Normal  Masculino   \\n96  766-85-7061      B  São Bernardo do Campo       Normal  Masculino   \\n7   315-22-5665      C            São Caetano       Normal   Feminino   \\n\\n           tipo_produto  preco_unitario  quantidade  imposto_5%    total  \\\\\\n13  Alimentos e Bebidas           43.19          10      21.595  453.495   \\n96       Saúde e Beleza           87.87          10      43.935  922.635   \\n7                  Casa           73.56          10      36.780  772.380   \\n\\n          data      hora   forma_pagamento  avaliacao  \\n13  2024-02-07  16:48:00  Carteira Digital        8.2  \\n96  2024-03-29  10:25:00  Carteira Digital        5.1  \\n7   2024-02-24  11:38:00  Carteira Digital        8.0  '})"
            ]
          },
          "metadata": {},
          "execution_count": 30
        }
      ]
    },
    {
      "cell_type": "markdown",
      "source": [
        "A saída gerada inclui o response, que representa a resposta fornecida pelo sistema, contendo os resultados de cada filial. Além disso, é possível observar o tipo de dado retornado, que é um objeto, juntamente com os metadados, a instrução da biblioteca Pandas e a saída em si.\n",
        "\n",
        "Caso desejemos exibir apenas a resposta, podemos utilizar o comando print(). Para isso, basta escrever print(), colocando dentro dos parênteses response.response. Isso fará com que apenas a parte específica da resposta seja exibida.\n",
        "\n"
      ],
      "metadata": {
        "id": "h4jpmiU6LmIz"
      }
    },
    {
      "cell_type": "code",
      "source": [
        "print(response.response)"
      ],
      "metadata": {
        "colab": {
          "base_uri": "https://localhost:8080/"
        },
        "id": "ZDIIRFK_Lnzd",
        "outputId": "0981d1cf-c7f3-4e3b-c6bf-1179787afb00"
      },
      "execution_count": 31,
      "outputs": [
        {
          "output_type": "stream",
          "name": "stdout",
          "text": [
            "      ID_compra filial                 cidade tipo_cliente     genero  \\\n",
            "13  252-56-2699      A            Santo André       Normal  Masculino   \n",
            "96  766-85-7061      B  São Bernardo do Campo       Normal  Masculino   \n",
            "7   315-22-5665      C            São Caetano       Normal   Feminino   \n",
            "\n",
            "           tipo_produto  preco_unitario  quantidade  imposto_5%    total  \\\n",
            "13  Alimentos e Bebidas           43.19          10      21.595  453.495   \n",
            "96       Saúde e Beleza           87.87          10      43.935  922.635   \n",
            "7                  Casa           73.56          10      36.780  772.380   \n",
            "\n",
            "          data      hora   forma_pagamento  avaliacao  \n",
            "13  2024-02-07  16:48:00  Carteira Digital        8.2  \n",
            "96  2024-03-29  10:25:00  Carteira Digital        5.1  \n",
            "7   2024-02-24  11:38:00  Carteira Digital        8.0  \n"
          ]
        }
      ]
    },
    {
      "cell_type": "markdown",
      "source": [
        "Exercicios: Analisando os dados com PandasQueryEngine"
      ],
      "metadata": {
        "id": "2jxYW3awM-8m"
      }
    },
    {
      "cell_type": "code",
      "source": [
        "response_test = query_engine.query('Qual é a forma de pagamento mais utilizada pelos clientes em cada filial?')"
      ],
      "metadata": {
        "colab": {
          "base_uri": "https://localhost:8080/"
        },
        "id": "XEYzrI9XMwOg",
        "outputId": "c5a07cf2-b0d3-4711-9705-70dac891f149"
      },
      "execution_count": 32,
      "outputs": [
        {
          "output_type": "stream",
          "name": "stdout",
          "text": [
            "> Pandas Instructions:\n",
            "```\n",
            "```python\n",
            "df.groupby('filial')['forma_pagamento'].agg(lambda x: x.mode().iloc[0]).to_dict()\n",
            "```\n",
            "```\n",
            "> Pandas Output: {'A': 'Carteira Digital', 'B': 'Carteira Digital', 'C': 'Dinheiro'}\n"
          ]
        }
      ]
    },
    {
      "cell_type": "markdown",
      "source": [
        "Nesta atividade, você vai colocar em prática o que aprendeu sobre o uso do PandasQueryEngine para realizar consultas em DataFrames. Lembre-se que os dados já foram carregados e você já configurou a LLM e a chave de API conforme ensinado na aula. Agora, é hora de explorar os dados fazendo as seguintes perguntas:\n",
        "\n",
        "*    Em quais cidades temos filiais?\n",
        "*    Qual é o preço unitário médio de cada tipo de produto?\n",
        "*    Qual é a média de valor de compra por tipo de cliente?\n",
        "*    Qual é a filial com maior faturamento?\n",
        "*    Essas perguntas te ajudarão a entender melhor a distribuição geográfica das filiais, os preços dos produtos, as diferenças nos gastos dos tipos de clientes e qual filial está performando melhor em termos de faturamento.\n",
        "\n",
        "Se você tiver alguma dúvida, consulte a opinião da pessoa instrutora."
      ],
      "metadata": {
        "id": "H3nBkRnLNH6f"
      }
    },
    {
      "cell_type": "code",
      "source": [
        "exercise_engine = PandasQueryEngine(df=df, verbose=True)"
      ],
      "metadata": {
        "id": "eH5uSVnzQKEX"
      },
      "execution_count": 47,
      "outputs": []
    },
    {
      "cell_type": "code",
      "source": [
        "exercise = exercise_engine.query('Which cities have branches?')"
      ],
      "metadata": {
        "colab": {
          "base_uri": "https://localhost:8080/"
        },
        "id": "4CMArLOVNVJk",
        "outputId": "e1cfd26f-4df2-48a4-f70d-6cd4bbb5db13"
      },
      "execution_count": 48,
      "outputs": [
        {
          "output_type": "stream",
          "name": "stdout",
          "text": [
            "> Pandas Instructions:\n",
            "```\n",
            "df.cidade.unique()\n",
            "```\n",
            "> Pandas Output: ['Santo André' 'São Caetano' 'São Bernardo do Campo']\n"
          ]
        }
      ]
    },
    {
      "cell_type": "code",
      "source": [
        "exercise = exercise_engine.query('What is the average unit price of each product type?')"
      ],
      "metadata": {
        "colab": {
          "base_uri": "https://localhost:8080/"
        },
        "id": "hDJHDa7yNsMK",
        "outputId": "2d5990d4-f2c5-4d1c-c2c0-dd5ce57d9609"
      },
      "execution_count": 49,
      "outputs": [
        {
          "output_type": "stream",
          "name": "stdout",
          "text": [
            "> Pandas Instructions:\n",
            "```\n",
            "df.groupby('tipo_produto')['preco_unitario'].mean().to_dict()\n",
            "```\n",
            "> Pandas Output: {'Alimentos e Bebidas': 56.008850574712646, 'Casa': 55.316937499999995, 'Eletrônicos': 53.55158823529412, 'Esportes e Viagem': 56.993253012048186, 'Moda': 57.153651685393264, 'Saúde e Beleza': 54.85447368421052}\n"
          ]
        }
      ]
    },
    {
      "cell_type": "code",
      "source": [
        "exercise = exercise_engine.query('What is the average value of acquisition for each client?')"
      ],
      "metadata": {
        "colab": {
          "base_uri": "https://localhost:8080/"
        },
        "id": "3RoTC_EmNyJr",
        "outputId": "db5b70f7-ab99-4081-b9ac-2f026b421731"
      },
      "execution_count": 50,
      "outputs": [
        {
          "output_type": "stream",
          "name": "stdout",
          "text": [
            "> Pandas Instructions:\n",
            "```\n",
            "df.groupby('tipo_cliente')['total'].mean()\n",
            "```\n",
            "> Pandas Output: tipo_cliente\n",
            "Membro    327.791305\n",
            "Normal    318.122856\n",
            "Name: total, dtype: float64\n"
          ]
        }
      ]
    },
    {
      "cell_type": "code",
      "source": [
        "exercise = exercise_engine.query('What is the branch with the highest turnover?')"
      ],
      "metadata": {
        "colab": {
          "base_uri": "https://localhost:8080/"
        },
        "id": "nApciWoAOTeI",
        "outputId": "4544cb76-56f6-46a2-ce64-6d30d1fca47f"
      },
      "execution_count": 51,
      "outputs": [
        {
          "output_type": "stream",
          "name": "stdout",
          "text": [
            "> Pandas Instructions:\n",
            "```\n",
            "df.groupby('filial')['total'].sum().idxmax()\n",
            "```\n",
            "> Pandas Output: C\n"
          ]
        }
      ]
    },
    {
      "cell_type": "code",
      "source": [
        "exercise"
      ],
      "metadata": {
        "colab": {
          "base_uri": "https://localhost:8080/"
        },
        "id": "4ygJdiWGQi9C",
        "outputId": "50580252-f498-4c3a-f1c5-cb885e9525d7"
      },
      "execution_count": 58,
      "outputs": [
        {
          "output_type": "execute_result",
          "data": {
            "text/plain": [
              "Response(response='C', source_nodes=[], metadata={'pandas_instruction_str': \"df.groupby('filial')['total'].sum().idxmax()\", 'raw_pandas_output': 'C'})"
            ]
          },
          "metadata": {},
          "execution_count": 58
        }
      ]
    },
    {
      "cell_type": "code",
      "metadata": {
        "colab": {
          "base_uri": "https://localhost:8080/"
        },
        "id": "13236914",
        "outputId": "8c0769ef-6d74-49fd-8de0-4ec762bc5bc4"
      },
      "source": [
        "all_exercise_responses = []\n",
        "\n",
        "print(\"Response from the first 'exercise' query ('Which cities have branches?'):\")\n",
        "exercise_q1 = query_engine.query('Which cities have branches?')\n",
        "print(exercise_q1.response)\n",
        "all_exercise_responses.append(exercise_q1)\n",
        "print(\"-\" * 20)\n",
        "\n",
        "print(\"Response from the second 'exercise' query ('What is the average unit price of each product type?'):\")\n",
        "exercise_q2 = query_engine.query('What is the average unit price of each product type?')\n",
        "print(exercise_q2.response)\n",
        "all_exercise_responses.append(exercise_q2)\n",
        "print(\"-\" * 20)\n",
        "\n",
        "print(\"Response from the third 'exercise' query ('What is the average value of acquisition for each client?'):\")\n",
        "exercise_q3 = query_engine.query('What is the average value of acquisition for each client?')\n",
        "print(exercise_q3.response)\n",
        "all_exercise_responses.append(exercise_q3)\n",
        "print(\"-\" * 20)\n",
        "\n",
        "print(\"Response from the fourth 'exercise' query ('What is the branch with the highest turnover?'):\")\n",
        "exercise_q4 = query_engine.query('What is the branch with the highest turnover?')\n",
        "print(exercise_q4.response)\n",
        "all_exercise_responses.append(exercise_q4)\n",
        "print(\"-\" * 20)\n",
        "\n",
        "print(\"\\nTodas as respostas dos exercícios foram salvas em:  'all_exercise_responses' list.\")"
      ],
      "execution_count": 64,
      "outputs": [
        {
          "output_type": "stream",
          "name": "stdout",
          "text": [
            "Response from the first 'exercise' query ('Which cities have branches?'):\n",
            "> Pandas Instructions:\n",
            "```\n",
            "df.cidade.unique()\n",
            "```\n",
            "> Pandas Output: ['Santo André' 'São Caetano' 'São Bernardo do Campo']\n",
            "['Santo André' 'São Caetano' 'São Bernardo do Campo']\n",
            "--------------------\n",
            "Response from the second 'exercise' query ('What is the average unit price of each product type?'):\n",
            "> Pandas Instructions:\n",
            "```\n",
            "df.groupby('tipo_produto')['preco_unitario'].mean().to_dict()\n",
            "```\n",
            "> Pandas Output: {'Alimentos e Bebidas': 56.008850574712646, 'Casa': 55.316937499999995, 'Eletrônicos': 53.55158823529412, 'Esportes e Viagem': 56.993253012048186, 'Moda': 57.153651685393264, 'Saúde e Beleza': 54.85447368421052}\n",
            "{'Alimentos e Bebidas': 56.008850574712646, 'Casa': 55.316937499999995, 'Eletrônicos': 53.55158823529412, 'Esportes e Viagem': 56.993253012048186, 'Moda': 57.153651685393264, 'Saúde e Beleza': 54.85447368421052}\n",
            "--------------------\n",
            "Response from the third 'exercise' query ('What is the average value of acquisition for each client?'):\n",
            "> Pandas Instructions:\n",
            "```\n",
            "df.groupby('tipo_cliente')['total'].mean()\n",
            "```\n",
            "> Pandas Output: tipo_cliente\n",
            "Membro    327.791305\n",
            "Normal    318.122856\n",
            "Name: total, dtype: float64\n",
            "tipo_cliente\n",
            "Membro    327.791305\n",
            "Normal    318.122856\n",
            "Name: total, dtype: float64\n",
            "--------------------\n",
            "Response from the fourth 'exercise' query ('What is the branch with the highest turnover?'):\n",
            "> Pandas Instructions:\n",
            "```\n",
            "df.groupby('filial')['total'].sum().idxmax()\n",
            "```\n",
            "> Pandas Output: C\n",
            "C\n",
            "--------------------\n",
            "\n",
            "Todas as respostas dos exercícios foram salvas em:  'all_exercise_responses' list.\n"
          ]
        }
      ]
    }
  ]
}