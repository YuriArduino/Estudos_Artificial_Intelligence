{
  "cells": [
    {
      "cell_type": "markdown",
      "metadata": {
        "id": "view-in-github",
        "colab_type": "text"
      },
      "source": [
        "<a href=\"https://colab.research.google.com/github/YuriArduino/Estudos_Artificial_Intelligence/blob/llamaIndex-analisando-dados-pandas/pandas_workflow_colab.ipynb\" target=\"_parent\"><img src=\"https://colab.research.google.com/assets/colab-badge.svg\" alt=\"Open In Colab\"/></a>"
      ]
    },
    {
      "cell_type": "markdown",
      "source": [
        "# Pandas Workflow com LlamaIndex Workflows\n",
        "\n",
        ">Este notebook demonstra como criar um sistema de análise de dados usando LlamaIndex, Pandas e Groq para consultas em linguagem natural.\n",
        "\n",
        "\n",
        "## Sobre a Atualização do LlamaIndex\n",
        "\n",
        "O **LlamaIndex** descontinuou o módulo **QueryPipeline** em favor de uma nova abordagem chamada **Workflows**.\n",
        "Essa mudança foi implementada na versão `0.11` do LlamaIndex, com o objetivo de oferecer uma arquitetura mais\n",
        "flexível e escalável para a construção de aplicações de IA generativa.\n",
        "\n",
        "### Por que o QueryPipeline foi descontinuado?\n",
        "O QueryPipeline era uma API declarativa útil para orquestrar consultas simples a avançadas sobre os dados.\n",
        "Porém, ele se mostrou limitado para cenários mais dinâmicos. Por isso, os **Workflows** foram introduzidos,\n",
        "trazendo uma arquitetura orientada a eventos para fluxos de trabalho mais sofisticados.\n",
        "\n",
        "### O que são Workflows?\n",
        "Workflows permitem orquestrar etapas personalizadas de forma assíncrona e condicional, facilitando\n",
        "integrações complexas e manipulação de dados em tempo real.\n",
        "\n",
        "**Documentação oficial:** [docs.llamaindex.ai](https://docs.llamaindex.ai)\n",
        "\n"
      ],
      "metadata": {
        "id": "3pzznnjN3W-Z"
      },
      "id": "3pzznnjN3W-Z"
    },
    {
      "cell_type": "markdown",
      "source": [
        "#Código:\n"
      ],
      "metadata": {
        "id": "KYxQbJBGAjb7"
      },
      "id": "KYxQbJBGAjb7"
    },
    {
      "cell_type": "markdown",
      "source": [
        "##1 Instalar Dependências:"
      ],
      "metadata": {
        "id": "ne3hDRwyAlhT"
      },
      "id": "ne3hDRwyAlhT"
    },
    {
      "cell_type": "code",
      "execution_count": 2,
      "id": "eaa06244",
      "metadata": {
        "id": "eaa06244"
      },
      "outputs": [],
      "source": [
        "# Instalar dependências (-q para instalação silenciosa)\n",
        "!pip install -q llama-index llama-index-llms-openai llama-index-llms-groq llama-index-experimental gradio fpdf"
      ]
    },
    {
      "cell_type": "markdown",
      "id": "8bbf94cd",
      "metadata": {
        "id": "8bbf94cd"
      },
      "source": [
        "##1.1 Para uso no Colab\n"
      ]
    },
    {
      "cell_type": "code",
      "source": [
        "import nest_asyncio\n",
        "nest_asyncio.apply()"
      ],
      "metadata": {
        "id": "MnIk3zEA-Vaw"
      },
      "id": "MnIk3zEA-Vaw",
      "execution_count": 3,
      "outputs": []
    },
    {
      "cell_type": "markdown",
      "source": [
        "##2 Imports"
      ],
      "metadata": {
        "id": "TfVHgRx83GYA"
      },
      "id": "TfVHgRx83GYA"
    },
    {
      "cell_type": "code",
      "execution_count": 4,
      "id": "327f6a9c",
      "metadata": {
        "id": "327f6a9c"
      },
      "outputs": [],
      "source": [
        "import pandas as pd\n",
        "import textwrap\n",
        "import re\n",
        "from pydantic import BaseModel, Field, field_validator, SkipValidation\n",
        "from llama_index.core import Settings\n",
        "from llama_index.llms.groq import Groq\n",
        "from llama_index.experimental.query_engine import PandasQueryEngine\n",
        "from llama_index.core.workflow import Workflow, Event, StartEvent, StopEvent, step\n",
        "from llama_index.core.prompts import PromptTemplate\n",
        "from google.colab import userdata\n",
        "import asyncio"
      ]
    },
    {
      "cell_type": "markdown",
      "source": [
        "##3 Instruções e Prompts\n",
        "\n",
        "(Importante para validar a saída, pode ser usado como debug ou  )"
      ],
      "metadata": {
        "id": "3YY-0c2l-i5M"
      },
      "id": "3YY-0c2l-i5M"
    },
    {
      "cell_type": "code",
      "source": [
        "# ===== INSTRUÇÕES PARA CONVERSÃO DE CONSULTAS =====\n",
        "instruction_str = (\n",
        "    \"1. Converta a consulta para código Python executável usando Pandas.\\n\"\n",
        "    \"2. A linha final do código deve ser uma expressão Python que possa ser chamada com a função `eval()`.\\n\"\n",
        "    \"3. O código deve representar uma solução para a consulta.\\n\"\n",
        "    \"4. IMPRIMA APENAS A EXPRESSÃO FINAL.\\n\"\n",
        "    \"5. Não coloque a expressão entre aspas.\\n\"\n",
        "    \"6. Evite atribuições (=) na linha final - prefira expressões que retornem valores.\\n\"\n",
        "    \"7. Para operações de múltiplas linhas, termine com uma expressão que retorne o resultado.\\n\"\n",
        "    \"8. Exemplos válidos:\\n\"\n",
        "    \"   - df.groupby('coluna')['valor'].sum()\\n\"\n",
        "    \"   - df['coluna'].value_counts().head(5)\\n\"\n",
        "    \"   - df.describe()\\n\"\n",
        "    \"9. Evite códigos como 'df['coluna'] = valor' - prefira consultas que retornem dados.\\n\"\n",
        ")\n",
        "\n",
        "# ===== PROMPTS =====\n",
        "pandas_prompt_str = (\n",
        "    \"Você está trabalhando com um dataframe do pandas em Python chamado `df`.\\n\"\n",
        "    \"{colunas_detalhes}\\n\\n\"\n",
        "    \"Este é o resultado de `print(df.head())`:\\n\"\n",
        "    \"{df_str}\\n\\n\"\n",
        "    \"Siga estas instruções:\\n\"\n",
        "    \"{instruction_str}\\n\"\n",
        "    \"Consulta: {query_str}\\n\\n\"\n",
        "    \"Expressão:\"\n",
        ")\n",
        "\n",
        "RESPONSE_SYNTHESIS_PROMPT_STR = (\n",
        "   \"Dada uma pergunta de entrada, atue como analista de dados e elabore uma resposta a partir dos resultados da consulta.\\n\"\n",
        "   \"Responda de forma natural, sem introduções como 'A resposta é:' ou algo semelhante.\\n\"\n",
        "   \"Consulta: {query_str}\\n\\n\"\n",
        "   \"Instruções do Pandas (opcional):\\n{pandas_instructions}\\n\\n\"\n",
        "   \"Saída do Pandas: {pandas_output}\\n\\n\"\n",
        "   \"Resposta: \"\n",
        "   \"Ao final, exibir o código usado para gerar a resposta, no formato: O código utilizado foi {pandas_instructions}\"\n",
        ")\n",
        "\n",
        "print(\"✅ Prompts configurados com sucesso!\")"
      ],
      "metadata": {
        "colab": {
          "base_uri": "https://localhost:8080/"
        },
        "id": "ElcLXNqi-m2w",
        "outputId": "f5cd3600-1ca6-4724-ac59-c76616f4148a"
      },
      "id": "ElcLXNqi-m2w",
      "execution_count": 5,
      "outputs": [
        {
          "output_type": "stream",
          "name": "stdout",
          "text": [
            "✅ Prompts configurados com sucesso!\n"
          ]
        }
      ]
    },
    {
      "cell_type": "markdown",
      "source": [
        "##4 Configuração Pydantic V2"
      ],
      "metadata": {
        "id": "eaOg-rIf3jaL"
      },
      "id": "eaOg-rIf3jaL"
    },
    {
      "cell_type": "code",
      "source": [
        "class LLMConfig(BaseModel):\n",
        "    model: str = Field(..., description=\"Nome do modelo Groq a ser usado\")\n",
        "    api_key: str = Field(..., description=\"Chave da API Groq\")\n",
        "    data_url: str = Field(..., description=\"URL do CSV com os dados\")\n",
        "\n",
        "    @field_validator(\"data_url\")\n",
        "    @classmethod\n",
        "    def validar_url(cls, v: str) -> str:\n",
        "        if not (v.startswith(\"http://\") or v.startswith(\"https://\")):\n",
        "            raise ValueError(\"data_url deve começar com http:// ou https://\")\n",
        "        return v\n",
        "\n",
        "    @field_validator(\"api_key\")\n",
        "    @classmethod\n",
        "    def validar_api_key(cls, v: str) -> str:\n",
        "        if not v or len(v.strip()) == 0:\n",
        "            raise ValueError(\"api_key não pode ser vazia\")\n",
        "        return v\n",
        "\n",
        "print(\"✅ Configuração Pydantic criada!\")"
      ],
      "metadata": {
        "colab": {
          "base_uri": "https://localhost:8080/"
        },
        "id": "zf65iXIp3riw",
        "outputId": "b8acc70d-e0bc-4de6-d3a1-fe90dea251d1"
      },
      "id": "zf65iXIp3riw",
      "execution_count": 6,
      "outputs": [
        {
          "output_type": "stream",
          "name": "stdout",
          "text": [
            "✅ Configuração Pydantic criada!\n"
          ]
        }
      ]
    },
    {
      "cell_type": "markdown",
      "source": [
        "##5 Modelos de Eventos\n",
        "\n",
        "(Rastrear cada passo da interação, como um histórico organizado)"
      ],
      "metadata": {
        "id": "lHeWjLLu-tjv"
      },
      "id": "lHeWjLLu-tjv"
    },
    {
      "cell_type": "code",
      "source": [
        "class CodeEvent(Event):\n",
        "    pandas_prompt: str\n",
        "    query: str\n",
        "\n",
        "class OutputEvent(Event):\n",
        "    pandas_code: str\n",
        "    pandas_output: SkipValidation\n",
        "    query: str\n",
        "    pandas_prompt: str\n",
        "\n",
        "class ExecutedEvent(OutputEvent):\n",
        "    pass\n",
        "\n",
        "class ResponseEvent(StopEvent):\n",
        "    query: str\n",
        "    pandas_code: str\n",
        "    pandas_output: SkipValidation\n",
        "    resposta_final: str\n",
        "\n",
        "print(\"✅ Modelos de eventos definidos!\")"
      ],
      "metadata": {
        "colab": {
          "base_uri": "https://localhost:8080/"
        },
        "id": "MJvzUYbg-zP0",
        "outputId": "87c0fb80-0bf9-4c30-e0a2-248a9dcb289f"
      },
      "id": "MJvzUYbg-zP0",
      "execution_count": 7,
      "outputs": [
        {
          "output_type": "stream",
          "name": "stdout",
          "text": [
            "✅ Modelos de eventos definidos!\n"
          ]
        }
      ]
    },
    {
      "cell_type": "markdown",
      "source": [
        "##6 Funções Auxiliares"
      ],
      "metadata": {
        "id": "zoVRLbkg38zx"
      },
      "id": "zoVRLbkg38zx"
    },
    {
      "cell_type": "code",
      "execution_count": 8,
      "id": "2ecab43e",
      "metadata": {
        "colab": {
          "base_uri": "https://localhost:8080/"
        },
        "id": "2ecab43e",
        "outputId": "56742245-f53e-45f8-8bb2-029d2b6248fe"
      },
      "outputs": [
        {
          "output_type": "stream",
          "name": "stdout",
          "text": [
            "✅ Funções auxiliares configuradas!\n"
          ]
        }
      ],
      "source": [
        "def formatar_texto(response: str, largura: int = 100, imprimir: bool = True):\n",
        "    texto_formatado = textwrap.fill(response, width=largura)\n",
        "    if imprimir:\n",
        "        print(texto_formatado)\n",
        "    return texto_formatado\n",
        "\n",
        "def descricao_colunas(df: pd.DataFrame) -> str:\n",
        "    descricao = \"\\n\".join([f\"`{col}`: {str(df[col].dtype)}\" for col in df.columns])\n",
        "    return \"Colunas do DataFrame:\\n\" + descricao\n",
        "\n",
        "def limpar_codigo_pandas(codigo: str) -> str:\n",
        "    \"\"\"Limpa e valida o código Pandas gerado pela LLM\"\"\"\n",
        "    codigo = re.sub(r'```(?:python)?\\n?', '', codigo)\n",
        "    linhas = codigo.split('\\n')\n",
        "    codigo_limpo = []\n",
        "\n",
        "    for linha in linhas:\n",
        "        linha = linha.strip()\n",
        "        if (linha and\n",
        "            not linha.startswith('#') and\n",
        "            not linha.startswith('//') and\n",
        "            not linha.lower().startswith('resposta:') and\n",
        "            not linha.lower().startswith('resultado:') and\n",
        "            not linha.lower().startswith('código:')):\n",
        "            codigo_limpo.append(linha)\n",
        "\n",
        "    codigo_final = '\\n'.join(codigo_limpo).strip()\n",
        "\n",
        "    # Se há múltiplas linhas, pega a última linha como expressão final\n",
        "    if '\\n' in codigo_final:\n",
        "        linhas_codigo = [l.strip() for l in codigo_final.split('\\n') if l.strip()]\n",
        "        # Pega a última linha que seja uma expressão (não atribuição)\n",
        "        for linha in reversed(linhas_codigo):\n",
        "            if not ('=' in linha and not linha.startswith('df[')):\n",
        "                codigo_final = linha\n",
        "                break\n",
        "\n",
        "    return codigo_final\n",
        "\n",
        "print(\"✅ Funções auxiliares configuradas!\")"
      ]
    },
    {
      "cell_type": "markdown",
      "source": [
        "##7 Configuração da API e Dados"
      ],
      "metadata": {
        "id": "ynQMHepO4AOC"
      },
      "id": "ynQMHepO4AOC"
    },
    {
      "cell_type": "code",
      "source": [
        "# Configure sua chave da API Groq nos Secrets do Colab\n",
        "# Vá em:  (ícone da chave) -> Add new secret\n",
        "# Name: Groq_API\n",
        "# Value: sua_chave_aqui\n",
        "\n",
        "try:\n",
        "    key = userdata.get(\"Groq_API\")\n",
        "    print(\"✅ Chave API carregada com sucesso!\")\n",
        "except Exception as e:\n",
        "    print(\"❌ Erro ao carregar chave API:\", e)\n",
        "    print(\"Configure a chave 'Groq_API' nos Secrets do Colab\")\n",
        "\n",
        "# ===== CONFIGURAÇÃO E DADOS =====\n",
        "config = LLMConfig(\n",
        "    model=\"meta-llama/llama-4-scout-17b-16e-instruct\",\n",
        "    api_key=key,\n",
        "    data_url=\"https://raw.githubusercontent.com/YuriArduino/Estudos_Artificial_Intelligence/refs/heads/Dados/vendas.csv\"\n",
        ")\n",
        "\n",
        "df = pd.read_csv(config.data_url)\n",
        "Settings.llm = Groq(model=config.model, api_key=config.api_key)\n",
        "\n",
        "print(\" Estrutura do DataFrame:\")\n",
        "print(df.head())\n",
        "print(f\"\\n Colunas disponíveis:\")\n",
        "print(df.columns.tolist())\n",
        "print(f\"\\n Info do DataFrame:\")\n",
        "print(df.info())\n",
        "print(f\"\\n✅ Configuração completa! Dataset: {df.shape[0]} linhas, {df.shape[1]} colunas\")"
      ],
      "metadata": {
        "colab": {
          "base_uri": "https://localhost:8080/"
        },
        "id": "FPIEtIXE4Inc",
        "outputId": "096f1910-677d-46c2-a410-c31e3276ae7e"
      },
      "id": "FPIEtIXE4Inc",
      "execution_count": 9,
      "outputs": [
        {
          "output_type": "stream",
          "name": "stdout",
          "text": [
            "✅ Chave API carregada com sucesso!\n",
            " Estrutura do DataFrame:\n",
            "     ID_compra filial       cidade tipo_cliente     genero       tipo_produto  \\\n",
            "0  750-67-8428      A  Santo André       Membro   Feminino     Saúde e Beleza   \n",
            "1  226-31-3081      C  São Caetano       Normal   Feminino        Eletrônicos   \n",
            "2  631-41-3108      A  Santo André       Normal  Masculino               Casa   \n",
            "3  123-19-1176      A  Santo André       Membro  Masculino     Saúde e Beleza   \n",
            "4  373-73-7910      A  Santo André       Normal  Masculino  Esportes e Viagem   \n",
            "\n",
            "   preco_unitario  quantidade  imposto_5%     total        data      hora  \\\n",
            "0           74.69           7     26.1415  548.9715  2024-01-05  13:08:00   \n",
            "1           15.28           5      3.8200   80.2200  2024-03-08  10:29:00   \n",
            "2           46.33           7     16.2155  340.5255  2024-03-03  13:23:00   \n",
            "3           58.22           8     23.2880  489.0480  2024-01-27  20:33:00   \n",
            "4           86.31           7     30.2085  634.3785  2024-02-08  10:37:00   \n",
            "\n",
            "     forma_pagamento  avaliacao  \n",
            "0   Carteira Digital        9.1  \n",
            "1           Dinheiro        9.6  \n",
            "2  Cartão de Crédito        7.4  \n",
            "3   Carteira Digital        8.4  \n",
            "4   Carteira Digital        5.3  \n",
            "\n",
            " Colunas disponíveis:\n",
            "['ID_compra', 'filial', 'cidade', 'tipo_cliente', 'genero', 'tipo_produto', 'preco_unitario', 'quantidade', 'imposto_5%', 'total', 'data', 'hora', 'forma_pagamento', 'avaliacao']\n",
            "\n",
            " Info do DataFrame:\n",
            "<class 'pandas.core.frame.DataFrame'>\n",
            "RangeIndex: 1000 entries, 0 to 999\n",
            "Data columns (total 14 columns):\n",
            " #   Column           Non-Null Count  Dtype  \n",
            "---  ------           --------------  -----  \n",
            " 0   ID_compra        1000 non-null   object \n",
            " 1   filial           1000 non-null   object \n",
            " 2   cidade           1000 non-null   object \n",
            " 3   tipo_cliente     1000 non-null   object \n",
            " 4   genero           1000 non-null   object \n",
            " 5   tipo_produto     1000 non-null   object \n",
            " 6   preco_unitario   1000 non-null   float64\n",
            " 7   quantidade       1000 non-null   int64  \n",
            " 8   imposto_5%       1000 non-null   float64\n",
            " 9   total            1000 non-null   float64\n",
            " 10  data             1000 non-null   object \n",
            " 11  hora             1000 non-null   object \n",
            " 12  forma_pagamento  1000 non-null   object \n",
            " 13  avaliacao        1000 non-null   float64\n",
            "dtypes: float64(4), int64(1), object(9)\n",
            "memory usage: 109.5+ KB\n",
            "None\n",
            "\n",
            "✅ Configuração completa! Dataset: 1000 linhas, 14 colunas\n"
          ]
        }
      ]
    },
    {
      "cell_type": "markdown",
      "source": [
        "##8 Classe Workflow Principal"
      ],
      "metadata": {
        "id": "yYMx5O6c_EPc"
      },
      "id": "yYMx5O6c_EPc"
    },
    {
      "cell_type": "code",
      "execution_count": 10,
      "id": "b825ff55",
      "metadata": {
        "colab": {
          "base_uri": "https://localhost:8080/"
        },
        "id": "b825ff55",
        "outputId": "1858a0ad-4313-469e-b0e2-c479db47174c"
      },
      "outputs": [
        {
          "output_type": "stream",
          "name": "stdout",
          "text": [
            "✅ Workflow PandasWorkflow criado com sucesso!\n"
          ]
        }
      ],
      "source": [
        "class PandasWorkflow(Workflow):\n",
        "    llm = Settings.llm\n",
        "    workflow_steps = [\"start_query\", \"generate_code\", \"execute_code\", \"synthesize_response\"]\n",
        "\n",
        "    @step\n",
        "    async def start_query(self, ev: StartEvent) -> CodeEvent:\n",
        "        colunas_info = descricao_colunas(df)\n",
        "        prompt_text = pandas_prompt_str.format(\n",
        "            colunas_detalhes=colunas_info,\n",
        "            df_str=df.head(5),\n",
        "            instruction_str=instruction_str,\n",
        "            query_str=ev.query\n",
        "        )\n",
        "        return CodeEvent(pandas_prompt=prompt_text, query=ev.query)\n",
        "\n",
        "    @step\n",
        "    async def generate_code(self, ev: CodeEvent) -> OutputEvent:\n",
        "        response = await self.llm.acomplete(ev.pandas_prompt)\n",
        "        codigo_bruto = str(response).strip()\n",
        "        codigo_limpo = limpar_codigo_pandas(codigo_bruto)\n",
        "        print(f\" Código gerado: {codigo_limpo}\")\n",
        "        return OutputEvent(\n",
        "            pandas_code=codigo_limpo,\n",
        "            pandas_output=None,\n",
        "            query=ev.query,\n",
        "            pandas_prompt=ev.pandas_prompt\n",
        "        )\n",
        "\n",
        "    @step\n",
        "    async def execute_code(self, ev: OutputEvent) -> ExecutedEvent:\n",
        "        try:\n",
        "            if not ev.pandas_code or not ev.pandas_code.strip():\n",
        "                resultado = \"Erro: Código vazio gerado\"\n",
        "            else:\n",
        "                codigo = ev.pandas_code.strip()\n",
        "\n",
        "                # Validações mais flexíveis\n",
        "                codigo_valido = (\n",
        "                    codigo.startswith('df') or\n",
        "                    codigo.startswith('(df') or\n",
        "                    codigo.startswith('pd.') or\n",
        "                    'df[' in codigo or\n",
        "                    'df.' in codigo\n",
        "                )\n",
        "\n",
        "                if not codigo_valido:\n",
        "                    resultado = f\"Erro: Código deve conter referência ao DataFrame 'df', recebido: {codigo}\"\n",
        "                else:\n",
        "                    # Executa o código com contexto completo\n",
        "                    contexto = {\n",
        "                        \"df\": df,\n",
        "                        \"pd\": pd,\n",
        "                        \"__builtins__\": __builtins__\n",
        "                    }\n",
        "                    resultado = eval(codigo, contexto)\n",
        "                    print(f\"✅ Resultado da execução: {resultado}\")\n",
        "\n",
        "        except Exception as e:\n",
        "            resultado = f\"Erro ao executar código: {str(e)}\"\n",
        "            print(f\"❌ Erro na execução: {resultado}\")\n",
        "\n",
        "        return ExecutedEvent(\n",
        "            pandas_code=ev.pandas_code,\n",
        "            pandas_output=resultado,\n",
        "            query=ev.query,\n",
        "            pandas_prompt=ev.pandas_prompt\n",
        "        )\n",
        "\n",
        "    @step\n",
        "    async def synthesize_response(self, ev: ExecutedEvent) -> ResponseEvent:\n",
        "        if isinstance(ev.pandas_output, str) and ev.pandas_output.startswith(\"Erro\"):\n",
        "            resposta_final = f\"Não foi possível processar a consulta: {ev.pandas_output}\"\n",
        "        else:\n",
        "            prompt_text = RESPONSE_SYNTHESIS_PROMPT_STR.format(\n",
        "                query_str=ev.query,\n",
        "                pandas_instructions=ev.pandas_code,\n",
        "                pandas_output=ev.pandas_output\n",
        "            )\n",
        "            resposta = await self.llm.acomplete(prompt_text)\n",
        "            resposta_final = str(resposta).strip()\n",
        "        return ResponseEvent(\n",
        "            query=ev.query,\n",
        "            pandas_code=ev.pandas_code,\n",
        "            pandas_output=ev.pandas_output,\n",
        "            resposta_final=resposta_final\n",
        "        )\n",
        "\n",
        "print(\"✅ Workflow PandasWorkflow criado com sucesso!\")"
      ]
    },
    {
      "cell_type": "markdown",
      "source": [
        "##9 Função de Execução"
      ],
      "metadata": {
        "id": "XUvrzCXQ_KWI"
      },
      "id": "XUvrzCXQ_KWI"
    },
    {
      "cell_type": "code",
      "execution_count": 11,
      "id": "6e04d1ba",
      "metadata": {
        "colab": {
          "base_uri": "https://localhost:8080/"
        },
        "id": "6e04d1ba",
        "outputId": "a06755da-1e10-4e66-8935-01a90e56fb03"
      },
      "outputs": [
        {
          "output_type": "stream",
          "name": "stdout",
          "text": [
            "✅ Funções de execução configuradas!\n"
          ]
        }
      ],
      "source": [
        "async def executar_consulta(query: str, mostrar_detalhes: bool = True):\n",
        "    \"\"\"Executa uma consulta e retorna os resultados.\"\"\"\n",
        "    wf = PandasWorkflow(timeout=60, verbose=False)\n",
        "\n",
        "    try:\n",
        "        print(f\" Processando \")\n",
        "        print(\"-\" * 50)\n",
        "\n",
        "        result = await wf.run(query=query)\n",
        "\n",
        "        if mostrar_detalhes:\n",
        "            print(f\"\\n === RESULTADO FINAL ===\")\n",
        "            print(f\"Query: {result.query}\")\n",
        "            print(f\"Código: {result.pandas_code}\")\n",
        "            print(f\"Resultado: {result.pandas_output}\")\n",
        "\n",
        "        print(f\"\\n === EXPLICAÇÃO ===\")\n",
        "        print(\"-\" * 50)\n",
        "        formatar_texto(result.resposta_final)\n",
        "\n",
        "        return result\n",
        "\n",
        "    except Exception as e:\n",
        "        print(f\" Erro no workflow: {str(e)}\")\n",
        "        return None\n",
        "\n",
        "# Função auxiliar para múltiplas consultas\n",
        "async def executar_multiplas_consultas(consultas: list):\n",
        "    \"\"\"Executa várias consultas em sequência.\"\"\"\n",
        "    resultados = []\n",
        "\n",
        "    for i, consulta in enumerate(consultas, 1):\n",
        "        print(f\"\\n{'='*60}\")\n",
        "        print(f\"CONSULTA {i}/{len(consultas)}\")\n",
        "        print(f\"{'='*60}\")\n",
        "\n",
        "        resultado = await executar_consulta(consulta)\n",
        "        resultados.append(resultado)\n",
        "\n",
        "        print(\"\\n\")  # Espaçamento entre consultas\n",
        "\n",
        "    return resultados\n",
        "\n",
        "print(\"✅ Funções de execução configuradas!\")"
      ]
    },
    {
      "cell_type": "markdown",
      "source": [
        "##10 Teste Rápido"
      ],
      "metadata": {
        "id": "SnrigB_l_QVm"
      },
      "id": "SnrigB_l_QVm"
    },
    {
      "cell_type": "code",
      "source": [
        "# Teste rápido para verificar se tudo está funcionando\n",
        "query_teste = \"Qual é a avaliação média de cada filial?\"\n",
        "result = await executar_consulta(query_teste)\n",
        "\n",
        "if result:\n",
        "    print(\"\\n Sistema funcionando perfeitamente!\")\n",
        "else:\n",
        "    print(\"\\n Houve algum problema - verifique a configuração da API\")"
      ],
      "metadata": {
        "colab": {
          "base_uri": "https://localhost:8080/"
        },
        "id": "mGuURyz__TPK",
        "outputId": "7c5d8227-082b-4739-9a4d-1609e80c092d"
      },
      "id": "mGuURyz__TPK",
      "execution_count": 12,
      "outputs": [
        {
          "output_type": "stream",
          "name": "stdout",
          "text": [
            " Processando \n",
            "--------------------------------------------------\n",
            " Código gerado: df.groupby('filial')['avaliacao'].mean()\n",
            "✅ Resultado da execução: filial\n",
            "A    7.027059\n",
            "B    6.818072\n",
            "C    7.072866\n",
            "Name: avaliacao, dtype: float64\n",
            "\n",
            " === RESULTADO FINAL ===\n",
            "Query: Qual é a avaliação média de cada filial?\n",
            "Código: df.groupby('filial')['avaliacao'].mean()\n",
            "Resultado: filial\n",
            "A    7.027059\n",
            "B    6.818072\n",
            "C    7.072866\n",
            "Name: avaliacao, dtype: float64\n",
            "\n",
            " === EXPLICAÇÃO ===\n",
            "--------------------------------------------------\n",
            "A avaliação média de cada filial é a seguinte:  - Filial A: 7,027059 - Filial B: 6,818072 - Filial\n",
            "C: 7,072866  Esses valores indicam que a Filial C tem a melhor avaliação média, seguida de perto\n",
            "pela Filial A. A Filial B tem a avaliação média mais baixa entre as três.  O código utilizado foi\n",
            "df.groupby('filial')['avaliacao'].mean()\n",
            "\n",
            " Sistema funcionando perfeitamente!\n"
          ]
        }
      ]
    },
    {
      "cell_type": "markdown",
      "source": [
        "##11 Exemplos de Uso Individual"
      ],
      "metadata": {
        "id": "w7XxG1eC_Wk5"
      },
      "id": "w7XxG1eC_Wk5"
    },
    {
      "cell_type": "code",
      "execution_count": 13,
      "id": "69f8a50d",
      "metadata": {
        "colab": {
          "base_uri": "https://localhost:8080/"
        },
        "id": "69f8a50d",
        "outputId": "eba9f907-4492-48e4-f014-9f0da7326017"
      },
      "outputs": [
        {
          "output_type": "stream",
          "name": "stdout",
          "text": [
            " Processando \n",
            "--------------------------------------------------\n",
            " Código gerado: df.groupby('tipo_produto')['quantidade'].sum().sort_values(ascending=False).head(5)\n",
            "✅ Resultado da execução: tipo_produto\n",
            "Eletrônicos            971\n",
            "Alimentos e Bebidas    952\n",
            "Esportes e Viagem      920\n",
            "Casa                   911\n",
            "Moda                   902\n",
            "Name: quantidade, dtype: int64\n",
            "\n",
            " === RESULTADO FINAL ===\n",
            "Query: Quais são os 5 produtos mais vendidos?\n",
            "Código: df.groupby('tipo_produto')['quantidade'].sum().sort_values(ascending=False).head(5)\n",
            "Resultado: tipo_produto\n",
            "Eletrônicos            971\n",
            "Alimentos e Bebidas    952\n",
            "Esportes e Viagem      920\n",
            "Casa                   911\n",
            "Moda                   902\n",
            "Name: quantidade, dtype: int64\n",
            "\n",
            " === EXPLICAÇÃO ===\n",
            "--------------------------------------------------\n",
            "Os 5 produtos mais vendidos são:  1. Eletrônicos, com 971 unidades vendidas 2. Alimentos e Bebidas,\n",
            "com 952 unidades vendidas 3. Esportes e Viagem, com 920 unidades vendidas 4. Casa, com 911 unidades\n",
            "vendidas 5. Moda, com 902 unidades vendidas  O código utilizado foi\n",
            "df.groupby('tipo_produto')['quantidade'].sum().sort_values(ascending=False).head(5)\n"
          ]
        }
      ],
      "source": [
        "# Execute uma consulta por vez para testar\n",
        "\n",
        "# Exemplo 1\n",
        "query = \"Quais são os 5 produtos mais vendidos?\"\n",
        "result = await executar_consulta(query)"
      ]
    },
    {
      "cell_type": "code",
      "source": [
        "# Exemplo 2\n",
        "query = \"Qual o total de vendas por região?\"\n",
        "result = await executar_consulta(query)"
      ],
      "metadata": {
        "colab": {
          "base_uri": "https://localhost:8080/"
        },
        "id": "cLYZHwUK_ZwW",
        "outputId": "a5bb5769-4d51-42f6-8258-59d52fd75306"
      },
      "id": "cLYZHwUK_ZwW",
      "execution_count": 14,
      "outputs": [
        {
          "output_type": "stream",
          "name": "stdout",
          "text": [
            " Processando \n",
            "--------------------------------------------------\n",
            " Código gerado: df.groupby('filial')['total'].sum()\n",
            "✅ Resultado da execução: filial\n",
            "A    106200.3705\n",
            "B    106197.6720\n",
            "C    110568.7065\n",
            "Name: total, dtype: float64\n",
            "\n",
            " === RESULTADO FINAL ===\n",
            "Query: Qual o total de vendas por região?\n",
            "Código: df.groupby('filial')['total'].sum()\n",
            "Resultado: filial\n",
            "A    106200.3705\n",
            "B    106197.6720\n",
            "C    110568.7065\n",
            "Name: total, dtype: float64\n",
            "\n",
            " === EXPLICAÇÃO ===\n",
            "--------------------------------------------------\n",
            "Analisando os dados de vendas por região, podemos observar que a região com o maior total de vendas\n",
            "foi a C1, com um total de R$ 105.687,07. Em seguida, temos a região A1, com um total de R$\n",
            "102.200,37, e a região B1, com um total de R$ 101.97,20.  Aqui está o ranking das regiões por total\n",
            "de vendas:  - C1: R$ 105.687,07 - A1: R$ 102.200,37 - B1: R$ 101.97,20  O código utilizado foi\n",
            "df.groupby('filial')['total'].sum()\n"
          ]
        }
      ]
    },
    {
      "cell_type": "code",
      "source": [
        "# Exemplo 3\n",
        "query = \"Qual produto tem a maior margem de lucro?\"\n",
        "result = await executar_consulta(query)"
      ],
      "metadata": {
        "colab": {
          "base_uri": "https://localhost:8080/"
        },
        "id": "2rGJQRL__g-k",
        "outputId": "fec43f9b-1443-49ce-85d1-26478687db6e"
      },
      "id": "2rGJQRL__g-k",
      "execution_count": 15,
      "outputs": [
        {
          "output_type": "stream",
          "name": "stdout",
          "text": [
            " Processando \n",
            "--------------------------------------------------\n",
            " Código gerado: (df['total'] - (df['preco_unitario'] * df['quantidade'])).groupby(df['tipo_produto']).mean().idxmax()\n",
            "✅ Resultado da execução: Casa\n",
            "\n",
            " === RESULTADO FINAL ===\n",
            "Query: Qual produto tem a maior margem de lucro?\n",
            "Código: (df['total'] - (df['preco_unitario'] * df['quantidade'])).groupby(df['tipo_produto']).mean().idxmax()\n",
            "Resultado: Casa\n",
            "\n",
            " === EXPLICAÇÃO ===\n",
            "--------------------------------------------------\n",
            "O produto com a maior margem de lucro é da categoria Casa.   O código utilizado foi: `(df['total'] -\n",
            "(df['preco_unitario'] * df['quantidade'])).groupby(df['tipo_produto']).mean().idxmax()`\n"
          ]
        }
      ]
    },
    {
      "cell_type": "code",
      "source": [
        "# Exemplo 4\n",
        "query = \"Quantas vendas foram feitas em cada mês?\"\n",
        "result = await executar_consulta(query)"
      ],
      "metadata": {
        "colab": {
          "base_uri": "https://localhost:8080/"
        },
        "id": "7GmSKrxt_ia9",
        "outputId": "fc36af0e-53d5-4fbb-c489-1b8662f55f2b"
      },
      "id": "7GmSKrxt_ia9",
      "execution_count": 16,
      "outputs": [
        {
          "output_type": "stream",
          "name": "stdout",
          "text": [
            " Processando \n",
            "--------------------------------------------------\n",
            " Código gerado: df['data'].str[:7].value_counts()\n",
            "✅ Resultado da execução: data\n",
            "2024-01    352\n",
            "2024-03    345\n",
            "2024-02    303\n",
            "Name: count, dtype: int64\n",
            "\n",
            " === RESULTADO FINAL ===\n",
            "Query: Quantas vendas foram feitas em cada mês?\n",
            "Código: df['data'].str[:7].value_counts()\n",
            "Resultado: data\n",
            "2024-01    352\n",
            "2024-03    345\n",
            "2024-02    303\n",
            "Name: count, dtype: int64\n",
            "\n",
            " === EXPLICAÇÃO ===\n",
            "--------------------------------------------------\n",
            "Em janeiro de 2024, foram feitas 352 vendas. Em fevereiro do mesmo ano, o número de vendas foi de\n",
            "303. Já em março de 2024, foram registradas 345 vendas.  O código utilizado foi\n",
            "df['data'].str[:7].value_counts()\n"
          ]
        }
      ]
    },
    {
      "cell_type": "code",
      "source": [
        "query = \"Qual o genêro que mais consome e o segmento do produto?\"\n",
        "result = await executar_consulta(query)"
      ],
      "metadata": {
        "colab": {
          "base_uri": "https://localhost:8080/"
        },
        "id": "QeXUbCZaOY2l",
        "outputId": "8a34a554-5c14-441c-e813-f31417b4804b"
      },
      "id": "QeXUbCZaOY2l",
      "execution_count": 17,
      "outputs": [
        {
          "output_type": "stream",
          "name": "stdout",
          "text": [
            " Processando \n",
            "--------------------------------------------------\n",
            " Código gerado: df.groupby(['genero', 'tipo_produto'])['total'].sum().reset_index().sort_values(by='total', ascending=False).head(1)\n",
            "✅ Resultado da execução:      genero         tipo_produto       total\n",
            "0  Feminino  Alimentos e Bebidas  33170.9175\n",
            "\n",
            " === RESULTADO FINAL ===\n",
            "Query: Qual o genêro que mais consome e o segmento do produto?\n",
            "Código: df.groupby(['genero', 'tipo_produto'])['total'].sum().reset_index().sort_values(by='total', ascending=False).head(1)\n",
            "Resultado:      genero         tipo_produto       total\n",
            "0  Feminino  Alimentos e Bebidas  33170.9175\n",
            "\n",
            " === EXPLICAÇÃO ===\n",
            "--------------------------------------------------\n",
            "O gênero que mais consome é o Feminino, com destaque para o segmento de Alimentos e Bebidas, que\n",
            "atingiu um total de R$ 33.170,92.  O código utilizado foi df.groupby(['genero',\n",
            "'tipo_produto'])['total'].sum().reset_index().sort_values(by='total', ascending=False).head(1)\n"
          ]
        }
      ]
    },
    {
      "cell_type": "markdown",
      "source": [
        "##12 Bateria de Testes"
      ],
      "metadata": {
        "id": "7gieDaX2_e2n"
      },
      "id": "7gieDaX2_e2n"
    },
    {
      "cell_type": "code",
      "source": [
        "# Executar múltiplas consultas de uma vez\n",
        "consultas_exemplo = [\n",
        "    \"Qual é a avaliação média de cada filial?\",\n",
        "    \"Quais são os 5 produtos mais vendidos?\",\n",
        "    \"Qual o total de vendas por região?\",\n",
        "    \"Qual produto tem a maior margem de lucro?\",\n",
        "    \"Quantas vendas foram feitas em cada mês?\",\n",
        "    \"Qual é a receita total por categoria de produto?\",\n",
        "    \"Qual filial teve melhor desempenho?\",\n",
        "    \"Mostre a distribuição de preços dos produtos\"\n",
        "]\n",
        "\n",
        "print(\" Executando bateria de testes...\")\n",
        "resultados = await executar_multiplas_consultas(consultas_exemplo)\n",
        "\n",
        "print(f\"\\n✅ Concluído! {len([r for r in resultados if r])} consultas processadas com sucesso.\")"
      ],
      "metadata": {
        "colab": {
          "base_uri": "https://localhost:8080/"
        },
        "id": "7t268z2a_rK5",
        "outputId": "48d7cd2c-15e8-472f-c12a-65639e32c1d3"
      },
      "id": "7t268z2a_rK5",
      "execution_count": 18,
      "outputs": [
        {
          "output_type": "stream",
          "name": "stdout",
          "text": [
            " Executando bateria de testes...\n",
            "\n",
            "============================================================\n",
            "CONSULTA 1/8\n",
            "============================================================\n",
            " Processando \n",
            "--------------------------------------------------\n",
            " Código gerado: df.groupby('filial')['avaliacao'].mean()\n",
            "✅ Resultado da execução: filial\n",
            "A    7.027059\n",
            "B    6.818072\n",
            "C    7.072866\n",
            "Name: avaliacao, dtype: float64\n",
            "\n",
            " === RESULTADO FINAL ===\n",
            "Query: Qual é a avaliação média de cada filial?\n",
            "Código: df.groupby('filial')['avaliacao'].mean()\n",
            "Resultado: filial\n",
            "A    7.027059\n",
            "B    6.818072\n",
            "C    7.072866\n",
            "Name: avaliacao, dtype: float64\n",
            "\n",
            " === EXPLICAÇÃO ===\n",
            "--------------------------------------------------\n",
            "A avaliação média de cada filial é a seguinte:  - Filial A: 7,027059 - Filial B: 6,818072 - Filial\n",
            "C: 7,072866  Esses valores indicam que a Filial C tem a melhor avaliação média, seguida de perto\n",
            "pela Filial A. A Filial B tem a avaliação média mais baixa entre as três.  O código utilizado foi\n",
            "df.groupby('filial')['avaliacao'].mean()\n",
            "\n",
            "\n",
            "\n",
            "============================================================\n",
            "CONSULTA 2/8\n",
            "============================================================\n",
            " Processando \n",
            "--------------------------------------------------\n",
            " Código gerado: df.groupby('tipo_produto')['quantidade'].sum().sort_values(ascending=False).head(5)\n",
            "✅ Resultado da execução: tipo_produto\n",
            "Eletrônicos            971\n",
            "Alimentos e Bebidas    952\n",
            "Esportes e Viagem      920\n",
            "Casa                   911\n",
            "Moda                   902\n",
            "Name: quantidade, dtype: int64\n",
            "\n",
            " === RESULTADO FINAL ===\n",
            "Query: Quais são os 5 produtos mais vendidos?\n",
            "Código: df.groupby('tipo_produto')['quantidade'].sum().sort_values(ascending=False).head(5)\n",
            "Resultado: tipo_produto\n",
            "Eletrônicos            971\n",
            "Alimentos e Bebidas    952\n",
            "Esportes e Viagem      920\n",
            "Casa                   911\n",
            "Moda                   902\n",
            "Name: quantidade, dtype: int64\n",
            "\n",
            " === EXPLICAÇÃO ===\n",
            "--------------------------------------------------\n",
            "Os 5 produtos mais vendidos são:  1. Eletrônicos, com 971 unidades vendidas 2. Alimentos e Bebidas,\n",
            "com 952 unidades vendidas 3. Esportes e Viagem, com 920 unidades vendidas 4. Casa, com 911 unidades\n",
            "vendidas 5. Moda, com 902 unidades vendidas  O código utilizado foi\n",
            "df.groupby('tipo_produto')['quantidade'].sum().sort_values(ascending=False).head(5)\n",
            "\n",
            "\n",
            "\n",
            "============================================================\n",
            "CONSULTA 3/8\n",
            "============================================================\n",
            " Processando \n",
            "--------------------------------------------------\n",
            " Código gerado: df.groupby('filial')['total'].sum()\n",
            "✅ Resultado da execução: filial\n",
            "A    106200.3705\n",
            "B    106197.6720\n",
            "C    110568.7065\n",
            "Name: total, dtype: float64\n",
            "\n",
            " === RESULTADO FINAL ===\n",
            "Query: Qual o total de vendas por região?\n",
            "Código: df.groupby('filial')['total'].sum()\n",
            "Resultado: filial\n",
            "A    106200.3705\n",
            "B    106197.6720\n",
            "C    110568.7065\n",
            "Name: total, dtype: float64\n",
            "\n",
            " === EXPLICAÇÃO ===\n",
            "--------------------------------------------------\n",
            "O total de vendas por região é o seguinte:   - Região A: R$ 106.200,37 - Região B: R$ 106.197,67 -\n",
            "Região C: R$ 110.568,71  Esses valores representam a soma das vendas totais para cada região.  O\n",
            "código utilizado foi df.groupby('filial')['total'].sum()\n",
            "\n",
            "\n",
            "\n",
            "============================================================\n",
            "CONSULTA 4/8\n",
            "============================================================\n",
            " Processando \n",
            "--------------------------------------------------\n",
            " Código gerado: (df['total'] - (df['preco_unitario'] * df['quantidade'])).groupby(df['tipo_produto']).mean().idxmax()\n",
            "✅ Resultado da execução: Casa\n",
            "\n",
            " === RESULTADO FINAL ===\n",
            "Query: Qual produto tem a maior margem de lucro?\n",
            "Código: (df['total'] - (df['preco_unitario'] * df['quantidade'])).groupby(df['tipo_produto']).mean().idxmax()\n",
            "Resultado: Casa\n",
            "\n",
            " === EXPLICAÇÃO ===\n",
            "--------------------------------------------------\n",
            "O produto com a maior margem de lucro é da categoria Casa.   O código utilizado foi: `(df['total'] -\n",
            "(df['preco_unitario'] * df['quantidade'])).groupby(df['tipo_produto']).mean().idxmax()`\n",
            "\n",
            "\n",
            "\n",
            "============================================================\n",
            "CONSULTA 5/8\n",
            "============================================================\n",
            " Processando \n",
            "--------------------------------------------------\n",
            " Código gerado: df['data'].str[:7].value_counts()\n",
            "✅ Resultado da execução: data\n",
            "2024-01    352\n",
            "2024-03    345\n",
            "2024-02    303\n",
            "Name: count, dtype: int64\n",
            "\n",
            " === RESULTADO FINAL ===\n",
            "Query: Quantas vendas foram feitas em cada mês?\n",
            "Código: df['data'].str[:7].value_counts()\n",
            "Resultado: data\n",
            "2024-01    352\n",
            "2024-03    345\n",
            "2024-02    303\n",
            "Name: count, dtype: int64\n",
            "\n",
            " === EXPLICAÇÃO ===\n",
            "--------------------------------------------------\n",
            "Em janeiro de 2024, foram feitas 352 vendas. Em fevereiro do mesmo ano, o número de vendas foi de\n",
            "303. Já em março de 2024, foram registradas 345 vendas.  O código utilizado foi\n",
            "df['data'].str[:7].value_counts()\n",
            "\n",
            "\n",
            "\n",
            "============================================================\n",
            "CONSULTA 6/8\n",
            "============================================================\n",
            " Processando \n",
            "--------------------------------------------------\n",
            " Código gerado: df.groupby('tipo_produto')['total'].sum()\n",
            "✅ Resultado da execução: tipo_produto\n",
            "Alimentos e Bebidas    56144.8440\n",
            "Casa                   53861.9130\n",
            "Eletrônicos            54337.5315\n",
            "Esportes e Viagem      55122.8265\n",
            "Moda                   54305.8950\n",
            "Saúde e Beleza         49193.7390\n",
            "Name: total, dtype: float64\n",
            "\n",
            " === RESULTADO FINAL ===\n",
            "Query: Qual é a receita total por categoria de produto?\n",
            "Código: df.groupby('tipo_produto')['total'].sum()\n",
            "Resultado: tipo_produto\n",
            "Alimentos e Bebidas    56144.8440\n",
            "Casa                   53861.9130\n",
            "Eletrônicos            54337.5315\n",
            "Esportes e Viagem      55122.8265\n",
            "Moda                   54305.8950\n",
            "Saúde e Beleza         49193.7390\n",
            "Name: total, dtype: float64\n",
            "\n",
            " === EXPLICAÇÃO ===\n",
            "--------------------------------------------------\n",
            "A receita total por categoria de produto é a seguinte:  - Alimentos e Bebidas: R$ 56.144,84 - Casa:\n",
            "R$ 53.861,91 - Eletrônicos: R$ 54.337,53 - Esportes e Viagem: R$ 55.122,83 - Moda: R$ 54.305,90 -\n",
            "Saúde e Beleza: R$ 49.193,74  Esses valores representam a soma das receitas de todos os produtos\n",
            "dentro de cada categoria.  O código utilizado foi df.groupby('tipo_produto')['total'].sum()\n",
            "\n",
            "\n",
            "\n",
            "============================================================\n",
            "CONSULTA 7/8\n",
            "============================================================\n",
            " Processando \n",
            "--------------------------------------------------\n",
            " Código gerado: df.groupby('filial')['total'].sum().idxmax()\n",
            "✅ Resultado da execução: C\n",
            "\n",
            " === RESULTADO FINAL ===\n",
            "Query: Qual filial teve melhor desempenho?\n",
            "Código: df.groupby('filial')['total'].sum().idxmax()\n",
            "Resultado: C\n",
            "\n",
            " === EXPLICAÇÃO ===\n",
            "--------------------------------------------------\n",
            "A filial que teve o melhor desempenho foi a filial C.   O código utilizado foi\n",
            "df.groupby('filial')['total'].sum().idxmax()\n",
            "\n",
            "\n",
            "\n",
            "============================================================\n",
            "CONSULTA 8/8\n",
            "============================================================\n",
            " Processando \n",
            "--------------------------------------------------\n",
            " Código gerado: df['preco_unitario'].value_counts(bins=10)\n",
            "✅ Resultado da execução: (90.972, 99.96]     117\n",
            "(19.068, 28.056]    113\n",
            "(72.996, 81.984]    109\n",
            "(46.032, 55.02]     105\n",
            "(9.989, 19.068]      95\n",
            "(64.008, 72.996]     95\n",
            "(37.044, 46.032]     94\n",
            "(28.056, 37.044]     91\n",
            "(81.984, 90.972]     91\n",
            "(55.02, 64.008]      90\n",
            "Name: count, dtype: int64\n",
            "\n",
            " === RESULTADO FINAL ===\n",
            "Query: Mostre a distribuição de preços dos produtos\n",
            "Código: df['preco_unitario'].value_counts(bins=10)\n",
            "Resultado: (90.972, 99.96]     117\n",
            "(19.068, 28.056]    113\n",
            "(72.996, 81.984]    109\n",
            "(46.032, 55.02]     105\n",
            "(9.989, 19.068]      95\n",
            "(64.008, 72.996]     95\n",
            "(37.044, 46.032]     94\n",
            "(28.056, 37.044]     91\n",
            "(81.984, 90.972]     91\n",
            "(55.02, 64.008]      90\n",
            "Name: count, dtype: int64\n",
            "\n",
            " === EXPLICAÇÃO ===\n",
            "--------------------------------------------------\n",
            "A distribuição de preços dos produtos indica que a maioria deles está concentrada em uma faixa de\n",
            "preço mais alta, próxima de R$ 90,00 a R$ 100,00, com 117 ocorrências. As faixas de preço\n",
            "intermediárias, como R$ 72,99 a R$ 81,98 e R$ 46,03 a R$ 55,02, também apresentam um número\n",
            "significativo de produtos, com 109 e 105 ocorrências, respectivamente.  Já as faixas de preço mais\n",
            "baixas, como R$ 9,98 a R$ 19,06 e R$ 28,05 a R$ 37,04, apresentam menos produtos, com 95 e 91\n",
            "ocorrências, respectivamente. A faixa de preço de R$ 55,02 a R$ 64,00 tem 90 produtos.  Essa\n",
            "distribuição sugere que os produtos tendem a ser mais caros, com uma concentração maior em faixas de\n",
            "preço mais altas.  O código utilizado foi `df['preco_unitario'].value_counts(bins=10)`.\n",
            "\n",
            "\n",
            "\n",
            "✅ Concluído! 8 consultas processadas com sucesso.\n"
          ]
        }
      ]
    },
    {
      "cell_type": "markdown",
      "source": [
        "##13 Modo Interativo"
      ],
      "metadata": {
        "id": "YU3bIuXj_ty_"
      },
      "id": "YU3bIuXj_ty_"
    },
    {
      "cell_type": "code",
      "source": [
        "# Modo interativo - digite suas próprias consultas\n",
        "print(\" MODO INTERATIVO\")\n",
        "print(\"Digite suas consultas (digite 'sair' para terminar)\")\n",
        "print(\"-\" * 50)\n",
        "\n",
        "while True:\n",
        "    try:\n",
        "        query = input(\"\\n Sua consulta: \").strip()\n",
        "\n",
        "        if query.lower() in ['sair', 'exit', 'quit', '']:\n",
        "            print(\" Até logo!\")\n",
        "            break\n",
        "\n",
        "        await executar_consulta(query, mostrar_detalhes=False)\n",
        "\n",
        "    except KeyboardInterrupt:\n",
        "        print(\"\\n Interrompido pelo usuário!\")\n",
        "        break\n",
        "    except Exception as e:\n",
        "        print(f\" Erro: {e}\")"
      ],
      "metadata": {
        "colab": {
          "base_uri": "https://localhost:8080/"
        },
        "id": "DXM0Gh67_oiY",
        "outputId": "64901f5a-2f2a-474f-bd01-bc3ee59b7c8a"
      },
      "id": "DXM0Gh67_oiY",
      "execution_count": 19,
      "outputs": [
        {
          "output_type": "stream",
          "name": "stdout",
          "text": [
            " MODO INTERATIVO\n",
            "Digite suas consultas (digite 'sair' para terminar)\n",
            "--------------------------------------------------\n",
            "\n",
            " Sua consulta: Desenvolva a melhor estratégia de crescimento para os próximos anos\n",
            " Processando \n",
            "--------------------------------------------------\n",
            " Código gerado: df.groupby('tipo_produto')['total'].sum().sort_values(ascending=False)\n",
            "✅ Resultado da execução: tipo_produto\n",
            "Alimentos e Bebidas    56144.8440\n",
            "Esportes e Viagem      55122.8265\n",
            "Eletrônicos            54337.5315\n",
            "Moda                   54305.8950\n",
            "Casa                   53861.9130\n",
            "Saúde e Beleza         49193.7390\n",
            "Name: total, dtype: float64\n",
            "\n",
            " === EXPLICAÇÃO ===\n",
            "--------------------------------------------------\n",
            "Para desenvolver a melhor estratégia de crescimento para os próximos anos, é fundamental entender os\n",
            "setores que atualmente apresentam maior potencial de retorno. Com base nos dados fornecidos, podemos\n",
            "observar que os produtos de \"Alimentos e Bebidas\", \"Esportes e Viagem\", \"Eletrônicos\", \"Moda\",\n",
            "\"Casa\" e \"Saúde e Beleza\" têm totais significativos.  No entanto, ao analisar os números, nota-se\n",
            "que \"Alimentos e Bebidas\" lidera com um total de 56144.8440, seguido de perto por \"Esportes e\n",
            "Viagem\" com 55122.8265. Isso sugere que os setores de alimentos e esportes/viagens são os mais\n",
            "rentáveis no momento.  Uma estratégia eficaz de crescimento poderia incluir:  1. **Investimento em\n",
            "Marketing e Expansão de Produtos**: Aumentar a presença no mercado de \"Alimentos e Bebidas\" e\n",
            "\"Esportes e Viagem\" através de campanhas de marketing direcionadas e expansão da linha de produtos\n",
            "pode ser uma abordagem inicial. Isso ajudaria a consolidar a posição nesses setores e a explorar\n",
            "novas oportunidades.  2. **Análise de Mercado e Tendências**: Realizar análises de mercado\n",
            "detalhadas para entender melhor as tendências de consumo em \"Eletrônicos\", \"Moda\", \"Casa\" e \"Saúde e\n",
            "Beleza\". Isso pode revelar nichos específicos dentro desses setores que estão crescendo rapidamente\n",
            "e que poderiam ser explorados.  3. **Diversificação com Foco em Serviços**: Considerar a\n",
            "diversificação para serviços relacionados a esses produtos. Por exemplo, oferecer serviços de\n",
            "entrega em domicílio para \"Alimentos e Bebidas\", ou pacotes de viagem personalizados para \"Esportes\n",
            "e Viagem\".  4. **Investimento em Tecnologia**: A tecnologia pode ser uma alavanca importante para o\n",
            "crescimento. Investir em plataformas de e-commerce para todos os setores pode ajudar a expandir a\n",
            "presença online e a alcançar mais clientes.  5. **Parcerias Estratégicas**: Formar parcerias com\n",
            "marcas ou empresas que já são líderes em alguns desses setores pode acelerar o crescimento e\n",
            "oferecer produtos e serviços mais diversificados.  6. **Foco na Experiência do Cliente**: Melhorar a\n",
            "experiência do cliente através de serviços de suporte aprimorados, programas de fidelidade e\n",
            "feedback contínuo pode ajudar a aumentar a retenção de clientes e a atrair novos consumidores.  O\n",
            "código utilizado foi: ```python\n",
            "df.groupby('tipo_produto')['total'].sum().sort_values(ascending=False) ```\n",
            "\n",
            " Sua consulta: sair\n",
            " Até logo!\n"
          ]
        }
      ]
    },
    {
      "cell_type": "markdown",
      "source": [
        "##14 Análise Manual dos Dados\n"
      ],
      "metadata": {
        "id": "YvXLkuzD_yrz"
      },
      "id": "YvXLkuzD_yrz"
    },
    {
      "cell_type": "code",
      "source": [
        "# Análise dos dados originais para comparação\n",
        "print(\" ANÁLISE MANUAL DOS DADOS (para comparação)\")\n",
        "print(\"=\"*50)\n",
        "\n",
        "print(f\"Estatísticas básicas:\")\n",
        "print(df.describe())\n",
        "\n",
        "print(f\"\\nContagem por categoria:\")\n",
        "for col in df.select_dtypes(include=['object']).columns:\n",
        "    print(f\"\\n{col}:\")\n",
        "    print(df[col].value_counts().head())\n",
        "\n",
        "print(f\"\\nValores nulos:\")\n",
        "print(df.isnull().sum())"
      ],
      "metadata": {
        "colab": {
          "base_uri": "https://localhost:8080/"
        },
        "id": "ohovTGoP_7tG",
        "outputId": "ab168fe0-d231-4078-ee87-467f714bfb83"
      },
      "id": "ohovTGoP_7tG",
      "execution_count": 20,
      "outputs": [
        {
          "output_type": "stream",
          "name": "stdout",
          "text": [
            " ANÁLISE MANUAL DOS DADOS (para comparação)\n",
            "==================================================\n",
            "Estatísticas básicas:\n",
            "       preco_unitario   quantidade   imposto_5%        total   avaliacao\n",
            "count     1000.000000  1000.000000  1000.000000  1000.000000  1000.00000\n",
            "mean        55.672130     5.510000    15.379369   322.966749     6.97270\n",
            "std         26.494628     2.923431    11.708825   245.885335     1.71858\n",
            "min         10.080000     1.000000     0.508500    10.678500     4.00000\n",
            "25%         32.875000     3.000000     5.924875   124.422375     5.50000\n",
            "50%         55.230000     5.000000    12.088000   253.848000     7.00000\n",
            "75%         77.935000     8.000000    22.445250   471.350250     8.50000\n",
            "max         99.960000    10.000000    49.650000  1042.650000    10.00000\n",
            "\n",
            "Contagem por categoria:\n",
            "\n",
            "ID_compra:\n",
            "ID_compra\n",
            "849-09-3807    1\n",
            "750-67-8428    1\n",
            "226-31-3081    1\n",
            "631-41-3108    1\n",
            "123-19-1176    1\n",
            "Name: count, dtype: int64\n",
            "\n",
            "filial:\n",
            "filial\n",
            "A    340\n",
            "B    332\n",
            "C    328\n",
            "Name: count, dtype: int64\n",
            "\n",
            "cidade:\n",
            "cidade\n",
            "Santo André              340\n",
            "São Bernardo do Campo    332\n",
            "São Caetano              328\n",
            "Name: count, dtype: int64\n",
            "\n",
            "tipo_cliente:\n",
            "tipo_cliente\n",
            "Membro    501\n",
            "Normal    499\n",
            "Name: count, dtype: int64\n",
            "\n",
            "genero:\n",
            "genero\n",
            "Feminino     501\n",
            "Masculino    499\n",
            "Name: count, dtype: int64\n",
            "\n",
            "tipo_produto:\n",
            "tipo_produto\n",
            "Moda                   178\n",
            "Alimentos e Bebidas    174\n",
            "Eletrônicos            170\n",
            "Esportes e Viagem      166\n",
            "Casa                   160\n",
            "Name: count, dtype: int64\n",
            "\n",
            "data:\n",
            "data\n",
            "2024-02-07    20\n",
            "2024-02-15    19\n",
            "2024-03-02    18\n",
            "2024-01-08    18\n",
            "2024-03-14    18\n",
            "Name: count, dtype: int64\n",
            "\n",
            "hora:\n",
            "hora\n",
            "19:48:00    7\n",
            "14:42:00    7\n",
            "17:38:00    6\n",
            "17:36:00    5\n",
            "19:39:00    5\n",
            "Name: count, dtype: int64\n",
            "\n",
            "forma_pagamento:\n",
            "forma_pagamento\n",
            "Carteira Digital     345\n",
            "Dinheiro             344\n",
            "Cartão de Crédito    311\n",
            "Name: count, dtype: int64\n",
            "\n",
            "Valores nulos:\n",
            "ID_compra          0\n",
            "filial             0\n",
            "cidade             0\n",
            "tipo_cliente       0\n",
            "genero             0\n",
            "tipo_produto       0\n",
            "preco_unitario     0\n",
            "quantidade         0\n",
            "imposto_5%         0\n",
            "total              0\n",
            "data               0\n",
            "hora               0\n",
            "forma_pagamento    0\n",
            "avaliacao          0\n",
            "dtype: int64\n"
          ]
        }
      ]
    },
    {
      "cell_type": "markdown",
      "source": [
        "#Dicas e Informações"
      ],
      "metadata": {
        "id": "ETccYDWS_4Zc"
      },
      "id": "ETccYDWS_4Zc"
    },
    {
      "cell_type": "code",
      "source": [
        "print(\"💡 DICAS PARA USO:\")\n",
        "print(\"=\"*50)\n",
        "print(\"1. Para consultas complexas, seja específico\")\n",
        "print(\"2. Use nomes exatos das colunas mostradas na análise\")\n",
        "print(\"3. Experimente diferentes tipos de análise:\")\n",
        "print(\"   - Agrupamentos: 'média por categoria'\")\n",
        "print(\"   - Rankings: 'top 10 produtos'\")\n",
        "print(\"   - Filtros: 'vendas acima de X valor'\")\n",
        "print(\"   - Séries temporais: 'vendas por mês'\")\n",
        "print(\"4. O sistema mostra o código Pandas usado!\")\n",
        "\n",
        "print(f\"\\n INFORMAÇÕES DO DATASET:\")\n",
        "print(f\"Suas colunas: {list(df.columns)}\")\n",
        "print(f\"Quantidade de dados: {df.shape[0]} linhas x {df.shape[1]} colunas\")\n",
        "print(f\"Tipos de dados: {df.dtypes.value_counts().to_dict()}\")\n",
        "\n",
        "print(f\"\\n SUGESTÕES DE CONSULTAS:\")\n",
        "example_queries = [\n",
        "    \"Qual a correlação entre preço e quantidade vendida?\",\n",
        "    \"Mostre a distribuição de vendas por dia da semana\",\n",
        "    \"Qual filial tem o melhor desempenho?\",\n",
        "    \"Compare as vendas do primeiro e último trimestre\",\n",
        "    \"Identifique produtos com baixo estoque\",\n",
        "    \"Qual é o produto mais caro por categoria?\",\n",
        "    \"Mostre as vendas médias por vendedor\",\n",
        "    \"Qual região tem menor variação de preços?\"\n",
        "]\n",
        "\n",
        "for i, query in enumerate(example_queries, 1):\n",
        "    print(f\"{i}. {query}\")\n",
        "\n",
        "print(f\"\\n MODELO UTILIZADO: {config.model}\")\n",
        "print(f\" URL DOS DADOS: {config.data_url}\")"
      ],
      "metadata": {
        "colab": {
          "base_uri": "https://localhost:8080/"
        },
        "id": "lEPP6tuj_925",
        "outputId": "ad1ef185-be56-4579-c6f8-769fd178330f"
      },
      "id": "lEPP6tuj_925",
      "execution_count": 21,
      "outputs": [
        {
          "output_type": "stream",
          "name": "stdout",
          "text": [
            "💡 DICAS PARA USO:\n",
            "==================================================\n",
            "1. Para consultas complexas, seja específico\n",
            "2. Use nomes exatos das colunas mostradas na análise\n",
            "3. Experimente diferentes tipos de análise:\n",
            "   - Agrupamentos: 'média por categoria'\n",
            "   - Rankings: 'top 10 produtos'\n",
            "   - Filtros: 'vendas acima de X valor'\n",
            "   - Séries temporais: 'vendas por mês'\n",
            "4. O sistema mostra o código Pandas usado!\n",
            "\n",
            " INFORMAÇÕES DO DATASET:\n",
            "Suas colunas: ['ID_compra', 'filial', 'cidade', 'tipo_cliente', 'genero', 'tipo_produto', 'preco_unitario', 'quantidade', 'imposto_5%', 'total', 'data', 'hora', 'forma_pagamento', 'avaliacao']\n",
            "Quantidade de dados: 1000 linhas x 14 colunas\n",
            "Tipos de dados: {dtype('O'): 9, dtype('float64'): 4, dtype('int64'): 1}\n",
            "\n",
            " SUGESTÕES DE CONSULTAS:\n",
            "1. Qual a correlação entre preço e quantidade vendida?\n",
            "2. Mostre a distribuição de vendas por dia da semana\n",
            "3. Qual filial tem o melhor desempenho?\n",
            "4. Compare as vendas do primeiro e último trimestre\n",
            "5. Identifique produtos com baixo estoque\n",
            "6. Qual é o produto mais caro por categoria?\n",
            "7. Mostre as vendas médias por vendedor\n",
            "8. Qual região tem menor variação de preços?\n",
            "\n",
            " MODELO UTILIZADO: meta-llama/llama-4-scout-17b-16e-instruct\n",
            " URL DOS DADOS: https://raw.githubusercontent.com/YuriArduino/Estudos_Artificial_Intelligence/refs/heads/Dados/vendas.csv\n"
          ]
        }
      ]
    },
    {
      "cell_type": "markdown",
      "source": [
        "#Notas de Uso:\n",
        "\n",
        "*   Configuração da API: Configure sua chave Groq nos Secrets do Colab\n",
        "*   Execução sequencial: Execute as células na ordem\n",
        "*   Personalização: Modifique a URL dos dados na Célula 6\n",
        "*   Debug: Os logs mostram o código Pandas gerado\n",
        "*   Interativo: Use a Célula 12 para consultas livres\n",
        "\n",
        "##Estrutura final:\n",
        "\n",
        "*   Instalação automática de dependências\n",
        "* Configuração completa da API\n",
        "* Exploração automática dos dados\n",
        "* Sistema de workflow robusto\n",
        "* Exemplos prontos para uso\n",
        "* Modo interativo\n",
        "* Sistema de debug integrado\n",
        "\n",
        "\n",
        ">Desenvolvido por Yuri Arduino Bernardineli Alves | GitHub: [YuriArduino](https://github.com/YuriArduino) | E-mail: yuriarduino@gmail.com"
      ],
      "metadata": {
        "id": "_TbE6Un3AGjs"
      },
      "id": "_TbE6Un3AGjs"
    }
  ],
  "metadata": {
    "colab": {
      "provenance": [],
      "include_colab_link": true
    },
    "language_info": {
      "name": "python"
    },
    "kernelspec": {
      "name": "python3",
      "display_name": "Python 3"
    }
  },
  "nbformat": 4,
  "nbformat_minor": 5
}