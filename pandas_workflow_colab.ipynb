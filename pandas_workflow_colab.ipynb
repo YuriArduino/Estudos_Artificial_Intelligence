{
  "cells": [
    {
      "cell_type": "markdown",
      "metadata": {
        "id": "view-in-github",
        "colab_type": "text"
      },
      "source": [
        "<a href=\"https://colab.research.google.com/github/YuriArduino/Estudos_Artificial_Intelligence/blob/llamaIndex-analisando-dados-pandas/pandas_workflow_colab.ipynb\" target=\"_parent\"><img src=\"https://colab.research.google.com/assets/colab-badge.svg\" alt=\"Open In Colab\"/></a>"
      ]
    },
    {
      "cell_type": "markdown",
      "source": [
        "# Pandas Workflow com LlamaIndex Workflows\n",
        "\n",
        "##Instalar Dependências:"
      ],
      "metadata": {
        "id": "3pzznnjN3W-Z"
      },
      "id": "3pzznnjN3W-Z"
    },
    {
      "cell_type": "code",
      "execution_count": 7,
      "id": "eaa06244",
      "metadata": {
        "id": "eaa06244"
      },
      "outputs": [],
      "source": [
        "# Instalar dependências (-q para instalação silenciosa)\n",
        "!pip install -q llama-index llama-index-llms-openai llama-index-llms-groq llama-index-experimental gradio fpdf"
      ]
    },
    {
      "cell_type": "markdown",
      "id": "8bbf94cd",
      "metadata": {
        "id": "8bbf94cd"
      },
      "source": [
        "\n",
        "# Sobre a Atualização do LlamaIndex\n",
        "\n",
        "O **LlamaIndex** descontinuou o módulo **QueryPipeline** em favor de uma nova abordagem chamada **Workflows**.\n",
        "Essa mudança foi implementada na versão `0.11` do LlamaIndex, com o objetivo de oferecer uma arquitetura mais\n",
        "flexível e escalável para a construção de aplicações de IA generativa.\n",
        "\n",
        "### Por que o QueryPipeline foi descontinuado?\n",
        "O QueryPipeline era uma API declarativa útil para orquestrar consultas simples a avançadas sobre os dados.\n",
        "Porém, ele se mostrou limitado para cenários mais dinâmicos. Por isso, os **Workflows** foram introduzidos,\n",
        "trazendo uma arquitetura orientada a eventos para fluxos de trabalho mais sofisticados.\n",
        "\n",
        "### O que são Workflows?\n",
        "Workflows permitem orquestrar etapas personalizadas de forma assíncrona e condicional, facilitando\n",
        "integrações complexas e manipulação de dados em tempo real.\n",
        "\n",
        "**Documentação oficial:** [docs.llamaindex.ai](https://docs.llamaindex.ai)\n",
        "\n",
        "\n",
        "#Código:\n"
      ]
    },
    {
      "cell_type": "markdown",
      "source": [
        "##Imports"
      ],
      "metadata": {
        "id": "TfVHgRx83GYA"
      },
      "id": "TfVHgRx83GYA"
    },
    {
      "cell_type": "code",
      "execution_count": 8,
      "id": "327f6a9c",
      "metadata": {
        "id": "327f6a9c"
      },
      "outputs": [],
      "source": [
        "import pandas as pd\n",
        "import textwrap\n",
        "from pydantic import BaseModel, Field, field_validator, SkipValidation\n",
        "from llama_index.core import Settings\n",
        "from llama_index.llms.groq import Groq\n",
        "from llama_index.experimental.query_engine import PandasQueryEngine\n",
        "from llama_index.core.workflow import Workflow, Event, StartEvent, StopEvent, step\n",
        "from google.colab import userdata\n",
        "import re"
      ]
    },
    {
      "cell_type": "markdown",
      "source": [
        "## ===== Configuração Pydantic V2 ====="
      ],
      "metadata": {
        "id": "eaOg-rIf3jaL"
      },
      "id": "eaOg-rIf3jaL"
    },
    {
      "cell_type": "code",
      "source": [
        "class LLMConfig(BaseModel):\n",
        "    model: str = Field(..., description=\"Nome do modelo Groq a ser usado\")\n",
        "    api_key: str = Field(..., description=\"Chave da API Groq\")\n",
        "    data_url: str = Field(..., description=\"URL do CSV com os dados\")\n",
        "\n",
        "    @field_validator(\"data_url\")\n",
        "    @classmethod\n",
        "    def validar_url(cls, v: str) -> str:\n",
        "        if not (v.startswith(\"http://\") or v.startswith(\"https://\")):\n",
        "            raise ValueError(\"data_url deve começar com http:// ou https://\")\n",
        "        return v\n",
        "\n",
        "    @field_validator(\"api_key\")\n",
        "    @classmethod\n",
        "    def validar_api_key(cls, v: str) -> str:\n",
        "        if not v or len(v.strip()) == 0:\n",
        "            raise ValueError(\"api_key não pode ser vazia\")\n",
        "        return v"
      ],
      "metadata": {
        "id": "zf65iXIp3riw"
      },
      "id": "zf65iXIp3riw",
      "execution_count": 9,
      "outputs": []
    },
    {
      "cell_type": "markdown",
      "source": [
        "##Funções Textuais:"
      ],
      "metadata": {
        "id": "zoVRLbkg38zx"
      },
      "id": "zoVRLbkg38zx"
    },
    {
      "cell_type": "code",
      "execution_count": 11,
      "id": "2ecab43e",
      "metadata": {
        "id": "2ecab43e"
      },
      "outputs": [],
      "source": [
        "def formatar_texto(response: str, largura: int = 100, imprimir: bool = True):\n",
        "    texto_formatado = textwrap.fill(response, width=largura)\n",
        "    if imprimir:\n",
        "        print(texto_formatado)\n",
        "    return texto_formatado\n",
        "\n",
        "def descricao_colunas(df: pd.DataFrame) -> str:\n",
        "    descricao = \"\\n\".join([f\"`{col}`: {str(df[col].dtype)}\" for col in df.columns])\n",
        "    return \"Colunas do DataFrame:\\n\" + descricao\n",
        "\n",
        "def limpar_codigo_pandas(codigo: str) -> str:\n",
        "    codigo = re.sub(r'```(?:python)?\\n?', '', codigo)\n",
        "    linhas = codigo.split('\\n')\n",
        "    codigo_limpo = []\n",
        "    for linha in linhas:\n",
        "        linha = linha.strip()\n",
        "        if (linha and\n",
        "            not linha.startswith('#') and\n",
        "            not linha.startswith('//') and\n",
        "            not linha.lower().startswith('resposta:') and\n",
        "            not linha.lower().startswith('resultado:') and\n",
        "            not linha.lower().startswith('código:')):\n",
        "            codigo_limpo.append(linha)\n",
        "    codigo_final = '\\n'.join(codigo_limpo).strip()\n",
        "    if '\\n' in codigo_final:\n",
        "        for linha in codigo_final.split('\\n'):\n",
        "            if linha.startswith('df.') or linha.startswith('df['):\n",
        "                return linha\n",
        "    return codigo_final"
      ]
    },
    {
      "cell_type": "markdown",
      "source": [
        "### Prompts:"
      ],
      "metadata": {
        "id": "ynQMHepO4AOC"
      },
      "id": "ynQMHepO4AOC"
    },
    {
      "cell_type": "code",
      "source": [
        "instruction_str = (\n",
        "    \"1. Converta a consulta para código Python executável usando Pandas.\\n\"\n",
        "    \"2. A linha final do código deve ser uma expressão Python que possa ser chamada com a função eval().\\n\"\n",
        "    \"3. O código deve representar uma solução para a consulta.\\n\"\n",
        "    \"4. IMPRIMA APENAS A EXPRESSÃO.\\n\"\n",
        "    \"5. Não coloque a expressão entre aspas.\\n\"\n",
        ")\n",
        "\n",
        "pandas_prompt_str = (\n",
        "    \"Você está trabalhando com um dataframe do pandas em Python chamado df.\\n\"\n",
        "    \"{colunas_detalhes}\\n\\n\"\n",
        "    \"Este é o resultado de print(df.head()):\\n\"\n",
        "    \"{df_str}\\n\\n\"\n",
        "    \"Siga estas instruções:\\n\"\n",
        "    \"{instruction_str}\\n\"\n",
        "    \"Consulta: {query_str}\\n\\n\"\n",
        "    \"Expressão:\"\n",
        ")\n",
        "\n",
        "response_synthesis_prompt_str = (\n",
        "   \"Dada uma pergunta de entrada, atue como analista de dados e elabore uma resposta a partir dos resultados da consulta.\\n\"\n",
        "   \"Responda de forma natural.\\n\"\n",
        "   \"Consulta: {query_str}\\n\\n\"\n",
        "   \"Instruções do Pandas:\\n{pandas_instructions}\\n\\n\"\n",
        "   \"Saída do Pandas: {pandas_output}\\n\\n\"\n",
        "   \"Resposta:\"\n",
        "   \"Ao final, exibir o código usado para gerar a resposta, no formato: O código utilizado foi {pandas_instructions}\"\n",
        ")"
      ],
      "metadata": {
        "id": "FPIEtIXE4Inc"
      },
      "id": "FPIEtIXE4Inc",
      "execution_count": 13,
      "outputs": []
    },
    {
      "cell_type": "code",
      "execution_count": 14,
      "id": "b825ff55",
      "metadata": {
        "colab": {
          "base_uri": "https://localhost:8080/"
        },
        "id": "b825ff55",
        "outputId": "5ce88751-9245-4d09-83dc-88605a000c2e"
      },
      "outputs": [
        {
          "output_type": "stream",
          "name": "stdout",
          "text": [
            "Estrutura do DataFrame:\n",
            "     ID_compra filial       cidade tipo_cliente     genero       tipo_produto  \\\n",
            "0  750-67-8428      A  Santo André       Membro   Feminino     Saúde e Beleza   \n",
            "1  226-31-3081      C  São Caetano       Normal   Feminino        Eletrônicos   \n",
            "2  631-41-3108      A  Santo André       Normal  Masculino               Casa   \n",
            "3  123-19-1176      A  Santo André       Membro  Masculino     Saúde e Beleza   \n",
            "4  373-73-7910      A  Santo André       Normal  Masculino  Esportes e Viagem   \n",
            "\n",
            "   preco_unitario  quantidade  imposto_5%     total        data      hora  \\\n",
            "0           74.69           7     26.1415  548.9715  2024-01-05  13:08:00   \n",
            "1           15.28           5      3.8200   80.2200  2024-03-08  10:29:00   \n",
            "2           46.33           7     16.2155  340.5255  2024-03-03  13:23:00   \n",
            "3           58.22           8     23.2880  489.0480  2024-01-27  20:33:00   \n",
            "4           86.31           7     30.2085  634.3785  2024-02-08  10:37:00   \n",
            "\n",
            "     forma_pagamento  avaliacao  \n",
            "0   Carteira Digital        9.1  \n",
            "1           Dinheiro        9.6  \n",
            "2  Cartão de Crédito        7.4  \n",
            "3   Carteira Digital        8.4  \n",
            "4   Carteira Digital        5.3  \n",
            "\n",
            "Colunas disponíveis:\n",
            "['ID_compra', 'filial', 'cidade', 'tipo_cliente', 'genero', 'tipo_produto', 'preco_unitario', 'quantidade', 'imposto_5%', 'total', 'data', 'hora', 'forma_pagamento', 'avaliacao']\n",
            "\n",
            "Info do DataFrame:\n",
            "<class 'pandas.core.frame.DataFrame'>\n",
            "RangeIndex: 1000 entries, 0 to 999\n",
            "Data columns (total 14 columns):\n",
            " #   Column           Non-Null Count  Dtype  \n",
            "---  ------           --------------  -----  \n",
            " 0   ID_compra        1000 non-null   object \n",
            " 1   filial           1000 non-null   object \n",
            " 2   cidade           1000 non-null   object \n",
            " 3   tipo_cliente     1000 non-null   object \n",
            " 4   genero           1000 non-null   object \n",
            " 5   tipo_produto     1000 non-null   object \n",
            " 6   preco_unitario   1000 non-null   float64\n",
            " 7   quantidade       1000 non-null   int64  \n",
            " 8   imposto_5%       1000 non-null   float64\n",
            " 9   total            1000 non-null   float64\n",
            " 10  data             1000 non-null   object \n",
            " 11  hora             1000 non-null   object \n",
            " 12  forma_pagamento  1000 non-null   object \n",
            " 13  avaliacao        1000 non-null   float64\n",
            "dtypes: float64(4), int64(1), object(9)\n",
            "memory usage: 109.5+ KB\n",
            "None\n"
          ]
        }
      ],
      "source": [
        "key = userdata.get(\"Groq_API\")\n",
        "\n",
        "config = LLMConfig(\n",
        "    model=\"meta-llama/llama-4-scout-17b-16e-instruct\",\n",
        "    api_key=key,\n",
        "    data_url=\"https://raw.githubusercontent.com/YuriArduino/Estudos_Artificial_Intelligence/refs/heads/Dados/vendas.csv\"\n",
        ")\n",
        "\n",
        "df = pd.read_csv(config.data_url)\n",
        "Settings.llm = Groq(model=config.model, api_key=config.api_key)\n",
        "\n",
        "print(\"Estrutura do DataFrame:\")\n",
        "print(df.head())\n",
        "print(\"\\nColunas disponíveis:\")\n",
        "print(df.columns.tolist())\n",
        "print(\"\\nInfo do DataFrame:\")\n",
        "print(df.info())"
      ]
    },
    {
      "cell_type": "code",
      "execution_count": 15,
      "id": "6e04d1ba",
      "metadata": {
        "id": "6e04d1ba"
      },
      "outputs": [],
      "source": [
        "class CodeEvent(Event):\n",
        "    pandas_prompt: str\n",
        "    query: str\n",
        "\n",
        "class OutputEvent(Event):\n",
        "    pandas_code: str\n",
        "    pandas_output: SkipValidation\n",
        "    query: str\n",
        "    pandas_prompt: str\n",
        "\n",
        "class ExecutedEvent(OutputEvent):\n",
        "    pass\n",
        "\n",
        "class ResponseEvent(StopEvent):\n",
        "    query: str\n",
        "    pandas_code: str\n",
        "    pandas_output: SkipValidation\n",
        "    resposta_final: str\n",
        "\n",
        "class PandasWorkflow(Workflow):\n",
        "    llm = Settings.llm\n",
        "    workflow_steps = [\"start_query\", \"generate_code\", \"execute_code\", \"synthesize_response\"]\n",
        "\n",
        "    @step\n",
        "    async def start_query(self, ev: StartEvent) -> CodeEvent:\n",
        "        colunas_info = descricao_colunas(df)\n",
        "        prompt_text = pandas_prompt_str.format(\n",
        "            colunas_detalhes=colunas_info,\n",
        "            df_str=df.head(),\n",
        "            instruction_str=instruction_str,\n",
        "            query_str=ev.query\n",
        "        )\n",
        "        return CodeEvent(pandas_prompt=prompt_text, query=ev.query)\n",
        "\n",
        "    @step\n",
        "    async def generate_code(self, ev: CodeEvent) -> OutputEvent:\n",
        "        response = await self.llm.acomplete(ev.pandas_prompt)\n",
        "        codigo_limpo = limpar_codigo_pandas(str(response).strip())\n",
        "        print(f\"Código gerado: {codigo_limpo}\")\n",
        "        return OutputEvent(\n",
        "            pandas_code=codigo_limpo,\n",
        "            pandas_output=None,\n",
        "            query=ev.query,\n",
        "            pandas_prompt=ev.pandas_prompt\n",
        "        )\n",
        "\n",
        "    @step\n",
        "    async def execute_code(self, ev: OutputEvent) -> ExecutedEvent:\n",
        "        try:\n",
        "            if not ev.pandas_code or not ev.pandas_code.strip():\n",
        "                resultado = \"Erro: Código vazio gerado\"\n",
        "            elif not ev.pandas_code.startswith('df'):\n",
        "                resultado = f\"Erro: Código deve começar com 'df', recebido: {ev.pandas_code}\"\n",
        "            else:\n",
        "                resultado = eval(ev.pandas_code, {\"df\": df, \"pd\": pd})\n",
        "                print(f\"Resultado da execução: {resultado}\")\n",
        "        except Exception as e:\n",
        "            resultado = f\"Erro ao executar '{ev.pandas_code}': {str(e)}\"\n",
        "            print(f\"Erro na execução: {resultado}\")\n",
        "        return ExecutedEvent(\n",
        "            pandas_code=ev.pandas_code,\n",
        "            pandas_output=resultado,\n",
        "            query=ev.query,\n",
        "            pandas_prompt=ev.pandas_prompt\n",
        "        )\n",
        "\n",
        "    @step\n",
        "    async def synthesize_response(self, ev: ExecutedEvent) -> ResponseEvent:\n",
        "        if isinstance(ev.pandas_output, str) and ev.pandas_output.startswith(\"Erro\"):\n",
        "            resposta_final = f\"Não foi possível processar a consulta: {ev.pandas_output}\"\n",
        "        else:\n",
        "            prompt_text = response_synthesis_prompt_str.format(\n",
        "                query_str=ev.query,\n",
        "                pandas_instructions=ev.pandas_code,\n",
        "                pandas_output=ev.pandas_output\n",
        "            )\n",
        "            resposta = await self.llm.acomplete(prompt_text)\n",
        "            resposta_final = str(resposta).strip()\n",
        "        return ResponseEvent(\n",
        "            query=ev.query,\n",
        "            pandas_code=ev.pandas_code,\n",
        "            pandas_output=ev.pandas_output,\n",
        "            resposta_final=resposta_final\n",
        "        )"
      ]
    },
    {
      "cell_type": "code",
      "execution_count": 16,
      "id": "69f8a50d",
      "metadata": {
        "colab": {
          "base_uri": "https://localhost:8080/"
        },
        "id": "69f8a50d",
        "outputId": "3e40b0bc-4573-477f-980f-62e76c9f4d08"
      },
      "outputs": [
        {
          "output_type": "stream",
          "name": "stdout",
          "text": [
            "Código gerado: df.groupby('filial')['avaliacao'].mean().reset_index().set_index('filial').T\n",
            "Resultado da execução: filial            A         B         C\n",
            "avaliacao  7.027059  6.818072  7.072866\n",
            "\n",
            "=== RESULTADO FINAL ===\n",
            "Query: Qual é a avaliação média de cada filial?\n",
            "Código: df.groupby('filial')['avaliacao'].mean().reset_index().set_index('filial').T\n",
            "Resultado: filial            A         B         C\n",
            "avaliacao  7.027059  6.818072  7.072866\n",
            "\n",
            "=== EXPLICAÇÃO ===\n",
            "Com base nos resultados fornecidos pela consulta, podemos observar que a avaliação média de cada\n",
            "filial é a seguinte:  - Filial A: 7,027059 - Filial B: 6,818072 - Filial C: 7,072866  Esses valores\n",
            "indicam que a Filial C tem a avaliação média mais alta, seguida de perto pela Filial A, e a Filial B\n",
            "tem a avaliação média mais baixa entre as três.  O código utilizado foi\n",
            "`df.groupby('filial')['avaliacao'].mean().reset_index().set_index('filial').T`\n"
          ]
        },
        {
          "output_type": "execute_result",
          "data": {
            "text/plain": [
              "ResponseEvent(query='Qual é a avaliação média de cada filial?', pandas_code=\"df.groupby('filial')['avaliacao'].mean().reset_index().set_index('filial').T\", pandas_output=filial            A         B         C\n",
              "avaliacao  7.027059  6.818072  7.072866, resposta_final=\"Com base nos resultados fornecidos pela consulta, podemos observar que a avaliação média de cada filial é a seguinte:\\n\\n- Filial A: 7,027059\\n- Filial B: 6,818072\\n- Filial C: 7,072866\\n\\nEsses valores indicam que a Filial C tem a avaliação média mais alta, seguida de perto pela Filial A, e a Filial B tem a avaliação média mais baixa entre as três.\\n\\nO código utilizado foi `df.groupby('filial')['avaliacao'].mean().reset_index().set_index('filial').T`\")"
            ]
          },
          "metadata": {},
          "execution_count": 16
        }
      ],
      "source": [
        "import asyncio\n",
        "\n",
        "async def executar_consulta(query: str):\n",
        "    wf = PandasWorkflow(timeout=60, verbose=False)\n",
        "    try:\n",
        "        result = await wf.run(query=query)\n",
        "        print(f\"\\n=== RESULTADO FINAL ===\")\n",
        "        print(f\"Query: {result.query}\")\n",
        "        print(f\"Código: {result.pandas_code}\")\n",
        "        print(f\"Resultado: {result.pandas_output}\")\n",
        "        print(f\"\\n=== EXPLICAÇÃO ===\")\n",
        "        formatar_texto(result.resposta_final)\n",
        "        return result\n",
        "    except Exception as e:\n",
        "        print(f\"Erro no workflow: {str(e)}\")\n",
        "        return None\n",
        "\n",
        "# Executar exemplo\n",
        "query = \"Qual é a avaliação média de cada filial?\"\n",
        "await executar_consulta(query)"
      ]
    }
  ],
  "metadata": {
    "colab": {
      "provenance": [],
      "include_colab_link": true
    },
    "language_info": {
      "name": "python"
    },
    "kernelspec": {
      "name": "python3",
      "display_name": "Python 3"
    }
  },
  "nbformat": 4,
  "nbformat_minor": 5
}