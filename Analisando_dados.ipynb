{
  "nbformat": 4,
  "nbformat_minor": 0,
  "metadata": {
    "colab": {
      "provenance": [],
      "authorship_tag": "ABX9TyOIs6jometeCl5Rik9POsrN"
    },
    "kernelspec": {
      "name": "python3",
      "display_name": "Python 3"
    },
    "language_info": {
      "name": "python"
    }
  },
  "cells": [
    {
      "cell_type": "code",
      "execution_count": 1,
      "metadata": {
        "colab": {
          "base_uri": "https://localhost:8080/"
        },
        "id": "yU_tSlUyYdKl",
        "outputId": "79b22bdf-a937-46c8-944f-6ea4b1a686a1"
      },
      "outputs": [
        {
          "output_type": "stream",
          "name": "stdout",
          "text": [
            "Requirement already satisfied: llama-index in /usr/local/lib/python3.12/dist-packages (0.13.5)\n",
            "Requirement already satisfied: llama-index-cli<0.6,>=0.5.0 in /usr/local/lib/python3.12/dist-packages (from llama-index) (0.5.0)\n",
            "Requirement already satisfied: llama-index-core<0.14,>=0.13.5 in /usr/local/lib/python3.12/dist-packages (from llama-index) (0.13.5)\n",
            "Requirement already satisfied: llama-index-embeddings-openai<0.6,>=0.5.0 in /usr/local/lib/python3.12/dist-packages (from llama-index) (0.5.0)\n",
            "Requirement already satisfied: llama-index-indices-managed-llama-cloud>=0.4.0 in /usr/local/lib/python3.12/dist-packages (from llama-index) (0.9.3)\n",
            "Requirement already satisfied: llama-index-llms-openai<0.6,>=0.5.0 in /usr/local/lib/python3.12/dist-packages (from llama-index) (0.5.4)\n",
            "Requirement already satisfied: llama-index-readers-file<0.6,>=0.5.0 in /usr/local/lib/python3.12/dist-packages (from llama-index) (0.5.3)\n",
            "Requirement already satisfied: llama-index-readers-llama-parse>=0.4.0 in /usr/local/lib/python3.12/dist-packages (from llama-index) (0.5.0)\n",
            "Requirement already satisfied: nltk>3.8.1 in /usr/local/lib/python3.12/dist-packages (from llama-index) (3.9.1)\n",
            "Requirement already satisfied: aiohttp<4,>=3.8.6 in /usr/local/lib/python3.12/dist-packages (from llama-index-core<0.14,>=0.13.5->llama-index) (3.12.15)\n",
            "Requirement already satisfied: aiosqlite in /usr/local/lib/python3.12/dist-packages (from llama-index-core<0.14,>=0.13.5->llama-index) (0.21.0)\n",
            "Requirement already satisfied: banks<3,>=2.2.0 in /usr/local/lib/python3.12/dist-packages (from llama-index-core<0.14,>=0.13.5->llama-index) (2.2.0)\n",
            "Requirement already satisfied: dataclasses-json in /usr/local/lib/python3.12/dist-packages (from llama-index-core<0.14,>=0.13.5->llama-index) (0.6.7)\n",
            "Requirement already satisfied: deprecated>=1.2.9.3 in /usr/local/lib/python3.12/dist-packages (from llama-index-core<0.14,>=0.13.5->llama-index) (1.2.18)\n",
            "Requirement already satisfied: dirtyjson<2,>=1.0.8 in /usr/local/lib/python3.12/dist-packages (from llama-index-core<0.14,>=0.13.5->llama-index) (1.0.8)\n",
            "Requirement already satisfied: filetype<2,>=1.2.0 in /usr/local/lib/python3.12/dist-packages (from llama-index-core<0.14,>=0.13.5->llama-index) (1.2.0)\n",
            "Requirement already satisfied: fsspec>=2023.5.0 in /usr/local/lib/python3.12/dist-packages (from llama-index-core<0.14,>=0.13.5->llama-index) (2025.3.0)\n",
            "Requirement already satisfied: httpx in /usr/local/lib/python3.12/dist-packages (from llama-index-core<0.14,>=0.13.5->llama-index) (0.28.1)\n",
            "Requirement already satisfied: llama-index-workflows<2,>=1.0.1 in /usr/local/lib/python3.12/dist-packages (from llama-index-core<0.14,>=0.13.5->llama-index) (1.3.0)\n",
            "Requirement already satisfied: nest-asyncio<2,>=1.5.8 in /usr/local/lib/python3.12/dist-packages (from llama-index-core<0.14,>=0.13.5->llama-index) (1.6.0)\n",
            "Requirement already satisfied: networkx>=3.0 in /usr/local/lib/python3.12/dist-packages (from llama-index-core<0.14,>=0.13.5->llama-index) (3.5)\n",
            "Requirement already satisfied: numpy in /usr/local/lib/python3.12/dist-packages (from llama-index-core<0.14,>=0.13.5->llama-index) (2.0.2)\n",
            "Requirement already satisfied: pillow>=9.0.0 in /usr/local/lib/python3.12/dist-packages (from llama-index-core<0.14,>=0.13.5->llama-index) (11.3.0)\n",
            "Requirement already satisfied: platformdirs in /usr/local/lib/python3.12/dist-packages (from llama-index-core<0.14,>=0.13.5->llama-index) (4.4.0)\n",
            "Requirement already satisfied: pydantic>=2.8.0 in /usr/local/lib/python3.12/dist-packages (from llama-index-core<0.14,>=0.13.5->llama-index) (2.11.7)\n",
            "Requirement already satisfied: pyyaml>=6.0.1 in /usr/local/lib/python3.12/dist-packages (from llama-index-core<0.14,>=0.13.5->llama-index) (6.0.2)\n",
            "Requirement already satisfied: requests>=2.31.0 in /usr/local/lib/python3.12/dist-packages (from llama-index-core<0.14,>=0.13.5->llama-index) (2.32.4)\n",
            "Requirement already satisfied: setuptools>=80.9.0 in /usr/local/lib/python3.12/dist-packages (from llama-index-core<0.14,>=0.13.5->llama-index) (80.9.0)\n",
            "Requirement already satisfied: sqlalchemy>=1.4.49 in /usr/local/lib/python3.12/dist-packages (from sqlalchemy[asyncio]>=1.4.49->llama-index-core<0.14,>=0.13.5->llama-index) (2.0.43)\n",
            "Requirement already satisfied: tenacity!=8.4.0,<10.0.0,>=8.2.0 in /usr/local/lib/python3.12/dist-packages (from llama-index-core<0.14,>=0.13.5->llama-index) (8.5.0)\n",
            "Requirement already satisfied: tiktoken>=0.7.0 in /usr/local/lib/python3.12/dist-packages (from llama-index-core<0.14,>=0.13.5->llama-index) (0.11.0)\n",
            "Requirement already satisfied: tqdm<5,>=4.66.1 in /usr/local/lib/python3.12/dist-packages (from llama-index-core<0.14,>=0.13.5->llama-index) (4.67.1)\n",
            "Requirement already satisfied: typing-extensions>=4.5.0 in /usr/local/lib/python3.12/dist-packages (from llama-index-core<0.14,>=0.13.5->llama-index) (4.15.0)\n",
            "Requirement already satisfied: typing-inspect>=0.8.0 in /usr/local/lib/python3.12/dist-packages (from llama-index-core<0.14,>=0.13.5->llama-index) (0.9.0)\n",
            "Requirement already satisfied: wrapt in /usr/local/lib/python3.12/dist-packages (from llama-index-core<0.14,>=0.13.5->llama-index) (1.17.3)\n",
            "Requirement already satisfied: openai>=1.1.0 in /usr/local/lib/python3.12/dist-packages (from llama-index-embeddings-openai<0.6,>=0.5.0->llama-index) (1.104.2)\n",
            "Requirement already satisfied: llama-cloud==0.1.35 in /usr/local/lib/python3.12/dist-packages (from llama-index-indices-managed-llama-cloud>=0.4.0->llama-index) (0.1.35)\n",
            "Requirement already satisfied: certifi>=2024.7.4 in /usr/local/lib/python3.12/dist-packages (from llama-cloud==0.1.35->llama-index-indices-managed-llama-cloud>=0.4.0->llama-index) (2025.8.3)\n",
            "Requirement already satisfied: beautifulsoup4<5,>=4.12.3 in /usr/local/lib/python3.12/dist-packages (from llama-index-readers-file<0.6,>=0.5.0->llama-index) (4.13.5)\n",
            "Requirement already satisfied: defusedxml>=0.7.1 in /usr/local/lib/python3.12/dist-packages (from llama-index-readers-file<0.6,>=0.5.0->llama-index) (0.7.1)\n",
            "Requirement already satisfied: pandas<2.3.0 in /usr/local/lib/python3.12/dist-packages (from llama-index-readers-file<0.6,>=0.5.0->llama-index) (2.2.2)\n",
            "Requirement already satisfied: pypdf<7,>=5.1.0 in /usr/local/lib/python3.12/dist-packages (from llama-index-readers-file<0.6,>=0.5.0->llama-index) (6.0.0)\n",
            "Requirement already satisfied: striprtf<0.0.27,>=0.0.26 in /usr/local/lib/python3.12/dist-packages (from llama-index-readers-file<0.6,>=0.5.0->llama-index) (0.0.26)\n",
            "Requirement already satisfied: llama-parse>=0.5.0 in /usr/local/lib/python3.12/dist-packages (from llama-index-readers-llama-parse>=0.4.0->llama-index) (0.6.54)\n",
            "Requirement already satisfied: click in /usr/local/lib/python3.12/dist-packages (from nltk>3.8.1->llama-index) (8.2.1)\n",
            "Requirement already satisfied: joblib in /usr/local/lib/python3.12/dist-packages (from nltk>3.8.1->llama-index) (1.5.2)\n",
            "Requirement already satisfied: regex>=2021.8.3 in /usr/local/lib/python3.12/dist-packages (from nltk>3.8.1->llama-index) (2024.11.6)\n",
            "Requirement already satisfied: aiohappyeyeballs>=2.5.0 in /usr/local/lib/python3.12/dist-packages (from aiohttp<4,>=3.8.6->llama-index-core<0.14,>=0.13.5->llama-index) (2.6.1)\n",
            "Requirement already satisfied: aiosignal>=1.4.0 in /usr/local/lib/python3.12/dist-packages (from aiohttp<4,>=3.8.6->llama-index-core<0.14,>=0.13.5->llama-index) (1.4.0)\n",
            "Requirement already satisfied: attrs>=17.3.0 in /usr/local/lib/python3.12/dist-packages (from aiohttp<4,>=3.8.6->llama-index-core<0.14,>=0.13.5->llama-index) (25.3.0)\n",
            "Requirement already satisfied: frozenlist>=1.1.1 in /usr/local/lib/python3.12/dist-packages (from aiohttp<4,>=3.8.6->llama-index-core<0.14,>=0.13.5->llama-index) (1.7.0)\n",
            "Requirement already satisfied: multidict<7.0,>=4.5 in /usr/local/lib/python3.12/dist-packages (from aiohttp<4,>=3.8.6->llama-index-core<0.14,>=0.13.5->llama-index) (6.6.4)\n",
            "Requirement already satisfied: propcache>=0.2.0 in /usr/local/lib/python3.12/dist-packages (from aiohttp<4,>=3.8.6->llama-index-core<0.14,>=0.13.5->llama-index) (0.3.2)\n",
            "Requirement already satisfied: yarl<2.0,>=1.17.0 in /usr/local/lib/python3.12/dist-packages (from aiohttp<4,>=3.8.6->llama-index-core<0.14,>=0.13.5->llama-index) (1.20.1)\n",
            "Requirement already satisfied: griffe in /usr/local/lib/python3.12/dist-packages (from banks<3,>=2.2.0->llama-index-core<0.14,>=0.13.5->llama-index) (1.13.0)\n",
            "Requirement already satisfied: jinja2 in /usr/local/lib/python3.12/dist-packages (from banks<3,>=2.2.0->llama-index-core<0.14,>=0.13.5->llama-index) (3.1.6)\n",
            "Requirement already satisfied: soupsieve>1.2 in /usr/local/lib/python3.12/dist-packages (from beautifulsoup4<5,>=4.12.3->llama-index-readers-file<0.6,>=0.5.0->llama-index) (2.8)\n",
            "Requirement already satisfied: anyio in /usr/local/lib/python3.12/dist-packages (from httpx->llama-index-core<0.14,>=0.13.5->llama-index) (4.10.0)\n",
            "Requirement already satisfied: httpcore==1.* in /usr/local/lib/python3.12/dist-packages (from httpx->llama-index-core<0.14,>=0.13.5->llama-index) (1.0.9)\n",
            "Requirement already satisfied: idna in /usr/local/lib/python3.12/dist-packages (from httpx->llama-index-core<0.14,>=0.13.5->llama-index) (3.10)\n",
            "Requirement already satisfied: h11>=0.16 in /usr/local/lib/python3.12/dist-packages (from httpcore==1.*->httpx->llama-index-core<0.14,>=0.13.5->llama-index) (0.16.0)\n",
            "Requirement already satisfied: llama-index-instrumentation>=0.1.0 in /usr/local/lib/python3.12/dist-packages (from llama-index-workflows<2,>=1.0.1->llama-index-core<0.14,>=0.13.5->llama-index) (0.4.0)\n",
            "Requirement already satisfied: llama-cloud-services>=0.6.54 in /usr/local/lib/python3.12/dist-packages (from llama-parse>=0.5.0->llama-index-readers-llama-parse>=0.4.0->llama-index) (0.6.54)\n",
            "Requirement already satisfied: distro<2,>=1.7.0 in /usr/local/lib/python3.12/dist-packages (from openai>=1.1.0->llama-index-embeddings-openai<0.6,>=0.5.0->llama-index) (1.9.0)\n",
            "Requirement already satisfied: jiter<1,>=0.4.0 in /usr/local/lib/python3.12/dist-packages (from openai>=1.1.0->llama-index-embeddings-openai<0.6,>=0.5.0->llama-index) (0.10.0)\n",
            "Requirement already satisfied: sniffio in /usr/local/lib/python3.12/dist-packages (from openai>=1.1.0->llama-index-embeddings-openai<0.6,>=0.5.0->llama-index) (1.3.1)\n",
            "Requirement already satisfied: python-dateutil>=2.8.2 in /usr/local/lib/python3.12/dist-packages (from pandas<2.3.0->llama-index-readers-file<0.6,>=0.5.0->llama-index) (2.9.0.post0)\n",
            "Requirement already satisfied: pytz>=2020.1 in /usr/local/lib/python3.12/dist-packages (from pandas<2.3.0->llama-index-readers-file<0.6,>=0.5.0->llama-index) (2025.2)\n",
            "Requirement already satisfied: tzdata>=2022.7 in /usr/local/lib/python3.12/dist-packages (from pandas<2.3.0->llama-index-readers-file<0.6,>=0.5.0->llama-index) (2025.2)\n",
            "Requirement already satisfied: annotated-types>=0.6.0 in /usr/local/lib/python3.12/dist-packages (from pydantic>=2.8.0->llama-index-core<0.14,>=0.13.5->llama-index) (0.7.0)\n",
            "Requirement already satisfied: pydantic-core==2.33.2 in /usr/local/lib/python3.12/dist-packages (from pydantic>=2.8.0->llama-index-core<0.14,>=0.13.5->llama-index) (2.33.2)\n",
            "Requirement already satisfied: typing-inspection>=0.4.0 in /usr/local/lib/python3.12/dist-packages (from pydantic>=2.8.0->llama-index-core<0.14,>=0.13.5->llama-index) (0.4.1)\n",
            "Requirement already satisfied: charset_normalizer<4,>=2 in /usr/local/lib/python3.12/dist-packages (from requests>=2.31.0->llama-index-core<0.14,>=0.13.5->llama-index) (3.4.3)\n",
            "Requirement already satisfied: urllib3<3,>=1.21.1 in /usr/local/lib/python3.12/dist-packages (from requests>=2.31.0->llama-index-core<0.14,>=0.13.5->llama-index) (2.5.0)\n",
            "Requirement already satisfied: greenlet>=1 in /usr/local/lib/python3.12/dist-packages (from sqlalchemy>=1.4.49->sqlalchemy[asyncio]>=1.4.49->llama-index-core<0.14,>=0.13.5->llama-index) (3.2.4)\n",
            "Requirement already satisfied: mypy-extensions>=0.3.0 in /usr/local/lib/python3.12/dist-packages (from typing-inspect>=0.8.0->llama-index-core<0.14,>=0.13.5->llama-index) (1.1.0)\n",
            "Requirement already satisfied: marshmallow<4.0.0,>=3.18.0 in /usr/local/lib/python3.12/dist-packages (from dataclasses-json->llama-index-core<0.14,>=0.13.5->llama-index) (3.26.1)\n",
            "Requirement already satisfied: python-dotenv<2,>=1.0.1 in /usr/local/lib/python3.12/dist-packages (from llama-cloud-services>=0.6.54->llama-parse>=0.5.0->llama-index-readers-llama-parse>=0.4.0->llama-index) (1.1.1)\n",
            "Requirement already satisfied: packaging>=17.0 in /usr/local/lib/python3.12/dist-packages (from marshmallow<4.0.0,>=3.18.0->dataclasses-json->llama-index-core<0.14,>=0.13.5->llama-index) (25.0)\n",
            "Requirement already satisfied: six>=1.5 in /usr/local/lib/python3.12/dist-packages (from python-dateutil>=2.8.2->pandas<2.3.0->llama-index-readers-file<0.6,>=0.5.0->llama-index) (1.17.0)\n",
            "Requirement already satisfied: colorama>=0.4 in /usr/local/lib/python3.12/dist-packages (from griffe->banks<3,>=2.2.0->llama-index-core<0.14,>=0.13.5->llama-index) (0.4.6)\n",
            "Requirement already satisfied: MarkupSafe>=2.0 in /usr/local/lib/python3.12/dist-packages (from jinja2->banks<3,>=2.2.0->llama-index-core<0.14,>=0.13.5->llama-index) (3.0.2)\n",
            "Requirement already satisfied: llama-index-llms-groq in /usr/local/lib/python3.12/dist-packages (0.4.0)\n",
            "Requirement already satisfied: llama-index-core<0.14,>=0.13.0 in /usr/local/lib/python3.12/dist-packages (from llama-index-llms-groq) (0.13.5)\n",
            "Requirement already satisfied: llama-index-llms-openai-like<0.6,>=0.5.0 in /usr/local/lib/python3.12/dist-packages (from llama-index-llms-groq) (0.5.0)\n",
            "Requirement already satisfied: aiohttp<4,>=3.8.6 in /usr/local/lib/python3.12/dist-packages (from llama-index-core<0.14,>=0.13.0->llama-index-llms-groq) (3.12.15)\n",
            "Requirement already satisfied: aiosqlite in /usr/local/lib/python3.12/dist-packages (from llama-index-core<0.14,>=0.13.0->llama-index-llms-groq) (0.21.0)\n",
            "Requirement already satisfied: banks<3,>=2.2.0 in /usr/local/lib/python3.12/dist-packages (from llama-index-core<0.14,>=0.13.0->llama-index-llms-groq) (2.2.0)\n",
            "Requirement already satisfied: dataclasses-json in /usr/local/lib/python3.12/dist-packages (from llama-index-core<0.14,>=0.13.0->llama-index-llms-groq) (0.6.7)\n",
            "Requirement already satisfied: deprecated>=1.2.9.3 in /usr/local/lib/python3.12/dist-packages (from llama-index-core<0.14,>=0.13.0->llama-index-llms-groq) (1.2.18)\n",
            "Requirement already satisfied: dirtyjson<2,>=1.0.8 in /usr/local/lib/python3.12/dist-packages (from llama-index-core<0.14,>=0.13.0->llama-index-llms-groq) (1.0.8)\n",
            "Requirement already satisfied: filetype<2,>=1.2.0 in /usr/local/lib/python3.12/dist-packages (from llama-index-core<0.14,>=0.13.0->llama-index-llms-groq) (1.2.0)\n",
            "Requirement already satisfied: fsspec>=2023.5.0 in /usr/local/lib/python3.12/dist-packages (from llama-index-core<0.14,>=0.13.0->llama-index-llms-groq) (2025.3.0)\n",
            "Requirement already satisfied: httpx in /usr/local/lib/python3.12/dist-packages (from llama-index-core<0.14,>=0.13.0->llama-index-llms-groq) (0.28.1)\n",
            "Requirement already satisfied: llama-index-workflows<2,>=1.0.1 in /usr/local/lib/python3.12/dist-packages (from llama-index-core<0.14,>=0.13.0->llama-index-llms-groq) (1.3.0)\n",
            "Requirement already satisfied: nest-asyncio<2,>=1.5.8 in /usr/local/lib/python3.12/dist-packages (from llama-index-core<0.14,>=0.13.0->llama-index-llms-groq) (1.6.0)\n",
            "Requirement already satisfied: networkx>=3.0 in /usr/local/lib/python3.12/dist-packages (from llama-index-core<0.14,>=0.13.0->llama-index-llms-groq) (3.5)\n",
            "Requirement already satisfied: nltk>3.8.1 in /usr/local/lib/python3.12/dist-packages (from llama-index-core<0.14,>=0.13.0->llama-index-llms-groq) (3.9.1)\n",
            "Requirement already satisfied: numpy in /usr/local/lib/python3.12/dist-packages (from llama-index-core<0.14,>=0.13.0->llama-index-llms-groq) (2.0.2)\n",
            "Requirement already satisfied: pillow>=9.0.0 in /usr/local/lib/python3.12/dist-packages (from llama-index-core<0.14,>=0.13.0->llama-index-llms-groq) (11.3.0)\n",
            "Requirement already satisfied: platformdirs in /usr/local/lib/python3.12/dist-packages (from llama-index-core<0.14,>=0.13.0->llama-index-llms-groq) (4.4.0)\n",
            "Requirement already satisfied: pydantic>=2.8.0 in /usr/local/lib/python3.12/dist-packages (from llama-index-core<0.14,>=0.13.0->llama-index-llms-groq) (2.11.7)\n",
            "Requirement already satisfied: pyyaml>=6.0.1 in /usr/local/lib/python3.12/dist-packages (from llama-index-core<0.14,>=0.13.0->llama-index-llms-groq) (6.0.2)\n",
            "Requirement already satisfied: requests>=2.31.0 in /usr/local/lib/python3.12/dist-packages (from llama-index-core<0.14,>=0.13.0->llama-index-llms-groq) (2.32.4)\n",
            "Requirement already satisfied: setuptools>=80.9.0 in /usr/local/lib/python3.12/dist-packages (from llama-index-core<0.14,>=0.13.0->llama-index-llms-groq) (80.9.0)\n",
            "Requirement already satisfied: sqlalchemy>=1.4.49 in /usr/local/lib/python3.12/dist-packages (from sqlalchemy[asyncio]>=1.4.49->llama-index-core<0.14,>=0.13.0->llama-index-llms-groq) (2.0.43)\n",
            "Requirement already satisfied: tenacity!=8.4.0,<10.0.0,>=8.2.0 in /usr/local/lib/python3.12/dist-packages (from llama-index-core<0.14,>=0.13.0->llama-index-llms-groq) (8.5.0)\n",
            "Requirement already satisfied: tiktoken>=0.7.0 in /usr/local/lib/python3.12/dist-packages (from llama-index-core<0.14,>=0.13.0->llama-index-llms-groq) (0.11.0)\n",
            "Requirement already satisfied: tqdm<5,>=4.66.1 in /usr/local/lib/python3.12/dist-packages (from llama-index-core<0.14,>=0.13.0->llama-index-llms-groq) (4.67.1)\n",
            "Requirement already satisfied: typing-extensions>=4.5.0 in /usr/local/lib/python3.12/dist-packages (from llama-index-core<0.14,>=0.13.0->llama-index-llms-groq) (4.15.0)\n",
            "Requirement already satisfied: typing-inspect>=0.8.0 in /usr/local/lib/python3.12/dist-packages (from llama-index-core<0.14,>=0.13.0->llama-index-llms-groq) (0.9.0)\n",
            "Requirement already satisfied: wrapt in /usr/local/lib/python3.12/dist-packages (from llama-index-core<0.14,>=0.13.0->llama-index-llms-groq) (1.17.3)\n",
            "Requirement already satisfied: llama-index-llms-openai<0.6,>=0.5.0 in /usr/local/lib/python3.12/dist-packages (from llama-index-llms-openai-like<0.6,>=0.5.0->llama-index-llms-groq) (0.5.4)\n",
            "Requirement already satisfied: transformers<5,>=4.37.0 in /usr/local/lib/python3.12/dist-packages (from llama-index-llms-openai-like<0.6,>=0.5.0->llama-index-llms-groq) (4.56.0)\n",
            "Requirement already satisfied: aiohappyeyeballs>=2.5.0 in /usr/local/lib/python3.12/dist-packages (from aiohttp<4,>=3.8.6->llama-index-core<0.14,>=0.13.0->llama-index-llms-groq) (2.6.1)\n",
            "Requirement already satisfied: aiosignal>=1.4.0 in /usr/local/lib/python3.12/dist-packages (from aiohttp<4,>=3.8.6->llama-index-core<0.14,>=0.13.0->llama-index-llms-groq) (1.4.0)\n",
            "Requirement already satisfied: attrs>=17.3.0 in /usr/local/lib/python3.12/dist-packages (from aiohttp<4,>=3.8.6->llama-index-core<0.14,>=0.13.0->llama-index-llms-groq) (25.3.0)\n",
            "Requirement already satisfied: frozenlist>=1.1.1 in /usr/local/lib/python3.12/dist-packages (from aiohttp<4,>=3.8.6->llama-index-core<0.14,>=0.13.0->llama-index-llms-groq) (1.7.0)\n",
            "Requirement already satisfied: multidict<7.0,>=4.5 in /usr/local/lib/python3.12/dist-packages (from aiohttp<4,>=3.8.6->llama-index-core<0.14,>=0.13.0->llama-index-llms-groq) (6.6.4)\n",
            "Requirement already satisfied: propcache>=0.2.0 in /usr/local/lib/python3.12/dist-packages (from aiohttp<4,>=3.8.6->llama-index-core<0.14,>=0.13.0->llama-index-llms-groq) (0.3.2)\n",
            "Requirement already satisfied: yarl<2.0,>=1.17.0 in /usr/local/lib/python3.12/dist-packages (from aiohttp<4,>=3.8.6->llama-index-core<0.14,>=0.13.0->llama-index-llms-groq) (1.20.1)\n",
            "Requirement already satisfied: griffe in /usr/local/lib/python3.12/dist-packages (from banks<3,>=2.2.0->llama-index-core<0.14,>=0.13.0->llama-index-llms-groq) (1.13.0)\n",
            "Requirement already satisfied: jinja2 in /usr/local/lib/python3.12/dist-packages (from banks<3,>=2.2.0->llama-index-core<0.14,>=0.13.0->llama-index-llms-groq) (3.1.6)\n",
            "Requirement already satisfied: openai<2,>=1.81.0 in /usr/local/lib/python3.12/dist-packages (from llama-index-llms-openai<0.6,>=0.5.0->llama-index-llms-openai-like<0.6,>=0.5.0->llama-index-llms-groq) (1.104.2)\n",
            "Requirement already satisfied: llama-index-instrumentation>=0.1.0 in /usr/local/lib/python3.12/dist-packages (from llama-index-workflows<2,>=1.0.1->llama-index-core<0.14,>=0.13.0->llama-index-llms-groq) (0.4.0)\n",
            "Requirement already satisfied: click in /usr/local/lib/python3.12/dist-packages (from nltk>3.8.1->llama-index-core<0.14,>=0.13.0->llama-index-llms-groq) (8.2.1)\n",
            "Requirement already satisfied: joblib in /usr/local/lib/python3.12/dist-packages (from nltk>3.8.1->llama-index-core<0.14,>=0.13.0->llama-index-llms-groq) (1.5.2)\n",
            "Requirement already satisfied: regex>=2021.8.3 in /usr/local/lib/python3.12/dist-packages (from nltk>3.8.1->llama-index-core<0.14,>=0.13.0->llama-index-llms-groq) (2024.11.6)\n",
            "Requirement already satisfied: annotated-types>=0.6.0 in /usr/local/lib/python3.12/dist-packages (from pydantic>=2.8.0->llama-index-core<0.14,>=0.13.0->llama-index-llms-groq) (0.7.0)\n",
            "Requirement already satisfied: pydantic-core==2.33.2 in /usr/local/lib/python3.12/dist-packages (from pydantic>=2.8.0->llama-index-core<0.14,>=0.13.0->llama-index-llms-groq) (2.33.2)\n",
            "Requirement already satisfied: typing-inspection>=0.4.0 in /usr/local/lib/python3.12/dist-packages (from pydantic>=2.8.0->llama-index-core<0.14,>=0.13.0->llama-index-llms-groq) (0.4.1)\n",
            "Requirement already satisfied: charset_normalizer<4,>=2 in /usr/local/lib/python3.12/dist-packages (from requests>=2.31.0->llama-index-core<0.14,>=0.13.0->llama-index-llms-groq) (3.4.3)\n",
            "Requirement already satisfied: idna<4,>=2.5 in /usr/local/lib/python3.12/dist-packages (from requests>=2.31.0->llama-index-core<0.14,>=0.13.0->llama-index-llms-groq) (3.10)\n",
            "Requirement already satisfied: urllib3<3,>=1.21.1 in /usr/local/lib/python3.12/dist-packages (from requests>=2.31.0->llama-index-core<0.14,>=0.13.0->llama-index-llms-groq) (2.5.0)\n",
            "Requirement already satisfied: certifi>=2017.4.17 in /usr/local/lib/python3.12/dist-packages (from requests>=2.31.0->llama-index-core<0.14,>=0.13.0->llama-index-llms-groq) (2025.8.3)\n",
            "Requirement already satisfied: greenlet>=1 in /usr/local/lib/python3.12/dist-packages (from sqlalchemy>=1.4.49->sqlalchemy[asyncio]>=1.4.49->llama-index-core<0.14,>=0.13.0->llama-index-llms-groq) (3.2.4)\n",
            "Requirement already satisfied: filelock in /usr/local/lib/python3.12/dist-packages (from transformers<5,>=4.37.0->llama-index-llms-openai-like<0.6,>=0.5.0->llama-index-llms-groq) (3.19.1)\n",
            "Requirement already satisfied: huggingface-hub<1.0,>=0.34.0 in /usr/local/lib/python3.12/dist-packages (from transformers<5,>=4.37.0->llama-index-llms-openai-like<0.6,>=0.5.0->llama-index-llms-groq) (0.34.4)\n",
            "Requirement already satisfied: packaging>=20.0 in /usr/local/lib/python3.12/dist-packages (from transformers<5,>=4.37.0->llama-index-llms-openai-like<0.6,>=0.5.0->llama-index-llms-groq) (25.0)\n",
            "Requirement already satisfied: tokenizers<=0.23.0,>=0.22.0 in /usr/local/lib/python3.12/dist-packages (from transformers<5,>=4.37.0->llama-index-llms-openai-like<0.6,>=0.5.0->llama-index-llms-groq) (0.22.0)\n",
            "Requirement already satisfied: safetensors>=0.4.3 in /usr/local/lib/python3.12/dist-packages (from transformers<5,>=4.37.0->llama-index-llms-openai-like<0.6,>=0.5.0->llama-index-llms-groq) (0.6.2)\n",
            "Requirement already satisfied: mypy-extensions>=0.3.0 in /usr/local/lib/python3.12/dist-packages (from typing-inspect>=0.8.0->llama-index-core<0.14,>=0.13.0->llama-index-llms-groq) (1.1.0)\n",
            "Requirement already satisfied: marshmallow<4.0.0,>=3.18.0 in /usr/local/lib/python3.12/dist-packages (from dataclasses-json->llama-index-core<0.14,>=0.13.0->llama-index-llms-groq) (3.26.1)\n",
            "Requirement already satisfied: anyio in /usr/local/lib/python3.12/dist-packages (from httpx->llama-index-core<0.14,>=0.13.0->llama-index-llms-groq) (4.10.0)\n",
            "Requirement already satisfied: httpcore==1.* in /usr/local/lib/python3.12/dist-packages (from httpx->llama-index-core<0.14,>=0.13.0->llama-index-llms-groq) (1.0.9)\n",
            "Requirement already satisfied: h11>=0.16 in /usr/local/lib/python3.12/dist-packages (from httpcore==1.*->httpx->llama-index-core<0.14,>=0.13.0->llama-index-llms-groq) (0.16.0)\n",
            "Requirement already satisfied: hf-xet<2.0.0,>=1.1.3 in /usr/local/lib/python3.12/dist-packages (from huggingface-hub<1.0,>=0.34.0->transformers<5,>=4.37.0->llama-index-llms-openai-like<0.6,>=0.5.0->llama-index-llms-groq) (1.1.9)\n",
            "Requirement already satisfied: distro<2,>=1.7.0 in /usr/local/lib/python3.12/dist-packages (from openai<2,>=1.81.0->llama-index-llms-openai<0.6,>=0.5.0->llama-index-llms-openai-like<0.6,>=0.5.0->llama-index-llms-groq) (1.9.0)\n",
            "Requirement already satisfied: jiter<1,>=0.4.0 in /usr/local/lib/python3.12/dist-packages (from openai<2,>=1.81.0->llama-index-llms-openai<0.6,>=0.5.0->llama-index-llms-openai-like<0.6,>=0.5.0->llama-index-llms-groq) (0.10.0)\n",
            "Requirement already satisfied: sniffio in /usr/local/lib/python3.12/dist-packages (from openai<2,>=1.81.0->llama-index-llms-openai<0.6,>=0.5.0->llama-index-llms-openai-like<0.6,>=0.5.0->llama-index-llms-groq) (1.3.1)\n",
            "Requirement already satisfied: colorama>=0.4 in /usr/local/lib/python3.12/dist-packages (from griffe->banks<3,>=2.2.0->llama-index-core<0.14,>=0.13.0->llama-index-llms-groq) (0.4.6)\n",
            "Requirement already satisfied: MarkupSafe>=2.0 in /usr/local/lib/python3.12/dist-packages (from jinja2->banks<3,>=2.2.0->llama-index-core<0.14,>=0.13.0->llama-index-llms-groq) (3.0.2)\n",
            "Requirement already satisfied: llama-index-experimental in /usr/local/lib/python3.12/dist-packages (0.6.1)\n",
            "Requirement already satisfied: duckdb<2,>=1.0.0 in /usr/local/lib/python3.12/dist-packages (from llama-index-experimental) (1.3.2)\n",
            "Requirement already satisfied: llama-index-core<0.14,>=0.13.0 in /usr/local/lib/python3.12/dist-packages (from llama-index-experimental) (0.13.5)\n",
            "Requirement already satisfied: llama-index-finetuning<0.5,>=0.4 in /usr/local/lib/python3.12/dist-packages (from llama-index-experimental) (0.4.0)\n",
            "Requirement already satisfied: pandas<2.3.0 in /usr/local/lib/python3.12/dist-packages (from llama-index-experimental) (2.2.2)\n",
            "Requirement already satisfied: aiohttp<4,>=3.8.6 in /usr/local/lib/python3.12/dist-packages (from llama-index-core<0.14,>=0.13.0->llama-index-experimental) (3.12.15)\n",
            "Requirement already satisfied: aiosqlite in /usr/local/lib/python3.12/dist-packages (from llama-index-core<0.14,>=0.13.0->llama-index-experimental) (0.21.0)\n",
            "Requirement already satisfied: banks<3,>=2.2.0 in /usr/local/lib/python3.12/dist-packages (from llama-index-core<0.14,>=0.13.0->llama-index-experimental) (2.2.0)\n",
            "Requirement already satisfied: dataclasses-json in /usr/local/lib/python3.12/dist-packages (from llama-index-core<0.14,>=0.13.0->llama-index-experimental) (0.6.7)\n",
            "Requirement already satisfied: deprecated>=1.2.9.3 in /usr/local/lib/python3.12/dist-packages (from llama-index-core<0.14,>=0.13.0->llama-index-experimental) (1.2.18)\n",
            "Requirement already satisfied: dirtyjson<2,>=1.0.8 in /usr/local/lib/python3.12/dist-packages (from llama-index-core<0.14,>=0.13.0->llama-index-experimental) (1.0.8)\n",
            "Requirement already satisfied: filetype<2,>=1.2.0 in /usr/local/lib/python3.12/dist-packages (from llama-index-core<0.14,>=0.13.0->llama-index-experimental) (1.2.0)\n",
            "Requirement already satisfied: fsspec>=2023.5.0 in /usr/local/lib/python3.12/dist-packages (from llama-index-core<0.14,>=0.13.0->llama-index-experimental) (2025.3.0)\n",
            "Requirement already satisfied: httpx in /usr/local/lib/python3.12/dist-packages (from llama-index-core<0.14,>=0.13.0->llama-index-experimental) (0.28.1)\n",
            "Requirement already satisfied: llama-index-workflows<2,>=1.0.1 in /usr/local/lib/python3.12/dist-packages (from llama-index-core<0.14,>=0.13.0->llama-index-experimental) (1.3.0)\n",
            "Requirement already satisfied: nest-asyncio<2,>=1.5.8 in /usr/local/lib/python3.12/dist-packages (from llama-index-core<0.14,>=0.13.0->llama-index-experimental) (1.6.0)\n",
            "Requirement already satisfied: networkx>=3.0 in /usr/local/lib/python3.12/dist-packages (from llama-index-core<0.14,>=0.13.0->llama-index-experimental) (3.5)\n",
            "Requirement already satisfied: nltk>3.8.1 in /usr/local/lib/python3.12/dist-packages (from llama-index-core<0.14,>=0.13.0->llama-index-experimental) (3.9.1)\n",
            "Requirement already satisfied: numpy in /usr/local/lib/python3.12/dist-packages (from llama-index-core<0.14,>=0.13.0->llama-index-experimental) (2.0.2)\n",
            "Requirement already satisfied: pillow>=9.0.0 in /usr/local/lib/python3.12/dist-packages (from llama-index-core<0.14,>=0.13.0->llama-index-experimental) (11.3.0)\n",
            "Requirement already satisfied: platformdirs in /usr/local/lib/python3.12/dist-packages (from llama-index-core<0.14,>=0.13.0->llama-index-experimental) (4.4.0)\n",
            "Requirement already satisfied: pydantic>=2.8.0 in /usr/local/lib/python3.12/dist-packages (from llama-index-core<0.14,>=0.13.0->llama-index-experimental) (2.11.7)\n",
            "Requirement already satisfied: pyyaml>=6.0.1 in /usr/local/lib/python3.12/dist-packages (from llama-index-core<0.14,>=0.13.0->llama-index-experimental) (6.0.2)\n",
            "Requirement already satisfied: requests>=2.31.0 in /usr/local/lib/python3.12/dist-packages (from llama-index-core<0.14,>=0.13.0->llama-index-experimental) (2.32.4)\n",
            "Requirement already satisfied: setuptools>=80.9.0 in /usr/local/lib/python3.12/dist-packages (from llama-index-core<0.14,>=0.13.0->llama-index-experimental) (80.9.0)\n",
            "Requirement already satisfied: sqlalchemy>=1.4.49 in /usr/local/lib/python3.12/dist-packages (from sqlalchemy[asyncio]>=1.4.49->llama-index-core<0.14,>=0.13.0->llama-index-experimental) (2.0.43)\n",
            "Requirement already satisfied: tenacity!=8.4.0,<10.0.0,>=8.2.0 in /usr/local/lib/python3.12/dist-packages (from llama-index-core<0.14,>=0.13.0->llama-index-experimental) (8.5.0)\n",
            "Requirement already satisfied: tiktoken>=0.7.0 in /usr/local/lib/python3.12/dist-packages (from llama-index-core<0.14,>=0.13.0->llama-index-experimental) (0.11.0)\n",
            "Requirement already satisfied: tqdm<5,>=4.66.1 in /usr/local/lib/python3.12/dist-packages (from llama-index-core<0.14,>=0.13.0->llama-index-experimental) (4.67.1)\n",
            "Requirement already satisfied: typing-extensions>=4.5.0 in /usr/local/lib/python3.12/dist-packages (from llama-index-core<0.14,>=0.13.0->llama-index-experimental) (4.15.0)\n",
            "Requirement already satisfied: typing-inspect>=0.8.0 in /usr/local/lib/python3.12/dist-packages (from llama-index-core<0.14,>=0.13.0->llama-index-experimental) (0.9.0)\n",
            "Requirement already satisfied: wrapt in /usr/local/lib/python3.12/dist-packages (from llama-index-core<0.14,>=0.13.0->llama-index-experimental) (1.17.3)\n",
            "Requirement already satisfied: llama-index-embeddings-adapter<0.5,>=0.4.0 in /usr/local/lib/python3.12/dist-packages (from llama-index-finetuning<0.5,>=0.4->llama-index-experimental) (0.4.0)\n",
            "Requirement already satisfied: llama-index-llms-azure-openai<0.5,>=0.4.0 in /usr/local/lib/python3.12/dist-packages (from llama-index-finetuning<0.5,>=0.4->llama-index-experimental) (0.4.0)\n",
            "Requirement already satisfied: llama-index-llms-mistralai<0.8,>=0.7.0 in /usr/local/lib/python3.12/dist-packages (from llama-index-finetuning<0.5,>=0.4->llama-index-experimental) (0.7.0)\n",
            "Requirement already satisfied: llama-index-postprocessor-cohere-rerank<0.6,>=0.5.0 in /usr/local/lib/python3.12/dist-packages (from llama-index-finetuning<0.5,>=0.4->llama-index-experimental) (0.5.0)\n",
            "Requirement already satisfied: mistralai>=1.7.0 in /usr/local/lib/python3.12/dist-packages (from llama-index-finetuning<0.5,>=0.4->llama-index-experimental) (1.9.10)\n",
            "Requirement already satisfied: sentence-transformers>=2.3.0 in /usr/local/lib/python3.12/dist-packages (from llama-index-finetuning<0.5,>=0.4->llama-index-experimental) (5.1.0)\n",
            "Requirement already satisfied: python-dateutil>=2.8.2 in /usr/local/lib/python3.12/dist-packages (from pandas<2.3.0->llama-index-experimental) (2.9.0.post0)\n",
            "Requirement already satisfied: pytz>=2020.1 in /usr/local/lib/python3.12/dist-packages (from pandas<2.3.0->llama-index-experimental) (2025.2)\n",
            "Requirement already satisfied: tzdata>=2022.7 in /usr/local/lib/python3.12/dist-packages (from pandas<2.3.0->llama-index-experimental) (2025.2)\n",
            "Requirement already satisfied: aiohappyeyeballs>=2.5.0 in /usr/local/lib/python3.12/dist-packages (from aiohttp<4,>=3.8.6->llama-index-core<0.14,>=0.13.0->llama-index-experimental) (2.6.1)\n",
            "Requirement already satisfied: aiosignal>=1.4.0 in /usr/local/lib/python3.12/dist-packages (from aiohttp<4,>=3.8.6->llama-index-core<0.14,>=0.13.0->llama-index-experimental) (1.4.0)\n",
            "Requirement already satisfied: attrs>=17.3.0 in /usr/local/lib/python3.12/dist-packages (from aiohttp<4,>=3.8.6->llama-index-core<0.14,>=0.13.0->llama-index-experimental) (25.3.0)\n",
            "Requirement already satisfied: frozenlist>=1.1.1 in /usr/local/lib/python3.12/dist-packages (from aiohttp<4,>=3.8.6->llama-index-core<0.14,>=0.13.0->llama-index-experimental) (1.7.0)\n",
            "Requirement already satisfied: multidict<7.0,>=4.5 in /usr/local/lib/python3.12/dist-packages (from aiohttp<4,>=3.8.6->llama-index-core<0.14,>=0.13.0->llama-index-experimental) (6.6.4)\n",
            "Requirement already satisfied: propcache>=0.2.0 in /usr/local/lib/python3.12/dist-packages (from aiohttp<4,>=3.8.6->llama-index-core<0.14,>=0.13.0->llama-index-experimental) (0.3.2)\n",
            "Requirement already satisfied: yarl<2.0,>=1.17.0 in /usr/local/lib/python3.12/dist-packages (from aiohttp<4,>=3.8.6->llama-index-core<0.14,>=0.13.0->llama-index-experimental) (1.20.1)\n",
            "Requirement already satisfied: griffe in /usr/local/lib/python3.12/dist-packages (from banks<3,>=2.2.0->llama-index-core<0.14,>=0.13.0->llama-index-experimental) (1.13.0)\n",
            "Requirement already satisfied: jinja2 in /usr/local/lib/python3.12/dist-packages (from banks<3,>=2.2.0->llama-index-core<0.14,>=0.13.0->llama-index-experimental) (3.1.6)\n",
            "Requirement already satisfied: torch>=2.0.0 in /usr/local/lib/python3.12/dist-packages (from llama-index-embeddings-adapter<0.5,>=0.4.0->llama-index-finetuning<0.5,>=0.4->llama-index-experimental) (2.8.0+cu126)\n",
            "Requirement already satisfied: azure-identity<2,>=1.15.0 in /usr/local/lib/python3.12/dist-packages (from llama-index-llms-azure-openai<0.5,>=0.4.0->llama-index-finetuning<0.5,>=0.4->llama-index-experimental) (1.24.0)\n",
            "Requirement already satisfied: llama-index-llms-openai<0.6,>=0.5.0 in /usr/local/lib/python3.12/dist-packages (from llama-index-llms-azure-openai<0.5,>=0.4.0->llama-index-finetuning<0.5,>=0.4->llama-index-experimental) (0.5.4)\n",
            "Requirement already satisfied: cohere<6,>=5.1.1 in /usr/local/lib/python3.12/dist-packages (from llama-index-postprocessor-cohere-rerank<0.6,>=0.5.0->llama-index-finetuning<0.5,>=0.4->llama-index-experimental) (5.17.0)\n",
            "Requirement already satisfied: llama-index-instrumentation>=0.1.0 in /usr/local/lib/python3.12/dist-packages (from llama-index-workflows<2,>=1.0.1->llama-index-core<0.14,>=0.13.0->llama-index-experimental) (0.4.0)\n",
            "Requirement already satisfied: eval-type-backport>=0.2.0 in /usr/local/lib/python3.12/dist-packages (from mistralai>=1.7.0->llama-index-finetuning<0.5,>=0.4->llama-index-experimental) (0.2.2)\n",
            "Requirement already satisfied: invoke<3.0.0,>=2.2.0 in /usr/local/lib/python3.12/dist-packages (from mistralai>=1.7.0->llama-index-finetuning<0.5,>=0.4->llama-index-experimental) (2.2.0)\n",
            "Requirement already satisfied: typing-inspection>=0.4.0 in /usr/local/lib/python3.12/dist-packages (from mistralai>=1.7.0->llama-index-finetuning<0.5,>=0.4->llama-index-experimental) (0.4.1)\n",
            "Requirement already satisfied: anyio in /usr/local/lib/python3.12/dist-packages (from httpx->llama-index-core<0.14,>=0.13.0->llama-index-experimental) (4.10.0)\n",
            "Requirement already satisfied: certifi in /usr/local/lib/python3.12/dist-packages (from httpx->llama-index-core<0.14,>=0.13.0->llama-index-experimental) (2025.8.3)\n",
            "Requirement already satisfied: httpcore==1.* in /usr/local/lib/python3.12/dist-packages (from httpx->llama-index-core<0.14,>=0.13.0->llama-index-experimental) (1.0.9)\n",
            "Requirement already satisfied: idna in /usr/local/lib/python3.12/dist-packages (from httpx->llama-index-core<0.14,>=0.13.0->llama-index-experimental) (3.10)\n",
            "Requirement already satisfied: h11>=0.16 in /usr/local/lib/python3.12/dist-packages (from httpcore==1.*->httpx->llama-index-core<0.14,>=0.13.0->llama-index-experimental) (0.16.0)\n",
            "Requirement already satisfied: click in /usr/local/lib/python3.12/dist-packages (from nltk>3.8.1->llama-index-core<0.14,>=0.13.0->llama-index-experimental) (8.2.1)\n",
            "Requirement already satisfied: joblib in /usr/local/lib/python3.12/dist-packages (from nltk>3.8.1->llama-index-core<0.14,>=0.13.0->llama-index-experimental) (1.5.2)\n",
            "Requirement already satisfied: regex>=2021.8.3 in /usr/local/lib/python3.12/dist-packages (from nltk>3.8.1->llama-index-core<0.14,>=0.13.0->llama-index-experimental) (2024.11.6)\n",
            "Requirement already satisfied: annotated-types>=0.6.0 in /usr/local/lib/python3.12/dist-packages (from pydantic>=2.8.0->llama-index-core<0.14,>=0.13.0->llama-index-experimental) (0.7.0)\n",
            "Requirement already satisfied: pydantic-core==2.33.2 in /usr/local/lib/python3.12/dist-packages (from pydantic>=2.8.0->llama-index-core<0.14,>=0.13.0->llama-index-experimental) (2.33.2)\n",
            "Requirement already satisfied: six>=1.5 in /usr/local/lib/python3.12/dist-packages (from python-dateutil>=2.8.2->pandas<2.3.0->llama-index-experimental) (1.17.0)\n",
            "Requirement already satisfied: charset_normalizer<4,>=2 in /usr/local/lib/python3.12/dist-packages (from requests>=2.31.0->llama-index-core<0.14,>=0.13.0->llama-index-experimental) (3.4.3)\n",
            "Requirement already satisfied: urllib3<3,>=1.21.1 in /usr/local/lib/python3.12/dist-packages (from requests>=2.31.0->llama-index-core<0.14,>=0.13.0->llama-index-experimental) (2.5.0)\n",
            "Requirement already satisfied: transformers<5.0.0,>=4.41.0 in /usr/local/lib/python3.12/dist-packages (from sentence-transformers>=2.3.0->llama-index-finetuning<0.5,>=0.4->llama-index-experimental) (4.56.0)\n",
            "Requirement already satisfied: scikit-learn in /usr/local/lib/python3.12/dist-packages (from sentence-transformers>=2.3.0->llama-index-finetuning<0.5,>=0.4->llama-index-experimental) (1.6.1)\n",
            "Requirement already satisfied: scipy in /usr/local/lib/python3.12/dist-packages (from sentence-transformers>=2.3.0->llama-index-finetuning<0.5,>=0.4->llama-index-experimental) (1.16.1)\n",
            "Requirement already satisfied: huggingface-hub>=0.20.0 in /usr/local/lib/python3.12/dist-packages (from sentence-transformers>=2.3.0->llama-index-finetuning<0.5,>=0.4->llama-index-experimental) (0.34.4)\n",
            "Requirement already satisfied: greenlet>=1 in /usr/local/lib/python3.12/dist-packages (from sqlalchemy>=1.4.49->sqlalchemy[asyncio]>=1.4.49->llama-index-core<0.14,>=0.13.0->llama-index-experimental) (3.2.4)\n",
            "Requirement already satisfied: mypy-extensions>=0.3.0 in /usr/local/lib/python3.12/dist-packages (from typing-inspect>=0.8.0->llama-index-core<0.14,>=0.13.0->llama-index-experimental) (1.1.0)\n",
            "Requirement already satisfied: marshmallow<4.0.0,>=3.18.0 in /usr/local/lib/python3.12/dist-packages (from dataclasses-json->llama-index-core<0.14,>=0.13.0->llama-index-experimental) (3.26.1)\n",
            "Requirement already satisfied: azure-core>=1.31.0 in /usr/local/lib/python3.12/dist-packages (from azure-identity<2,>=1.15.0->llama-index-llms-azure-openai<0.5,>=0.4.0->llama-index-finetuning<0.5,>=0.4->llama-index-experimental) (1.35.0)\n",
            "Requirement already satisfied: cryptography>=2.5 in /usr/local/lib/python3.12/dist-packages (from azure-identity<2,>=1.15.0->llama-index-llms-azure-openai<0.5,>=0.4.0->llama-index-finetuning<0.5,>=0.4->llama-index-experimental) (43.0.3)\n",
            "Requirement already satisfied: msal>=1.30.0 in /usr/local/lib/python3.12/dist-packages (from azure-identity<2,>=1.15.0->llama-index-llms-azure-openai<0.5,>=0.4.0->llama-index-finetuning<0.5,>=0.4->llama-index-experimental) (1.33.0)\n",
            "Requirement already satisfied: msal-extensions>=1.2.0 in /usr/local/lib/python3.12/dist-packages (from azure-identity<2,>=1.15.0->llama-index-llms-azure-openai<0.5,>=0.4.0->llama-index-finetuning<0.5,>=0.4->llama-index-experimental) (1.3.1)\n",
            "Requirement already satisfied: fastavro<2.0.0,>=1.9.4 in /usr/local/lib/python3.12/dist-packages (from cohere<6,>=5.1.1->llama-index-postprocessor-cohere-rerank<0.6,>=0.5.0->llama-index-finetuning<0.5,>=0.4->llama-index-experimental) (1.12.0)\n",
            "Requirement already satisfied: httpx-sse==0.4.0 in /usr/local/lib/python3.12/dist-packages (from cohere<6,>=5.1.1->llama-index-postprocessor-cohere-rerank<0.6,>=0.5.0->llama-index-finetuning<0.5,>=0.4->llama-index-experimental) (0.4.0)\n",
            "Requirement already satisfied: tokenizers<1,>=0.15 in /usr/local/lib/python3.12/dist-packages (from cohere<6,>=5.1.1->llama-index-postprocessor-cohere-rerank<0.6,>=0.5.0->llama-index-finetuning<0.5,>=0.4->llama-index-experimental) (0.22.0)\n",
            "Requirement already satisfied: types-requests<3.0.0,>=2.0.0 in /usr/local/lib/python3.12/dist-packages (from cohere<6,>=5.1.1->llama-index-postprocessor-cohere-rerank<0.6,>=0.5.0->llama-index-finetuning<0.5,>=0.4->llama-index-experimental) (2.32.4.20250809)\n",
            "Requirement already satisfied: filelock in /usr/local/lib/python3.12/dist-packages (from huggingface-hub>=0.20.0->sentence-transformers>=2.3.0->llama-index-finetuning<0.5,>=0.4->llama-index-experimental) (3.19.1)\n",
            "Requirement already satisfied: packaging>=20.9 in /usr/local/lib/python3.12/dist-packages (from huggingface-hub>=0.20.0->sentence-transformers>=2.3.0->llama-index-finetuning<0.5,>=0.4->llama-index-experimental) (25.0)\n",
            "Requirement already satisfied: hf-xet<2.0.0,>=1.1.3 in /usr/local/lib/python3.12/dist-packages (from huggingface-hub>=0.20.0->sentence-transformers>=2.3.0->llama-index-finetuning<0.5,>=0.4->llama-index-experimental) (1.1.9)\n",
            "Requirement already satisfied: openai<2,>=1.81.0 in /usr/local/lib/python3.12/dist-packages (from llama-index-llms-openai<0.6,>=0.5.0->llama-index-llms-azure-openai<0.5,>=0.4.0->llama-index-finetuning<0.5,>=0.4->llama-index-experimental) (1.104.2)\n",
            "Requirement already satisfied: sympy>=1.13.3 in /usr/local/lib/python3.12/dist-packages (from torch>=2.0.0->llama-index-embeddings-adapter<0.5,>=0.4.0->llama-index-finetuning<0.5,>=0.4->llama-index-experimental) (1.13.3)\n",
            "Requirement already satisfied: nvidia-cuda-nvrtc-cu12==12.6.77 in /usr/local/lib/python3.12/dist-packages (from torch>=2.0.0->llama-index-embeddings-adapter<0.5,>=0.4.0->llama-index-finetuning<0.5,>=0.4->llama-index-experimental) (12.6.77)\n",
            "Requirement already satisfied: nvidia-cuda-runtime-cu12==12.6.77 in /usr/local/lib/python3.12/dist-packages (from torch>=2.0.0->llama-index-embeddings-adapter<0.5,>=0.4.0->llama-index-finetuning<0.5,>=0.4->llama-index-experimental) (12.6.77)\n",
            "Requirement already satisfied: nvidia-cuda-cupti-cu12==12.6.80 in /usr/local/lib/python3.12/dist-packages (from torch>=2.0.0->llama-index-embeddings-adapter<0.5,>=0.4.0->llama-index-finetuning<0.5,>=0.4->llama-index-experimental) (12.6.80)\n",
            "Requirement already satisfied: nvidia-cudnn-cu12==9.10.2.21 in /usr/local/lib/python3.12/dist-packages (from torch>=2.0.0->llama-index-embeddings-adapter<0.5,>=0.4.0->llama-index-finetuning<0.5,>=0.4->llama-index-experimental) (9.10.2.21)\n",
            "Requirement already satisfied: nvidia-cublas-cu12==12.6.4.1 in /usr/local/lib/python3.12/dist-packages (from torch>=2.0.0->llama-index-embeddings-adapter<0.5,>=0.4.0->llama-index-finetuning<0.5,>=0.4->llama-index-experimental) (12.6.4.1)\n",
            "Requirement already satisfied: nvidia-cufft-cu12==11.3.0.4 in /usr/local/lib/python3.12/dist-packages (from torch>=2.0.0->llama-index-embeddings-adapter<0.5,>=0.4.0->llama-index-finetuning<0.5,>=0.4->llama-index-experimental) (11.3.0.4)\n",
            "Requirement already satisfied: nvidia-curand-cu12==10.3.7.77 in /usr/local/lib/python3.12/dist-packages (from torch>=2.0.0->llama-index-embeddings-adapter<0.5,>=0.4.0->llama-index-finetuning<0.5,>=0.4->llama-index-experimental) (10.3.7.77)\n",
            "Requirement already satisfied: nvidia-cusolver-cu12==11.7.1.2 in /usr/local/lib/python3.12/dist-packages (from torch>=2.0.0->llama-index-embeddings-adapter<0.5,>=0.4.0->llama-index-finetuning<0.5,>=0.4->llama-index-experimental) (11.7.1.2)\n",
            "Requirement already satisfied: nvidia-cusparse-cu12==12.5.4.2 in /usr/local/lib/python3.12/dist-packages (from torch>=2.0.0->llama-index-embeddings-adapter<0.5,>=0.4.0->llama-index-finetuning<0.5,>=0.4->llama-index-experimental) (12.5.4.2)\n",
            "Requirement already satisfied: nvidia-cusparselt-cu12==0.7.1 in /usr/local/lib/python3.12/dist-packages (from torch>=2.0.0->llama-index-embeddings-adapter<0.5,>=0.4.0->llama-index-finetuning<0.5,>=0.4->llama-index-experimental) (0.7.1)\n",
            "Requirement already satisfied: nvidia-nccl-cu12==2.27.3 in /usr/local/lib/python3.12/dist-packages (from torch>=2.0.0->llama-index-embeddings-adapter<0.5,>=0.4.0->llama-index-finetuning<0.5,>=0.4->llama-index-experimental) (2.27.3)\n",
            "Requirement already satisfied: nvidia-nvtx-cu12==12.6.77 in /usr/local/lib/python3.12/dist-packages (from torch>=2.0.0->llama-index-embeddings-adapter<0.5,>=0.4.0->llama-index-finetuning<0.5,>=0.4->llama-index-experimental) (12.6.77)\n",
            "Requirement already satisfied: nvidia-nvjitlink-cu12==12.6.85 in /usr/local/lib/python3.12/dist-packages (from torch>=2.0.0->llama-index-embeddings-adapter<0.5,>=0.4.0->llama-index-finetuning<0.5,>=0.4->llama-index-experimental) (12.6.85)\n",
            "Requirement already satisfied: nvidia-cufile-cu12==1.11.1.6 in /usr/local/lib/python3.12/dist-packages (from torch>=2.0.0->llama-index-embeddings-adapter<0.5,>=0.4.0->llama-index-finetuning<0.5,>=0.4->llama-index-experimental) (1.11.1.6)\n",
            "Requirement already satisfied: triton==3.4.0 in /usr/local/lib/python3.12/dist-packages (from torch>=2.0.0->llama-index-embeddings-adapter<0.5,>=0.4.0->llama-index-finetuning<0.5,>=0.4->llama-index-experimental) (3.4.0)\n",
            "Requirement already satisfied: safetensors>=0.4.3 in /usr/local/lib/python3.12/dist-packages (from transformers<5.0.0,>=4.41.0->sentence-transformers>=2.3.0->llama-index-finetuning<0.5,>=0.4->llama-index-experimental) (0.6.2)\n",
            "Requirement already satisfied: sniffio>=1.1 in /usr/local/lib/python3.12/dist-packages (from anyio->httpx->llama-index-core<0.14,>=0.13.0->llama-index-experimental) (1.3.1)\n",
            "Requirement already satisfied: colorama>=0.4 in /usr/local/lib/python3.12/dist-packages (from griffe->banks<3,>=2.2.0->llama-index-core<0.14,>=0.13.0->llama-index-experimental) (0.4.6)\n",
            "Requirement already satisfied: MarkupSafe>=2.0 in /usr/local/lib/python3.12/dist-packages (from jinja2->banks<3,>=2.2.0->llama-index-core<0.14,>=0.13.0->llama-index-experimental) (3.0.2)\n",
            "Requirement already satisfied: threadpoolctl>=3.1.0 in /usr/local/lib/python3.12/dist-packages (from scikit-learn->sentence-transformers>=2.3.0->llama-index-finetuning<0.5,>=0.4->llama-index-experimental) (3.6.0)\n",
            "Requirement already satisfied: cffi>=1.12 in /usr/local/lib/python3.12/dist-packages (from cryptography>=2.5->azure-identity<2,>=1.15.0->llama-index-llms-azure-openai<0.5,>=0.4.0->llama-index-finetuning<0.5,>=0.4->llama-index-experimental) (1.17.1)\n",
            "Requirement already satisfied: PyJWT<3,>=1.0.0 in /usr/local/lib/python3.12/dist-packages (from PyJWT[crypto]<3,>=1.0.0->msal>=1.30.0->azure-identity<2,>=1.15.0->llama-index-llms-azure-openai<0.5,>=0.4.0->llama-index-finetuning<0.5,>=0.4->llama-index-experimental) (2.10.1)\n",
            "Requirement already satisfied: distro<2,>=1.7.0 in /usr/local/lib/python3.12/dist-packages (from openai<2,>=1.81.0->llama-index-llms-openai<0.6,>=0.5.0->llama-index-llms-azure-openai<0.5,>=0.4.0->llama-index-finetuning<0.5,>=0.4->llama-index-experimental) (1.9.0)\n",
            "Requirement already satisfied: jiter<1,>=0.4.0 in /usr/local/lib/python3.12/dist-packages (from openai<2,>=1.81.0->llama-index-llms-openai<0.6,>=0.5.0->llama-index-llms-azure-openai<0.5,>=0.4.0->llama-index-finetuning<0.5,>=0.4->llama-index-experimental) (0.10.0)\n",
            "Requirement already satisfied: mpmath<1.4,>=1.1.0 in /usr/local/lib/python3.12/dist-packages (from sympy>=1.13.3->torch>=2.0.0->llama-index-embeddings-adapter<0.5,>=0.4.0->llama-index-finetuning<0.5,>=0.4->llama-index-experimental) (1.3.0)\n",
            "Requirement already satisfied: pycparser in /usr/local/lib/python3.12/dist-packages (from cffi>=1.12->cryptography>=2.5->azure-identity<2,>=1.15.0->llama-index-llms-azure-openai<0.5,>=0.4.0->llama-index-finetuning<0.5,>=0.4->llama-index-experimental) (2.22)\n",
            "Requirement already satisfied: gradio in /usr/local/lib/python3.12/dist-packages (5.44.1)\n",
            "Requirement already satisfied: aiofiles<25.0,>=22.0 in /usr/local/lib/python3.12/dist-packages (from gradio) (24.1.0)\n",
            "Requirement already satisfied: anyio<5.0,>=3.0 in /usr/local/lib/python3.12/dist-packages (from gradio) (4.10.0)\n",
            "Requirement already satisfied: brotli>=1.1.0 in /usr/local/lib/python3.12/dist-packages (from gradio) (1.1.0)\n",
            "Requirement already satisfied: fastapi<1.0,>=0.115.2 in /usr/local/lib/python3.12/dist-packages (from gradio) (0.116.1)\n",
            "Requirement already satisfied: ffmpy in /usr/local/lib/python3.12/dist-packages (from gradio) (0.6.1)\n",
            "Requirement already satisfied: gradio-client==1.12.1 in /usr/local/lib/python3.12/dist-packages (from gradio) (1.12.1)\n",
            "Requirement already satisfied: groovy~=0.1 in /usr/local/lib/python3.12/dist-packages (from gradio) (0.1.2)\n",
            "Requirement already satisfied: httpx<1.0,>=0.24.1 in /usr/local/lib/python3.12/dist-packages (from gradio) (0.28.1)\n",
            "Requirement already satisfied: huggingface-hub<1.0,>=0.33.5 in /usr/local/lib/python3.12/dist-packages (from gradio) (0.34.4)\n",
            "Requirement already satisfied: jinja2<4.0 in /usr/local/lib/python3.12/dist-packages (from gradio) (3.1.6)\n",
            "Requirement already satisfied: markupsafe<4.0,>=2.0 in /usr/local/lib/python3.12/dist-packages (from gradio) (3.0.2)\n",
            "Requirement already satisfied: numpy<3.0,>=1.0 in /usr/local/lib/python3.12/dist-packages (from gradio) (2.0.2)\n",
            "Requirement already satisfied: orjson~=3.0 in /usr/local/lib/python3.12/dist-packages (from gradio) (3.11.3)\n",
            "Requirement already satisfied: packaging in /usr/local/lib/python3.12/dist-packages (from gradio) (25.0)\n",
            "Requirement already satisfied: pandas<3.0,>=1.0 in /usr/local/lib/python3.12/dist-packages (from gradio) (2.2.2)\n",
            "Requirement already satisfied: pillow<12.0,>=8.0 in /usr/local/lib/python3.12/dist-packages (from gradio) (11.3.0)\n",
            "Requirement already satisfied: pydantic<2.12,>=2.0 in /usr/local/lib/python3.12/dist-packages (from gradio) (2.11.7)\n",
            "Requirement already satisfied: pydub in /usr/local/lib/python3.12/dist-packages (from gradio) (0.25.1)\n",
            "Requirement already satisfied: python-multipart>=0.0.18 in /usr/local/lib/python3.12/dist-packages (from gradio) (0.0.20)\n",
            "Requirement already satisfied: pyyaml<7.0,>=5.0 in /usr/local/lib/python3.12/dist-packages (from gradio) (6.0.2)\n",
            "Requirement already satisfied: ruff>=0.9.3 in /usr/local/lib/python3.12/dist-packages (from gradio) (0.12.11)\n",
            "Requirement already satisfied: safehttpx<0.2.0,>=0.1.6 in /usr/local/lib/python3.12/dist-packages (from gradio) (0.1.6)\n",
            "Requirement already satisfied: semantic-version~=2.0 in /usr/local/lib/python3.12/dist-packages (from gradio) (2.10.0)\n",
            "Requirement already satisfied: starlette<1.0,>=0.40.0 in /usr/local/lib/python3.12/dist-packages (from gradio) (0.47.3)\n",
            "Requirement already satisfied: tomlkit<0.14.0,>=0.12.0 in /usr/local/lib/python3.12/dist-packages (from gradio) (0.13.3)\n",
            "Requirement already satisfied: typer<1.0,>=0.12 in /usr/local/lib/python3.12/dist-packages (from gradio) (0.17.3)\n",
            "Requirement already satisfied: typing-extensions~=4.0 in /usr/local/lib/python3.12/dist-packages (from gradio) (4.15.0)\n",
            "Requirement already satisfied: uvicorn>=0.14.0 in /usr/local/lib/python3.12/dist-packages (from gradio) (0.35.0)\n",
            "Requirement already satisfied: fsspec in /usr/local/lib/python3.12/dist-packages (from gradio-client==1.12.1->gradio) (2025.3.0)\n",
            "Requirement already satisfied: websockets<16.0,>=10.0 in /usr/local/lib/python3.12/dist-packages (from gradio-client==1.12.1->gradio) (15.0.1)\n",
            "Requirement already satisfied: idna>=2.8 in /usr/local/lib/python3.12/dist-packages (from anyio<5.0,>=3.0->gradio) (3.10)\n",
            "Requirement already satisfied: sniffio>=1.1 in /usr/local/lib/python3.12/dist-packages (from anyio<5.0,>=3.0->gradio) (1.3.1)\n",
            "Requirement already satisfied: certifi in /usr/local/lib/python3.12/dist-packages (from httpx<1.0,>=0.24.1->gradio) (2025.8.3)\n",
            "Requirement already satisfied: httpcore==1.* in /usr/local/lib/python3.12/dist-packages (from httpx<1.0,>=0.24.1->gradio) (1.0.9)\n",
            "Requirement already satisfied: h11>=0.16 in /usr/local/lib/python3.12/dist-packages (from httpcore==1.*->httpx<1.0,>=0.24.1->gradio) (0.16.0)\n",
            "Requirement already satisfied: filelock in /usr/local/lib/python3.12/dist-packages (from huggingface-hub<1.0,>=0.33.5->gradio) (3.19.1)\n",
            "Requirement already satisfied: requests in /usr/local/lib/python3.12/dist-packages (from huggingface-hub<1.0,>=0.33.5->gradio) (2.32.4)\n",
            "Requirement already satisfied: tqdm>=4.42.1 in /usr/local/lib/python3.12/dist-packages (from huggingface-hub<1.0,>=0.33.5->gradio) (4.67.1)\n",
            "Requirement already satisfied: hf-xet<2.0.0,>=1.1.3 in /usr/local/lib/python3.12/dist-packages (from huggingface-hub<1.0,>=0.33.5->gradio) (1.1.9)\n",
            "Requirement already satisfied: python-dateutil>=2.8.2 in /usr/local/lib/python3.12/dist-packages (from pandas<3.0,>=1.0->gradio) (2.9.0.post0)\n",
            "Requirement already satisfied: pytz>=2020.1 in /usr/local/lib/python3.12/dist-packages (from pandas<3.0,>=1.0->gradio) (2025.2)\n",
            "Requirement already satisfied: tzdata>=2022.7 in /usr/local/lib/python3.12/dist-packages (from pandas<3.0,>=1.0->gradio) (2025.2)\n",
            "Requirement already satisfied: annotated-types>=0.6.0 in /usr/local/lib/python3.12/dist-packages (from pydantic<2.12,>=2.0->gradio) (0.7.0)\n",
            "Requirement already satisfied: pydantic-core==2.33.2 in /usr/local/lib/python3.12/dist-packages (from pydantic<2.12,>=2.0->gradio) (2.33.2)\n",
            "Requirement already satisfied: typing-inspection>=0.4.0 in /usr/local/lib/python3.12/dist-packages (from pydantic<2.12,>=2.0->gradio) (0.4.1)\n",
            "Requirement already satisfied: click>=8.0.0 in /usr/local/lib/python3.12/dist-packages (from typer<1.0,>=0.12->gradio) (8.2.1)\n",
            "Requirement already satisfied: shellingham>=1.3.0 in /usr/local/lib/python3.12/dist-packages (from typer<1.0,>=0.12->gradio) (1.5.4)\n",
            "Requirement already satisfied: rich>=10.11.0 in /usr/local/lib/python3.12/dist-packages (from typer<1.0,>=0.12->gradio) (13.9.4)\n",
            "Requirement already satisfied: six>=1.5 in /usr/local/lib/python3.12/dist-packages (from python-dateutil>=2.8.2->pandas<3.0,>=1.0->gradio) (1.17.0)\n",
            "Requirement already satisfied: markdown-it-py>=2.2.0 in /usr/local/lib/python3.12/dist-packages (from rich>=10.11.0->typer<1.0,>=0.12->gradio) (4.0.0)\n",
            "Requirement already satisfied: pygments<3.0.0,>=2.13.0 in /usr/local/lib/python3.12/dist-packages (from rich>=10.11.0->typer<1.0,>=0.12->gradio) (2.19.2)\n",
            "Requirement already satisfied: charset_normalizer<4,>=2 in /usr/local/lib/python3.12/dist-packages (from requests->huggingface-hub<1.0,>=0.33.5->gradio) (3.4.3)\n",
            "Requirement already satisfied: urllib3<3,>=1.21.1 in /usr/local/lib/python3.12/dist-packages (from requests->huggingface-hub<1.0,>=0.33.5->gradio) (2.5.0)\n",
            "Requirement already satisfied: mdurl~=0.1 in /usr/local/lib/python3.12/dist-packages (from markdown-it-py>=2.2.0->rich>=10.11.0->typer<1.0,>=0.12->gradio) (0.1.2)\n",
            "Requirement already satisfied: fpdf in /usr/local/lib/python3.12/dist-packages (1.7.2)\n"
          ]
        }
      ],
      "source": [
        "!pip install llama-index\n",
        "!pip install llama-index-llms-groq\n",
        "!pip install llama-index-experimental\n",
        "!pip install gradio\n",
        "!pip install fpdf"
      ]
    },
    {
      "cell_type": "code",
      "source": [
        "import pandas as pd\n",
        "from pydantic import BaseModel, Field, field_validator\n",
        "from llama_index.core import Settings\n",
        "from llama_index.llms.groq import Groq\n",
        "from llama_index.experimental.query_engine import PandasQueryEngine\n",
        "from google.colab import userdata\n",
        "\n",
        "# ===== CONFIGURAÇÃO COM PYDANTIC V2 =====\n",
        "class LLMConfig(BaseModel):\n",
        "    model: str = Field(..., description=\"Nome do modelo Groq a ser usado\")\n",
        "    api_key: str = Field(..., description=\"Chave da API Groq\")\n",
        "    data_url: str = Field(..., description=\"URL do CSV com os dados\")\n",
        "\n",
        "    @field_validator(\"data_url\")\n",
        "    @classmethod\n",
        "    def validar_url(cls, v: str) -> str:\n",
        "        if not (v.startswith(\"http://\") or v.startswith(\"https://\")):\n",
        "            raise ValueError(\"data_url deve começar com http:// ou https://\")\n",
        "        return v\n",
        "\n",
        "    model_config = {\n",
        "        \"extra\": \"allow\",\n",
        "        \"json_schema_extra\": {\n",
        "            \"example\": {\n",
        "                \"model\": \"meta-llama/llama-4-scout-17b-16e-instruct\",\n",
        "                \"api_key\": \"<SUA_CHAVE_AQUI>\",\n",
        "                \"data_url\": \"https://raw.githubusercontent.com/YuriArduino/Estudos_Artificial_Intelligence/refs/heads/Dados/vendas.csv\"\n",
        "            }\n",
        "        }\n",
        "    }\n",
        "\n",
        "\n",
        "# ===== INICIALIZAÇÃO =====\n",
        "# Obter a chave via Colab userdata\n",
        "key = userdata.get('Groq_API')\n",
        "\n",
        "# Configurar\n",
        "config = LLMConfig(\n",
        "    model='meta-llama/llama-4-scout-17b-16e-instruct',\n",
        "    api_key=key,\n",
        "    data_url='https://raw.githubusercontent.com/YuriArduino/Estudos_Artificial_Intelligence/refs/heads/Dados/vendas.csv'\n",
        ")\n",
        "\n",
        "# Carregar CSV\n",
        "df = pd.read_csv(config.data_url)\n",
        "\n",
        "# Inicializar LLM via Settings\n",
        "Settings.llm = Groq(model=config.model, api_key=config.api_key)\n",
        "\n",
        "# Criar engine de consulta\n",
        "query_engine = PandasQueryEngine(df=df, verbose=True)"
      ],
      "metadata": {
        "id": "qtsqVh4wYkv4"
      },
      "execution_count": 2,
      "outputs": []
    },
    {
      "cell_type": "markdown",
      "source": [
        "#Obtendo uma resposta mais detalhada"
      ],
      "metadata": {
        "id": "ikcfRPbaaU61"
      }
    },
    {
      "cell_type": "code",
      "source": [
        "query_engine = PandasQueryEngine(df=df, verbose=True, synthesize_response=True)"
      ],
      "metadata": {
        "id": "jT_p0cs9aSFO"
      },
      "execution_count": 3,
      "outputs": []
    },
    {
      "cell_type": "markdown",
      "source": [
        "Aqui, passamos o dataframe df e utilizamos o parâmetro verbose=True para obter as saídas do que está acontecendo durante a consulta. Também adicionamos o parâmetro synthesize_response=True.\n",
        "\n",
        "Vamos executar essa célula e testar com uma nova consulta. Podemos criar uma variável chamada response para obter a resposta:"
      ],
      "metadata": {
        "id": "TsvPbdT1aZOP"
      }
    },
    {
      "cell_type": "code",
      "source": [
        "response = query_engine.query('Qual é a avaliação média de cada filial?')"
      ],
      "metadata": {
        "colab": {
          "base_uri": "https://localhost:8080/"
        },
        "id": "PdlhZfsUaasF",
        "outputId": "447f2a1e-964d-4692-e6da-1309848c787b"
      },
      "execution_count": 4,
      "outputs": [
        {
          "output_type": "stream",
          "name": "stdout",
          "text": [
            "> Pandas Instructions:\n",
            "```\n",
            "df.groupby('filial')['avaliacao'].mean().to_dict()\n",
            "```\n",
            "> Pandas Output: {'A': 7.027058823529411, 'B': 6.8180722891566266, 'C': 7.072865853658537}\n"
          ]
        }
      ]
    },
    {
      "cell_type": "code",
      "source": [
        "df.groupby('filial')['avaliacao'].mean()"
      ],
      "metadata": {
        "colab": {
          "base_uri": "https://localhost:8080/",
          "height": 210
        },
        "id": "06QbIN7Iad8W",
        "outputId": "0a8e73d6-044e-4ce3-8463-99c7cf996b75"
      },
      "execution_count": 5,
      "outputs": [
        {
          "output_type": "execute_result",
          "data": {
            "text/plain": [
              "filial\n",
              "A    7.027059\n",
              "B    6.818072\n",
              "C    7.072866\n",
              "Name: avaliacao, dtype: float64"
            ],
            "text/html": [
              "<div>\n",
              "<style scoped>\n",
              "    .dataframe tbody tr th:only-of-type {\n",
              "        vertical-align: middle;\n",
              "    }\n",
              "\n",
              "    .dataframe tbody tr th {\n",
              "        vertical-align: top;\n",
              "    }\n",
              "\n",
              "    .dataframe thead th {\n",
              "        text-align: right;\n",
              "    }\n",
              "</style>\n",
              "<table border=\"1\" class=\"dataframe\">\n",
              "  <thead>\n",
              "    <tr style=\"text-align: right;\">\n",
              "      <th></th>\n",
              "      <th>avaliacao</th>\n",
              "    </tr>\n",
              "    <tr>\n",
              "      <th>filial</th>\n",
              "      <th></th>\n",
              "    </tr>\n",
              "  </thead>\n",
              "  <tbody>\n",
              "    <tr>\n",
              "      <th>A</th>\n",
              "      <td>7.027059</td>\n",
              "    </tr>\n",
              "    <tr>\n",
              "      <th>B</th>\n",
              "      <td>6.818072</td>\n",
              "    </tr>\n",
              "    <tr>\n",
              "      <th>C</th>\n",
              "      <td>7.072866</td>\n",
              "    </tr>\n",
              "  </tbody>\n",
              "</table>\n",
              "</div><br><label><b>dtype:</b> float64</label>"
            ]
          },
          "metadata": {},
          "execution_count": 5
        }
      ]
    },
    {
      "cell_type": "code",
      "source": [
        "print(str(response))"
      ],
      "metadata": {
        "colab": {
          "base_uri": "https://localhost:8080/"
        },
        "id": "uEungJG4ag61",
        "outputId": "4eae5c8a-2c29-43ff-ab21-af14cf32c3a6"
      },
      "execution_count": 6,
      "outputs": [
        {
          "output_type": "stream",
          "name": "stdout",
          "text": [
            "A avaliação média de cada filial é a seguinte:\n",
            "\n",
            "- Filial A: 7,03\n",
            "- Filial B: 6,82\n",
            "- Filial C: 7,07\n",
            "\n",
            "Esses valores são calculados com base na média das avaliações de cada filial.\n"
          ]
        }
      ]
    },
    {
      "cell_type": "markdown",
      "source": [
        "##Formatando o texto da resposta"
      ],
      "metadata": {
        "id": "nw_4vkUPau86"
      }
    },
    {
      "cell_type": "code",
      "source": [
        "import textwrap"
      ],
      "metadata": {
        "id": "uB_Gs7kpawo3"
      },
      "execution_count": 8,
      "outputs": []
    },
    {
      "cell_type": "markdown",
      "source": [
        "Em seguida, vamos criar uma função chamada formatar_texto, que receberá a resposta. Em seguida, criaremos uma variável chamada texto. Se fizermos um teste e escrevermos response.response, obteremos apenas a resposta, sem as instruções. Por isso, a variável texto será igual a response.response.\n",
        "\n",
        "Criaremos depois um texto_formatado que será igual ao textwrap.fill(). Dentro dos parênteses, colocaremos o texto e a largura desejada para o texto. Testaremos com width=100. Por fim, traremos um print do texto formatado:"
      ],
      "metadata": {
        "id": "VYryJxMsa6b8"
      }
    },
    {
      "cell_type": "code",
      "source": [
        "response.response"
      ],
      "metadata": {
        "colab": {
          "base_uri": "https://localhost:8080/",
          "height": 53
        },
        "id": "dxZzf-OqbbHY",
        "outputId": "d708b46a-d0f8-4bc8-96dd-7743fb11f705"
      },
      "execution_count": 10,
      "outputs": [
        {
          "output_type": "execute_result",
          "data": {
            "text/plain": [
              "'A avaliação média de cada filial é a seguinte:\\n\\n- Filial A: 7,03\\n- Filial B: 6,82\\n- Filial C: 7,07\\n\\nEsses valores são calculados com base na média das avaliações de cada filial.'"
            ],
            "application/vnd.google.colaboratory.intrinsic+json": {
              "type": "string"
            }
          },
          "metadata": {},
          "execution_count": 10
        }
      ]
    },
    {
      "cell_type": "code",
      "source": [
        "#Função formatar texto\n",
        "def formatar_texto(response):\n",
        "    texto = response.response\n",
        "    texto_formatado = textwrap.fill(texto, width=100)\n",
        "    print(texto_formatado)"
      ],
      "metadata": {
        "id": "kxsI81NIa5nF"
      },
      "execution_count": 12,
      "outputs": []
    },
    {
      "cell_type": "code",
      "source": [
        "formatar_texto(response)"
      ],
      "metadata": {
        "colab": {
          "base_uri": "https://localhost:8080/"
        },
        "id": "mBIJi8e6bmLF",
        "outputId": "9ab6a749-6922-4eaf-c56a-ed262f64d4a8"
      },
      "execution_count": 11,
      "outputs": [
        {
          "output_type": "stream",
          "name": "stdout",
          "text": [
            "A avaliação média de cada filial é a seguinte:  - Filial A: 7,03 - Filial B: 6,82 - Filial C: 7,07\n",
            "Esses valores são calculados com base na média das avaliações de cada filial.\n"
          ]
        }
      ]
    },
    {
      "cell_type": "markdown",
      "source": [
        "---\n",
        "\n",
        "\n",
        "###Para saber mais: especificando detalhes nas consultas\n",
        "\n",
        "\n",
        "No vídeo anterior, discutimos como utilizar o **PandasQueryEngine** para obter respostas mais detalhadas e explicativas, configurando o parâmetro `synthesize_response=True`.\n",
        "\n",
        "Por exemplo, aplicamos o seguinte código para investigar a **avaliação média de cada filial** da Zoop:\n",
        "\n",
        "```python\n",
        "query_engine = PandasQueryEngine(df=df, verbose=True, synthesize_response=True)\n",
        "response = query_engine.query('Qual é a avaliação média de cada filial?')\n",
        "```\n",
        "\n",
        "Com essa consulta, obtivemos a resposta:\n",
        "\n",
        "> A avaliação média de cada filial é a seguinte: a filial A tem uma avaliação média de 7.03, a filial B tem uma avaliação média de 6.82 e a filial C tem uma avaliação média de 7.07.\n",
        "\n",
        "Essa resposta fornece uma visão geral das avaliações médias. Contudo, podemos **aprimorar a análise** ao ordenar as filiais pela média, do maior para o menor valor, destacando rapidamente as filiais com melhor desempenho.\n",
        "\n",
        "Para isso, podemos fazer uma consulta mais específica:\n",
        "\n",
        "```python\n",
        "response = query_engine.query('Qual é a avaliação média de cada filial? Ordene da maior para a menor')\n",
        "print(response.response)\n",
        "```\n",
        "\n",
        "A nova resposta é:\n",
        "\n",
        "> A avaliação média de cada filial, em ordem decrescente, é a seguinte: a filial C tem uma avaliação média de 7.07, a filial A tem uma avaliação média de 7.03, e a filial B tem uma avaliação média de 6.82.\n",
        "\n",
        "Essa ordenação traz **valor adicional à análise**, permitindo identificar rapidamente as filiais com melhores avaliações e tomar decisões mais informadas sobre estratégias de melhoria para cada unidade.\n",
        "\n",
        "💡 **Dica:** Para enriquecer ainda mais sua experiência com o PandasQueryEngine, teste outras consultas e explore diferentes formas de detalhar as respostas.\n",
        "\n",
        "---\n",
        "\n"
      ],
      "metadata": {
        "id": "m5qfvPZyc-B3"
      }
    },
    {
      "cell_type": "markdown",
      "source": [
        "#Obtendo gráficos\n",
        "\n",
        "A biblioteca possui uma função chamada plot, com a qual conseguimos obter histogramas, boxplots, gráficos de barras, entre outros.\n",
        "\n",
        "Embora não seja tão eficiente e customizável quanto as bibliotecas Matplotlib ou Seaborn, que são as mais usadas para visualização de dados, ainda assim, ela consegue plotar gráficos e mostrar resultados interessantes.\n",
        "\n",
        "Podemos testar isso e verificar se conseguimos. Vamos criar uma nova variável chamada response:"
      ],
      "metadata": {
        "id": "0bodJBCDdF5m"
      }
    },
    {
      "cell_type": "code",
      "source": [
        "response = query_engine.query('Você pode exibir a distribuição das avaliações?')"
      ],
      "metadata": {
        "colab": {
          "base_uri": "https://localhost:8080/"
        },
        "id": "eWSstpNSdwo4",
        "outputId": "a8d90368-ddc9-4c13-de4e-d74d0f8c16a0"
      },
      "execution_count": 14,
      "outputs": [
        {
          "output_type": "stream",
          "name": "stdout",
          "text": [
            "> Pandas Instructions:\n",
            "```\n",
            "df['avaliacao'].value_counts()\n",
            "```\n",
            "> Pandas Output: avaliacao\n",
            "6.0     26\n",
            "6.6     24\n",
            "9.5     22\n",
            "4.2     22\n",
            "5.1     21\n",
            "        ..\n",
            "5.3     11\n",
            "8.3     11\n",
            "4.0     11\n",
            "4.6      8\n",
            "10.0     5\n",
            "Name: count, Length: 61, dtype: int64\n"
          ]
        }
      ]
    },
    {
      "cell_type": "code",
      "source": [
        "df.avaliacao.value_counts()"
      ],
      "metadata": {
        "colab": {
          "base_uri": "https://localhost:8080/",
          "height": 490
        },
        "id": "Tv8dtWTFdyeN",
        "outputId": "943727ea-ca0f-4323-efb4-be6baf6f90da"
      },
      "execution_count": 15,
      "outputs": [
        {
          "output_type": "execute_result",
          "data": {
            "text/plain": [
              "avaliacao\n",
              "6.0     26\n",
              "6.6     24\n",
              "9.5     22\n",
              "4.2     22\n",
              "5.1     21\n",
              "        ..\n",
              "5.3     11\n",
              "8.3     11\n",
              "4.0     11\n",
              "4.6      8\n",
              "10.0     5\n",
              "Name: count, Length: 61, dtype: int64"
            ],
            "text/html": [
              "<div>\n",
              "<style scoped>\n",
              "    .dataframe tbody tr th:only-of-type {\n",
              "        vertical-align: middle;\n",
              "    }\n",
              "\n",
              "    .dataframe tbody tr th {\n",
              "        vertical-align: top;\n",
              "    }\n",
              "\n",
              "    .dataframe thead th {\n",
              "        text-align: right;\n",
              "    }\n",
              "</style>\n",
              "<table border=\"1\" class=\"dataframe\">\n",
              "  <thead>\n",
              "    <tr style=\"text-align: right;\">\n",
              "      <th></th>\n",
              "      <th>count</th>\n",
              "    </tr>\n",
              "    <tr>\n",
              "      <th>avaliacao</th>\n",
              "      <th></th>\n",
              "    </tr>\n",
              "  </thead>\n",
              "  <tbody>\n",
              "    <tr>\n",
              "      <th>6.0</th>\n",
              "      <td>26</td>\n",
              "    </tr>\n",
              "    <tr>\n",
              "      <th>6.6</th>\n",
              "      <td>24</td>\n",
              "    </tr>\n",
              "    <tr>\n",
              "      <th>9.5</th>\n",
              "      <td>22</td>\n",
              "    </tr>\n",
              "    <tr>\n",
              "      <th>4.2</th>\n",
              "      <td>22</td>\n",
              "    </tr>\n",
              "    <tr>\n",
              "      <th>5.1</th>\n",
              "      <td>21</td>\n",
              "    </tr>\n",
              "    <tr>\n",
              "      <th>...</th>\n",
              "      <td>...</td>\n",
              "    </tr>\n",
              "    <tr>\n",
              "      <th>5.3</th>\n",
              "      <td>11</td>\n",
              "    </tr>\n",
              "    <tr>\n",
              "      <th>8.3</th>\n",
              "      <td>11</td>\n",
              "    </tr>\n",
              "    <tr>\n",
              "      <th>4.0</th>\n",
              "      <td>11</td>\n",
              "    </tr>\n",
              "    <tr>\n",
              "      <th>4.6</th>\n",
              "      <td>8</td>\n",
              "    </tr>\n",
              "    <tr>\n",
              "      <th>10.0</th>\n",
              "      <td>5</td>\n",
              "    </tr>\n",
              "  </tbody>\n",
              "</table>\n",
              "<p>61 rows × 1 columns</p>\n",
              "</div><br><label><b>dtype:</b> int64</label>"
            ]
          },
          "metadata": {},
          "execution_count": 15
        }
      ]
    },
    {
      "cell_type": "code",
      "source": [
        "formatar_texto(response)"
      ],
      "metadata": {
        "colab": {
          "base_uri": "https://localhost:8080/"
        },
        "id": "k-tTb1jzd1A3",
        "outputId": "5a9232c4-7b6a-4c45-8e1a-8efc3be207f7"
      },
      "execution_count": 16,
      "outputs": [
        {
          "output_type": "stream",
          "name": "stdout",
          "text": [
            "Claro, posso exibir a distribuição das avaliações com base nos dados fornecidos.  A distribuição das\n",
            "avaliações é a seguinte:  - 6.0: 26 ocorrências - 6.6: 24 ocorrências - 9.5: 22 ocorrências - 4.2:\n",
            "22 ocorrências - 5.1: 21 ocorrências - ... (outras avaliações com menos ocorrências)  A lista\n",
            "completa de avaliações e suas respectivas ocorrências é:  ``` avaliacao 6.0      26 6.6      24 9.5\n",
            "22 4.2      22 5.1      21 ... 5.3      11 8.3      11 4.0      11 4.6       8 10.0      5 Name:\n",
            "count, Length:61, dtype: int64 ```  Essa distribuição mostra que as avaliações variam amplamente,\n",
            "com algumas avaliações mais altas (como 6.0, 6.6 e 9.5) tendo mais ocorrências do que as avaliações\n",
            "mais baixas ou extremas (como 4.0, 4.6 e 10.0). A grande variedade de avaliações e a diferença na\n",
            "frequência de cada uma delas indicam uma diversidade significativa nas opiniões ou classificações\n",
            "fornecidas.\n"
          ]
        }
      ]
    },
    {
      "cell_type": "markdown",
      "source": [
        "###Obtendo a resposta em gráfico"
      ],
      "metadata": {
        "id": "J2dZ2H0Hd44f"
      }
    },
    {
      "cell_type": "code",
      "source": [
        "response = query_engine.query('Você pode plotar a distribuição das avaliações?')"
      ],
      "metadata": {
        "colab": {
          "base_uri": "https://localhost:8080/",
          "height": 601
        },
        "id": "5c-J-yDVd7ew",
        "outputId": "140c3b56-a408-43d4-b1a0-e22e5979ce03"
      },
      "execution_count": 17,
      "outputs": [
        {
          "output_type": "stream",
          "name": "stdout",
          "text": [
            "> Pandas Instructions:\n",
            "```\n",
            "df['avaliacao'].plot.hist(bins=10, figsize=(10,6))\n",
            "```\n",
            "> Pandas Output: Axes(0.125,0.11;0.775x0.77)\n"
          ]
        },
        {
          "output_type": "display_data",
          "data": {
            "text/plain": [
              "<Figure size 1000x600 with 1 Axes>"
            ],
            "image/png": "[encoded data removed]"
          },
          "metadata": {}
        }
      ]
    },
    {
      "cell_type": "markdown",
      "source": [
        "Ele utilizou a instrução para pegar o DataFrame, a coluna avaliacao, e usou a função plot com o tipo de gráfico kind='hist'. Perfeito, ele acertou.\n",
        "\n",
        "Podemos até pedir a resposta formatada novamente:"
      ],
      "metadata": {
        "id": "-Qm9aWlFeBI2"
      }
    },
    {
      "cell_type": "code",
      "source": [
        "formatar_texto(response)"
      ],
      "metadata": {
        "colab": {
          "base_uri": "https://localhost:8080/"
        },
        "id": "NIS7sTjxeAi4",
        "outputId": "fe02d85f-c32f-4c57-aad6-f1f3bc3cb6dd"
      },
      "execution_count": 18,
      "outputs": [
        {
          "output_type": "stream",
          "name": "stdout",
          "text": [
            "Sim, posso plotar a distribuição das avaliações. A distribuição pode ser visualizada através de um\n",
            "histograma.   O histograma das avaliações está distribuído da seguinte forma:  [ Informação do\n",
            "gráfico: um histograma com 10 bins, tamanho da figura 10x6 ]  Com esse gráfico, é possível ter uma\n",
            "noção clara de como as avaliações estão distribuídas, ajudando a identificar tendências, padrões ou\n",
            "outliers nos dados.   O código utilizado para gerar esse gráfico foi: ```python\n",
            "df['avaliacao'].plot.hist(bins=10, figsize=(10,6)) ``` Esse comando cria um histograma com 10\n",
            "intervalos (bins) para agrupar as avaliações e define o tamanho da figura como 10x6 polegadas,\n",
            "facilitando a visualização e análise da distribuição das avaliações.\n"
          ]
        }
      ]
    },
    {
      "cell_type": "markdown",
      "source": [
        "##Obtendo um gráfico mais complexo"
      ],
      "metadata": {
        "id": "0wFWDk71eHph"
      }
    },
    {
      "cell_type": "code",
      "source": [
        "response = query_engine.query('''\n",
        "Você pode plotar o valor total por tipo de produto, ordenando do menor para o maior e mantendo as barras na horizontal?\n",
        "''')"
      ],
      "metadata": {
        "colab": {
          "base_uri": "https://localhost:8080/",
          "height": 517
        },
        "id": "kT2t3uEpeGDC",
        "outputId": "5ba06fc4-cc2b-4184-a6fe-4bc81cdd49f2"
      },
      "execution_count": 19,
      "outputs": [
        {
          "output_type": "stream",
          "name": "stdout",
          "text": [
            "> Pandas Instructions:\n",
            "```\n",
            "df.groupby('tipo_produto')['total'].sum().sort_values().plot(kind='barh')\n",
            "```\n",
            "> Pandas Output: Axes(0.125,0.11;0.775x0.77)\n"
          ]
        },
        {
          "output_type": "display_data",
          "data": {
            "text/plain": [
              "<Figure size 640x480 with 1 Axes>"
            ],
            "image/png": "[encoded data removed]"
          },
          "metadata": {}
        }
      ]
    },
    {
      "cell_type": "markdown",
      "source": [
        "Ele agrupou o DataFrame pelo tipo de produto, somou o valor total faturado com cada tipo, ordenou e plotou usando o tipo de barra horizontal. O resultado mostra alimentos e bebidas, esportes e viagens, eletrônicos, moda, casa, e o menor valor total, saúde e beleza.\n",
        "\n",
        "No entanto, dependendo de como formulamos a pergunta, pode ocorrer algo diferente. Vamos imprimir a resposta:"
      ],
      "metadata": {
        "id": "WOrOlkCzeROY"
      }
    },
    {
      "cell_type": "code",
      "source": [
        "formatar_texto(response)"
      ],
      "metadata": {
        "colab": {
          "base_uri": "https://localhost:8080/"
        },
        "id": "Zx04dgmUeSiw",
        "outputId": "c9115419-dc50-46e7-c604-78ddadadae93"
      },
      "execution_count": 20,
      "outputs": [
        {
          "output_type": "stream",
          "name": "stdout",
          "text": [
            "Sim, é possível plotar o valor total por tipo de produto, ordenando do menor para o maior e mantendo\n",
            "as barras na horizontal.   Para fazer isso, você pode usar a biblioteca Pandas e seguir os passos\n",
            "abaixo:  1. Agrupe os dados por 'tipo_produto' e some os valores de 'total'. 2. Ordene os valores em\n",
            "ordem crescente. 3. Plote os dados usando o tipo de gráfico de barras horizontais ('barh').  Aqui\n",
            "está um exemplo de código que realiza isso:  ```python import pandas as pd import matplotlib.pyplot\n",
            "as plt  # Supondo que df seja o seu DataFrame\n",
            "df.groupby('tipo_produto')['total'].sum().sort_values().plot(kind='barh') plt.title('Valor Total por\n",
            "Tipo de Produto') plt.xlabel('Valor Total') plt.ylabel('Tipo de Produto') plt.show() ```  Esse\n",
            "código irá gerar um gráfico de barras horizontais, onde os tipos de produtos estão ordenados do\n",
            "menor para o maior valor total. As barras representam os valores totais para cada tipo de produto.\n",
            "Lembre-se de que você precisa ter o DataFrame `df` com as colunas `tipo_produto` e `total` para\n",
            "executar esse código. Além disso, certifique-se de ter as bibliotecas Pandas e Matplotlib instaladas\n",
            "em seu ambiente Python.\n"
          ]
        }
      ]
    },
    {
      "cell_type": "markdown",
      "source": [
        "Se, em vez de perguntar, formos mais diretos, dizendo algo como \"Plote o valor total por tipo de produto, ordenando do menor para o maior e mantendo as barras na horizontal\", sem a interrogação, o gráfico será gerado da mesma forma."
      ],
      "metadata": {
        "id": "BgSu-ze-eWhW"
      }
    },
    {
      "cell_type": "code",
      "source": [
        "response = query_engine.query('''Plote o valor total por tipo de produto,\n",
        "ordenando do menor para o maior e mantendo as barras na horizontal''')"
      ],
      "metadata": {
        "colab": {
          "base_uri": "https://localhost:8080/",
          "height": 517
        },
        "id": "9J-3u-n-eXpE",
        "outputId": "34d777df-f96b-42e8-8272-8fd687d86d36"
      },
      "execution_count": 21,
      "outputs": [
        {
          "output_type": "stream",
          "name": "stdout",
          "text": [
            "> Pandas Instructions:\n",
            "```\n",
            "df.groupby('tipo_produto')['total'].sum().sort_values().plot(kind='barh')\n",
            "```\n",
            "> Pandas Output: Axes(0.125,0.11;0.775x0.77)\n"
          ]
        },
        {
          "output_type": "display_data",
          "data": {
            "text/plain": [
              "<Figure size 640x480 with 1 Axes>"
            ],
            "image/png": "[encoded data removed]"
          },
          "metadata": {}
        }
      ]
    },
    {
      "cell_type": "code",
      "source": [
        "formatar_texto(response)"
      ],
      "metadata": {
        "colab": {
          "base_uri": "https://localhost:8080/"
        },
        "id": "cSaDX4Ple9oV",
        "outputId": "8fe39421-27b4-48f4-8a4d-94502dd23418"
      },
      "execution_count": 22,
      "outputs": [
        {
          "output_type": "stream",
          "name": "stdout",
          "text": [
            "Para plotar o valor total por tipo de produto, ordenando do menor para o maior e mantendo as barras\n",
            "na horizontal, você pode utilizar a biblioteca Pandas em Python. Aqui está um exemplo de código que\n",
            "realiza isso:  ```python import pandas as pd import matplotlib.pyplot as plt  # Supondo que você\n",
            "tenha um DataFrame chamado 'df' # Certifique-se de que as colunas 'tipo_produto' e 'total' existam\n",
            "no seu DataFrame  # Agrupe os dados por 'tipo_produto', some os valores de 'total', ordene e plote\n",
            "df.groupby('tipo_produto')['total'].sum().sort_values().plot(kind='barh')  # Mostrar o plot\n",
            "plt.show() ```  Este código irá gerar um gráfico de barras horizontais, onde cada barra representa\n",
            "um tipo de produto, ordenado do menor para o maior valor total.  Se você quiser uma resposta mais\n",
            "detalhada:  - **Passos**:   1. **Agrupamento**: Agrupe os dados por tipo de produto usando\n",
            "`df.groupby('tipo_produto')`.   2. **Soma**: Some os valores totais para cada tipo de produto com\n",
            "`['total'].sum()`.   3. **Ordenação**: Ordene os resultados em ordem crescente com `.sort_values()`.\n",
            "4. **Plotagem**: Plote os resultados como um gráfico de barras horizontais utilizando\n",
            "`.plot(kind='barh')`.  - **Observações**:   - Certifique-se de que o DataFrame `df` contenha as\n",
            "colunas `tipo_produto` e `total`.   - O gráfico gerado terá as barras na horizontal, como\n",
            "solicitado, representando o valor total de cada tipo de produto.  Esse código deve ser adaptado de\n",
            "acordo com a estrutura e os nomes das colunas do seu DataFrame.\n"
          ]
        }
      ]
    },
    {
      "cell_type": "markdown",
      "source": [
        "#Direcionando o idioma das respostas"
      ],
      "metadata": {
        "id": "sge99YSge9Xf"
      }
    },
    {
      "cell_type": "markdown",
      "source": [
        "Conseguimos gerar gráficos utilizando essa ferramenta, o que foi muito interessante. No entanto, dependendo da forma como solicitamos algo ao modelo, ele pode responder em outro idioma, como o inglês. Nosso objetivo é manter a consistência para que os resultados sejam no idioma que desejamos trabalhar, que, neste caso, é o português.\n",
        "\n",
        "Vamos testar fazendo outra pergunta para verificar se ele continuará respondendo em inglês. Podemos fazer o seguinte:"
      ],
      "metadata": {
        "id": "oGmhm_nbfhyJ"
      }
    },
    {
      "cell_type": "code",
      "source": [
        "response = query_engine.query('Qual é o método de pagamento mais utilizado em cada filial?')\n",
        "print(response.response)"
      ],
      "metadata": {
        "colab": {
          "base_uri": "https://localhost:8080/"
        },
        "id": "HzXglPwefjOf",
        "outputId": "67d03301-e283-41e2-d015-dba7a5aeea95"
      },
      "execution_count": 23,
      "outputs": [
        {
          "output_type": "stream",
          "name": "stdout",
          "text": [
            "> Pandas Instructions:\n",
            "```\n",
            "```python\n",
            "df.groupby('filial')['forma_pagamento'].agg(lambda x: x.mode().iloc[0]).to_dict()\n",
            "```\n",
            "```\n",
            "> Pandas Output: {'A': 'Carteira Digital', 'B': 'Carteira Digital', 'C': 'Dinheiro'}\n",
            "Em cada uma das filiais, o método de pagamento mais utilizado varia. \n",
            "\n",
            "- Na filial A, o método mais utilizado é **Carteira Digital**.\n",
            "- Na filial B, também é **Carteira Digital**.\n",
            "- Já na filial C, o método mais usado é **Dinheiro**.\n"
          ]
        }
      ]
    },
    {
      "cell_type": "code",
      "source": [
        "df.groupby('filial')['forma_pagamento'].value_counts().groupby('filial').idxmax()"
      ],
      "metadata": {
        "colab": {
          "base_uri": "https://localhost:8080/",
          "height": 210
        },
        "id": "8KuQyb0mfleG",
        "outputId": "6c0eb889-2059-47bc-94b4-58630d8971e4"
      },
      "execution_count": 24,
      "outputs": [
        {
          "output_type": "execute_result",
          "data": {
            "text/plain": [
              "filial\n",
              "A    (A, Carteira Digital)\n",
              "B    (B, Carteira Digital)\n",
              "C            (C, Dinheiro)\n",
              "Name: count, dtype: object"
            ],
            "text/html": [
              "<div>\n",
              "<style scoped>\n",
              "    .dataframe tbody tr th:only-of-type {\n",
              "        vertical-align: middle;\n",
              "    }\n",
              "\n",
              "    .dataframe tbody tr th {\n",
              "        vertical-align: top;\n",
              "    }\n",
              "\n",
              "    .dataframe thead th {\n",
              "        text-align: right;\n",
              "    }\n",
              "</style>\n",
              "<table border=\"1\" class=\"dataframe\">\n",
              "  <thead>\n",
              "    <tr style=\"text-align: right;\">\n",
              "      <th></th>\n",
              "      <th>count</th>\n",
              "    </tr>\n",
              "    <tr>\n",
              "      <th>filial</th>\n",
              "      <th></th>\n",
              "    </tr>\n",
              "  </thead>\n",
              "  <tbody>\n",
              "    <tr>\n",
              "      <th>A</th>\n",
              "      <td>(A, Carteira Digital)</td>\n",
              "    </tr>\n",
              "    <tr>\n",
              "      <th>B</th>\n",
              "      <td>(B, Carteira Digital)</td>\n",
              "    </tr>\n",
              "    <tr>\n",
              "      <th>C</th>\n",
              "      <td>(C, Dinheiro)</td>\n",
              "    </tr>\n",
              "  </tbody>\n",
              "</table>\n",
              "</div><br><label><b>dtype:</b> object</label>"
            ]
          },
          "metadata": {},
          "execution_count": 24
        }
      ]
    },
    {
      "cell_type": "code",
      "source": [
        "response = query_engine.query('Qual é o método de pagamento mais utilizado em cada filial? Responda em português BR')\n",
        "print(response.response)"
      ],
      "metadata": {
        "colab": {
          "base_uri": "https://localhost:8080/"
        },
        "id": "Cl0vTzFDfq5n",
        "outputId": "39dba566-ce7e-4411-9087-7694246bc97d"
      },
      "execution_count": 25,
      "outputs": [
        {
          "output_type": "stream",
          "name": "stdout",
          "text": [
            "> Pandas Instructions:\n",
            "```\n",
            "```\n",
            "df.groupby('filial')['forma_pagamento'].agg(lambda x: x.mode().iloc[0]).to_dict()\n",
            "```\n",
            "```\n",
            "> Pandas Output: {'A': 'Carteira Digital', 'B': 'Carteira Digital', 'C': 'Dinheiro'}\n",
            "Em cada uma de nossas filiais, o método de pagamento mais utilizado varia. \n",
            "\n",
            "- Na filial A, o método mais utilizado é **Carteira Digital**.\n",
            "- Na filial B, também temos **Carteira Digital** como o método preferido.\n",
            "- Já na filial C, o pagamento em **Dinheiro** é o mais comum.\n",
            "\n",
            "Essas informações refletem os padrões de pagamento observados em nossas operações.\n"
          ]
        }
      ]
    },
    {
      "cell_type": "code",
      "source": [
        "df.groupby('filial')['forma_pagamento'].value_counts().groupby('filial').idxmax()"
      ],
      "metadata": {
        "colab": {
          "base_uri": "https://localhost:8080/",
          "height": 210
        },
        "id": "TPzjOlF7fuTm",
        "outputId": "a56ab687-b4ed-4168-d215-2c27ddca56b6"
      },
      "execution_count": 26,
      "outputs": [
        {
          "output_type": "execute_result",
          "data": {
            "text/plain": [
              "filial\n",
              "A    (A, Carteira Digital)\n",
              "B    (B, Carteira Digital)\n",
              "C            (C, Dinheiro)\n",
              "Name: count, dtype: object"
            ],
            "text/html": [
              "<div>\n",
              "<style scoped>\n",
              "    .dataframe tbody tr th:only-of-type {\n",
              "        vertical-align: middle;\n",
              "    }\n",
              "\n",
              "    .dataframe tbody tr th {\n",
              "        vertical-align: top;\n",
              "    }\n",
              "\n",
              "    .dataframe thead th {\n",
              "        text-align: right;\n",
              "    }\n",
              "</style>\n",
              "<table border=\"1\" class=\"dataframe\">\n",
              "  <thead>\n",
              "    <tr style=\"text-align: right;\">\n",
              "      <th></th>\n",
              "      <th>count</th>\n",
              "    </tr>\n",
              "    <tr>\n",
              "      <th>filial</th>\n",
              "      <th></th>\n",
              "    </tr>\n",
              "  </thead>\n",
              "  <tbody>\n",
              "    <tr>\n",
              "      <th>A</th>\n",
              "      <td>(A, Carteira Digital)</td>\n",
              "    </tr>\n",
              "    <tr>\n",
              "      <th>B</th>\n",
              "      <td>(B, Carteira Digital)</td>\n",
              "    </tr>\n",
              "    <tr>\n",
              "      <th>C</th>\n",
              "      <td>(C, Dinheiro)</td>\n",
              "    </tr>\n",
              "  </tbody>\n",
              "</table>\n",
              "</div><br><label><b>dtype:</b> object</label>"
            ]
          },
          "metadata": {},
          "execution_count": 26
        }
      ]
    },
    {
      "cell_type": "code",
      "source": [
        "df.groupby('filial')['forma_pagamento'].value_counts()"
      ],
      "metadata": {
        "colab": {
          "base_uri": "https://localhost:8080/",
          "height": 398
        },
        "id": "DEaiZPUDfyG4",
        "outputId": "9b3f0ef7-fd87-4c00-a153-0f3abdbcbc38"
      },
      "execution_count": 28,
      "outputs": [
        {
          "output_type": "execute_result",
          "data": {
            "text/plain": [
              "filial  forma_pagamento  \n",
              "A       Carteira Digital     126\n",
              "        Dinheiro             110\n",
              "        Cartão de Crédito    104\n",
              "B       Carteira Digital     113\n",
              "        Dinheiro             110\n",
              "        Cartão de Crédito    109\n",
              "C       Dinheiro             124\n",
              "        Carteira Digital     106\n",
              "        Cartão de Crédito     98\n",
              "Name: count, dtype: int64"
            ],
            "text/html": [
              "<div>\n",
              "<style scoped>\n",
              "    .dataframe tbody tr th:only-of-type {\n",
              "        vertical-align: middle;\n",
              "    }\n",
              "\n",
              "    .dataframe tbody tr th {\n",
              "        vertical-align: top;\n",
              "    }\n",
              "\n",
              "    .dataframe thead th {\n",
              "        text-align: right;\n",
              "    }\n",
              "</style>\n",
              "<table border=\"1\" class=\"dataframe\">\n",
              "  <thead>\n",
              "    <tr style=\"text-align: right;\">\n",
              "      <th></th>\n",
              "      <th></th>\n",
              "      <th>count</th>\n",
              "    </tr>\n",
              "    <tr>\n",
              "      <th>filial</th>\n",
              "      <th>forma_pagamento</th>\n",
              "      <th></th>\n",
              "    </tr>\n",
              "  </thead>\n",
              "  <tbody>\n",
              "    <tr>\n",
              "      <th rowspan=\"3\" valign=\"top\">A</th>\n",
              "      <th>Carteira Digital</th>\n",
              "      <td>126</td>\n",
              "    </tr>\n",
              "    <tr>\n",
              "      <th>Dinheiro</th>\n",
              "      <td>110</td>\n",
              "    </tr>\n",
              "    <tr>\n",
              "      <th>Cartão de Crédito</th>\n",
              "      <td>104</td>\n",
              "    </tr>\n",
              "    <tr>\n",
              "      <th rowspan=\"3\" valign=\"top\">B</th>\n",
              "      <th>Carteira Digital</th>\n",
              "      <td>113</td>\n",
              "    </tr>\n",
              "    <tr>\n",
              "      <th>Dinheiro</th>\n",
              "      <td>110</td>\n",
              "    </tr>\n",
              "    <tr>\n",
              "      <th>Cartão de Crédito</th>\n",
              "      <td>109</td>\n",
              "    </tr>\n",
              "    <tr>\n",
              "      <th rowspan=\"3\" valign=\"top\">C</th>\n",
              "      <th>Dinheiro</th>\n",
              "      <td>124</td>\n",
              "    </tr>\n",
              "    <tr>\n",
              "      <th>Carteira Digital</th>\n",
              "      <td>106</td>\n",
              "    </tr>\n",
              "    <tr>\n",
              "      <th>Cartão de Crédito</th>\n",
              "      <td>98</td>\n",
              "    </tr>\n",
              "  </tbody>\n",
              "</table>\n",
              "</div><br><label><b>dtype:</b> int64</label>"
            ]
          },
          "metadata": {},
          "execution_count": 28
        }
      ]
    },
    {
      "cell_type": "markdown",
      "source": [
        "Executando o código, verificamos que na filial A, a carteira digital tem 126 ocorrências, na filial B, 113 na carteira digital, e na filial C, o dinheiro tem 124. Tudo está correto.\n",
        "\n",
        "Conseguimos direcionar o idioma, mas não queremos ter que fazer isso manualmente toda vez. Desejamos algo automatizado e prático, para que o time de dados da Zoop tenha uma IA eficiente e customizável conforme suas necessidades.\n",
        "\n",
        "Em vez de usar o Pandas Query Engine da forma atual, podemos criar um pipeline que executa várias etapas até chegar à resposta final. Podemos definir o idioma de saída, como o modelo deve responder a determinadas perguntas e passar detalhes para os prompts que serão executados. Existem formas de customizar essa ferramenta para obter resultados mais interessantes."
      ],
      "metadata": {
        "id": "g-zT0dIbf7in"
      }
    },
    {
      "cell_type": "markdown",
      "source": [
        "#Exercício: obtendo respostas detalhadas\n",
        "Próxima Atividade\n",
        "\n",
        "Nesta atividade, você continuará a aplicar o que aprendeu sobre consultas em DataFrames utilizando o PandasQueryEngine. Recentemente, adicionamos o parâmetro synthesize_response=True para obter respostas com explicações, permitindo uma análise mais rica e compreensível dos dados.\n",
        "\n",
        "Agora, explore os seguintes pontos:\n",
        "\n",
        "*Quais filiais têm uma avaliação média acima de 7?\n",
        "\n",
        "*Crie um gráfico do tipo boxplot das avaliações por filial para comparar a distribuição desses dados.\n",
        "\n",
        "*Qual é a média de gasto por tipo de cliente?\n",
        "\n",
        "\n",
        "Essas consultas te ajudarão a identificar filiais com melhor desempenho, entender a variação nas avaliações de cada filial e observar o comportamento de gasto diferenciado entre tipos de clientes.\n",
        "\n",
        "Se você tiver alguma dúvida, consulte a opinião da pessoa instrutora."
      ],
      "metadata": {
        "id": "7lXKzs9Okf8r"
      }
    },
    {
      "cell_type": "code",
      "source": [
        "all_exercise_responses = []\n",
        "\n",
        "print(\"Resposta para a 1ª query ('Quais filiais têm uma avaliação média acima de 7?'):\")\n",
        "exercise_q1 = query_engine.query('Which branches have a evaluation above 7?')\n",
        "print(exercise_q1.response)\n",
        "all_exercise_responses.append(exercise_q1)\n",
        "print(\"-\" * 20)\n",
        "\n",
        "print(\"Resposta para a 2ª query('Crie um gráfico do tipo boxplot das avaliações por filial para comparar a distribuição desses dados.'):\")\n",
        "exercise_q2 = query_engine.query('Create a bloxplot graphic about evaluations by branches comparing the data distribution')\n",
        "print(exercise_q2.response)\n",
        "all_exercise_responses.append(exercise_q2)\n",
        "print(\"-\" * 20)\n",
        "\n",
        "print(\"Resposta para a 3ª query('Qual é a média de gasto por tipo de cliente?'):\")\n",
        "exercise_q3 = query_engine.query('What is the average spend by customer type?')\n",
        "print(exercise_q3.response)\n",
        "all_exercise_responses.append(exercise_q3)\n",
        "print(\"-\" * 20)\n",
        "\n",
        "print(\"\\nTodas as respostas dos exercícios foram salvas em:  'all_exercise_responses' list.\")"
      ],
      "metadata": {
        "colab": {
          "base_uri": "https://localhost:8080/",
          "height": 1000
        },
        "id": "YNgQ-2njkzIX",
        "outputId": "af9e4a94-2e31-462a-fe35-f81b4b03a441"
      },
      "execution_count": 38,
      "outputs": [
        {
          "output_type": "stream",
          "name": "stdout",
          "text": [
            "Resposta para a 1ª query ('Quais filiais têm uma avaliação média acima de 7?'):\n",
            "> Pandas Instructions:\n",
            "```\n",
            "df[df['avaliacao'] > 7]['filial'].unique()\n",
            "```\n",
            "> Pandas Output: ['A' 'C' 'B']\n",
            "Based on the query results, the branches with an evaluation above 7 are:\n",
            "\n",
            "The branches 'A', 'C', and 'B' have evaluations above 7.\n",
            "--------------------\n",
            "Resposta para a 2ª query('Crie um gráfico do tipo boxplot das avaliações por filial para comparar a distribuição desses dados.'):\n",
            "> Pandas Instructions:\n",
            "```\n",
            "```python\n",
            "df.boxplot(column='avaliacao', by='filial')\n",
            "```\n",
            "```\n",
            "> Pandas Output: Axes(0.1,0.15;0.8x0.75)\n",
            "To create a boxplot graphic that compares the data distribution of evaluations by branches, you can utilize the pandas library in Python. The boxplot will provide a visual representation of the distribution of evaluations across different branches, helping to identify outliers, variability, and central tendency.\n",
            "\n",
            "Here's a step-by-step guide on how to accomplish this:\n",
            "\n",
            "### Step 1: Import Necessary Libraries\n",
            "\n",
            "First, ensure you have pandas and matplotlib installed. If not, you can install them using pip:\n",
            "\n",
            "```bash\n",
            "pip install pandas matplotlib\n",
            "```\n",
            "\n",
            "Then, import the necessary libraries:\n",
            "\n",
            "```python\n",
            "import pandas as pd\n",
            "import matplotlib.pyplot as plt\n",
            "```\n",
            "\n",
            "### Step 2: Prepare Your Data\n",
            "\n",
            "Ensure your data is in a DataFrame with at least two columns: one for the evaluations (let's call it 'avaliacao') and one for the branches (let's call it 'filial').\n",
            "\n",
            "```python\n",
            "# Example DataFrame\n",
            "data = {\n",
            "    'avaliacao': [10, 20, 15, 30, 25, 18, 22, 11, 16, 28],\n",
            "    'filial': ['A', 'B', 'A', 'C', 'B', 'A', 'C', 'B', 'C', 'A']\n",
            "}\n",
            "df = pd.DataFrame(data)\n",
            "```\n",
            "\n",
            "### Step 3: Create the Boxplot\n",
            "\n",
            "You can create the boxplot using the `boxplot` function provided by pandas DataFrame, specifying the column for evaluations and the column to group by (branches).\n",
            "\n",
            "```python\n",
            "# Create the boxplot\n",
            "df.boxplot(column='avaliacao', by='filial')\n",
            "```\n",
            "\n",
            "### Step 4: Customize and Display the Plot\n",
            "\n",
            "You might want to add a title, labels, and ensure the plot is displayed properly.\n",
            "\n",
            "```python\n",
            "# Customize the plot\n",
            "plt.title('Distribution of Evaluations by Branch')\n",
            "plt.xlabel('Branch')\n",
            "plt.ylabel('Evaluation')\n",
            "plt.show()\n",
            "```\n",
            "\n",
            "### Complete Code\n",
            "\n",
            "Here's the complete code snippet:\n",
            "\n",
            "```python\n",
            "import pandas as pd\n",
            "import matplotlib.pyplot as plt\n",
            "\n",
            "# Example DataFrame\n",
            "data = {\n",
            "    'avaliacao': [10, 20, 15, 30, 25, 18, 22, 11, 16, 28],\n",
            "    'filial': ['A', 'B', 'A', 'C', 'B', 'A', 'C', 'B', 'C', 'A']\n",
            "}\n",
            "df = pd.DataFrame(data)\n",
            "\n",
            "# Create the boxplot\n",
            "df.boxplot(column='avaliacao', by='filial')\n",
            "\n",
            "# Customize the plot\n",
            "plt.title('Distribution of Evaluations by Branch')\n",
            "plt.xlabel('Branch')\n",
            "plt.ylabel('Evaluation')\n",
            "plt.show()\n",
            "```\n",
            "\n",
            "This code will generate a boxplot that visualizes the distribution of evaluations across different branches, allowing for easy comparison of the data distribution.\n",
            "--------------------\n",
            "Resposta para a 3ª query('Qual é a média de gasto por tipo de cliente?'):\n",
            "> Pandas Instructions:\n",
            "```\n",
            "df.groupby('tipo_cliente')['total'].mean()\n",
            "```\n",
            "> Pandas Output: tipo_cliente\n",
            "Membro    327.791305\n",
            "Normal    318.122856\n",
            "Name: total, dtype: float64\n",
            "Based on the query results, the average spend by customer type is:\n",
            "\n",
            "* Membro: $327.79\n",
            "* Normal: $318.12\n",
            "\n",
            "It appears that Membro customers tend to spend slightly more on average compared to Normal customers.\n",
            "--------------------\n",
            "\n",
            "Todas as respostas dos exercícios foram salvas em:  'all_exercise_responses' list.\n"
          ]
        },
        {
          "output_type": "display_data",
          "data": {
            "text/plain": [
              "<Figure size 640x480 with 1 Axes>"
            ],
            "image/png": "[encoded data removed]"
          },
          "metadata": {}
        }
      ]
    }
  ]
}